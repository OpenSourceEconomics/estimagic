{
 "cells": [
  {
   "cell_type": "code",
   "execution_count": 1,
   "metadata": {},
   "outputs": [],
   "source": [
    "import nlopt\n",
    "\n",
    "\n",
    "import functools\n",
    "\n",
    "import numpy as np\n",
    "import scipy\n",
    "\n",
    "from estimagic.optimization.algo_options import CONVERGENCE_ABSOLUTE_CRITERION_TOLERANCE\n",
    "from estimagic.optimization.algo_options import CONVERGENCE_ABSOLUTE_GRADIENT_TOLERANCE\n",
    "from estimagic.optimization.algo_options import CONVERGENCE_ABSOLUTE_PARAMS_TOLERANCE\n",
    "from estimagic.optimization.algo_options import CONVERGENCE_RELATIVE_CRITERION_TOLERANCE\n",
    "from estimagic.optimization.algo_options import CONVERGENCE_RELATIVE_GRADIENT_TOLERANCE\n",
    "from estimagic.optimization.algo_options import CONVERGENCE_RELATIVE_PARAMS_TOLERANCE\n",
    "from estimagic.optimization.algo_options import (\n",
    "    CONVERGENCE_SECOND_BEST_ABSOLUTE_CRITERION_TOLERANCE,\n",
    ")\n",
    "from estimagic.optimization.algo_options import (\n",
    "    CONVERGENCE_SECOND_BEST_ABSOLUTE_PARAMS_TOLERANCE,\n",
    ")\n",
    "from estimagic.optimization.algo_options import LIMITED_MEMORY_STORAGE_LENGTH\n",
    "from estimagic.optimization.algo_options import MAX_LINE_SEARCH_STEPS\n",
    "from estimagic.optimization.algo_options import STOPPING_MAX_CRITERION_EVALUATIONS\n",
    "from estimagic.optimization.algo_options import STOPPING_MAX_ITERATIONS\n",
    "from estimagic.optimization.utilities import calculate_trustregion_initial_radius\n",
    "\n",
    "DEFAULT_ALGO_INFO = {\n",
    "    \"primary_criterion_entry\": \"value\",\n",
    "    \"parallelizes\": False,\n",
    "    \"needs_scaling\": False,\n",
    "}"
   ]
  },
  {
   "cell_type": "code",
   "execution_count": 19,
   "metadata": {},
   "outputs": [],
   "source": [
    "from estimagic import minimize\n",
    "import pandas as pd"
   ]
  },
  {
   "cell_type": "code",
   "execution_count": 20,
   "metadata": {},
   "outputs": [],
   "source": [
    "def func(params):\n",
    "    return params['value']@params['value']"
   ]
  },
  {
   "cell_type": "code",
   "execution_count": 21,
   "metadata": {},
   "outputs": [],
   "source": [
    "n = 4"
   ]
  },
  {
   "cell_type": "code",
   "execution_count": 22,
   "metadata": {},
   "outputs": [],
   "source": [
    "params_df = pd.DataFrame(data= np.arange(1,5), index =[f'x_{i}' for i in range(n)], columns=['value'])"
   ]
  },
  {
   "cell_type": "code",
   "execution_count": 23,
   "metadata": {
    "scrolled": false
   },
   "outputs": [],
   "source": [
    "res = minimize(\n",
    "    criterion=func,\n",
    "    params=params_df,\n",
    "    algorithm=\"nlopt_bobyqa\",\n",
    ")"
   ]
  },
  {
   "cell_type": "code",
   "execution_count": 24,
   "metadata": {},
   "outputs": [
    {
     "data": {
      "text/plain": [
       "array([1.11022302e-16, 0.00000000e+00, 0.00000000e+00, 0.00000000e+00])"
      ]
     },
     "execution_count": 24,
     "metadata": {},
     "output_type": "execute_result"
    }
   ],
   "source": [
    "res['solution_x']"
   ]
  },
  {
   "cell_type": "code",
   "execution_count": null,
   "metadata": {},
   "outputs": [],
   "source": [
    "def nlopt_bobyqa(\n",
    "    criterion_and_derivative,\n",
    "    x,\n",
    "    lower_bounds,\n",
    "    upper_bounds,\n",
    "    *,\n",
    "    convergence_relative_criterion_tolerance=CONVERGENCE_RELATIVE_CRITERION_TOLERANCE,\n",
    "    convergence_absolute_gradient_tolerance=CONVERGENCE_ABSOLUTE_GRADIENT_TOLERANCE,\n",
    "    stopping_max_criterion_evaluations=STOPPING_MAX_CRITERION_EVALUATIONS,\n",
    "    stopping_max_iterations=STOPPING_MAX_ITERATIONS,\n",
    "    limited_memory_storage_length=LIMITED_MEMORY_STORAGE_LENGTH,\n",
    "    max_line_search_steps=MAX_LINE_SEARCH_STEPS,\n",
    "):\n",
    "    pass"
   ]
  },
  {
   "cell_type": "code",
   "execution_count": 9,
   "metadata": {},
   "outputs": [],
   "source": [
    "from estimagic.optimization import AVAILABLE_ALGORITHMS"
   ]
  },
  {
   "cell_type": "code",
   "execution_count": 12,
   "metadata": {},
   "outputs": [
    {
     "data": {
      "text/plain": [
       "<function estimagic.optimization.nlopt_optimizers.nlopt_bobyqa(criterion_and_derivative, x, lower_bounds, upper_bounds, *, convergence_relative_params_tolerance=1e-05, convergence_absolute_params_tolerance=0, convergence_relative_criterion_tolerance=2e-09, convergence_absolute_criterion_tolerance=0, stopping_max_criterion_evaluations=1000000)>"
      ]
     },
     "execution_count": 12,
     "metadata": {},
     "output_type": "execute_result"
    }
   ],
   "source": [
    "AVAILABLE_ALGORITHMS['nlopt_bobyqa']"
   ]
  },
  {
   "cell_type": "code",
   "execution_count": 17,
   "metadata": {},
   "outputs": [
    {
     "data": {
      "text/plain": [
       "['LN_PRAXIS',\n",
       " 'LN_COBYLA',\n",
       " 'LN_NEWUOA',\n",
       " 'LN_NEWUOA_BOUND',\n",
       " 'LN_NELDERMEAD',\n",
       " 'LN_SBPLX',\n",
       " 'LN_AUGLAG',\n",
       " 'LN_AUGLAG_EQ',\n",
       " 'LN_BOBYQA']"
      ]
     },
     "execution_count": 17,
     "metadata": {},
     "output_type": "execute_result"
    }
   ],
   "source": [
    "[att for att in nlopt.__dir__() if 'LN' in att]"
   ]
  },
  {
   "cell_type": "code",
   "execution_count": 31,
   "metadata": {},
   "outputs": [],
   "source": [
    "algo_info = DEFAULT_ALGO_INFO.copy()\n"
   ]
  },
  {
   "cell_type": "code",
   "execution_count": 29,
   "metadata": {},
   "outputs": [],
   "source": [
    "def criterion_and_derivative(x,task, algorithm_info):\n",
    "    criterion = x@x\n",
    "    derivative = 2*x\n",
    "    if task == 'criterion':\n",
    "        out = criterion\n",
    "    else:\n",
    "        out = (criterion, derivative)\n",
    "    return out"
   ]
  },
  {
   "cell_type": "code",
   "execution_count": null,
   "metadata": {},
   "outputs": [],
   "source": [
    "'warnings.warn('')'.startswith"
   ]
  },
  {
   "cell_type": "code",
   "execution_count": 27,
   "metadata": {},
   "outputs": [],
   "source": [
    "n= 3\n",
    "def nlopt_objective(x,grad=None):\n",
    "    if grad.size>0:\n",
    "        criterion, derivative = criterion_and_derivative(\n",
    "            x,\n",
    "            task = 'criterion_and_derivative',\n",
    "            algorithm_info = algo_info\n",
    "        )\n",
    "        grad[:]= derivative\n",
    "    else:\n",
    "        criterion = criterion_and_derivative(\n",
    "            x,\n",
    "            task = 'criterion',\n",
    "            algorithm_info = algo_info\n",
    "        )\n",
    "            \n",
    "    return criterion"
   ]
  },
  {
   "cell_type": "code",
   "execution_count": 192,
   "metadata": {},
   "outputs": [
    {
     "name": "stdout",
     "output_type": "stream",
     "text": [
      "[array([ 7.23410485e-29, -1.18313767e-26, -1.84368370e-26]), 4.799036683558507e-52]\n"
     ]
    }
   ],
   "source": [
    "opt = nlopt.opt(nlopt.LN_PRAXIS, n)\n",
    "opt.set_min_objective(nlopt_objective)\n",
    "opt.set_xtol_abs(1e-10)\n",
    "opt.set_lower_bounds(-1)\n",
    "opt.set_lower_bounds(-1)\n",
    "\n",
    "print([opt.optimize(-np.ones(n)*1), opt.last_optimum_value()])\n"
   ]
  },
  {
   "cell_type": "code",
   "execution_count": 107,
   "metadata": {},
   "outputs": [
    {
     "data": {
      "text/plain": [
       "4"
      ]
     },
     "execution_count": 107,
     "metadata": {},
     "output_type": "execute_result"
    }
   ],
   "source": [
    "opt.last_optimize_result()"
   ]
  },
  {
   "cell_type": "code",
   "execution_count": null,
   "metadata": {},
   "outputs": [],
   "source": [
    "opt.get_numevals()"
   ]
  },
  {
   "cell_type": "code",
   "execution_count": null,
   "metadata": {},
   "outputs": [],
   "source": [
    "opt = nlopt.opt(nlopt.LN_BOBYQA, n)\n",
    "opt.set_min_objective(nlopt_objective)\n",
    "opt.set_xtol_rel(1e-10)\n",
    "opt.set_lower_bounds(5)\n",
    "opt.optimize(np.ones(n)*10)\n"
   ]
  },
  {
   "cell_type": "code",
   "execution_count": null,
   "metadata": {},
   "outputs": [],
   "source": [
    "import warnings"
   ]
  },
  {
   "cell_type": "code",
   "execution_count": null,
   "metadata": {
    "scrolled": false
   },
   "outputs": [],
   "source": [
    "dicti[-1]"
   ]
  },
  {
   "cell_type": "code",
   "execution_count": null,
   "metadata": {},
   "outputs": [],
   "source": [
    "opt.last_optimize_result()"
   ]
  },
  {
   "cell_type": "code",
   "execution_count": null,
   "metadata": {},
   "outputs": [],
   "source": [
    "from estimagic.config import TEST_DIR\n",
    "from IPython.core.display import HTML\n"
   ]
  },
  {
   "cell_type": "code",
   "execution_count": null,
   "metadata": {},
   "outputs": [],
   "source": [
    "import statsmodels.api as sm\n",
    "import pandas as pd\n",
    "from linearmodels import OLS\n",
    "import statsmodels.formula.api as smf"
   ]
  },
  {
   "cell_type": "code",
   "execution_count": null,
   "metadata": {},
   "outputs": [],
   "source": [
    "fix_path = TEST_DIR / \"visualization\" / \"diabetes.csv\"\n",
    "df_ = pd.read_csv(fix_path, index_col=0)\n",
    "est = sm.OLS(endog=df_[\"target\"], exog=sm.add_constant(df_[df_.columns[0:4]])).fit()\n",
    "est1 = sm.OLS(endog=df_[\"target\"], exog=sm.add_constant(df_[df_.columns[0:3]])).fit()\n",
    "est2 = smf.ols('target ~ 1 + Age+Sex+BMI', data = df_).fit()"
   ]
  },
  {
   "cell_type": "markdown",
   "metadata": {},
   "source": [
    "*"
   ]
  },
  {
   "cell_type": "code",
   "execution_count": null,
   "metadata": {},
   "outputs": [],
   "source": [
    "def reg(formula_str, df):\n",
    "    \"\"\"\n",
    "    - translating our names into the language of the library. \n",
    "    - generating the object from the library. \n",
    "    - setting attributes of the object (look up setattr if necessary).\n",
    "    - call the solve/optimiziation method from the initialized object.\n",
    "    - process the results into estimagic object. \n",
    "    \"\"\"\n",
    "    translated_options = {'formula': formula_str, 'data': df}\n",
    "    mod = smf.ols(**translated_options)\n",
    "    sm_res = mod.fit()\n",
    "    out = {'params': sm_res.params}\n",
    "    "
   ]
  },
  {
   "cell_type": "markdown",
   "metadata": {},
   "source": [
    "task argument decides what to return. \n",
    "in nlopt the criterion function"
   ]
  },
  {
   "cell_type": "code",
   "execution_count": null,
   "metadata": {},
   "outputs": [],
   "source": [
    "m1 = est\n",
    "df = pd.DataFrame(data=est.params,columns = ['value'])\n",
    "df['pvalue'] = est.pvalues\n",
    "df['ci_lower'] = est.conf_int()[0]\n",
    "df['ci_lower'] = est.conf_int()[1]\n",
    "df['standard_error'] = est.bse\n",
    "m2 = df\n",
    "m3 = {'params':df}\n",
    "m4 = {'params':df, 'info':{'rsqared':est.rsquared, 'n_obs':est.nobs}}\n",
    "df = pd.DataFrame(data=est1.params,columns = ['value'])\n",
    "df['pvalue'] = est1.pvalues\n",
    "df['ci_lower'] = est1.conf_int()[0]\n",
    "df['ci_lower'] = est1.conf_int()[1]\n",
    "df['standard_error'] = est1.bse\n",
    "m5 = df\n",
    "m6 = est2\n"
   ]
  },
  {
   "cell_type": "code",
   "execution_count": null,
   "metadata": {},
   "outputs": [],
   "source": [
    "models = [m1, m6]"
   ]
  },
  {
   "cell_type": "code",
   "execution_count": null,
   "metadata": {},
   "outputs": [],
   "source": [
    "HTML(et([m1], return_type='html'))"
   ]
  },
  {
   "cell_type": "code",
   "execution_count": 26,
   "metadata": {},
   "outputs": [
    {
     "data": {
      "text/plain": [
       "<function __main__.func(params)>"
      ]
     },
     "execution_count": 26,
     "metadata": {},
     "output_type": "execute_result"
    }
   ],
   "source": [
    "func"
   ]
  },
  {
   "cell_type": "code",
   "execution_count": 25,
   "metadata": {},
   "outputs": [],
   "source": [
    "opt = nlopt.opt(nlopt.LN_PRAXIS, n)"
   ]
  },
  {
   "cell_type": "code",
   "execution_count": null,
   "metadata": {},
   "outputs": [],
   "source": [
    "opt.set_lower_bounds()"
   ]
  }
 ],
 "metadata": {
  "kernelspec": {
   "display_name": "Python 3",
   "language": "python",
   "name": "python3"
  },
  "language_info": {
   "codemirror_mode": {
    "name": "ipython",
    "version": 3
   },
   "file_extension": ".py",
   "mimetype": "text/x-python",
   "name": "python",
   "nbconvert_exporter": "python",
   "pygments_lexer": "ipython3",
   "version": "3.8.5"
  }
 },
 "nbformat": 4,
 "nbformat_minor": 4
}
