{
 "cells": [
  {
   "cell_type": "markdown",
   "metadata": {},
   "source": [
    "## Set up"
   ]
  },
  {
   "cell_type": "code",
   "execution_count": null,
   "metadata": {},
   "outputs": [],
   "source": [
    "import pandas as pd\n",
    "import numpy as np\n",
    "import io\n",
    "from collections import namedtuple\n",
    "from sklearn import datasets\n",
    "import statsmodels.api as sm\n",
    "from IPython.core.display import HTML, Latex\n",
    "from copy import deepcopy, copy\n",
    "import re\n",
    "from estimagic.table_functions import estimation_table as et"
   ]
  },
  {
   "cell_type": "code",
   "execution_count": null,
   "metadata": {},
   "outputs": [],
   "source": [
    "diabetes = datasets.load_diabetes()\n",
    "df = pd.DataFrame(diabetes.data)\n",
    "df.columns = ['Age', 'Sex', 'BMI', 'ABP', 'S1', 'S2', 'S3', 'S4', 'S5', 'S6']\n",
    "df['target'] = diabetes.target\n",
    "\n",
    "\n",
    "est = sm.OLS(endog=df['target'], exog=sm.add_constant(df[df.columns[0:4]])).fit()\n",
    "est2 = sm.OLS(endog=df['target'], exog=sm.add_constant(df[df.columns[0:6]])).fit()\n"
   ]
  },
  {
   "cell_type": "code",
   "execution_count": null,
   "metadata": {},
   "outputs": [],
   "source": [
    "namedtuplee = namedtuple(\"namedtuplee\", \"params info\")\n",
    "est3 = namedtuplee(\n",
    "params=et._extract_params_from_sm(est),\n",
    "info={**et._extract_info_from_sm(est)},\n",
    ")\n",
    "del est3.info[\"df_model\"]\n",
    "del est3.info[\"df_resid\"]\n"
   ]
  },
  {
   "cell_type": "code",
   "execution_count": null,
   "metadata": {},
   "outputs": [],
   "source": [
    "# using est3, create dictionary\n",
    "est4 = {}\n",
    "est4['params'] = deepcopy(est3.params)\n",
    "est4['info'] = deepcopy(est3.info)\n"
   ]
  },
  {
   "cell_type": "code",
   "execution_count": null,
   "metadata": {},
   "outputs": [],
   "source": [
    "# using est3, create dictionary\n",
    "est5 = {}\n",
    "est5['params'] = deepcopy(est3.params)\n",
    "est5['info'] = deepcopy(est3.info)\n"
   ]
  },
  {
   "cell_type": "markdown",
   "metadata": {},
   "source": [
    "# Examples"
   ]
  },
  {
   "cell_type": "markdown",
   "metadata": {},
   "source": [
    "### Basic"
   ]
  },
  {
   "cell_type": "code",
   "execution_count": null,
   "metadata": {},
   "outputs": [],
   "source": [
    "ex_html = et.estimation_table([est,est2,est3,est4,est5],return_type='./examples_html/basic.html')\n",
    "HTML(ex_html)"
   ]
  },
  {
   "cell_type": "code",
   "execution_count": null,
   "metadata": {},
   "outputs": [],
   "source": [
    "ex_latex = et.estimation_table([est,est2,est3,est4,est5],return_type='./examples_tex/basic.tex',left_decimals=4,alignment_warning=True,siunitx_warning=True)"
   ]
  },
  {
   "cell_type": "markdown",
   "metadata": {},
   "source": [
    "## Add title"
   ]
  },
  {
   "cell_type": "code",
   "execution_count": null,
   "metadata": {},
   "outputs": [],
   "source": [
    "ex_html = et.estimation_table([est,est2,est3,est4,est5],return_type='./examples_html/add_title.html', render_options={'caption': 'This is a caption'})\n",
    "HTML(ex_html)"
   ]
  },
  {
   "cell_type": "code",
   "execution_count": null,
   "metadata": {},
   "outputs": [],
   "source": [
    "ex_tex = et.estimation_table([est,est2,est3,est4,est5],left_decimals=4, return_type='./examples_tex/add_title.tex', render_options={'caption': 'This is a caption'},alignment_warning=False,siunitx_warning=False)"
   ]
  },
  {
   "cell_type": "markdown",
   "metadata": {},
   "source": [
    "## Custom column names"
   ]
  },
  {
   "cell_type": "code",
   "execution_count": null,
   "metadata": {},
   "outputs": [],
   "source": [
    "ex_html = et.estimation_table([est,est2,est3,est4,est5],return_type='./examples_html/custom_col_names.html',render_options={'caption': 'This is a caption'},custom_col_names=list('abcde'))\n",
    "HTML(ex_html)"
   ]
  },
  {
   "cell_type": "code",
   "execution_count": null,
   "metadata": {},
   "outputs": [],
   "source": [
    "ex_tex = et.estimation_table(\n",
    "    [est,est2,est3,est4,est5],\n",
    "    return_type='./examples_tex/custom_cols.tex',\n",
    "    render_options={'caption': 'This is a caption'},\n",
    "    left_decimals=4,\n",
    "    custom_col_names=list('abcde'),\n",
    "    alignment_warning=False,\n",
    "    siunitx_warning=False\n",
    ")"
   ]
  },
  {
   "cell_type": "markdown",
   "metadata": {},
   "source": [
    "## Custom modelnames"
   ]
  },
  {
   "cell_type": "code",
   "execution_count": null,
   "metadata": {},
   "outputs": [],
   "source": [
    "custom_mod_names = {'M a': [0],'M b-d': [1,2,3], 'M e': [4]}"
   ]
  },
  {
   "cell_type": "code",
   "execution_count": null,
   "metadata": {},
   "outputs": [],
   "source": [
    "ex_html = et.estimation_table(\n",
    "    [est,est2,est3,est4,est5],\n",
    "    return_type='./examples_html/custom_model_names.html',\n",
    "    render_options={'caption': 'This is a caption'},\n",
    "    custom_model_names=custom_mod_names,\n",
    "    custom_col_names=list('abcde'),\n",
    " )\n",
    "HTML(ex_html)"
   ]
  },
  {
   "cell_type": "code",
   "execution_count": null,
   "metadata": {},
   "outputs": [],
   "source": [
    "ex_tex = et.estimation_table(\n",
    "    [est,est2,est3,est4,est5],\n",
    "    return_type='./examples_tex/custom_mods.tex',\n",
    "    render_options={'caption': 'This is a caption'},\n",
    "    left_decimals=4,\n",
    "    custom_model_names=custom_mod_names,\n",
    "    custom_col_names=list('abcde'),\n",
    "    alignment_warning=False,\n",
    "    siunitx_warning=False\n",
    ")"
   ]
  },
  {
   "cell_type": "markdown",
   "metadata": {},
   "source": [
    "## Hide column names"
   ]
  },
  {
   "cell_type": "code",
   "execution_count": null,
   "metadata": {},
   "outputs": [],
   "source": [
    "ex_html = et.estimation_table(\n",
    "    [est,est2,est3,est4,est5],\n",
    "    return_type='./examples_html/hide_col_names.html',\n",
    "    render_options={'caption': 'This is a caption'},\n",
    "    custom_model_names=custom_mod_names,\n",
    "    show_col_names=False,\n",
    " )\n",
    "HTML(ex_html)"
   ]
  },
  {
   "cell_type": "code",
   "execution_count": null,
   "metadata": {},
   "outputs": [],
   "source": [
    "ex_tex = et.estimation_table(\n",
    "    [est,est2,est3,est4,est5],\n",
    "    return_type='./examples_tex/hide_cols.tex',\n",
    "    render_options={'caption': 'This is a caption'},\n",
    "    left_decimals=4,\n",
    "    custom_model_names=custom_mod_names,\n",
    "    show_col_names=False,\n",
    "    alignment_warning=False,\n",
    "    siunitx_warning=False\n",
    ")"
   ]
  },
  {
   "cell_type": "markdown",
   "metadata": {},
   "source": [
    "## Show index names"
   ]
  },
  {
   "cell_type": "markdown",
   "metadata": {},
   "source": [
    "### Default"
   ]
  },
  {
   "cell_type": "code",
   "execution_count": null,
   "metadata": {},
   "outputs": [],
   "source": [
    "ex_html = et.estimation_table(\n",
    "    [est,est2,est3,est4,est5],\n",
    "    return_type='./examples_html/show_ind_names.html',\n",
    "    render_options={'caption': 'This is a caption','index_names': True},\n",
    "    custom_model_names=custom_mod_names,\n",
    " )\n",
    "HTML(ex_html)"
   ]
  },
  {
   "cell_type": "code",
   "execution_count": null,
   "metadata": {},
   "outputs": [],
   "source": [
    "ex_tex = et.estimation_table(\n",
    "    [est,est2,est3,est4,est5],\n",
    "    return_type='./examples_tex/show_index_names.tex',\n",
    "    render_options={'caption': 'This is a caption','index_names': True},\n",
    "    left_decimals=4,\n",
    "    custom_model_names=custom_mod_names,\n",
    "    alignment_warning=False,\n",
    "    siunitx_warning=False\n",
    ")"
   ]
  },
  {
   "cell_type": "markdown",
   "metadata": {},
   "source": [
    "### Custom"
   ]
  },
  {
   "cell_type": "code",
   "execution_count": null,
   "metadata": {},
   "outputs": [],
   "source": [
    "ex_html = et.estimation_table(\n",
    "    [est,est2,est3,est4,est5],\n",
    "    return_type='./examples_html/custom_ind_names.html',\n",
    "    render_options={'caption': 'This is a caption',},\n",
    "    custom_index_names=['Variables'],\n",
    "    custom_model_names=custom_mod_names,\n",
    " )\n",
    "HTML(ex_html)"
   ]
  },
  {
   "cell_type": "code",
   "execution_count": null,
   "metadata": {},
   "outputs": [],
   "source": [
    "ex_tex = et.estimation_table(\n",
    "    [est,est2,est3,est4,est5],\n",
    "    return_type='./examples_tex/custom_index_names.tex',\n",
    "    render_options={'caption': 'This is a caption',},\n",
    "    custom_index_names=['Variables'],\n",
    "    left_decimals=4,\n",
    "    custom_model_names=custom_mod_names,\n",
    "    alignment_warning=False,\n",
    "    siunitx_warning=False\n",
    ")"
   ]
  },
  {
   "cell_type": "markdown",
   "metadata": {},
   "source": [
    "## Custom parameter names"
   ]
  },
  {
   "cell_type": "code",
   "execution_count": null,
   "metadata": {},
   "outputs": [],
   "source": [
    "cust_par_names = {'const':'Intercept', 'Sex': 'Gender'}"
   ]
  },
  {
   "cell_type": "code",
   "execution_count": null,
   "metadata": {},
   "outputs": [],
   "source": [
    "ex_html = et.estimation_table(\n",
    "    [est,est2,est3,est4,est5],\n",
    "    return_type='./examples_html/custom_par_names.html',\n",
    "    render_options={'caption': 'This is a caption',},\n",
    "    custom_index_names=['Variables'],\n",
    "    custom_model_names=custom_mod_names,\n",
    "    custom_param_names=cust_par_names\n",
    " )\n",
    "HTML(ex_html)"
   ]
  },
  {
   "cell_type": "code",
   "execution_count": null,
   "metadata": {},
   "outputs": [],
   "source": [
    "ex_tex = et.estimation_table(\n",
    "    [est,est2,est3,est4,est5],\n",
    "    return_type='./examples_tex/custom_par_names.tex',\n",
    "    render_options={'caption': 'This is a caption',},\n",
    "    custom_index_names=['Variables'],\n",
    "    left_decimals=4,\n",
    "    custom_model_names=custom_mod_names,\n",
    "    custom_param_names=cust_par_names,\n",
    "    alignment_warning=False,\n",
    "    siunitx_warning=False,\n",
    ")"
   ]
  },
  {
   "cell_type": "markdown",
   "metadata": {},
   "source": [
    "## Customize inferences"
   ]
  },
  {
   "cell_type": "markdown",
   "metadata": {},
   "source": [
    "### Show confidence intervals"
   ]
  },
  {
   "cell_type": "code",
   "execution_count": null,
   "metadata": {},
   "outputs": [],
   "source": [
    "ex_html = et.estimation_table(\n",
    "    [est,est2,est3,est4,est5],\n",
    "    return_type='./examples_html/show_ci.html',\n",
    "    render_options={'caption': 'This is a caption',},\n",
    "    custom_index_names=['Variables'],\n",
    "    custom_model_names=custom_mod_names,\n",
    "    custom_param_names=cust_par_names,\n",
    "    confidence_intervals=True\n",
    " )\n",
    "HTML(ex_html)"
   ]
  },
  {
   "cell_type": "code",
   "execution_count": null,
   "metadata": {},
   "outputs": [],
   "source": [
    "ex_tex = et.estimation_table(\n",
    "    [est,est2,est3,est4],\n",
    "    return_type='./examples_tex/show_ci.tex',\n",
    "    render_options={'caption': 'This is a caption',},\n",
    "    custom_index_names=['Variables'],\n",
    "    left_decimals=4,\n",
    "    custom_model_names=None,\n",
    "    custom_param_names=cust_par_names,\n",
    "    alignment_warning=False,\n",
    "    siunitx_warning=False,\n",
    "    confidence_intervals=True\n",
    ")"
   ]
  },
  {
   "cell_type": "markdown",
   "metadata": {},
   "source": [
    "## Do not show inference"
   ]
  },
  {
   "cell_type": "code",
   "execution_count": null,
   "metadata": {},
   "outputs": [],
   "source": [
    "ex_html = et.estimation_table(\n",
    "    [est,est2,est3,est4,est5],\n",
    "    return_type='./examples_html/no_inference.html',\n",
    "    render_options={'caption': 'This is a caption'},\n",
    "    custom_index_names=['Variables'],\n",
    "    custom_model_names=custom_mod_names,\n",
    "    custom_param_names=cust_par_names,\n",
    "    show_inference=False\n",
    ")\n",
    "HTML(ex_html)"
   ]
  },
  {
   "cell_type": "code",
   "execution_count": null,
   "metadata": {},
   "outputs": [],
   "source": [
    "ex_tex = et.estimation_table(\n",
    "    [est,est2,est3,est4],\n",
    "    return_type='./examples_tex/no_inference.tex',\n",
    "    render_options={'caption': 'This is a caption',},\n",
    "    custom_index_names=['Variables'],\n",
    "    left_decimals=4,\n",
    "    custom_model_names=None,\n",
    "    custom_param_names=cust_par_names,\n",
    "    alignment_warning=False,\n",
    "    siunitx_warning=False,\n",
    "    show_inference=False\n",
    ")"
   ]
  },
  {
   "cell_type": "markdown",
   "metadata": {},
   "source": [
    "## Footer"
   ]
  },
  {
   "cell_type": "markdown",
   "metadata": {},
   "source": [
    "### Swithch off footer"
   ]
  },
  {
   "cell_type": "code",
   "execution_count": null,
   "metadata": {},
   "outputs": [],
   "source": [
    "ex_html = et.estimation_table(\n",
    "    [est,est2,est3,est4,est5],\n",
    "    return_type='./examples_html/no_footer.html',\n",
    "    render_options={'caption': 'This is a caption'},\n",
    "    custom_param_names=cust_par_names,\n",
    "    show_footer=False\n",
    ")\n",
    "HTML(ex_html)"
   ]
  },
  {
   "cell_type": "code",
   "execution_count": null,
   "metadata": {},
   "outputs": [],
   "source": [
    "ex_tex = et.estimation_table(\n",
    "    [est,est2,est3,est4],\n",
    "    return_type='./examples_tex/no_footer.tex',\n",
    "    render_options={'caption': 'This is a caption',},\n",
    "    left_decimals=4,\n",
    "    custom_model_names=None,\n",
    "    custom_param_names=cust_par_names,\n",
    "    alignment_warning=False,\n",
    "    siunitx_warning=False,\n",
    "    show_footer=False\n",
    "\n",
    ")"
   ]
  },
  {
   "cell_type": "markdown",
   "metadata": {},
   "source": [
    "### Custom_notes"
   ]
  },
  {
   "cell_type": "code",
   "execution_count": null,
   "metadata": {},
   "outputs": [],
   "source": [
    "ex_html = et.estimation_table(\n",
    "    [est,est2,est3,est4,est5],\n",
    "    return_type='./examples_html/custom_notes.html',\n",
    "    render_options={'caption': 'This is a caption'},\n",
    "    custom_param_names=cust_par_names,\n",
    "    custom_notes= [\n",
    "        'This is the first note of some length',\n",
    "        'This is the second note probably of larger length'\n",
    "    ]\n",
    ")\n",
    "HTML(ex_html)"
   ]
  },
  {
   "cell_type": "code",
   "execution_count": null,
   "metadata": {},
   "outputs": [],
   "source": [
    "ex_tex = et.estimation_table(\n",
    "    [est,est2,est3,est4],\n",
    "    return_type='./examples_tex/custom_notes.tex',\n",
    "    render_options={'caption': 'This is a caption',},\n",
    "    left_decimals=4,\n",
    "    custom_model_names=None,\n",
    "    custom_param_names=cust_par_names,\n",
    "    alignment_warning=False,\n",
    "    siunitx_warning=False,\n",
    "    custom_notes= [\n",
    "        'This is the first note of some length',\n",
    "        'This is the second note probably of larger length'\n",
    "    ]\n",
    "\n",
    ")"
   ]
  },
  {
   "cell_type": "markdown",
   "metadata": {},
   "source": [
    "### Customizse summary statistics"
   ]
  },
  {
   "cell_type": "code",
   "execution_count": null,
   "metadata": {},
   "outputs": [],
   "source": [
    "ex_html = et.estimation_table(\n",
    "    [est,est2,est3,est4,est5],\n",
    "    return_type='./examples_html/custom_stats.html',\n",
    "    render_options={'caption': 'This is a caption'},\n",
    "    custom_param_names=cust_par_names,\n",
    "    custom_notes= [\n",
    "        'This is the first note of some length',\n",
    "        'This is the second note probably of larger length'\n",
    "    ],\n",
    "    stats_dict={'R$^2$': 'rsquared','N. Obs': 'n_obs'}\n",
    ")\n",
    "HTML(ex_html)"
   ]
  },
  {
   "cell_type": "markdown",
   "metadata": {},
   "source": [
    "## MultiIndex"
   ]
  },
  {
   "cell_type": "markdown",
   "metadata": {},
   "source": [
    "### Set up"
   ]
  },
  {
   "cell_type": "code",
   "execution_count": null,
   "metadata": {},
   "outputs": [],
   "source": [
    "df = et._extract_params_from_sm(est)\n",
    "df.index= pd.MultiIndex.from_arrays(np.array([['Intercept','Slope','Slope','Slope','Slope'],df.index.values]))\n",
    "info = et._extract_info_from_sm(est)\n",
    "est_mi = namedtuplee(params=df,info=info)"
   ]
  },
  {
   "cell_type": "code",
   "execution_count": null,
   "metadata": {},
   "outputs": [],
   "source": [
    "df = et._extract_params_from_sm(est2)\n",
    "df.index= pd.MultiIndex.from_arrays(\n",
    "    np.array([['Intercept','Slope','Slope','Slope','Slope','Else','Else'],df.index.values])\n",
    ")\n",
    "info = et._extract_info_from_sm(est2)\n",
    "est_mi2 = namedtuplee(params=df,info=info)"
   ]
  },
  {
   "cell_type": "markdown",
   "metadata": {},
   "source": [
    "### Basic"
   ]
  },
  {
   "cell_type": "code",
   "execution_count": null,
   "metadata": {},
   "outputs": [],
   "source": [
    "ex_html = et.estimation_table(\n",
    "    [est_mi,est_mi2],\n",
    "    return_type='./examples_html/multi_ind.html',\n",
    "    render_options={'caption': 'This is a caption',},\n",
    "    custom_param_names=cust_par_names,\n",
    "    custom_notes= [\n",
    "        'This is the first note of some length',\n",
    "        'This is the second note probably of larger length'\n",
    "    ],\n",
    ")\n",
    "HTML(ex_html)"
   ]
  },
  {
   "cell_type": "code",
   "execution_count": null,
   "metadata": {},
   "outputs": [],
   "source": [
    "ex_tex = et.estimation_table(\n",
    "    [est_mi,est_mi2],\n",
    "    return_type='./examples_tex/multi_index.tex',\n",
    "    render_options={'caption': 'This is a caption',},\n",
    "    left_decimals=3,\n",
    "    custom_model_names=None,\n",
    "    custom_param_names=cust_par_names,\n",
    "    alignment_warning=False,\n",
    "    siunitx_warning=False,\n",
    "    custom_notes= [\n",
    "        'This is the first note of some length',\n",
    "        'This is the second note probably of larger length'\n",
    "    ],\n",
    " \n",
    "\n",
    ")"
   ]
  },
  {
   "cell_type": "markdown",
   "metadata": {},
   "source": [
    "### Custom parameter names"
   ]
  },
  {
   "cell_type": "code",
   "execution_count": null,
   "metadata": {},
   "outputs": [],
   "source": [
    "ex_html = et.estimation_table(\n",
    "    [est_mi,est_mi2],\n",
    "    return_type='./examples_html/multi_ind_custom_pars.html',\n",
    "    render_options={'caption': 'This is a caption',},\n",
    "    custom_notes= [\n",
    "        'This is the first note of some length',\n",
    "        'This is the second note probably of larger length'\n",
    "    ],\n",
    "    custom_param_names={'Age': 'Maturity','Else': 'Additionally'}\n",
    ")\n",
    "HTML(ex_html)"
   ]
  },
  {
   "cell_type": "code",
   "execution_count": null,
   "metadata": {},
   "outputs": [],
   "source": [
    "ex_tex = et.estimation_table(\n",
    "    [est_mi,est_mi2],\n",
    "    return_type='./examples_tex/multi_index_custom_pars.tex',\n",
    "    render_options={'caption': 'This is a caption',},\n",
    "    left_decimals=3,\n",
    "    custom_model_names=None,\n",
    "    alignment_warning=False,\n",
    "    siunitx_warning=False,\n",
    "    custom_notes= [\n",
    "        'This is the first note of some length',\n",
    "        'This is the second note probably of larger length'\n",
    "    ],\n",
    "    custom_param_names={'Age': 'Maturity','Else': 'Additionally'}\n",
    "\n",
    ")"
   ]
  },
  {
   "cell_type": "markdown",
   "metadata": {},
   "source": [
    "### Custom index and model names"
   ]
  },
  {
   "cell_type": "code",
   "execution_count": null,
   "metadata": {},
   "outputs": [],
   "source": [
    "ex_html = et.estimation_table(\n",
    "    [est_mi,est_mi2,est_mi],\n",
    "    return_type='./examples_html/multi_ind_custom_mod_and_ind.html',\n",
    "    render_options={'caption': 'This is a caption',},\n",
    "    custom_notes= [\n",
    "        'This is the first note of some length',\n",
    "        'This is the second note probably of larger length'\n",
    "    ],\n",
    "    custom_param_names={'Age': 'Maturity','Else': 'Additionally'},\n",
    "    custom_index_names=['Category','Variable'],\n",
    "    custom_model_names={'M1-2':[0,1],'M3':[2]}\n",
    ")\n",
    "HTML(ex_html)"
   ]
  },
  {
   "cell_type": "code",
   "execution_count": null,
   "metadata": {},
   "outputs": [],
   "source": [
    "ex_tex = et.estimation_table(\n",
    "    [est_mi,est_mi,est_mi2],\n",
    "    return_type='./examples_tex/multi_index_custom_ind_mods.tex',\n",
    "    render_options={'caption': 'This is a caption',},\n",
    "    left_decimals=4,\n",
    "    alignment_warning=False,\n",
    "    siunitx_warning=False,\n",
    "    custom_notes= [\n",
    "        'This is the first note of some length',\n",
    "        'This is the second note probably of larger length'\n",
    "    ],\n",
    "    custom_param_names={'Age': 'Maturity','Else': 'Additionally'},\n",
    "    custom_index_names=['Category','Variable'],\n",
    "    custom_model_names={'M1-2':[0,1],'M3':[2]}\n",
    ")"
   ]
  }
 ],
 "metadata": {
  "@webio": {
   "lastCommId": null,
   "lastKernelId": null
  },
  "kernelspec": {
   "display_name": "Python 3",
   "language": "python",
   "name": "python3"
  },
  "language_info": {
   "codemirror_mode": {
    "name": "ipython",
    "version": 3
   },
   "file_extension": ".py",
   "mimetype": "text/x-python",
   "name": "python",
   "nbconvert_exporter": "python",
   "pygments_lexer": "ipython3",
   "version": "3.7.3"
  }
 },
 "nbformat": 4,
 "nbformat_minor": 2
}
