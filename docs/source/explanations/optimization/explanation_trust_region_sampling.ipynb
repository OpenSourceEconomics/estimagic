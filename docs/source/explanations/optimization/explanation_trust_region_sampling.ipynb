{
 "cells": [
  {
   "cell_type": "markdown",
   "id": "cd1181c2",
   "metadata": {},
   "source": [
    "## Introduction to trust region samping\n",
    "\n",
    "In this notebook we briefly explain our trust region samplig.\n",
    "\n",
    "Lets start with quoting [wikipedia](https://en.wikipedia.org/wiki/Trust_region)\n",
    "\n",
    "> In mathematical optimization, a trust region is the subset of the region of the\n",
    "> objective function that is approximated using a model function (often a quadratic).\n",
    "\n",
    "A trust region is thus a space over which the criterion (objective) function is evaluated to build an approximation model. Using the information from the approximation model and the true evaluations, trust region optimizers decide on how to move (or shrink/expand) the trust region, until the optimizer convergences. There is a clear trade-off between building an accurate approximation model (evaluate many points inside the region) and runtime. To mitigate this problem we use two main ideas. First, we fill the region with evaluation points such that certain criteria are fulfilled / optimized. This results in (optimal) [Latin Hypercube samples](https://en.wikipedia.org/wiki/Latin_hypercube_sampling). Using these points can increase the accuracy of the approximation model compared to naively using random samples inside the region. And second, we recycle previous evaluation to reduce runtime. Below we go through a visual example. Before we will explain what an optimal Latin Hypercube is.\n",
    "\n",
    "\n",
    "### Latin Hypercube\n",
    "\n",
    "A Latin Hypercube sample is a sample from a multivariate distribution that fulfills certain properties. Most often the samples are defined over a cube. For the sake of exposition consider the two-dimensional case and imagine that the square is partioned using equidistant grid lines. A sample of points from this square is a Latin Hypercube sample if (and only if) in each row and in each column there is only *one* point. If an equidistant grid is used, the resulting sample will resemble a sample from the Uniform distribution, which can be transformed to samples from other distributions using standard methods. But what makes a sample *optimal*?\n",
    "\n",
    "**Optimality**\n",
    "\n",
    "For a given number of gridlines per axis one can find **many** samples that fulfill the above property. As an example, say the point sampled is always at the center of row-column location. Say we have $n$ rows and columns. Then a Latin Hypercube sample consists of $n$ points, and the number of unique cubes is equal to $(n!)^d$, with $d$ being the dimensionality of the points. Hence, the set of possible cubes is quite large. Not every instance is desired though. Certain Latin Hypercubes have additional desirable properties. In particular we are interested in [optimal designs](https://en.wikipedia.org/wiki/Optimal_design). As an example. Let $X$ denote the Latin Hypercube sample ($n \\times p$). If we build a linear model using this sample, the OLS estimates have a conditional variance proportional to $(X^T X)^{-1}$. Therefore, one may want to choose a specific cube for which this value is small. We follow a simple strategy to select such a cube: Simulate many cubes, pick the cube that minimizes the optimality-criterion. For an almost complete list of criteria click on the above link. Currently implemented criteria are \"a-optimality\", \"d-optimality\", \"e-optimality\", \"g-optimality\" and \"maximin\". The maximin criterion is not found in the above link. However, it is very simple: One computes the distances between all pairs of points, and maximizes the minimum of these distances. In comparison to the optimality criteria listed in the link, this will lead to a space filling design.\n",
    "\n",
    "---\n",
    "\n",
    "### Visual Example\n",
    "\n",
    "To better grasp what acutally happens, let us consider a visual example. Let us first import all relevant libraries and define a plotting function."
   ]
  },
  {
   "cell_type": "code",
   "execution_count": 1,
   "id": "e5eed437",
   "metadata": {},
   "outputs": [],
   "source": [
    "import itertools\n",
    "from collections import namedtuple\n",
    "\n",
    "import numpy as np\n",
    "import seaborn as sns\n",
    "from matplotlib.patches import Rectangle\n",
    "\n",
    "from estimagic.optimization.tranquilo.lhs_sampling import lhs_sampler"
   ]
  },
  {
   "cell_type": "code",
   "execution_count": 2,
   "id": "af63c3f5",
   "metadata": {},
   "outputs": [],
   "source": [
    "Bounds = namedtuple(\"Bounds\", [\"lo\", \"up\"])\n",
    "\n",
    "np.random.seed(0)"
   ]
  },
  {
   "cell_type": "code",
   "execution_count": 3,
   "id": "f21067ab",
   "metadata": {},
   "outputs": [],
   "source": [
    "def plot_sample(*samples, frames=[]):\n",
    "    ax = None\n",
    "    color = itertools.cycle((\"darkblue\", \"firebrick\"))\n",
    "    for k, sample in enumerate(samples):\n",
    "        ax = sns.regplot(\n",
    "            x=sample[:, 0],\n",
    "            y=sample[:, 1],\n",
    "            fit_reg=False,\n",
    "            ax=ax,\n",
    "            color=next(color),\n",
    "            scatter_kws={\"alpha\": 0.4},\n",
    "        )\n",
    "    frames = [frames] if not isinstance(frames, list) else frames\n",
    "    for frame in frames:\n",
    "        lower_bounds, upper_bounds = frame\n",
    "        width, height = upper_bounds - lower_bounds\n",
    "        ax.add_patch(\n",
    "            Rectangle(\n",
    "                lower_bounds,\n",
    "                width,\n",
    "                height,\n",
    "                fill=False,\n",
    "            )\n",
    "        )\n",
    "    ax.set_xlim(0, 1)\n",
    "    ax.set_ylim(0, 1)"
   ]
  },
  {
   "cell_type": "markdown",
   "id": "8083827b",
   "metadata": {},
   "source": [
    "Now we create a 2-dimensional Latin-Hypercube with 20 points. The cube has its lower bounds at (0.1, 0.1) and its upper bounds at (0.7, 0.7). Here we use the \"maximin\" criterion and select the best cube from 10,000 iterations."
   ]
  },
  {
   "cell_type": "code",
   "execution_count": 4,
   "id": "d716b7ba",
   "metadata": {},
   "outputs": [],
   "source": [
    "dim = 2\n",
    "n_points = 20\n",
    "\n",
    "first_bounds = Bounds(lo=0.1 * np.ones(dim), up=0.7 * np.ones(dim))\n",
    "\n",
    "first_sample = lhs_sampler(\n",
    "    first_bounds.lo,\n",
    "    first_bounds.up,\n",
    "    target_size=n_points,\n",
    "    criterion=\"maximin\",\n",
    "    n_iter=10_000,\n",
    ")\n",
    "\n",
    "first_points = first_sample[\"points\"]"
   ]
  },
  {
   "cell_type": "code",
   "execution_count": 5,
   "id": "a3b3a95c",
   "metadata": {},
   "outputs": [
    {
     "data": {
      "image/png": "[encoded data removed]",
      "text/plain": [
       "<Figure size 432x288 with 1 Axes>"
      ]
     },
     "metadata": {
      "needs_background": "light"
     },
     "output_type": "display_data"
    }
   ],
   "source": [
    "plot_sample(first_points, frames=first_bounds)"
   ]
  },
  {
   "cell_type": "markdown",
   "id": "614b5c38",
   "metadata": {},
   "source": [
    "For comparison, let us also plot a random design. We can see that there are large areas where no points fall into, and many clustered areas. To avoid sampling those designs we use optimal designs in our optimizers.  "
   ]
  },
  {
   "cell_type": "code",
   "execution_count": 6,
   "id": "26c93baf",
   "metadata": {},
   "outputs": [],
   "source": [
    "uniform_sample = np.random.uniform(*first_bounds, size=(n_points, dim))"
   ]
  },
  {
   "cell_type": "code",
   "execution_count": 7,
   "id": "11c0a01b",
   "metadata": {},
   "outputs": [
    {
     "data": {
      "image/png": "[encoded data removed]",
      "text/plain": [
       "<Figure size 432x288 with 1 Axes>"
      ]
     },
     "metadata": {
      "needs_background": "light"
     },
     "output_type": "display_data"
    }
   ],
   "source": [
    "plot_sample(uniform_sample, frames=first_bounds)"
   ]
  },
  {
   "cell_type": "markdown",
   "id": "60f1113a",
   "metadata": {},
   "source": [
    "In the optimization use-case, the optimizer would perform its magic on the given first sample. If convergence is not achieved the algorithm will propose an update step. This will result in a shift of the lower and upper bounds. The bounds are adjusted so that either we move in some direction, zoom out, zoom in, or some mix of these. Say we move the region to the top-right corner. Then the second cube potentially overlaps with the first cube. This means that there are certain points for which the criterion function was already evaluated. These points can be reused! In the next plot we highlight the points of the first sample that fall into the second cube."
   ]
  },
  {
   "cell_type": "code",
   "execution_count": 8,
   "id": "0d250528",
   "metadata": {},
   "outputs": [],
   "source": [
    "second_bounds = Bounds(lo=0.3 * np.ones(dim), up=0.9 * np.ones(dim))\n",
    "\n",
    "existing = []\n",
    "for row in first_points:\n",
    "    if (second_bounds.lo <= row).all() and (second_bounds.up >= row).all():\n",
    "        existing.append(row)\n",
    "\n",
    "existing_xs = np.array(existing)"
   ]
  },
  {
   "cell_type": "code",
   "execution_count": 9,
   "id": "e085b389",
   "metadata": {},
   "outputs": [
    {
     "data": {
      "image/png": "[encoded data removed]",
      "text/plain": [
       "<Figure size 432x288 with 1 Axes>"
      ]
     },
     "metadata": {
      "needs_background": "light"
     },
     "output_type": "display_data"
    }
   ],
   "source": [
    "plot_sample(first_points, existing_xs, frames=second_bounds)"
   ]
  },
  {
   "cell_type": "markdown",
   "id": "18b56db0",
   "metadata": {},
   "source": [
    "Now we only need to reuse these points by creating a valid Latin Hypercube with them. The last plot shows the two samples including the overlapping points."
   ]
  },
  {
   "cell_type": "code",
   "execution_count": 10,
   "id": "30ca7363",
   "metadata": {},
   "outputs": [],
   "source": [
    "second_sample = lhs_sampler(\n",
    "    second_bounds.lo,\n",
    "    second_bounds.up,\n",
    "    target_size=n_points,\n",
    "    existing_xs=existing_xs,\n",
    "    criterion=\"maximin\",\n",
    "    n_iter=10_000,\n",
    ")\n",
    "\n",
    "second_points = second_sample[\"points\"]"
   ]
  },
  {
   "cell_type": "code",
   "execution_count": 12,
   "id": "8e96aa51",
   "metadata": {},
   "outputs": [
    {
     "data": {
      "image/png": "[encoded data removed]",
      "text/plain": [
       "<Figure size 432x288 with 1 Axes>"
      ]
     },
     "metadata": {
      "needs_background": "light"
     },
     "output_type": "display_data"
    }
   ],
   "source": [
    "plot_sample(\n",
    "    first_points,\n",
    "    second_points,\n",
    "    frames=[first_bounds, second_bounds],\n",
    ")"
   ]
  },
  {
   "cell_type": "markdown",
   "id": "6e325c2c",
   "metadata": {},
   "source": [
    "Done! Now the algorithm can use the second sample, however, we were able to safe runtime by not evaluating the points that already fell in the region of the second cube."
   ]
  }
 ],
 "metadata": {
  "kernelspec": {
   "display_name": "Python 3 (ipykernel)",
   "language": "python",
   "name": "python3"
  },
  "language_info": {
   "codemirror_mode": {
    "name": "ipython",
    "version": 3
   },
   "file_extension": ".py",
   "mimetype": "text/x-python",
   "name": "python",
   "nbconvert_exporter": "python",
   "pygments_lexer": "ipython3",
   "version": "3.8.12"
  }
 },
 "nbformat": 4,
 "nbformat_minor": 5
}
