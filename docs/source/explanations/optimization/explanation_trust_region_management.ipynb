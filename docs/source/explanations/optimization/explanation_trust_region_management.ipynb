{
 "cells": [
  {
   "cell_type": "markdown",
   "id": "cd1181c2",
   "metadata": {},
   "source": [
    "## Introduction to trust-region management"
   ]
  },
  {
   "cell_type": "code",
   "execution_count": 1,
   "id": "af63c3f5",
   "metadata": {},
   "outputs": [],
   "source": [
    "import matplotlib.pyplot as plt\n",
    "import numpy as np\n",
    "import seaborn as sns\n",
    "\n",
    "from estimagic.optimization.trust_region_management import (\n",
    "    get_existing_points,\n",
    "    get_next_trust_region_points_latin_hypercube,\n",
    ")\n",
    "\n",
    "np.random.seed(0)"
   ]
  },
  {
   "cell_type": "code",
   "execution_count": 2,
   "id": "a087cc9d",
   "metadata": {},
   "outputs": [],
   "source": [
    "def plot_sample(first_sample, second_sample=None):\n",
    "    fig, ax = plt.subplots()\n",
    "    ax.set_xlim(0, 1)\n",
    "    ax.set_ylim(0, 1)\n",
    "    sns.regplot(\n",
    "        x=first_sample[:, 0],\n",
    "        y=first_sample[:, 1],\n",
    "        ax=ax,\n",
    "        fit_reg=False,\n",
    "        color=\"darkblue\",\n",
    "        scatter_kws={\"alpha\": 0.4},\n",
    "    )\n",
    "    if second_sample is not None:\n",
    "        sns.regplot(\n",
    "            x=second_sample[:, 0],\n",
    "            y=second_sample[:, 1],\n",
    "            ax=ax,\n",
    "            fit_reg=False,\n",
    "            color=\"firebrick\",\n",
    "            scatter_kws={\"alpha\": 0.4},\n",
    "        )\n",
    "    return None"
   ]
  },
  {
   "cell_type": "markdown",
   "id": "89ab8f0a",
   "metadata": {},
   "source": [
    "### Example Code"
   ]
  },
  {
   "cell_type": "code",
   "execution_count": 3,
   "id": "c442cadb",
   "metadata": {},
   "outputs": [],
   "source": [
    "dim = 2\n",
    "n_points = 30\n",
    "\n",
    "first_center = np.ones(dim) * 0.4\n",
    "first_radius = 0.3\n",
    "\n",
    "first_sample, crit_vals = get_next_trust_region_points_latin_hypercube(\n",
    "    center=first_center,\n",
    "    radius=first_radius,\n",
    "    n_points=n_points,\n",
    "    n_iter=50_000,\n",
    "    optimality_criterion=\"e-optimal\",\n",
    ")"
   ]
  },
  {
   "cell_type": "code",
   "execution_count": 4,
   "id": "11c0a01b",
   "metadata": {},
   "outputs": [
    {
     "data": {
      "image/png": "[encoded data removed]",
      "text/plain": [
       "<Figure size 432x288 with 1 Axes>"
      ]
     },
     "metadata": {
      "needs_background": "light"
     },
     "output_type": "display_data"
    }
   ],
   "source": [
    "plot_sample(first_sample)"
   ]
  },
  {
   "cell_type": "code",
   "execution_count": 5,
   "id": "0d250528",
   "metadata": {},
   "outputs": [],
   "source": [
    "second_center = np.ones(dim) * 0.6\n",
    "second_radius = 0.3\n",
    "\n",
    "existing_points = get_existing_points(first_sample, second_center, second_radius)"
   ]
  },
  {
   "cell_type": "code",
   "execution_count": 6,
   "id": "e085b389",
   "metadata": {},
   "outputs": [
    {
     "data": {
      "image/png": "[encoded data removed]",
      "text/plain": [
       "<Figure size 432x288 with 1 Axes>"
      ]
     },
     "metadata": {
      "needs_background": "light"
     },
     "output_type": "display_data"
    }
   ],
   "source": [
    "plot_sample(first_sample, existing_points)"
   ]
  },
  {
   "cell_type": "code",
   "execution_count": 7,
   "id": "30ca7363",
   "metadata": {},
   "outputs": [],
   "source": [
    "second_sample, crit_vals = get_next_trust_region_points_latin_hypercube(\n",
    "    center=second_center,\n",
    "    radius=second_radius,\n",
    "    n_points=n_points,\n",
    "    existing_points=existing_points,\n",
    "    optimality_criterion=\"e-optimal\",\n",
    "    n_iter=50_000,\n",
    ")"
   ]
  },
  {
   "cell_type": "code",
   "execution_count": 8,
   "id": "8e96aa51",
   "metadata": {},
   "outputs": [
    {
     "data": {
      "image/png": "[encoded data removed]",
      "text/plain": [
       "<Figure size 432x288 with 1 Axes>"
      ]
     },
     "metadata": {
      "needs_background": "light"
     },
     "output_type": "display_data"
    }
   ],
   "source": [
    "plot_sample(first_sample, second_sample)"
   ]
  }
 ],
 "metadata": {
  "kernelspec": {
   "display_name": "Python 3 (ipykernel)",
   "language": "python",
   "name": "python3"
  },
  "language_info": {
   "codemirror_mode": {
    "name": "ipython",
    "version": 3
   },
   "file_extension": ".py",
   "mimetype": "text/x-python",
   "name": "python",
   "nbconvert_exporter": "python",
   "pygments_lexer": "ipython3",
   "version": "3.8.12"
  }
 },
 "nbformat": 4,
 "nbformat_minor": 5
}
