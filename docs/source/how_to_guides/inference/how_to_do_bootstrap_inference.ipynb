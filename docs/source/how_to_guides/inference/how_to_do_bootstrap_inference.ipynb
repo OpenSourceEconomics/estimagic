{
 "cells": [
  {
   "cell_type": "code",
   "execution_count": 1,
   "metadata": {},
   "outputs": [],
   "source": [
    "import numpy as np\n",
    "import pandas as pd\n",
    "import seaborn as sns\n",
    "import statsmodels.api as sm"
   ]
  },
  {
   "cell_type": "markdown",
   "metadata": {},
   "source": [
    "# Bootstrap Tutorial\n",
    "\n",
    "This notebook contains a tutorial on how to use the bootstrap functionality provided by estimagic. In this example, we will work with the \"exercise\" example dataset taken from the seaborn library.\n",
    "\n",
    "The working example will be a linear regression to investigate the effects of exercise time on pulse."
   ]
  },
  {
   "cell_type": "code",
   "execution_count": 2,
   "metadata": {},
   "outputs": [
    {
     "data": {
      "text/html": [
       "<div>\n",
       "<style scoped>\n",
       "    .dataframe tbody tr th:only-of-type {\n",
       "        vertical-align: middle;\n",
       "    }\n",
       "\n",
       "    .dataframe tbody tr th {\n",
       "        vertical-align: top;\n",
       "    }\n",
       "\n",
       "    .dataframe thead th {\n",
       "        text-align: right;\n",
       "    }\n",
       "</style>\n",
       "<table border=\"1\" class=\"dataframe\">\n",
       "  <thead>\n",
       "    <tr style=\"text-align: right;\">\n",
       "      <th></th>\n",
       "      <th>Unnamed: 0</th>\n",
       "      <th>id</th>\n",
       "      <th>diet</th>\n",
       "      <th>pulse</th>\n",
       "      <th>time</th>\n",
       "      <th>kind</th>\n",
       "      <th>constant</th>\n",
       "    </tr>\n",
       "  </thead>\n",
       "  <tbody>\n",
       "    <tr>\n",
       "      <th>0</th>\n",
       "      <td>0</td>\n",
       "      <td>1</td>\n",
       "      <td>low fat</td>\n",
       "      <td>85</td>\n",
       "      <td>1</td>\n",
       "      <td>rest</td>\n",
       "      <td>1</td>\n",
       "    </tr>\n",
       "    <tr>\n",
       "      <th>1</th>\n",
       "      <td>1</td>\n",
       "      <td>1</td>\n",
       "      <td>low fat</td>\n",
       "      <td>85</td>\n",
       "      <td>15</td>\n",
       "      <td>rest</td>\n",
       "      <td>1</td>\n",
       "    </tr>\n",
       "    <tr>\n",
       "      <th>2</th>\n",
       "      <td>2</td>\n",
       "      <td>1</td>\n",
       "      <td>low fat</td>\n",
       "      <td>88</td>\n",
       "      <td>30</td>\n",
       "      <td>rest</td>\n",
       "      <td>1</td>\n",
       "    </tr>\n",
       "    <tr>\n",
       "      <th>3</th>\n",
       "      <td>3</td>\n",
       "      <td>2</td>\n",
       "      <td>low fat</td>\n",
       "      <td>90</td>\n",
       "      <td>1</td>\n",
       "      <td>rest</td>\n",
       "      <td>1</td>\n",
       "    </tr>\n",
       "    <tr>\n",
       "      <th>4</th>\n",
       "      <td>4</td>\n",
       "      <td>2</td>\n",
       "      <td>low fat</td>\n",
       "      <td>92</td>\n",
       "      <td>15</td>\n",
       "      <td>rest</td>\n",
       "      <td>1</td>\n",
       "    </tr>\n",
       "  </tbody>\n",
       "</table>\n",
       "</div>"
      ],
      "text/plain": [
       "   Unnamed: 0  id     diet  pulse  time  kind  constant\n",
       "0           0   1  low fat     85     1  rest         1\n",
       "1           1   1  low fat     85    15  rest         1\n",
       "2           2   1  low fat     88    30  rest         1\n",
       "3           3   2  low fat     90     1  rest         1\n",
       "4           4   2  low fat     92    15  rest         1"
      ]
     },
     "execution_count": 2,
     "metadata": {},
     "output_type": "execute_result"
    }
   ],
   "source": [
    "df = sns.load_dataset(\"exercise\")\n",
    "replacements = {\"1 min\": 1, \"15 min\": 15, \"30 min\": 30}\n",
    "df = df.replace({\"time\": replacements})\n",
    "df[\"constant\"] = 1\n",
    "\n",
    "df.head()"
   ]
  },
  {
   "cell_type": "markdown",
   "metadata": {},
   "source": [
    "In general, there are two ways to use bootstrap functionality in estimagic. We can either use the main bootstrap() function, which will draw bootstrap samples, compute estimates, as well as compute standard errors and confidence intervals of these estimates at the same time. Or we can use the fact that all of the code is separated, and go through all of this step by step. \n",
    "\n",
    "In either way, the first thing that is required from the user is to specify a wrapping function that calculates the statistic of interest, and only takes the data on which to compute the statistic as an input. In our case, we want to regress \"pulse\" on \"time\" and a constant, and the function looks as follows:"
   ]
  },
  {
   "cell_type": "code",
   "execution_count": 3,
   "metadata": {},
   "outputs": [],
   "source": [
    "def ols_fit(data):\n",
    "\n",
    "    y = data[\"pulse\"]\n",
    "    x = data[[\"constant\", \"time\"]]\n",
    "    params = sm.OLS(y, x).fit().params\n",
    "    return params"
   ]
  },
  {
   "cell_type": "markdown",
   "metadata": {},
   "source": [
    "By returning a pd.Series with the coefficient names as index, we make sure we will eventually get a nice and readable output table. This is however not necessary. We could also simply return the parameter vector, in which case we would simply have to keep in mind the meaning of each parameter by ourselves."
   ]
  },
  {
   "cell_type": "markdown",
   "metadata": {},
   "source": [
    "## The Easy Way"
   ]
  },
  {
   "cell_type": "markdown",
   "metadata": {},
   "source": [
    "After defining our function of interest, we can make use of estimagic's bootstrap functionality using one simple function call of the bootstrap() function."
   ]
  },
  {
   "cell_type": "code",
   "execution_count": 4,
   "metadata": {},
   "outputs": [
    {
     "data": {
      "text/html": [
       "<div>\n",
       "<style scoped>\n",
       "    .dataframe tbody tr th:only-of-type {\n",
       "        vertical-align: middle;\n",
       "    }\n",
       "\n",
       "    .dataframe tbody tr th {\n",
       "        vertical-align: top;\n",
       "    }\n",
       "\n",
       "    .dataframe thead th {\n",
       "        text-align: right;\n",
       "    }\n",
       "</style>\n",
       "<table border=\"1\" class=\"dataframe\">\n",
       "  <thead>\n",
       "    <tr style=\"text-align: right;\">\n",
       "      <th></th>\n",
       "      <th>mean</th>\n",
       "      <th>std</th>\n",
       "      <th>lower_ci</th>\n",
       "      <th>upper_ci</th>\n",
       "    </tr>\n",
       "  </thead>\n",
       "  <tbody>\n",
       "    <tr>\n",
       "      <th>constant</th>\n",
       "      <td>93.805446</td>\n",
       "      <td>1.498809</td>\n",
       "      <td>91.100172</td>\n",
       "      <td>96.680747</td>\n",
       "    </tr>\n",
       "    <tr>\n",
       "      <th>time</th>\n",
       "      <td>0.385290</td>\n",
       "      <td>0.127442</td>\n",
       "      <td>0.161693</td>\n",
       "      <td>0.643619</td>\n",
       "    </tr>\n",
       "  </tbody>\n",
       "</table>\n",
       "</div>"
      ],
      "text/plain": [
       "               mean       std   lower_ci   upper_ci\n",
       "constant  93.805446  1.498809  91.100172  96.680747\n",
       "time       0.385290  0.127442   0.161693   0.643619"
      ]
     },
     "execution_count": 4,
     "metadata": {},
     "output_type": "execute_result"
    }
   ],
   "source": [
    "from estimagic.inference.bootstrap import bootstrap\n",
    "\n",
    "results_without_cluster = bootstrap(data=df, outcome=ols_fit)\n",
    "\n",
    "results_without_cluster"
   ]
  },
  {
   "cell_type": "markdown",
   "metadata": {},
   "source": [
    "The above function call represents the minimum that a user has to specify, making full use of the default options, such as drawing a 1000 bootstrap draws, using the \"percentile\" bootstrap confidence interval, not making use of parallelization, etc.\n",
    "\n",
    "If we would for example want to make 10000 draws, while parallelizing the maximum possible number of threads and using a \"bca\" type confidence interval, we would simply call the following."
   ]
  },
  {
   "cell_type": "code",
   "execution_count": 5,
   "metadata": {},
   "outputs": [
    {
     "data": {
      "text/html": [
       "<div>\n",
       "<style scoped>\n",
       "    .dataframe tbody tr th:only-of-type {\n",
       "        vertical-align: middle;\n",
       "    }\n",
       "\n",
       "    .dataframe tbody tr th {\n",
       "        vertical-align: top;\n",
       "    }\n",
       "\n",
       "    .dataframe thead th {\n",
       "        text-align: right;\n",
       "    }\n",
       "</style>\n",
       "<table border=\"1\" class=\"dataframe\">\n",
       "  <thead>\n",
       "    <tr style=\"text-align: right;\">\n",
       "      <th></th>\n",
       "      <th>mean</th>\n",
       "      <th>std</th>\n",
       "      <th>lower_ci</th>\n",
       "      <th>upper_ci</th>\n",
       "    </tr>\n",
       "  </thead>\n",
       "  <tbody>\n",
       "    <tr>\n",
       "      <th>constant</th>\n",
       "      <td>93.771297</td>\n",
       "      <td>1.515611</td>\n",
       "      <td>91.876222</td>\n",
       "      <td>97.431463</td>\n",
       "    </tr>\n",
       "    <tr>\n",
       "      <th>time</th>\n",
       "      <td>0.386731</td>\n",
       "      <td>0.126017</td>\n",
       "      <td>0.131651</td>\n",
       "      <td>0.561478</td>\n",
       "    </tr>\n",
       "  </tbody>\n",
       "</table>\n",
       "</div>"
      ],
      "text/plain": [
       "               mean       std   lower_ci   upper_ci\n",
       "constant  93.771297  1.515611  91.876222  97.431463\n",
       "time       0.386731  0.126017   0.131651   0.561478"
      ]
     },
     "execution_count": 5,
     "metadata": {},
     "output_type": "execute_result"
    }
   ],
   "source": [
    "results_without_cluster2 = bootstrap(\n",
    "    data=df, outcome=ols_fit, n_draws=10_000, ci_method=\"bca\", n_cores=-1\n",
    ")\n",
    "\n",
    "results_without_cluster2"
   ]
  },
  {
   "cell_type": "markdown",
   "metadata": {},
   "source": [
    "Estimagic implements two different types of bootstrap. In the standard bootstrap that we called in the two examples above, observations from the original dataset are drawn uniformly with replacement in order to create the different bootstrap samples.\n",
    "\n",
    "In the cluster robust variant of the bootstrap, the original dataset is divided into clusters according to the values of some user-specified variable, and then clusters are drawn uniformly with replacement in order to create the different bootstrap samples. \n",
    "\n",
    "In order to use the cluster robust boostrap, we simply specify which variable to cluster by. In the example we are working with, it seems sensible to cluster on individuals, i.e. on the column \"id\" of our dataset."
   ]
  },
  {
   "cell_type": "code",
   "execution_count": 6,
   "metadata": {},
   "outputs": [
    {
     "data": {
      "text/html": [
       "<div>\n",
       "<style scoped>\n",
       "    .dataframe tbody tr th:only-of-type {\n",
       "        vertical-align: middle;\n",
       "    }\n",
       "\n",
       "    .dataframe tbody tr th {\n",
       "        vertical-align: top;\n",
       "    }\n",
       "\n",
       "    .dataframe thead th {\n",
       "        text-align: right;\n",
       "    }\n",
       "</style>\n",
       "<table border=\"1\" class=\"dataframe\">\n",
       "  <thead>\n",
       "    <tr style=\"text-align: right;\">\n",
       "      <th></th>\n",
       "      <th>mean</th>\n",
       "      <th>std</th>\n",
       "      <th>lower_ci</th>\n",
       "      <th>upper_ci</th>\n",
       "    </tr>\n",
       "  </thead>\n",
       "  <tbody>\n",
       "    <tr>\n",
       "      <th>constant</th>\n",
       "      <td>93.769514</td>\n",
       "      <td>1.150305</td>\n",
       "      <td>91.549445</td>\n",
       "      <td>96.003640</td>\n",
       "    </tr>\n",
       "    <tr>\n",
       "      <th>time</th>\n",
       "      <td>0.386144</td>\n",
       "      <td>0.101355</td>\n",
       "      <td>0.203041</td>\n",
       "      <td>0.571818</td>\n",
       "    </tr>\n",
       "  </tbody>\n",
       "</table>\n",
       "</div>"
      ],
      "text/plain": [
       "               mean       std   lower_ci   upper_ci\n",
       "constant  93.769514  1.150305  91.549445  96.003640\n",
       "time       0.386144  0.101355   0.203041   0.571818"
      ]
     },
     "execution_count": 6,
     "metadata": {},
     "output_type": "execute_result"
    }
   ],
   "source": [
    "results_with_cluster = bootstrap(data=df, outcome=ols_fit, cluster_by=\"id\")\n",
    "\n",
    "results_with_cluster"
   ]
  },
  {
   "cell_type": "markdown",
   "metadata": {},
   "source": [
    "We can see that the estimated standard errors are indeed of a smaller magnitude when we use the cluster robust bootstrap. \n",
    "\n",
    "Finally, we can compare the results to full sample regressions using the statsmodels regression function and see that the cluster robust bootstrap gives standard error estimates very close to the cluster robust regression, while the regular bootstrap seems to overestimate the standard errors of both coefficients.\n"
   ]
  },
  {
   "cell_type": "code",
   "execution_count": 7,
   "metadata": {},
   "outputs": [
    {
     "data": {
      "text/html": [
       "<table class=\"simpletable\">\n",
       "<caption>OLS Regression Results</caption>\n",
       "<tr>\n",
       "  <th>Dep. Variable:</th>          <td>pulse</td>      <th>  R-squared:         </th> <td>   0.096</td>\n",
       "</tr>\n",
       "<tr>\n",
       "  <th>Model:</th>                   <td>OLS</td>       <th>  Adj. R-squared:    </th> <td>   0.086</td>\n",
       "</tr>\n",
       "<tr>\n",
       "  <th>Method:</th>             <td>Least Squares</td>  <th>  F-statistic:       </th> <td>   13.75</td>\n",
       "</tr>\n",
       "<tr>\n",
       "  <th>Date:</th>             <td>Mon, 28 Jun 2021</td> <th>  Prob (F-statistic):</th> <td>0.000879</td>\n",
       "</tr>\n",
       "<tr>\n",
       "  <th>Time:</th>                 <td>14:31:24</td>     <th>  Log-Likelihood:    </th> <td> -365.51</td>\n",
       "</tr>\n",
       "<tr>\n",
       "  <th>No. Observations:</th>      <td>    90</td>      <th>  AIC:               </th> <td>   735.0</td>\n",
       "</tr>\n",
       "<tr>\n",
       "  <th>Df Residuals:</th>          <td>    88</td>      <th>  BIC:               </th> <td>   740.0</td>\n",
       "</tr>\n",
       "<tr>\n",
       "  <th>Df Model:</th>              <td>     1</td>      <th>                     </th>     <td> </td>   \n",
       "</tr>\n",
       "<tr>\n",
       "  <th>Covariance Type:</th>       <td>cluster</td>     <th>                     </th>     <td> </td>   \n",
       "</tr>\n",
       "</table>\n",
       "<table class=\"simpletable\">\n",
       "<tr>\n",
       "      <td></td>        <th>coef</th>     <th>std err</th>      <th>z</th>      <th>P>|z|</th>  <th>[0.025</th>    <th>0.975]</th>  \n",
       "</tr>\n",
       "<tr>\n",
       "  <th>constant</th> <td>   93.7611</td> <td>    1.205</td> <td>   77.837</td> <td> 0.000</td> <td>   91.400</td> <td>   96.122</td>\n",
       "</tr>\n",
       "<tr>\n",
       "  <th>time</th>     <td>    0.3873</td> <td>    0.104</td> <td>    3.708</td> <td> 0.000</td> <td>    0.183</td> <td>    0.592</td>\n",
       "</tr>\n",
       "</table>\n",
       "<table class=\"simpletable\">\n",
       "<tr>\n",
       "  <th>Omnibus:</th>       <td>20.828</td> <th>  Durbin-Watson:     </th> <td>   0.827</td>\n",
       "</tr>\n",
       "<tr>\n",
       "  <th>Prob(Omnibus):</th> <td> 0.000</td> <th>  Jarque-Bera (JB):  </th> <td>  26.313</td>\n",
       "</tr>\n",
       "<tr>\n",
       "  <th>Skew:</th>          <td> 1.173</td> <th>  Prob(JB):          </th> <td>1.93e-06</td>\n",
       "</tr>\n",
       "<tr>\n",
       "  <th>Kurtosis:</th>      <td> 4.231</td> <th>  Cond. No.          </th> <td>    31.7</td>\n",
       "</tr>\n",
       "</table><br/><br/>Notes:<br/>[1] Standard Errors are robust to cluster correlation (cluster)"
      ],
      "text/plain": [
       "<class 'statsmodels.iolib.summary.Summary'>\n",
       "\"\"\"\n",
       "                            OLS Regression Results                            \n",
       "==============================================================================\n",
       "Dep. Variable:                  pulse   R-squared:                       0.096\n",
       "Model:                            OLS   Adj. R-squared:                  0.086\n",
       "Method:                 Least Squares   F-statistic:                     13.75\n",
       "Date:                Mon, 28 Jun 2021   Prob (F-statistic):           0.000879\n",
       "Time:                        14:31:24   Log-Likelihood:                -365.51\n",
       "No. Observations:                  90   AIC:                             735.0\n",
       "Df Residuals:                      88   BIC:                             740.0\n",
       "Df Model:                           1                                         \n",
       "Covariance Type:              cluster                                         \n",
       "==============================================================================\n",
       "                 coef    std err          z      P>|z|      [0.025      0.975]\n",
       "------------------------------------------------------------------------------\n",
       "constant      93.7611      1.205     77.837      0.000      91.400      96.122\n",
       "time           0.3873      0.104      3.708      0.000       0.183       0.592\n",
       "==============================================================================\n",
       "Omnibus:                       20.828   Durbin-Watson:                   0.827\n",
       "Prob(Omnibus):                  0.000   Jarque-Bera (JB):               26.313\n",
       "Skew:                           1.173   Prob(JB):                     1.93e-06\n",
       "Kurtosis:                       4.231   Cond. No.                         31.7\n",
       "==============================================================================\n",
       "\n",
       "Notes:\n",
       "[1] Standard Errors are robust to cluster correlation (cluster)\n",
       "\"\"\""
      ]
     },
     "execution_count": 7,
     "metadata": {},
     "output_type": "execute_result"
    }
   ],
   "source": [
    "y = df[\"pulse\"]\n",
    "x = df[[\"constant\", \"time\"]]\n",
    "\n",
    "\n",
    "cluster_robust_ols = sm.OLS(y, x).fit(cov_type=\"cluster\", cov_kwds={\"groups\": df[\"id\"]})\n",
    "\n",
    "cluster_robust_ols.summary()"
   ]
  },
  {
   "cell_type": "markdown",
   "metadata": {},
   "source": [
    "## A Complete Separation of Code"
   ]
  },
  {
   "cell_type": "markdown",
   "metadata": {},
   "source": [
    "There might of course also be situations where we simply want to return the collection of bootstrap estimates and not directly get the very streamlined results table. The following example makes use of the complete separation of code."
   ]
  },
  {
   "cell_type": "code",
   "execution_count": 8,
   "metadata": {},
   "outputs": [],
   "source": [
    "from estimagic.inference.bootstrap_helpers import get_seeds\n",
    "\n",
    "more_seeds = get_seeds(2000)"
   ]
  },
  {
   "cell_type": "markdown",
   "metadata": {},
   "source": [
    "Next, we can use get_bootstrap_estimates() to get the pd.DataFrame containing all of the different bootstrap estimates for f. We could again use cluster_by to use the clustered bootstrap."
   ]
  },
  {
   "cell_type": "code",
   "execution_count": 9,
   "metadata": {},
   "outputs": [
    {
     "name": "stdout",
     "output_type": "stream",
     "text": [
      "    constant      time\n",
      "0  94.162931  0.565888\n",
      "1  92.357132  0.588174\n",
      "2  90.447660  0.452515\n",
      "3  90.625268  0.503517\n",
      "4  95.259296  0.340003\n"
     ]
    }
   ],
   "source": [
    "from estimagic.inference.bootstrap_estimates import get_bootstrap_estimates\n",
    "\n",
    "my_estimates = get_bootstrap_estimates(data=df, outcome=ols_fit, seeds=more_seeds)\n",
    "\n",
    "print(my_estimates.head())"
   ]
  },
  {
   "cell_type": "markdown",
   "metadata": {},
   "source": [
    "To further compare the cluster bootstrap to the uniform bootstrap, let's plot the sampling distribution of the parameters on time. We can again see that the standard error is smaller when we cluster on the subject id. "
   ]
  },
  {
   "cell_type": "code",
   "execution_count": 10,
   "metadata": {},
   "outputs": [
    {
     "name": "stderr",
     "output_type": "stream",
     "text": [
      "/home/janos/anaconda3/envs/estimagic/lib/python3.8/site-packages/seaborn/distributions.py:2557: FutureWarning: `distplot` is a deprecated function and will be removed in a future version. Please adapt your code to use either `displot` (a figure-level function with similar flexibility) or `histplot` (an axes-level function for histograms).\n",
      "  warnings.warn(msg, FutureWarning)\n",
      "/home/janos/anaconda3/envs/estimagic/lib/python3.8/site-packages/seaborn/distributions.py:2557: FutureWarning: `distplot` is a deprecated function and will be removed in a future version. Please adapt your code to use either `displot` (a figure-level function with similar flexibility) or `histplot` (an axes-level function for histograms).\n",
      "  warnings.warn(msg, FutureWarning)\n"
     ]
    },
    {
     "data": {
      "text/plain": [
       "<AxesSubplot:xlabel='time', ylabel='Density'>"
      ]
     },
     "execution_count": 10,
     "metadata": {},
     "output_type": "execute_result"
    },
    {
     "data": {
      "image/png": "[encoded data removed]",
      "text/plain": [
       "<Figure size 432x288 with 1 Axes>"
      ]
     },
     "metadata": {
      "needs_background": "light"
     },
     "output_type": "display_data"
    }
   ],
   "source": [
    "my_estimates_clustered = get_bootstrap_estimates(\n",
    "    data=df, outcome=ols_fit, seeds=more_seeds, cluster_by=\"id\"\n",
    ")\n",
    "\n",
    "# clustered distribution in blue\n",
    "sns.distplot(my_estimates_clustered[\"time\"])\n",
    "\n",
    "# non-clustered distribution in orange\n",
    "sns.distplot(my_estimates[\"time\"])"
   ]
  },
  {
   "cell_type": "markdown",
   "metadata": {},
   "source": [
    "We can also compute confidence intervals using estimates as an input."
   ]
  },
  {
   "cell_type": "code",
   "execution_count": 11,
   "metadata": {},
   "outputs": [
    {
     "name": "stdout",
     "output_type": "stream",
     "text": [
      "           lower_ci   upper_ci\n",
      "constant  91.293949  96.401575\n",
      "time       0.193703   0.624739\n"
     ]
    }
   ],
   "source": [
    "from estimagic.inference.bootstrap_ci import compute_ci\n",
    "\n",
    "confidence_intervals = compute_ci(\n",
    "    data=df, outcome=ols_fit, estimates=my_estimates, ci_method=\"bc\"\n",
    ")\n",
    "\n",
    "print(confidence_intervals)"
   ]
  },
  {
   "cell_type": "markdown",
   "metadata": {},
   "source": [
    "Alternatively, we can compute the whole results table using specific estimates as an input."
   ]
  },
  {
   "cell_type": "code",
   "execution_count": 12,
   "metadata": {},
   "outputs": [
    {
     "name": "stdout",
     "output_type": "stream",
     "text": [
      "               mean       std   lower_ci   upper_ci\n",
      "constant  93.746887  1.536125  90.647192  96.932502\n",
      "time       0.391954  0.130516   0.113338   0.625811\n"
     ]
    }
   ],
   "source": [
    "from estimagic.inference.bootstrap import get_results_table\n",
    "\n",
    "my_results = get_results_table(\n",
    "    data=df, outcome=ols_fit, estimates=my_estimates, ci_method=\"t\"\n",
    ")\n",
    "\n",
    "print(my_results)"
   ]
  },
  {
   "cell_type": "markdown",
   "metadata": {},
   "source": [
    "Finally, note that it is also possible to return the list of bootstrap samples using the get_bootstrap_samples() function. This function returns a list of ndraws np.arrays of bootstrap sample ids (row numbers) obtained from drawing from the original sample with replacement, using the cluster robust bootstrap if specified using the cluster_by input.\n",
    "If we specify return_samples=True, the function instead returns a list of DataFrames. This can however be very memory inefficient for large datasets and/or large numbers of bootstrap draws."
   ]
  },
  {
   "cell_type": "code",
   "execution_count": 13,
   "metadata": {},
   "outputs": [
    {
     "data": {
      "text/plain": [
       "array([21, 12, 54, 32, 87, 49, 48, 46, 39, 81, 70, 21, 51, 49, 49, 15, 24,\n",
       "       69,  1, 51, 78, 36, 20, 17, 31, 67, 27, 34, 58,  3, 30, 57, 88, 41,\n",
       "       47, 85, 68, 49, 87, 14,  8, 38, 74, 73, 88, 23, 58,  8, 69, 89, 88,\n",
       "       62, 54, 35,  4,  9, 82, 15, 24,  4, 27, 15, 77, 61, 47,  7,  4, 46,\n",
       "       71, 55, 71, 71, 18, 86, 25, 51, 37,  6,  5, 32, 63, 56, 50, 22, 76,\n",
       "       78, 66, 81, 67, 73])"
      ]
     },
     "execution_count": 13,
     "metadata": {},
     "output_type": "execute_result"
    }
   ],
   "source": [
    "from estimagic.inference.bootstrap_samples import get_bootstrap_samples\n",
    "\n",
    "my_samples = get_bootstrap_samples(data=df, seeds=more_seeds)\n",
    "\n",
    "my_samples[4]"
   ]
  },
  {
   "cell_type": "code",
   "execution_count": null,
   "metadata": {},
   "outputs": [],
   "source": []
  }
 ],
 "metadata": {
  "kernelspec": {
   "display_name": "Python 3",
   "language": "python",
   "name": "python3"
  },
  "language_info": {
   "codemirror_mode": {
    "name": "ipython",
    "version": 3
   },
   "file_extension": ".py",
   "mimetype": "text/x-python",
   "name": "python",
   "nbconvert_exporter": "python",
   "pygments_lexer": "ipython3",
   "version": "3.8.8"
  }
 },
 "nbformat": 4,
 "nbformat_minor": 4
}
