{
 "cells": [
  {
   "cell_type": "code",
   "execution_count": 1,
   "metadata": {},
   "outputs": [],
   "source": [
    "import numpy as np\n",
    "import pandas as pd\n",
    "import seaborn as sns\n",
    "import statsmodels.api as sm"
   ]
  },
  {
   "cell_type": "markdown",
   "metadata": {},
   "source": [
    "# Bootstrap Tutorial\n",
    "\n",
    "This notebook contains a tutorial on how to use the bootstrap functionality provided by estimagic. We start with the simplest possible example of calculating standard errors and confidence intervals for an OLS estimator without and clustering. Then we progress to more advanced examples.\n",
    "\n",
    "In this example, we will work with the \"exercise\" example dataset taken from the seaborn library.\n",
    "\n",
    "The working example will be a linear regression to investigate the effects of exercise time on pulse.\n",
    "\n",
    "## Prepare the dataset"
   ]
  },
  {
   "cell_type": "code",
   "execution_count": 2,
   "metadata": {},
   "outputs": [
    {
     "output_type": "execute_result",
     "data": {
      "text/plain": [
       "   id     diet  pulse  time  kind  constant\n",
       "0   1  low fat     85     1  rest         1\n",
       "1   1  low fat     85    15  rest         1\n",
       "2   1  low fat     88    30  rest         1\n",
       "3   2  low fat     90     1  rest         1\n",
       "4   2  low fat     92    15  rest         1"
      ],
      "text/html": "<div>\n<style scoped>\n    .dataframe tbody tr th:only-of-type {\n        vertical-align: middle;\n    }\n\n    .dataframe tbody tr th {\n        vertical-align: top;\n    }\n\n    .dataframe thead th {\n        text-align: right;\n    }\n</style>\n<table border=\"1\" class=\"dataframe\">\n  <thead>\n    <tr style=\"text-align: right;\">\n      <th></th>\n      <th>id</th>\n      <th>diet</th>\n      <th>pulse</th>\n      <th>time</th>\n      <th>kind</th>\n      <th>constant</th>\n    </tr>\n  </thead>\n  <tbody>\n    <tr>\n      <th>0</th>\n      <td>1</td>\n      <td>low fat</td>\n      <td>85</td>\n      <td>1</td>\n      <td>rest</td>\n      <td>1</td>\n    </tr>\n    <tr>\n      <th>1</th>\n      <td>1</td>\n      <td>low fat</td>\n      <td>85</td>\n      <td>15</td>\n      <td>rest</td>\n      <td>1</td>\n    </tr>\n    <tr>\n      <th>2</th>\n      <td>1</td>\n      <td>low fat</td>\n      <td>88</td>\n      <td>30</td>\n      <td>rest</td>\n      <td>1</td>\n    </tr>\n    <tr>\n      <th>3</th>\n      <td>2</td>\n      <td>low fat</td>\n      <td>90</td>\n      <td>1</td>\n      <td>rest</td>\n      <td>1</td>\n    </tr>\n    <tr>\n      <th>4</th>\n      <td>2</td>\n      <td>low fat</td>\n      <td>92</td>\n      <td>15</td>\n      <td>rest</td>\n      <td>1</td>\n    </tr>\n  </tbody>\n</table>\n</div>"
     },
     "metadata": {},
     "execution_count": 2
    }
   ],
   "source": [
    "df = sns.load_dataset(\"exercise\", index_col=0)\n",
    "replacements = {\"1 min\": 1, \"15 min\": 15, \"30 min\": 30}\n",
    "df = df.replace({\"time\": replacements})\n",
    "df[\"constant\"] = 1\n",
    "\n",
    "df.head()"
   ]
  },
  {
   "cell_type": "markdown",
   "metadata": {},
   "source": [
    "## Doing a very simple bootstrap"
   ]
  },
  {
   "cell_type": "markdown",
   "metadata": {},
   "source": [
    "The first thing we need is a function that calculates the bootstrap outcome, given an empirical or re-sampled dataset. The bootstrap outcome is the quantity for which you want to calculate standard errors and confidence intervals. In most applications those are just parameter estimates.\n",
    "\n",
    "In our case, we want to regress \"pulse\" on \"time\" and a constant, and the function looks as follows:"
   ]
  },
  {
   "cell_type": "code",
   "execution_count": 3,
   "metadata": {},
   "outputs": [],
   "source": [
    "def ols_fit(data):\n",
    "\n",
    "    y = data[\"pulse\"]\n",
    "    x = data[[\"constant\", \"time\"]]\n",
    "    params = sm.OLS(y, x).fit().params\n",
    "    return params"
   ]
  },
  {
   "cell_type": "markdown",
   "metadata": {},
   "source": [
    "The outcome function must return a pandas Series.\n",
    "\n",
    "Now we wan calculated confidence intervals and standard errors."
   ]
  },
  {
   "cell_type": "code",
   "execution_count": 4,
   "metadata": {},
   "outputs": [
    {
     "output_type": "execute_result",
     "data": {
      "text/plain": [
       "               mean       std   lower_ci   upper_ci\n",
       "constant  93.815998  1.566557  90.806508  97.014317\n",
       "time       0.376655  0.127959   0.147757   0.647338"
      ],
      "text/html": "<div>\n<style scoped>\n    .dataframe tbody tr th:only-of-type {\n        vertical-align: middle;\n    }\n\n    .dataframe tbody tr th {\n        vertical-align: top;\n    }\n\n    .dataframe thead th {\n        text-align: right;\n    }\n</style>\n<table border=\"1\" class=\"dataframe\">\n  <thead>\n    <tr style=\"text-align: right;\">\n      <th></th>\n      <th>mean</th>\n      <th>std</th>\n      <th>lower_ci</th>\n      <th>upper_ci</th>\n    </tr>\n  </thead>\n  <tbody>\n    <tr>\n      <th>constant</th>\n      <td>93.815998</td>\n      <td>1.566557</td>\n      <td>90.806508</td>\n      <td>97.014317</td>\n    </tr>\n    <tr>\n      <th>time</th>\n      <td>0.376655</td>\n      <td>0.127959</td>\n      <td>0.147757</td>\n      <td>0.647338</td>\n    </tr>\n  </tbody>\n</table>\n</div>"
     },
     "metadata": {},
     "execution_count": 4
    }
   ],
   "source": [
    "from estimagic.inference import bootstrap\n",
    "\n",
    "results_without_cluster = bootstrap(data=df, outcome=ols_fit)\n",
    "results_without_cluster"
   ]
  },
  {
   "cell_type": "markdown",
   "metadata": {},
   "source": [
    "The above function call represents the minimum that a user has to specify, making full use of the default options, such as drawing a 1000 bootstrap draws, using the \"percentile\" bootstrap confidence interval, not making use of parallelization, etc.\n",
    "\n",
    "If we would for example want to make 10000 draws, while parallelizing on two cores and using a \"bca\" type confidence interval, we would simply call the following."
   ]
  },
  {
   "cell_type": "code",
   "execution_count": 5,
   "metadata": {},
   "outputs": [
    {
     "output_type": "execute_result",
     "data": {
      "text/plain": [
       "              mean       std   lower_ci   upper_ci\n",
       "constant  93.79045  1.557405  91.757155  97.354431\n",
       "time       0.38619  0.126238   0.120206   0.557303"
      ],
      "text/html": "<div>\n<style scoped>\n    .dataframe tbody tr th:only-of-type {\n        vertical-align: middle;\n    }\n\n    .dataframe tbody tr th {\n        vertical-align: top;\n    }\n\n    .dataframe thead th {\n        text-align: right;\n    }\n</style>\n<table border=\"1\" class=\"dataframe\">\n  <thead>\n    <tr style=\"text-align: right;\">\n      <th></th>\n      <th>mean</th>\n      <th>std</th>\n      <th>lower_ci</th>\n      <th>upper_ci</th>\n    </tr>\n  </thead>\n  <tbody>\n    <tr>\n      <th>constant</th>\n      <td>93.79045</td>\n      <td>1.557405</td>\n      <td>91.757155</td>\n      <td>97.354431</td>\n    </tr>\n    <tr>\n      <th>time</th>\n      <td>0.38619</td>\n      <td>0.126238</td>\n      <td>0.120206</td>\n      <td>0.557303</td>\n    </tr>\n  </tbody>\n</table>\n</div>"
     },
     "metadata": {},
     "execution_count": 5
    }
   ],
   "source": [
    "results_without_cluster2 = bootstrap(\n",
    "    data=df, outcome=ols_fit, n_draws=10_000, ci_method=\"bca\", n_cores=2\n",
    ")\n",
    "\n",
    "results_without_cluster2"
   ]
  },
  {
   "cell_type": "markdown",
   "metadata": {},
   "source": [
    "## Doing a clustered bootstrap"
   ]
  },
  {
   "cell_type": "markdown",
   "metadata": {},
   "source": [
    "In the cluster robust variant of the bootstrap, the original dataset is divided into clusters according to the values of some user-specified variable, and then clusters are drawn uniformly with replacement in order to create the different bootstrap samples. \n",
    "\n",
    "In order to use the cluster robust boostrap, we simply specify which variable to cluster by. In the example we are working with, it seems sensible to cluster on individuals, i.e. on the column \"id\" of our dataset."
   ]
  },
  {
   "cell_type": "code",
   "execution_count": 6,
   "metadata": {},
   "outputs": [
    {
     "output_type": "execute_result",
     "data": {
      "text/plain": [
       "               mean       std   lower_ci   upper_ci\n",
       "constant  93.729417  1.188667  91.360832  96.070291\n",
       "time       0.380310  0.101324   0.194380   0.584603"
      ],
      "text/html": "<div>\n<style scoped>\n    .dataframe tbody tr th:only-of-type {\n        vertical-align: middle;\n    }\n\n    .dataframe tbody tr th {\n        vertical-align: top;\n    }\n\n    .dataframe thead th {\n        text-align: right;\n    }\n</style>\n<table border=\"1\" class=\"dataframe\">\n  <thead>\n    <tr style=\"text-align: right;\">\n      <th></th>\n      <th>mean</th>\n      <th>std</th>\n      <th>lower_ci</th>\n      <th>upper_ci</th>\n    </tr>\n  </thead>\n  <tbody>\n    <tr>\n      <th>constant</th>\n      <td>93.729417</td>\n      <td>1.188667</td>\n      <td>91.360832</td>\n      <td>96.070291</td>\n    </tr>\n    <tr>\n      <th>time</th>\n      <td>0.380310</td>\n      <td>0.101324</td>\n      <td>0.194380</td>\n      <td>0.584603</td>\n    </tr>\n  </tbody>\n</table>\n</div>"
     },
     "metadata": {},
     "execution_count": 6
    }
   ],
   "source": [
    "results_with_cluster = bootstrap(data=df, outcome=ols_fit, cluster_by=\"id\")\n",
    "\n",
    "results_with_cluster"
   ]
  },
  {
   "cell_type": "markdown",
   "metadata": {},
   "source": [
    "We can see that the estimated standard errors are indeed of a smaller magnitude when we use the cluster robust bootstrap. \n",
    "\n",
    "Finally, we can compare the results to full sample regressions using the statsmodels regression function and see that the cluster robust bootstrap gives standard error estimates very close to the cluster robust regression, while the regular bootstrap seems to overestimate the standard errors of both coefficients.\n",
    "\n",
    "Note: We would not expect the asymptotic statsmodels standard errors to be exactly the same as the bootstrapped standard errors.\n"
   ]
  },
  {
   "cell_type": "code",
   "execution_count": 7,
   "metadata": {},
   "outputs": [
    {
     "output_type": "execute_result",
     "data": {
      "text/plain": [
       "<class 'statsmodels.iolib.summary.Summary'>\n",
       "\"\"\"\n",
       "                            OLS Regression Results                            \n",
       "==============================================================================\n",
       "Dep. Variable:                  pulse   R-squared:                       0.096\n",
       "Model:                            OLS   Adj. R-squared:                  0.086\n",
       "Method:                 Least Squares   F-statistic:                     13.75\n",
       "Date:                Fri, 02 Jul 2021   Prob (F-statistic):           0.000879\n",
       "Time:                        11:35:16   Log-Likelihood:                -365.51\n",
       "No. Observations:                  90   AIC:                             735.0\n",
       "Df Residuals:                      88   BIC:                             740.0\n",
       "Df Model:                           1                                         \n",
       "Covariance Type:              cluster                                         \n",
       "==============================================================================\n",
       "                 coef    std err          z      P>|z|      [0.025      0.975]\n",
       "------------------------------------------------------------------------------\n",
       "constant      93.7611      1.205     77.837      0.000      91.400      96.122\n",
       "time           0.3873      0.104      3.708      0.000       0.183       0.592\n",
       "==============================================================================\n",
       "Omnibus:                       20.828   Durbin-Watson:                   0.827\n",
       "Prob(Omnibus):                  0.000   Jarque-Bera (JB):               26.313\n",
       "Skew:                           1.173   Prob(JB):                     1.93e-06\n",
       "Kurtosis:                       4.231   Cond. No.                         31.7\n",
       "==============================================================================\n",
       "\n",
       "Notes:\n",
       "[1] Standard Errors are robust to cluster correlation (cluster)\n",
       "\"\"\""
      ],
      "text/html": "<table class=\"simpletable\">\n<caption>OLS Regression Results</caption>\n<tr>\n  <th>Dep. Variable:</th>          <td>pulse</td>      <th>  R-squared:         </th> <td>   0.096</td>\n</tr>\n<tr>\n  <th>Model:</th>                   <td>OLS</td>       <th>  Adj. R-squared:    </th> <td>   0.086</td>\n</tr>\n<tr>\n  <th>Method:</th>             <td>Least Squares</td>  <th>  F-statistic:       </th> <td>   13.75</td>\n</tr>\n<tr>\n  <th>Date:</th>             <td>Fri, 02 Jul 2021</td> <th>  Prob (F-statistic):</th> <td>0.000879</td>\n</tr>\n<tr>\n  <th>Time:</th>                 <td>11:35:16</td>     <th>  Log-Likelihood:    </th> <td> -365.51</td>\n</tr>\n<tr>\n  <th>No. Observations:</th>      <td>    90</td>      <th>  AIC:               </th> <td>   735.0</td>\n</tr>\n<tr>\n  <th>Df Residuals:</th>          <td>    88</td>      <th>  BIC:               </th> <td>   740.0</td>\n</tr>\n<tr>\n  <th>Df Model:</th>              <td>     1</td>      <th>                     </th>     <td> </td>   \n</tr>\n<tr>\n  <th>Covariance Type:</th>       <td>cluster</td>     <th>                     </th>     <td> </td>   \n</tr>\n</table>\n<table class=\"simpletable\">\n<tr>\n      <td></td>        <th>coef</th>     <th>std err</th>      <th>z</th>      <th>P>|z|</th>  <th>[0.025</th>    <th>0.975]</th>  \n</tr>\n<tr>\n  <th>constant</th> <td>   93.7611</td> <td>    1.205</td> <td>   77.837</td> <td> 0.000</td> <td>   91.400</td> <td>   96.122</td>\n</tr>\n<tr>\n  <th>time</th>     <td>    0.3873</td> <td>    0.104</td> <td>    3.708</td> <td> 0.000</td> <td>    0.183</td> <td>    0.592</td>\n</tr>\n</table>\n<table class=\"simpletable\">\n<tr>\n  <th>Omnibus:</th>       <td>20.828</td> <th>  Durbin-Watson:     </th> <td>   0.827</td>\n</tr>\n<tr>\n  <th>Prob(Omnibus):</th> <td> 0.000</td> <th>  Jarque-Bera (JB):  </th> <td>  26.313</td>\n</tr>\n<tr>\n  <th>Skew:</th>          <td> 1.173</td> <th>  Prob(JB):          </th> <td>1.93e-06</td>\n</tr>\n<tr>\n  <th>Kurtosis:</th>      <td> 4.231</td> <th>  Cond. No.          </th> <td>    31.7</td>\n</tr>\n</table><br/><br/>Notes:<br/>[1] Standard Errors are robust to cluster correlation (cluster)"
     },
     "metadata": {},
     "execution_count": 7
    }
   ],
   "source": [
    "y = df[\"pulse\"]\n",
    "x = df[[\"constant\", \"time\"]]\n",
    "\n",
    "\n",
    "cluster_robust_ols = sm.OLS(y, x).fit(cov_type=\"cluster\", cov_kwds={\"groups\": df[\"id\"]})\n",
    "\n",
    "cluster_robust_ols.summary()"
   ]
  },
  {
   "cell_type": "markdown",
   "metadata": {},
   "source": [
    "## Splitting up the process"
   ]
  },
  {
   "cell_type": "markdown",
   "metadata": {},
   "source": [
    "In many situations the above examples are enough. However, sometimes it is important to split up the bootstrapping process into smaller steps. Examples for such situations are:\n",
    "\n",
    "- You want to look at the bootstrap estimates\n",
    "- You want to do a bootstrap with a low number of draws first and add more draws later without duplicated calculations\n",
    "- You have more bootstrap outcomes than just the parameters\n",
    "\n",
    "### Calculating bootsrap outcomes"
   ]
  },
  {
   "cell_type": "code",
   "execution_count": 8,
   "metadata": {},
   "outputs": [
    {
     "output_type": "execute_result",
     "data": {
      "text/plain": [
       "    constant      time\n",
       "0  92.377004  0.465963\n",
       "1  94.549027  0.219700\n",
       "2  94.171886  0.298749\n",
       "3  94.087851  0.346593\n",
       "4  93.624816  0.466219"
      ],
      "text/html": "<div>\n<style scoped>\n    .dataframe tbody tr th:only-of-type {\n        vertical-align: middle;\n    }\n\n    .dataframe tbody tr th {\n        vertical-align: top;\n    }\n\n    .dataframe thead th {\n        text-align: right;\n    }\n</style>\n<table border=\"1\" class=\"dataframe\">\n  <thead>\n    <tr style=\"text-align: right;\">\n      <th></th>\n      <th>constant</th>\n      <th>time</th>\n    </tr>\n  </thead>\n  <tbody>\n    <tr>\n      <th>0</th>\n      <td>92.377004</td>\n      <td>0.465963</td>\n    </tr>\n    <tr>\n      <th>1</th>\n      <td>94.549027</td>\n      <td>0.219700</td>\n    </tr>\n    <tr>\n      <th>2</th>\n      <td>94.171886</td>\n      <td>0.298749</td>\n    </tr>\n    <tr>\n      <th>3</th>\n      <td>94.087851</td>\n      <td>0.346593</td>\n    </tr>\n    <tr>\n      <th>4</th>\n      <td>93.624816</td>\n      <td>0.466219</td>\n    </tr>\n  </tbody>\n</table>\n</div>"
     },
     "metadata": {},
     "execution_count": 8
    }
   ],
   "source": [
    "from estimagic.inference import get_bootstrap_outcomes\n",
    "\n",
    "my_outcomes = get_bootstrap_outcomes(data=df, outcome=ols_fit, seed=1234)\n",
    "my_outcomes.head()"
   ]
  },
  {
   "cell_type": "markdown",
   "metadata": {},
   "source": [
    "To further compare the cluster bootstrap to the uniform bootstrap, let's plot the sampling distribution of the parameters on time. We can again see that the standard error is smaller when we cluster on the subject id. "
   ]
  },
  {
   "cell_type": "code",
   "execution_count": 9,
   "metadata": {},
   "outputs": [
    {
     "output_type": "execute_result",
     "data": {
      "text/plain": [
       "<AxesSubplot:xlabel='time', ylabel='Density'>"
      ]
     },
     "metadata": {},
     "execution_count": 9
    },
    {
     "output_type": "display_data",
     "data": {
      "text/plain": "<Figure size 432x288 with 1 Axes>",
      "image/svg+xml": "<?xml version=\"1.0\" encoding=\"utf-8\" standalone=\"no\"?>\n<!DOCTYPE svg PUBLIC \"-//W3C//DTD SVG 1.1//EN\"\n  \"http://www.w3.org/Graphics/SVG/1.1/DTD/svg11.dtd\">\n<!-- Created with matplotlib (https://matplotlib.org/) -->\n<svg height=\"262.19625pt\" version=\"1.1\" viewBox=\"0 0 385.78125 262.19625\" width=\"385.78125pt\" xmlns=\"http://www.w3.org/2000/svg\" xmlns:xlink=\"http://www.w3.org/1999/xlink\">\n <metadata>\n  <rdf:RDF xmlns:cc=\"http://creativecommons.org/ns#\" xmlns:dc=\"http://purl.org/dc/elements/1.1/\" xmlns:rdf=\"http://www.w3.org/1999/02/22-rdf-syntax-ns#\">\n   <cc:Work>\n    <dc:type rdf:resource=\"http://purl.org/dc/dcmitype/StillImage\"/>\n    <dc:date>2021-07-02T11:35:19.830815</dc:date>\n    <dc:format>image/svg+xml</dc:format>\n    <dc:creator>\n     <cc:Agent>\n      <dc:title>Matplotlib v3.3.4, https://matplotlib.org/</dc:title>\n     </cc:Agent>\n    </dc:creator>\n   </cc:Work>\n  </rdf:RDF>\n </metadata>\n <defs>\n  <style type=\"text/css\">*{stroke-linecap:butt;stroke-linejoin:round;}</style>\n </defs>\n <g id=\"figure_1\">\n  <g id=\"patch_1\">\n   <path d=\"M 0 262.19625 \nL 385.78125 262.19625 \nL 385.78125 0 \nL 0 0 \nz\n\" style=\"fill:none;\"/>\n  </g>\n  <g id=\"axes_1\">\n   <g id=\"patch_2\">\n    <path d=\"M 43.78125 224.64 \nL 378.58125 224.64 \nL 378.58125 7.2 \nL 43.78125 7.2 \nz\n\" style=\"fill:#ffffff;\"/>\n   </g>\n   <g id=\"patch_3\">\n    <path clip-path=\"url(#p70c194fa22)\" d=\"M 60.48548 224.64 \nL 71.221197 224.64 \nL 71.221197 222.609748 \nL 60.48548 222.609748 \nz\n\" style=\"fill:#1f77b4;fill-opacity:0.5;\"/>\n   </g>\n   <g id=\"patch_4\">\n    <path clip-path=\"url(#p70c194fa22)\" d=\"M 71.221197 224.64 \nL 81.956915 224.64 \nL 81.956915 218.549244 \nL 71.221197 218.549244 \nz\n\" style=\"fill:#1f77b4;fill-opacity:0.5;\"/>\n   </g>\n   <g id=\"patch_5\">\n    <path clip-path=\"url(#p70c194fa22)\" d=\"M 81.956915 224.64 \nL 92.692632 224.64 \nL 92.692632 218.549244 \nL 81.956915 218.549244 \nz\n\" style=\"fill:#1f77b4;fill-opacity:0.5;\"/>\n   </g>\n   <g id=\"patch_6\">\n    <path clip-path=\"url(#p70c194fa22)\" d=\"M 92.692632 224.64 \nL 103.42835 224.64 \nL 103.42835 214.488739 \nL 92.692632 214.488739 \nz\n\" style=\"fill:#1f77b4;fill-opacity:0.5;\"/>\n   </g>\n   <g id=\"patch_7\">\n    <path clip-path=\"url(#p70c194fa22)\" d=\"M 103.42835 224.64 \nL 114.164067 224.64 \nL 114.164067 182.004706 \nL 103.42835 182.004706 \nz\n\" style=\"fill:#1f77b4;fill-opacity:0.5;\"/>\n   </g>\n   <g id=\"patch_8\">\n    <path clip-path=\"url(#p70c194fa22)\" d=\"M 114.164067 224.64 \nL 124.899785 224.64 \nL 124.899785 184.034958 \nL 114.164067 184.034958 \nz\n\" style=\"fill:#1f77b4;fill-opacity:0.5;\"/>\n   </g>\n   <g id=\"patch_9\">\n    <path clip-path=\"url(#p70c194fa22)\" d=\"M 124.899785 224.64 \nL 135.635502 224.64 \nL 135.635502 153.581176 \nL 124.899785 153.581176 \nz\n\" style=\"fill:#1f77b4;fill-opacity:0.5;\"/>\n   </g>\n   <g id=\"patch_10\">\n    <path clip-path=\"url(#p70c194fa22)\" d=\"M 135.635502 224.64 \nL 146.37122 224.64 \nL 146.37122 125.157647 \nL 135.635502 125.157647 \nz\n\" style=\"fill:#1f77b4;fill-opacity:0.5;\"/>\n   </g>\n   <g id=\"patch_11\">\n    <path clip-path=\"url(#p70c194fa22)\" d=\"M 146.37122 224.64 \nL 157.106937 224.64 \nL 157.106937 86.582857 \nL 146.37122 86.582857 \nz\n\" style=\"fill:#1f77b4;fill-opacity:0.5;\"/>\n   </g>\n   <g id=\"patch_12\">\n    <path clip-path=\"url(#p70c194fa22)\" d=\"M 157.106937 224.64 \nL 167.842655 224.64 \nL 167.842655 39.887059 \nL 157.106937 39.887059 \nz\n\" style=\"fill:#1f77b4;fill-opacity:0.5;\"/>\n   </g>\n   <g id=\"patch_13\">\n    <path clip-path=\"url(#p70c194fa22)\" d=\"M 167.842655 224.64 \nL 178.578372 224.64 \nL 178.578372 21.61479 \nL 167.842655 21.61479 \nz\n\" style=\"fill:#1f77b4;fill-opacity:0.5;\"/>\n   </g>\n   <g id=\"patch_14\">\n    <path clip-path=\"url(#p70c194fa22)\" d=\"M 178.578372 224.64 \nL 189.31409 224.64 \nL 189.31409 17.554286 \nL 178.578372 17.554286 \nz\n\" style=\"fill:#1f77b4;fill-opacity:0.5;\"/>\n   </g>\n   <g id=\"patch_15\">\n    <path clip-path=\"url(#p70c194fa22)\" d=\"M 189.31409 224.64 \nL 200.049807 224.64 \nL 200.049807 27.705546 \nL 189.31409 27.705546 \nz\n\" style=\"fill:#1f77b4;fill-opacity:0.5;\"/>\n   </g>\n   <g id=\"patch_16\">\n    <path clip-path=\"url(#p70c194fa22)\" d=\"M 200.049807 224.64 \nL 210.785524 224.64 \nL 210.785524 54.098824 \nL 200.049807 54.098824 \nz\n\" style=\"fill:#1f77b4;fill-opacity:0.5;\"/>\n   </g>\n   <g id=\"patch_17\">\n    <path clip-path=\"url(#p70c194fa22)\" d=\"M 210.785524 224.64 \nL 221.521242 224.64 \nL 221.521242 35.826555 \nL 210.785524 35.826555 \nz\n\" style=\"fill:#1f77b4;fill-opacity:0.5;\"/>\n   </g>\n   <g id=\"patch_18\">\n    <path clip-path=\"url(#p70c194fa22)\" d=\"M 221.521242 224.64 \nL 232.256959 224.64 \nL 232.256959 72.371092 \nL 221.521242 72.371092 \nz\n\" style=\"fill:#1f77b4;fill-opacity:0.5;\"/>\n   </g>\n   <g id=\"patch_19\">\n    <path clip-path=\"url(#p70c194fa22)\" d=\"M 232.256959 224.64 \nL 242.992677 224.64 \nL 242.992677 141.399664 \nL 232.256959 141.399664 \nz\n\" style=\"fill:#1f77b4;fill-opacity:0.5;\"/>\n   </g>\n   <g id=\"patch_20\">\n    <path clip-path=\"url(#p70c194fa22)\" d=\"M 242.992677 224.64 \nL 253.728394 224.64 \nL 253.728394 163.732437 \nL 242.992677 163.732437 \nz\n\" style=\"fill:#1f77b4;fill-opacity:0.5;\"/>\n   </g>\n   <g id=\"patch_21\">\n    <path clip-path=\"url(#p70c194fa22)\" d=\"M 253.728394 224.64 \nL 264.464112 224.64 \nL 264.464112 151.550924 \nL 253.728394 151.550924 \nz\n\" style=\"fill:#1f77b4;fill-opacity:0.5;\"/>\n   </g>\n   <g id=\"patch_22\">\n    <path clip-path=\"url(#p70c194fa22)\" d=\"M 264.464112 224.64 \nL 275.199829 224.64 \nL 275.199829 177.944202 \nL 264.464112 177.944202 \nz\n\" style=\"fill:#1f77b4;fill-opacity:0.5;\"/>\n   </g>\n   <g id=\"patch_23\">\n    <path clip-path=\"url(#p70c194fa22)\" d=\"M 275.199829 224.64 \nL 285.935547 224.64 \nL 285.935547 208.397983 \nL 275.199829 208.397983 \nz\n\" style=\"fill:#1f77b4;fill-opacity:0.5;\"/>\n   </g>\n   <g id=\"patch_24\">\n    <path clip-path=\"url(#p70c194fa22)\" d=\"M 285.935547 224.64 \nL 296.671264 224.64 \nL 296.671264 214.488739 \nL 285.935547 214.488739 \nz\n\" style=\"fill:#1f77b4;fill-opacity:0.5;\"/>\n   </g>\n   <g id=\"patch_25\">\n    <path clip-path=\"url(#p70c194fa22)\" d=\"M 296.671264 224.64 \nL 307.406982 224.64 \nL 307.406982 218.549244 \nL 296.671264 218.549244 \nz\n\" style=\"fill:#1f77b4;fill-opacity:0.5;\"/>\n   </g>\n   <g id=\"patch_26\">\n    <path clip-path=\"url(#p70c194fa22)\" d=\"M 307.406982 224.64 \nL 318.142699 224.64 \nL 318.142699 218.549244 \nL 307.406982 218.549244 \nz\n\" style=\"fill:#1f77b4;fill-opacity:0.5;\"/>\n   </g>\n   <g id=\"patch_27\">\n    <path clip-path=\"url(#p70c194fa22)\" d=\"M 318.142699 224.64 \nL 328.878417 224.64 \nL 328.878417 218.549244 \nL 318.142699 218.549244 \nz\n\" style=\"fill:#1f77b4;fill-opacity:0.5;\"/>\n   </g>\n   <g id=\"patch_28\">\n    <path clip-path=\"url(#p70c194fa22)\" d=\"M 328.878417 224.64 \nL 339.614134 224.64 \nL 339.614134 222.609748 \nL 328.878417 222.609748 \nz\n\" style=\"fill:#1f77b4;fill-opacity:0.5;\"/>\n   </g>\n   <g id=\"patch_29\">\n    <path clip-path=\"url(#p70c194fa22)\" d=\"M 58.999432 224.64 \nL 74.217614 224.64 \nL 74.217614 214.614263 \nL 58.999432 214.614263 \nz\n\" style=\"fill:#ffa500;fill-opacity:0.5;\"/>\n   </g>\n   <g id=\"patch_30\">\n    <path clip-path=\"url(#p70c194fa22)\" d=\"M 74.217614 224.64 \nL 89.435795 224.64 \nL 89.435795 210.317518 \nL 74.217614 210.317518 \nz\n\" style=\"fill:#ffa500;fill-opacity:0.5;\"/>\n   </g>\n   <g id=\"patch_31\">\n    <path clip-path=\"url(#p70c194fa22)\" d=\"M 89.435795 224.64 \nL 104.653977 224.64 \nL 104.653977 193.13054 \nL 89.435795 193.13054 \nz\n\" style=\"fill:#ffa500;fill-opacity:0.5;\"/>\n   </g>\n   <g id=\"patch_32\">\n    <path clip-path=\"url(#p70c194fa22)\" d=\"M 104.653977 224.64 \nL 119.872159 224.64 \nL 119.872159 173.079066 \nL 104.653977 173.079066 \nz\n\" style=\"fill:#ffa500;fill-opacity:0.5;\"/>\n   </g>\n   <g id=\"patch_33\">\n    <path clip-path=\"url(#p70c194fa22)\" d=\"M 119.872159 224.64 \nL 135.090341 224.64 \nL 135.090341 130.111621 \nL 119.872159 130.111621 \nz\n\" style=\"fill:#ffa500;fill-opacity:0.5;\"/>\n   </g>\n   <g id=\"patch_34\">\n    <path clip-path=\"url(#p70c194fa22)\" d=\"M 135.090341 224.64 \nL 150.308523 224.64 \nL 150.308523 125.814877 \nL 135.090341 125.814877 \nz\n\" style=\"fill:#ffa500;fill-opacity:0.5;\"/>\n   </g>\n   <g id=\"patch_35\">\n    <path clip-path=\"url(#p70c194fa22)\" d=\"M 150.308523 224.64 \nL 165.526705 224.64 \nL 165.526705 68.52495 \nL 150.308523 68.52495 \nz\n\" style=\"fill:#ffa500;fill-opacity:0.5;\"/>\n   </g>\n   <g id=\"patch_36\">\n    <path clip-path=\"url(#p70c194fa22)\" d=\"M 165.526705 224.64 \nL 180.744886 224.64 \nL 180.744886 101.466658 \nL 165.526705 101.466658 \nz\n\" style=\"fill:#ffa500;fill-opacity:0.5;\"/>\n   </g>\n   <g id=\"patch_37\">\n    <path clip-path=\"url(#p70c194fa22)\" d=\"M 180.744886 224.64 \nL 195.963068 224.64 \nL 195.963068 72.821695 \nL 180.744886 72.821695 \nz\n\" style=\"fill:#ffa500;fill-opacity:0.5;\"/>\n   </g>\n   <g id=\"patch_38\">\n    <path clip-path=\"url(#p70c194fa22)\" d=\"M 195.963068 224.64 \nL 211.18125 224.64 \nL 211.18125 69.957198 \nL 195.963068 69.957198 \nz\n\" style=\"fill:#ffa500;fill-opacity:0.5;\"/>\n   </g>\n   <g id=\"patch_39\">\n    <path clip-path=\"url(#p70c194fa22)\" d=\"M 211.18125 224.64 \nL 226.399432 224.64 \nL 226.399432 79.982936 \nL 211.18125 79.982936 \nz\n\" style=\"fill:#ffa500;fill-opacity:0.5;\"/>\n   </g>\n   <g id=\"patch_40\">\n    <path clip-path=\"url(#p70c194fa22)\" d=\"M 226.399432 224.64 \nL 241.617614 224.64 \nL 241.617614 124.382629 \nL 226.399432 124.382629 \nz\n\" style=\"fill:#ffa500;fill-opacity:0.5;\"/>\n   </g>\n   <g id=\"patch_41\">\n    <path clip-path=\"url(#p70c194fa22)\" d=\"M 241.617614 224.64 \nL 256.835795 224.64 \nL 256.835795 122.95038 \nL 241.617614 122.95038 \nz\n\" style=\"fill:#ffa500;fill-opacity:0.5;\"/>\n   </g>\n   <g id=\"patch_42\">\n    <path clip-path=\"url(#p70c194fa22)\" d=\"M 256.835795 224.64 \nL 272.053977 224.64 \nL 272.053977 145.866351 \nL 256.835795 145.866351 \nz\n\" style=\"fill:#ffa500;fill-opacity:0.5;\"/>\n   </g>\n   <g id=\"patch_43\">\n    <path clip-path=\"url(#p70c194fa22)\" d=\"M 272.053977 224.64 \nL 287.272159 224.64 \nL 287.272159 170.21457 \nL 272.053977 170.21457 \nz\n\" style=\"fill:#ffa500;fill-opacity:0.5;\"/>\n   </g>\n   <g id=\"patch_44\">\n    <path clip-path=\"url(#p70c194fa22)\" d=\"M 287.272159 224.64 \nL 302.490341 224.64 \nL 302.490341 200.291781 \nL 287.272159 200.291781 \nz\n\" style=\"fill:#ffa500;fill-opacity:0.5;\"/>\n   </g>\n   <g id=\"patch_45\">\n    <path clip-path=\"url(#p70c194fa22)\" d=\"M 302.490341 224.64 \nL 317.708523 224.64 \nL 317.708523 210.317518 \nL 302.490341 210.317518 \nz\n\" style=\"fill:#ffa500;fill-opacity:0.5;\"/>\n   </g>\n   <g id=\"patch_46\">\n    <path clip-path=\"url(#p70c194fa22)\" d=\"M 317.708523 224.64 \nL 332.926705 224.64 \nL 332.926705 211.749767 \nL 317.708523 211.749767 \nz\n\" style=\"fill:#ffa500;fill-opacity:0.5;\"/>\n   </g>\n   <g id=\"patch_47\">\n    <path clip-path=\"url(#p70c194fa22)\" d=\"M 332.926705 224.64 \nL 348.144886 224.64 \nL 348.144886 216.046511 \nL 332.926705 216.046511 \nz\n\" style=\"fill:#ffa500;fill-opacity:0.5;\"/>\n   </g>\n   <g id=\"patch_48\">\n    <path clip-path=\"url(#p70c194fa22)\" d=\"M 348.144886 224.64 \nL 363.363068 224.64 \nL 363.363068 218.911007 \nL 348.144886 218.911007 \nz\n\" style=\"fill:#ffa500;fill-opacity:0.5;\"/>\n   </g>\n   <g id=\"matplotlib.axis_1\">\n    <g id=\"xtick_1\">\n     <g id=\"line2d_1\">\n      <defs>\n       <path d=\"M 0 0 \nL 0 3.5 \n\" id=\"mb8d63cda8e\" style=\"stroke:#000000;stroke-width:0.8;\"/>\n      </defs>\n      <g>\n       <use style=\"stroke:#000000;stroke-width:0.8;\" x=\"71.710794\" xlink:href=\"#mb8d63cda8e\" y=\"224.64\"/>\n      </g>\n     </g>\n     <g id=\"text_1\">\n      <!-- 0.1 -->\n      <g transform=\"translate(63.759231 239.238437)scale(0.1 -0.1)\">\n       <defs>\n        <path d=\"M 31.78125 66.40625 \nQ 24.171875 66.40625 20.328125 58.90625 \nQ 16.5 51.421875 16.5 36.375 \nQ 16.5 21.390625 20.328125 13.890625 \nQ 24.171875 6.390625 31.78125 6.390625 \nQ 39.453125 6.390625 43.28125 13.890625 \nQ 47.125 21.390625 47.125 36.375 \nQ 47.125 51.421875 43.28125 58.90625 \nQ 39.453125 66.40625 31.78125 66.40625 \nz\nM 31.78125 74.21875 \nQ 44.046875 74.21875 50.515625 64.515625 \nQ 56.984375 54.828125 56.984375 36.375 \nQ 56.984375 17.96875 50.515625 8.265625 \nQ 44.046875 -1.421875 31.78125 -1.421875 \nQ 19.53125 -1.421875 13.0625 8.265625 \nQ 6.59375 17.96875 6.59375 36.375 \nQ 6.59375 54.828125 13.0625 64.515625 \nQ 19.53125 74.21875 31.78125 74.21875 \nz\n\" id=\"DejaVuSans-48\"/>\n        <path d=\"M 10.6875 12.40625 \nL 21 12.40625 \nL 21 0 \nL 10.6875 0 \nz\n\" id=\"DejaVuSans-46\"/>\n        <path d=\"M 12.40625 8.296875 \nL 28.515625 8.296875 \nL 28.515625 63.921875 \nL 10.984375 60.40625 \nL 10.984375 69.390625 \nL 28.421875 72.90625 \nL 38.28125 72.90625 \nL 38.28125 8.296875 \nL 54.390625 8.296875 \nL 54.390625 0 \nL 12.40625 0 \nz\n\" id=\"DejaVuSans-49\"/>\n       </defs>\n       <use xlink:href=\"#DejaVuSans-48\"/>\n       <use x=\"63.623047\" xlink:href=\"#DejaVuSans-46\"/>\n       <use x=\"95.410156\" xlink:href=\"#DejaVuSans-49\"/>\n      </g>\n     </g>\n    </g>\n    <g id=\"xtick_2\">\n     <g id=\"line2d_2\">\n      <g>\n       <use style=\"stroke:#000000;stroke-width:0.8;\" x=\"114.209832\" xlink:href=\"#mb8d63cda8e\" y=\"224.64\"/>\n      </g>\n     </g>\n     <g id=\"text_2\">\n      <!-- 0.2 -->\n      <g transform=\"translate(106.258269 239.238437)scale(0.1 -0.1)\">\n       <defs>\n        <path d=\"M 19.1875 8.296875 \nL 53.609375 8.296875 \nL 53.609375 0 \nL 7.328125 0 \nL 7.328125 8.296875 \nQ 12.9375 14.109375 22.625 23.890625 \nQ 32.328125 33.6875 34.8125 36.53125 \nQ 39.546875 41.84375 41.421875 45.53125 \nQ 43.3125 49.21875 43.3125 52.78125 \nQ 43.3125 58.59375 39.234375 62.25 \nQ 35.15625 65.921875 28.609375 65.921875 \nQ 23.96875 65.921875 18.8125 64.3125 \nQ 13.671875 62.703125 7.8125 59.421875 \nL 7.8125 69.390625 \nQ 13.765625 71.78125 18.9375 73 \nQ 24.125 74.21875 28.421875 74.21875 \nQ 39.75 74.21875 46.484375 68.546875 \nQ 53.21875 62.890625 53.21875 53.421875 \nQ 53.21875 48.921875 51.53125 44.890625 \nQ 49.859375 40.875 45.40625 35.40625 \nQ 44.1875 33.984375 37.640625 27.21875 \nQ 31.109375 20.453125 19.1875 8.296875 \nz\n\" id=\"DejaVuSans-50\"/>\n       </defs>\n       <use xlink:href=\"#DejaVuSans-48\"/>\n       <use x=\"63.623047\" xlink:href=\"#DejaVuSans-46\"/>\n       <use x=\"95.410156\" xlink:href=\"#DejaVuSans-50\"/>\n      </g>\n     </g>\n    </g>\n    <g id=\"xtick_3\">\n     <g id=\"line2d_3\">\n      <g>\n       <use style=\"stroke:#000000;stroke-width:0.8;\" x=\"156.70887\" xlink:href=\"#mb8d63cda8e\" y=\"224.64\"/>\n      </g>\n     </g>\n     <g id=\"text_3\">\n      <!-- 0.3 -->\n      <g transform=\"translate(148.757308 239.238437)scale(0.1 -0.1)\">\n       <defs>\n        <path d=\"M 40.578125 39.3125 \nQ 47.65625 37.796875 51.625 33 \nQ 55.609375 28.21875 55.609375 21.1875 \nQ 55.609375 10.40625 48.1875 4.484375 \nQ 40.765625 -1.421875 27.09375 -1.421875 \nQ 22.515625 -1.421875 17.65625 -0.515625 \nQ 12.796875 0.390625 7.625 2.203125 \nL 7.625 11.71875 \nQ 11.71875 9.328125 16.59375 8.109375 \nQ 21.484375 6.890625 26.8125 6.890625 \nQ 36.078125 6.890625 40.9375 10.546875 \nQ 45.796875 14.203125 45.796875 21.1875 \nQ 45.796875 27.640625 41.28125 31.265625 \nQ 36.765625 34.90625 28.71875 34.90625 \nL 20.21875 34.90625 \nL 20.21875 43.015625 \nL 29.109375 43.015625 \nQ 36.375 43.015625 40.234375 45.921875 \nQ 44.09375 48.828125 44.09375 54.296875 \nQ 44.09375 59.90625 40.109375 62.90625 \nQ 36.140625 65.921875 28.71875 65.921875 \nQ 24.65625 65.921875 20.015625 65.03125 \nQ 15.375 64.15625 9.8125 62.3125 \nL 9.8125 71.09375 \nQ 15.4375 72.65625 20.34375 73.4375 \nQ 25.25 74.21875 29.59375 74.21875 \nQ 40.828125 74.21875 47.359375 69.109375 \nQ 53.90625 64.015625 53.90625 55.328125 \nQ 53.90625 49.265625 50.4375 45.09375 \nQ 46.96875 40.921875 40.578125 39.3125 \nz\n\" id=\"DejaVuSans-51\"/>\n       </defs>\n       <use xlink:href=\"#DejaVuSans-48\"/>\n       <use x=\"63.623047\" xlink:href=\"#DejaVuSans-46\"/>\n       <use x=\"95.410156\" xlink:href=\"#DejaVuSans-51\"/>\n      </g>\n     </g>\n    </g>\n    <g id=\"xtick_4\">\n     <g id=\"line2d_4\">\n      <g>\n       <use style=\"stroke:#000000;stroke-width:0.8;\" x=\"199.207908\" xlink:href=\"#mb8d63cda8e\" y=\"224.64\"/>\n      </g>\n     </g>\n     <g id=\"text_4\">\n      <!-- 0.4 -->\n      <g transform=\"translate(191.256346 239.238437)scale(0.1 -0.1)\">\n       <defs>\n        <path d=\"M 37.796875 64.3125 \nL 12.890625 25.390625 \nL 37.796875 25.390625 \nz\nM 35.203125 72.90625 \nL 47.609375 72.90625 \nL 47.609375 25.390625 \nL 58.015625 25.390625 \nL 58.015625 17.1875 \nL 47.609375 17.1875 \nL 47.609375 0 \nL 37.796875 0 \nL 37.796875 17.1875 \nL 4.890625 17.1875 \nL 4.890625 26.703125 \nz\n\" id=\"DejaVuSans-52\"/>\n       </defs>\n       <use xlink:href=\"#DejaVuSans-48\"/>\n       <use x=\"63.623047\" xlink:href=\"#DejaVuSans-46\"/>\n       <use x=\"95.410156\" xlink:href=\"#DejaVuSans-52\"/>\n      </g>\n     </g>\n    </g>\n    <g id=\"xtick_5\">\n     <g id=\"line2d_5\">\n      <g>\n       <use style=\"stroke:#000000;stroke-width:0.8;\" x=\"241.706947\" xlink:href=\"#mb8d63cda8e\" y=\"224.64\"/>\n      </g>\n     </g>\n     <g id=\"text_5\">\n      <!-- 0.5 -->\n      <g transform=\"translate(233.755384 239.238437)scale(0.1 -0.1)\">\n       <defs>\n        <path d=\"M 10.796875 72.90625 \nL 49.515625 72.90625 \nL 49.515625 64.59375 \nL 19.828125 64.59375 \nL 19.828125 46.734375 \nQ 21.96875 47.46875 24.109375 47.828125 \nQ 26.265625 48.1875 28.421875 48.1875 \nQ 40.625 48.1875 47.75 41.5 \nQ 54.890625 34.8125 54.890625 23.390625 \nQ 54.890625 11.625 47.5625 5.09375 \nQ 40.234375 -1.421875 26.90625 -1.421875 \nQ 22.3125 -1.421875 17.546875 -0.640625 \nQ 12.796875 0.140625 7.71875 1.703125 \nL 7.71875 11.625 \nQ 12.109375 9.234375 16.796875 8.0625 \nQ 21.484375 6.890625 26.703125 6.890625 \nQ 35.15625 6.890625 40.078125 11.328125 \nQ 45.015625 15.765625 45.015625 23.390625 \nQ 45.015625 31 40.078125 35.4375 \nQ 35.15625 39.890625 26.703125 39.890625 \nQ 22.75 39.890625 18.8125 39.015625 \nQ 14.890625 38.140625 10.796875 36.28125 \nz\n\" id=\"DejaVuSans-53\"/>\n       </defs>\n       <use xlink:href=\"#DejaVuSans-48\"/>\n       <use x=\"63.623047\" xlink:href=\"#DejaVuSans-46\"/>\n       <use x=\"95.410156\" xlink:href=\"#DejaVuSans-53\"/>\n      </g>\n     </g>\n    </g>\n    <g id=\"xtick_6\">\n     <g id=\"line2d_6\">\n      <g>\n       <use style=\"stroke:#000000;stroke-width:0.8;\" x=\"284.205985\" xlink:href=\"#mb8d63cda8e\" y=\"224.64\"/>\n      </g>\n     </g>\n     <g id=\"text_6\">\n      <!-- 0.6 -->\n      <g transform=\"translate(276.254422 239.238437)scale(0.1 -0.1)\">\n       <defs>\n        <path d=\"M 33.015625 40.375 \nQ 26.375 40.375 22.484375 35.828125 \nQ 18.609375 31.296875 18.609375 23.390625 \nQ 18.609375 15.53125 22.484375 10.953125 \nQ 26.375 6.390625 33.015625 6.390625 \nQ 39.65625 6.390625 43.53125 10.953125 \nQ 47.40625 15.53125 47.40625 23.390625 \nQ 47.40625 31.296875 43.53125 35.828125 \nQ 39.65625 40.375 33.015625 40.375 \nz\nM 52.59375 71.296875 \nL 52.59375 62.3125 \nQ 48.875 64.0625 45.09375 64.984375 \nQ 41.3125 65.921875 37.59375 65.921875 \nQ 27.828125 65.921875 22.671875 59.328125 \nQ 17.53125 52.734375 16.796875 39.40625 \nQ 19.671875 43.65625 24.015625 45.921875 \nQ 28.375 48.1875 33.59375 48.1875 \nQ 44.578125 48.1875 50.953125 41.515625 \nQ 57.328125 34.859375 57.328125 23.390625 \nQ 57.328125 12.15625 50.6875 5.359375 \nQ 44.046875 -1.421875 33.015625 -1.421875 \nQ 20.359375 -1.421875 13.671875 8.265625 \nQ 6.984375 17.96875 6.984375 36.375 \nQ 6.984375 53.65625 15.1875 63.9375 \nQ 23.390625 74.21875 37.203125 74.21875 \nQ 40.921875 74.21875 44.703125 73.484375 \nQ 48.484375 72.75 52.59375 71.296875 \nz\n\" id=\"DejaVuSans-54\"/>\n       </defs>\n       <use xlink:href=\"#DejaVuSans-48\"/>\n       <use x=\"63.623047\" xlink:href=\"#DejaVuSans-46\"/>\n       <use x=\"95.410156\" xlink:href=\"#DejaVuSans-54\"/>\n      </g>\n     </g>\n    </g>\n    <g id=\"xtick_7\">\n     <g id=\"line2d_7\">\n      <g>\n       <use style=\"stroke:#000000;stroke-width:0.8;\" x=\"326.705023\" xlink:href=\"#mb8d63cda8e\" y=\"224.64\"/>\n      </g>\n     </g>\n     <g id=\"text_7\">\n      <!-- 0.7 -->\n      <g transform=\"translate(318.753461 239.238437)scale(0.1 -0.1)\">\n       <defs>\n        <path d=\"M 8.203125 72.90625 \nL 55.078125 72.90625 \nL 55.078125 68.703125 \nL 28.609375 0 \nL 18.3125 0 \nL 43.21875 64.59375 \nL 8.203125 64.59375 \nz\n\" id=\"DejaVuSans-55\"/>\n       </defs>\n       <use xlink:href=\"#DejaVuSans-48\"/>\n       <use x=\"63.623047\" xlink:href=\"#DejaVuSans-46\"/>\n       <use x=\"95.410156\" xlink:href=\"#DejaVuSans-55\"/>\n      </g>\n     </g>\n    </g>\n    <g id=\"xtick_8\">\n     <g id=\"line2d_8\">\n      <g>\n       <use style=\"stroke:#000000;stroke-width:0.8;\" x=\"369.204061\" xlink:href=\"#mb8d63cda8e\" y=\"224.64\"/>\n      </g>\n     </g>\n     <g id=\"text_8\">\n      <!-- 0.8 -->\n      <g transform=\"translate(361.252499 239.238437)scale(0.1 -0.1)\">\n       <defs>\n        <path d=\"M 31.78125 34.625 \nQ 24.75 34.625 20.71875 30.859375 \nQ 16.703125 27.09375 16.703125 20.515625 \nQ 16.703125 13.921875 20.71875 10.15625 \nQ 24.75 6.390625 31.78125 6.390625 \nQ 38.8125 6.390625 42.859375 10.171875 \nQ 46.921875 13.96875 46.921875 20.515625 \nQ 46.921875 27.09375 42.890625 30.859375 \nQ 38.875 34.625 31.78125 34.625 \nz\nM 21.921875 38.8125 \nQ 15.578125 40.375 12.03125 44.71875 \nQ 8.5 49.078125 8.5 55.328125 \nQ 8.5 64.0625 14.71875 69.140625 \nQ 20.953125 74.21875 31.78125 74.21875 \nQ 42.671875 74.21875 48.875 69.140625 \nQ 55.078125 64.0625 55.078125 55.328125 \nQ 55.078125 49.078125 51.53125 44.71875 \nQ 48 40.375 41.703125 38.8125 \nQ 48.828125 37.15625 52.796875 32.3125 \nQ 56.78125 27.484375 56.78125 20.515625 \nQ 56.78125 9.90625 50.3125 4.234375 \nQ 43.84375 -1.421875 31.78125 -1.421875 \nQ 19.734375 -1.421875 13.25 4.234375 \nQ 6.78125 9.90625 6.78125 20.515625 \nQ 6.78125 27.484375 10.78125 32.3125 \nQ 14.796875 37.15625 21.921875 38.8125 \nz\nM 18.3125 54.390625 \nQ 18.3125 48.734375 21.84375 45.5625 \nQ 25.390625 42.390625 31.78125 42.390625 \nQ 38.140625 42.390625 41.71875 45.5625 \nQ 45.3125 48.734375 45.3125 54.390625 \nQ 45.3125 60.0625 41.71875 63.234375 \nQ 38.140625 66.40625 31.78125 66.40625 \nQ 25.390625 66.40625 21.84375 63.234375 \nQ 18.3125 60.0625 18.3125 54.390625 \nz\n\" id=\"DejaVuSans-56\"/>\n       </defs>\n       <use xlink:href=\"#DejaVuSans-48\"/>\n       <use x=\"63.623047\" xlink:href=\"#DejaVuSans-46\"/>\n       <use x=\"95.410156\" xlink:href=\"#DejaVuSans-56\"/>\n      </g>\n     </g>\n    </g>\n    <g id=\"text_9\">\n     <!-- time -->\n     <g transform=\"translate(199.885156 252.916562)scale(0.1 -0.1)\">\n      <defs>\n       <path d=\"M 18.3125 70.21875 \nL 18.3125 54.6875 \nL 36.8125 54.6875 \nL 36.8125 47.703125 \nL 18.3125 47.703125 \nL 18.3125 18.015625 \nQ 18.3125 11.328125 20.140625 9.421875 \nQ 21.96875 7.515625 27.59375 7.515625 \nL 36.8125 7.515625 \nL 36.8125 0 \nL 27.59375 0 \nQ 17.1875 0 13.234375 3.875 \nQ 9.28125 7.765625 9.28125 18.015625 \nL 9.28125 47.703125 \nL 2.6875 47.703125 \nL 2.6875 54.6875 \nL 9.28125 54.6875 \nL 9.28125 70.21875 \nz\n\" id=\"DejaVuSans-116\"/>\n       <path d=\"M 9.421875 54.6875 \nL 18.40625 54.6875 \nL 18.40625 0 \nL 9.421875 0 \nz\nM 9.421875 75.984375 \nL 18.40625 75.984375 \nL 18.40625 64.59375 \nL 9.421875 64.59375 \nz\n\" id=\"DejaVuSans-105\"/>\n       <path d=\"M 52 44.1875 \nQ 55.375 50.25 60.0625 53.125 \nQ 64.75 56 71.09375 56 \nQ 79.640625 56 84.28125 50.015625 \nQ 88.921875 44.046875 88.921875 33.015625 \nL 88.921875 0 \nL 79.890625 0 \nL 79.890625 32.71875 \nQ 79.890625 40.578125 77.09375 44.375 \nQ 74.3125 48.1875 68.609375 48.1875 \nQ 61.625 48.1875 57.5625 43.546875 \nQ 53.515625 38.921875 53.515625 30.90625 \nL 53.515625 0 \nL 44.484375 0 \nL 44.484375 32.71875 \nQ 44.484375 40.625 41.703125 44.40625 \nQ 38.921875 48.1875 33.109375 48.1875 \nQ 26.21875 48.1875 22.15625 43.53125 \nQ 18.109375 38.875 18.109375 30.90625 \nL 18.109375 0 \nL 9.078125 0 \nL 9.078125 54.6875 \nL 18.109375 54.6875 \nL 18.109375 46.1875 \nQ 21.1875 51.21875 25.484375 53.609375 \nQ 29.78125 56 35.6875 56 \nQ 41.65625 56 45.828125 52.96875 \nQ 50 49.953125 52 44.1875 \nz\n\" id=\"DejaVuSans-109\"/>\n       <path d=\"M 56.203125 29.59375 \nL 56.203125 25.203125 \nL 14.890625 25.203125 \nQ 15.484375 15.921875 20.484375 11.0625 \nQ 25.484375 6.203125 34.421875 6.203125 \nQ 39.59375 6.203125 44.453125 7.46875 \nQ 49.3125 8.734375 54.109375 11.28125 \nL 54.109375 2.78125 \nQ 49.265625 0.734375 44.1875 -0.34375 \nQ 39.109375 -1.421875 33.890625 -1.421875 \nQ 20.796875 -1.421875 13.15625 6.1875 \nQ 5.515625 13.8125 5.515625 26.8125 \nQ 5.515625 40.234375 12.765625 48.109375 \nQ 20.015625 56 32.328125 56 \nQ 43.359375 56 49.78125 48.890625 \nQ 56.203125 41.796875 56.203125 29.59375 \nz\nM 47.21875 32.234375 \nQ 47.125 39.59375 43.09375 43.984375 \nQ 39.0625 48.390625 32.421875 48.390625 \nQ 24.90625 48.390625 20.390625 44.140625 \nQ 15.875 39.890625 15.1875 32.171875 \nz\n\" id=\"DejaVuSans-101\"/>\n      </defs>\n      <use xlink:href=\"#DejaVuSans-116\"/>\n      <use x=\"39.208984\" xlink:href=\"#DejaVuSans-105\"/>\n      <use x=\"66.992188\" xlink:href=\"#DejaVuSans-109\"/>\n      <use x=\"164.404297\" xlink:href=\"#DejaVuSans-101\"/>\n     </g>\n    </g>\n   </g>\n   <g id=\"matplotlib.axis_2\">\n    <g id=\"ytick_1\">\n     <g id=\"line2d_9\">\n      <defs>\n       <path d=\"M 0 0 \nL -3.5 0 \n\" id=\"m3ced35a3ba\" style=\"stroke:#000000;stroke-width:0.8;\"/>\n      </defs>\n      <g>\n       <use style=\"stroke:#000000;stroke-width:0.8;\" x=\"43.78125\" xlink:href=\"#m3ced35a3ba\" y=\"224.64\"/>\n      </g>\n     </g>\n     <g id=\"text_10\">\n      <!-- 0.0 -->\n      <g transform=\"translate(20.878125 228.439219)scale(0.1 -0.1)\">\n       <use xlink:href=\"#DejaVuSans-48\"/>\n       <use x=\"63.623047\" xlink:href=\"#DejaVuSans-46\"/>\n       <use x=\"95.410156\" xlink:href=\"#DejaVuSans-48\"/>\n      </g>\n     </g>\n    </g>\n    <g id=\"ytick_2\">\n     <g id=\"line2d_10\">\n      <g>\n       <use style=\"stroke:#000000;stroke-width:0.8;\" x=\"43.78125\" xlink:href=\"#m3ced35a3ba\" y=\"198.996816\"/>\n      </g>\n     </g>\n     <g id=\"text_11\">\n      <!-- 0.5 -->\n      <g transform=\"translate(20.878125 202.796035)scale(0.1 -0.1)\">\n       <use xlink:href=\"#DejaVuSans-48\"/>\n       <use x=\"63.623047\" xlink:href=\"#DejaVuSans-46\"/>\n       <use x=\"95.410156\" xlink:href=\"#DejaVuSans-53\"/>\n      </g>\n     </g>\n    </g>\n    <g id=\"ytick_3\">\n     <g id=\"line2d_11\">\n      <g>\n       <use style=\"stroke:#000000;stroke-width:0.8;\" x=\"43.78125\" xlink:href=\"#m3ced35a3ba\" y=\"173.353632\"/>\n      </g>\n     </g>\n     <g id=\"text_12\">\n      <!-- 1.0 -->\n      <g transform=\"translate(20.878125 177.152851)scale(0.1 -0.1)\">\n       <use xlink:href=\"#DejaVuSans-49\"/>\n       <use x=\"63.623047\" xlink:href=\"#DejaVuSans-46\"/>\n       <use x=\"95.410156\" xlink:href=\"#DejaVuSans-48\"/>\n      </g>\n     </g>\n    </g>\n    <g id=\"ytick_4\">\n     <g id=\"line2d_12\">\n      <g>\n       <use style=\"stroke:#000000;stroke-width:0.8;\" x=\"43.78125\" xlink:href=\"#m3ced35a3ba\" y=\"147.710449\"/>\n      </g>\n     </g>\n     <g id=\"text_13\">\n      <!-- 1.5 -->\n      <g transform=\"translate(20.878125 151.509667)scale(0.1 -0.1)\">\n       <use xlink:href=\"#DejaVuSans-49\"/>\n       <use x=\"63.623047\" xlink:href=\"#DejaVuSans-46\"/>\n       <use x=\"95.410156\" xlink:href=\"#DejaVuSans-53\"/>\n      </g>\n     </g>\n    </g>\n    <g id=\"ytick_5\">\n     <g id=\"line2d_13\">\n      <g>\n       <use style=\"stroke:#000000;stroke-width:0.8;\" x=\"43.78125\" xlink:href=\"#m3ced35a3ba\" y=\"122.067265\"/>\n      </g>\n     </g>\n     <g id=\"text_14\">\n      <!-- 2.0 -->\n      <g transform=\"translate(20.878125 125.866484)scale(0.1 -0.1)\">\n       <use xlink:href=\"#DejaVuSans-50\"/>\n       <use x=\"63.623047\" xlink:href=\"#DejaVuSans-46\"/>\n       <use x=\"95.410156\" xlink:href=\"#DejaVuSans-48\"/>\n      </g>\n     </g>\n    </g>\n    <g id=\"ytick_6\">\n     <g id=\"line2d_14\">\n      <g>\n       <use style=\"stroke:#000000;stroke-width:0.8;\" x=\"43.78125\" xlink:href=\"#m3ced35a3ba\" y=\"96.424081\"/>\n      </g>\n     </g>\n     <g id=\"text_15\">\n      <!-- 2.5 -->\n      <g transform=\"translate(20.878125 100.2233)scale(0.1 -0.1)\">\n       <use xlink:href=\"#DejaVuSans-50\"/>\n       <use x=\"63.623047\" xlink:href=\"#DejaVuSans-46\"/>\n       <use x=\"95.410156\" xlink:href=\"#DejaVuSans-53\"/>\n      </g>\n     </g>\n    </g>\n    <g id=\"ytick_7\">\n     <g id=\"line2d_15\">\n      <g>\n       <use style=\"stroke:#000000;stroke-width:0.8;\" x=\"43.78125\" xlink:href=\"#m3ced35a3ba\" y=\"70.780897\"/>\n      </g>\n     </g>\n     <g id=\"text_16\">\n      <!-- 3.0 -->\n      <g transform=\"translate(20.878125 74.580116)scale(0.1 -0.1)\">\n       <use xlink:href=\"#DejaVuSans-51\"/>\n       <use x=\"63.623047\" xlink:href=\"#DejaVuSans-46\"/>\n       <use x=\"95.410156\" xlink:href=\"#DejaVuSans-48\"/>\n      </g>\n     </g>\n    </g>\n    <g id=\"ytick_8\">\n     <g id=\"line2d_16\">\n      <g>\n       <use style=\"stroke:#000000;stroke-width:0.8;\" x=\"43.78125\" xlink:href=\"#m3ced35a3ba\" y=\"45.137714\"/>\n      </g>\n     </g>\n     <g id=\"text_17\">\n      <!-- 3.5 -->\n      <g transform=\"translate(20.878125 48.936932)scale(0.1 -0.1)\">\n       <use xlink:href=\"#DejaVuSans-51\"/>\n       <use x=\"63.623047\" xlink:href=\"#DejaVuSans-46\"/>\n       <use x=\"95.410156\" xlink:href=\"#DejaVuSans-53\"/>\n      </g>\n     </g>\n    </g>\n    <g id=\"ytick_9\">\n     <g id=\"line2d_17\">\n      <g>\n       <use style=\"stroke:#000000;stroke-width:0.8;\" x=\"43.78125\" xlink:href=\"#m3ced35a3ba\" y=\"19.49453\"/>\n      </g>\n     </g>\n     <g id=\"text_18\">\n      <!-- 4.0 -->\n      <g transform=\"translate(20.878125 23.293749)scale(0.1 -0.1)\">\n       <use xlink:href=\"#DejaVuSans-52\"/>\n       <use x=\"63.623047\" xlink:href=\"#DejaVuSans-46\"/>\n       <use x=\"95.410156\" xlink:href=\"#DejaVuSans-48\"/>\n      </g>\n     </g>\n    </g>\n    <g id=\"text_19\">\n     <!-- Density -->\n     <g transform=\"translate(14.798438 134.928594)rotate(-90)scale(0.1 -0.1)\">\n      <defs>\n       <path d=\"M 19.671875 64.796875 \nL 19.671875 8.109375 \nL 31.59375 8.109375 \nQ 46.6875 8.109375 53.6875 14.9375 \nQ 60.6875 21.78125 60.6875 36.53125 \nQ 60.6875 51.171875 53.6875 57.984375 \nQ 46.6875 64.796875 31.59375 64.796875 \nz\nM 9.8125 72.90625 \nL 30.078125 72.90625 \nQ 51.265625 72.90625 61.171875 64.09375 \nQ 71.09375 55.28125 71.09375 36.53125 \nQ 71.09375 17.671875 61.125 8.828125 \nQ 51.171875 0 30.078125 0 \nL 9.8125 0 \nz\n\" id=\"DejaVuSans-68\"/>\n       <path d=\"M 54.890625 33.015625 \nL 54.890625 0 \nL 45.90625 0 \nL 45.90625 32.71875 \nQ 45.90625 40.484375 42.875 44.328125 \nQ 39.84375 48.1875 33.796875 48.1875 \nQ 26.515625 48.1875 22.3125 43.546875 \nQ 18.109375 38.921875 18.109375 30.90625 \nL 18.109375 0 \nL 9.078125 0 \nL 9.078125 54.6875 \nL 18.109375 54.6875 \nL 18.109375 46.1875 \nQ 21.34375 51.125 25.703125 53.5625 \nQ 30.078125 56 35.796875 56 \nQ 45.21875 56 50.046875 50.171875 \nQ 54.890625 44.34375 54.890625 33.015625 \nz\n\" id=\"DejaVuSans-110\"/>\n       <path d=\"M 44.28125 53.078125 \nL 44.28125 44.578125 \nQ 40.484375 46.53125 36.375 47.5 \nQ 32.28125 48.484375 27.875 48.484375 \nQ 21.1875 48.484375 17.84375 46.4375 \nQ 14.5 44.390625 14.5 40.28125 \nQ 14.5 37.15625 16.890625 35.375 \nQ 19.28125 33.59375 26.515625 31.984375 \nL 29.59375 31.296875 \nQ 39.15625 29.25 43.1875 25.515625 \nQ 47.21875 21.78125 47.21875 15.09375 \nQ 47.21875 7.46875 41.1875 3.015625 \nQ 35.15625 -1.421875 24.609375 -1.421875 \nQ 20.21875 -1.421875 15.453125 -0.5625 \nQ 10.6875 0.296875 5.421875 2 \nL 5.421875 11.28125 \nQ 10.40625 8.6875 15.234375 7.390625 \nQ 20.0625 6.109375 24.8125 6.109375 \nQ 31.15625 6.109375 34.5625 8.28125 \nQ 37.984375 10.453125 37.984375 14.40625 \nQ 37.984375 18.0625 35.515625 20.015625 \nQ 33.0625 21.96875 24.703125 23.78125 \nL 21.578125 24.515625 \nQ 13.234375 26.265625 9.515625 29.90625 \nQ 5.8125 33.546875 5.8125 39.890625 \nQ 5.8125 47.609375 11.28125 51.796875 \nQ 16.75 56 26.8125 56 \nQ 31.78125 56 36.171875 55.265625 \nQ 40.578125 54.546875 44.28125 53.078125 \nz\n\" id=\"DejaVuSans-115\"/>\n       <path d=\"M 32.171875 -5.078125 \nQ 28.375 -14.84375 24.75 -17.8125 \nQ 21.140625 -20.796875 15.09375 -20.796875 \nL 7.90625 -20.796875 \nL 7.90625 -13.28125 \nL 13.1875 -13.28125 \nQ 16.890625 -13.28125 18.9375 -11.515625 \nQ 21 -9.765625 23.484375 -3.21875 \nL 25.09375 0.875 \nL 2.984375 54.6875 \nL 12.5 54.6875 \nL 29.59375 11.921875 \nL 46.6875 54.6875 \nL 56.203125 54.6875 \nz\n\" id=\"DejaVuSans-121\"/>\n      </defs>\n      <use xlink:href=\"#DejaVuSans-68\"/>\n      <use x=\"77.001953\" xlink:href=\"#DejaVuSans-101\"/>\n      <use x=\"138.525391\" xlink:href=\"#DejaVuSans-110\"/>\n      <use x=\"201.904297\" xlink:href=\"#DejaVuSans-115\"/>\n      <use x=\"254.003906\" xlink:href=\"#DejaVuSans-105\"/>\n      <use x=\"281.787109\" xlink:href=\"#DejaVuSans-116\"/>\n      <use x=\"320.996094\" xlink:href=\"#DejaVuSans-121\"/>\n     </g>\n    </g>\n   </g>\n   <g id=\"line2d_18\">\n    <path clip-path=\"url(#p70c194fa22)\" d=\"M 60.48548 222.933339 \nL 66.096106 222.087012 \nL 71.706732 221.005227 \nL 77.317359 219.673302 \nL 81.525328 218.425144 \nL 84.330641 217.368653 \nL 87.135954 216.023728 \nL 89.941268 214.285133 \nL 92.746581 212.064174 \nL 95.551894 209.3155 \nL 98.357207 206.055341 \nL 101.16252 202.361985 \nL 105.37049 196.271791 \nL 110.981116 187.646845 \nL 115.189085 180.842019 \nL 117.994399 175.99178 \nL 120.799712 170.772888 \nL 123.605025 165.134467 \nL 126.410338 159.092471 \nL 130.618308 149.414008 \nL 134.826277 139.128651 \nL 137.63159 131.865032 \nL 140.436903 124.12401 \nL 143.242217 115.764007 \nL 146.04753 106.721558 \nL 150.255499 92.0935 \nL 155.866126 72.123984 \nL 158.671439 62.773706 \nL 161.476752 54.260586 \nL 164.282065 46.760684 \nL 167.087378 40.345072 \nL 168.490035 37.546771 \nL 169.892691 35.018994 \nL 171.295348 32.759696 \nL 172.698004 30.767739 \nL 174.100661 29.043253 \nL 175.503317 27.587501 \nL 176.905974 26.402319 \nL 178.30863 25.489188 \nL 179.711287 24.848093 \nL 181.113944 24.476305 \nL 182.5166 24.367247 \nL 183.919257 24.509593 \nL 185.321913 24.886704 \nL 186.72457 25.476512 \nL 188.127226 26.251869 \nL 190.932539 28.230665 \nL 195.140509 31.745528 \nL 199.348479 35.203985 \nL 207.764418 41.580027 \nL 209.167075 42.888885 \nL 210.569731 44.389293 \nL 211.972388 46.129186 \nL 213.375044 48.152044 \nL 214.777701 50.494451 \nL 216.180357 53.184107 \nL 217.583014 56.238364 \nL 218.98567 59.663317 \nL 220.388327 63.453403 \nL 223.19364 72.049396 \nL 225.998953 81.762269 \nL 230.206923 97.51639 \nL 234.414893 113.204283 \nL 237.220206 122.846071 \nL 240.025519 131.439776 \nL 242.830832 138.822765 \nL 244.233488 142.055102 \nL 245.636145 144.997902 \nL 248.441458 150.112436 \nL 251.246771 154.418852 \nL 254.052084 158.226101 \nL 259.662711 165.550673 \nL 262.468024 169.518902 \nL 265.273337 173.828713 \nL 269.481306 180.847441 \nL 276.494589 192.875601 \nL 279.299902 197.332688 \nL 282.105215 201.400315 \nL 284.910528 205.012206 \nL 287.715842 208.14223 \nL 290.521155 210.794424 \nL 293.326468 212.99181 \nL 296.131781 214.767546 \nL 298.937094 216.160345 \nL 301.742407 217.214125 \nL 304.54772 217.980015 \nL 307.353033 218.517835 \nL 311.561003 219.044276 \nL 322.782255 220.221519 \nL 329.795538 221.320444 \nL 339.614134 222.864081 \nL 339.614134 222.864081 \n\" style=\"fill:none;stroke:#1f77b4;stroke-linecap:square;stroke-width:1.5;\"/>\n   </g>\n   <g id=\"line2d_19\">\n    <path clip-path=\"url(#p70c194fa22)\" d=\"M 58.999432 219.340887 \nL 63.587828 217.592516 \nL 68.176225 215.594773 \nL 72.764621 213.302111 \nL 75.823552 211.576263 \nL 78.882483 209.666107 \nL 81.941414 207.546496 \nL 85.000345 205.186397 \nL 88.059276 202.544495 \nL 91.118208 199.567013 \nL 94.177139 196.190789 \nL 97.23607 192.353095 \nL 100.295001 188.007084 \nL 103.353932 183.139012 \nL 106.412863 177.781808 \nL 109.471794 172.019773 \nL 115.589656 159.82103 \nL 121.707518 147.724628 \nL 126.295914 139.233852 \nL 130.884311 131.315783 \nL 137.002173 121.372779 \nL 143.120035 111.866632 \nL 146.178966 107.374743 \nL 149.237897 103.220636 \nL 152.296828 99.560024 \nL 153.826293 97.957912 \nL 155.355759 96.52357 \nL 156.885224 95.261806 \nL 158.41469 94.17077 \nL 159.944155 93.241513 \nL 163.003086 91.79788 \nL 166.062017 90.731843 \nL 170.650414 89.269008 \nL 173.709345 88.018484 \nL 176.768276 86.3511 \nL 179.827207 84.23072 \nL 182.886138 81.75145 \nL 189.004 76.608788 \nL 190.533466 75.492893 \nL 192.062931 74.517105 \nL 193.592397 73.712981 \nL 195.121862 73.107451 \nL 196.651328 72.721966 \nL 198.180793 72.571947 \nL 199.710259 72.666563 \nL 201.239724 73.008821 \nL 202.76919 73.595911 \nL 204.298655 74.41978 \nL 205.828121 75.46786 \nL 207.357586 76.723885 \nL 208.887052 78.168734 \nL 211.945983 81.539051 \nL 215.004914 85.398297 \nL 219.59331 91.709964 \nL 227.240638 102.366838 \nL 231.829034 108.332567 \nL 236.417431 113.927724 \nL 247.123689 126.723751 \nL 253.241552 134.543866 \nL 260.888879 144.784133 \nL 273.124603 161.535287 \nL 279.242465 170.207937 \nL 294.53712 192.255044 \nL 297.596051 196.107778 \nL 300.654982 199.525238 \nL 303.713913 202.443906 \nL 306.772844 204.850253 \nL 309.831775 206.780929 \nL 312.890706 208.311829 \nL 315.949637 209.540029 \nL 320.538034 211.027115 \nL 328.185361 213.140924 \nL 341.950551 216.745629 \nL 351.127344 218.888644 \nL 361.833603 221.108931 \nL 363.363068 221.403963 \nL 363.363068 221.403963 \n\" style=\"fill:none;stroke:#ffa500;stroke-linecap:square;stroke-width:1.5;\"/>\n   </g>\n   <g id=\"patch_49\">\n    <path d=\"M 43.78125 224.64 \nL 43.78125 7.2 \n\" style=\"fill:none;stroke:#000000;stroke-linecap:square;stroke-linejoin:miter;stroke-width:0.8;\"/>\n   </g>\n   <g id=\"patch_50\">\n    <path d=\"M 378.58125 224.64 \nL 378.58125 7.2 \n\" style=\"fill:none;stroke:#000000;stroke-linecap:square;stroke-linejoin:miter;stroke-width:0.8;\"/>\n   </g>\n   <g id=\"patch_51\">\n    <path d=\"M 43.78125 224.64 \nL 378.58125 224.64 \n\" style=\"fill:none;stroke:#000000;stroke-linecap:square;stroke-linejoin:miter;stroke-width:0.8;\"/>\n   </g>\n   <g id=\"patch_52\">\n    <path d=\"M 43.78125 7.2 \nL 378.58125 7.2 \n\" style=\"fill:none;stroke:#000000;stroke-linecap:square;stroke-linejoin:miter;stroke-width:0.8;\"/>\n   </g>\n  </g>\n </g>\n <defs>\n  <clipPath id=\"p70c194fa22\">\n   <rect height=\"217.44\" width=\"334.8\" x=\"43.78125\" y=\"7.2\"/>\n  </clipPath>\n </defs>\n</svg>\n",
      "image/png": "[encoded data removed]"
     },
     "metadata": {
      "needs_background": "light"
     }
    }
   ],
   "source": [
    "my_outcomes_clustered = get_bootstrap_outcomes(\n",
    "    data=df, outcome=ols_fit, seed=1234, cluster_by=\"id\"\n",
    ")\n",
    "\n",
    "# clustered distribution in blue\n",
    "sns.histplot(my_outcomes_clustered[\"time\"], kde=True, stat=\"density\", linewidth=0)\n",
    "\n",
    "# non-clustered distribution in orange\n",
    "sns.histplot(my_outcomes[\"time\"], kde=True, stat=\"density\", linewidth=0, color=\"orange\")"
   ]
  },
  {
   "cell_type": "markdown",
   "metadata": {},
   "source": [
    "### Calculating standard errors and confidence intervals from existing outcomes"
   ]
  },
  {
   "cell_type": "markdown",
   "metadata": {},
   "source": [
    "Once we have the outcomes, we can compute confidence intervals and standard errors from them"
   ]
  },
  {
   "cell_type": "code",
   "execution_count": 10,
   "metadata": {},
   "outputs": [
    {
     "output_type": "execute_result",
     "data": {
      "text/plain": [
       "               mean       std   lower_ci   upper_ci\n",
       "constant  93.767044  1.501594  90.756341  96.598375\n",
       "time       0.391806  0.128111   0.113098   0.617271"
      ],
      "text/html": "<div>\n<style scoped>\n    .dataframe tbody tr th:only-of-type {\n        vertical-align: middle;\n    }\n\n    .dataframe tbody tr th {\n        vertical-align: top;\n    }\n\n    .dataframe thead th {\n        text-align: right;\n    }\n</style>\n<table border=\"1\" class=\"dataframe\">\n  <thead>\n    <tr style=\"text-align: right;\">\n      <th></th>\n      <th>mean</th>\n      <th>std</th>\n      <th>lower_ci</th>\n      <th>upper_ci</th>\n    </tr>\n  </thead>\n  <tbody>\n    <tr>\n      <th>constant</th>\n      <td>93.767044</td>\n      <td>1.501594</td>\n      <td>90.756341</td>\n      <td>96.598375</td>\n    </tr>\n    <tr>\n      <th>time</th>\n      <td>0.391806</td>\n      <td>0.128111</td>\n      <td>0.113098</td>\n      <td>0.617271</td>\n    </tr>\n  </tbody>\n</table>\n</div>"
     },
     "metadata": {},
     "execution_count": 10
    }
   ],
   "source": [
    "from estimagic.inference import bootstrap_from_outcomes\n",
    "\n",
    "my_results = bootstrap_from_outcomes(\n",
    "    data=df, outcome=ols_fit, bootstrap_outcomes=my_outcomes, ci_method=\"t\"\n",
    ")\n",
    "my_results"
   ]
  },
  {
   "cell_type": "markdown",
   "metadata": {},
   "source": [
    "You can use this to calculate confidence intervals with several methods (e.g. \"bca\" and \"percentile\") without duplicated calculations."
   ]
  },
  {
   "cell_type": "markdown",
   "metadata": {},
   "source": [
    "## Extending bootstrap results with more draws\n",
    "\n",
    "It is often the case that for speed reasons you set the number of bootstrap draws quite low, so you can look at results earlier and later decide that you need more draws. \n",
    "\n",
    "In the long run, we will offer a Dashboard integration for this. For now, you can do it manually.\n",
    "\n",
    "As an example we will take `my_outcomes` defined above and extend it with another 500 draws. \n",
    "\n",
    "Note: It is very important to use a different random seed when you calculate the additional outcomes!!!"
   ]
  },
  {
   "cell_type": "code",
   "execution_count": 11,
   "metadata": {},
   "outputs": [],
   "source": [
    "more_outcomes = get_bootstrap_outcomes(data=df, outcome=ols_fit, seed=5471, n_draws=500)\n",
    "combined_outcomes = pd.concat([my_outcomes, more_outcomes])\n",
    "combined_results = bootstrap_from_outcomes(\n",
    "    data=df,\n",
    "    outcome=ols_fit,\n",
    "    bootstrap_outcomes=combined_outcomes,\n",
    ")"
   ]
  },
  {
   "cell_type": "markdown",
   "metadata": {},
   "source": [
    "## More than one outcome\n",
    "\n",
    "to be written"
   ]
  },
  {
   "cell_type": "markdown",
   "metadata": {},
   "source": [
    "## Accessing the bootstrap samples"
   ]
  },
  {
   "cell_type": "markdown",
   "metadata": {},
   "source": [
    "It is also possible to just access the bootstrap samples. You can use this for example, if you want to calculate your the bootstrap outcomes in parallel in a way that is not yet supported by estimagic (e.g. on a large cluster or supercomputer)."
   ]
  },
  {
   "cell_type": "code",
   "execution_count": 12,
   "metadata": {},
   "outputs": [
    {
     "output_type": "execute_result",
     "data": {
      "text/plain": [
       "    id     diet  pulse  time     kind  constant\n",
       "47  16   no fat     89    30  walking         1\n",
       "83  28   no fat    140    30  running         1\n",
       "38  13  low fat     93    30  walking         1\n",
       "53  18   no fat    101    30  walking         1\n",
       "76  26   no fat    126    15  running         1\n",
       "..  ..      ...    ...   ...      ...       ...\n",
       "0    1  low fat     85     1     rest         1\n",
       "33  12  low fat     93     1  walking         1\n",
       "21   8   no fat     92     1     rest         1\n",
       "71  24  low fat    120    30  running         1\n",
       "68  23  low fat     99    30  running         1\n",
       "\n",
       "[90 rows x 6 columns]"
      ],
      "text/html": "<div>\n<style scoped>\n    .dataframe tbody tr th:only-of-type {\n        vertical-align: middle;\n    }\n\n    .dataframe tbody tr th {\n        vertical-align: top;\n    }\n\n    .dataframe thead th {\n        text-align: right;\n    }\n</style>\n<table border=\"1\" class=\"dataframe\">\n  <thead>\n    <tr style=\"text-align: right;\">\n      <th></th>\n      <th>id</th>\n      <th>diet</th>\n      <th>pulse</th>\n      <th>time</th>\n      <th>kind</th>\n      <th>constant</th>\n    </tr>\n  </thead>\n  <tbody>\n    <tr>\n      <th>47</th>\n      <td>16</td>\n      <td>no fat</td>\n      <td>89</td>\n      <td>30</td>\n      <td>walking</td>\n      <td>1</td>\n    </tr>\n    <tr>\n      <th>83</th>\n      <td>28</td>\n      <td>no fat</td>\n      <td>140</td>\n      <td>30</td>\n      <td>running</td>\n      <td>1</td>\n    </tr>\n    <tr>\n      <th>38</th>\n      <td>13</td>\n      <td>low fat</td>\n      <td>93</td>\n      <td>30</td>\n      <td>walking</td>\n      <td>1</td>\n    </tr>\n    <tr>\n      <th>53</th>\n      <td>18</td>\n      <td>no fat</td>\n      <td>101</td>\n      <td>30</td>\n      <td>walking</td>\n      <td>1</td>\n    </tr>\n    <tr>\n      <th>76</th>\n      <td>26</td>\n      <td>no fat</td>\n      <td>126</td>\n      <td>15</td>\n      <td>running</td>\n      <td>1</td>\n    </tr>\n    <tr>\n      <th>...</th>\n      <td>...</td>\n      <td>...</td>\n      <td>...</td>\n      <td>...</td>\n      <td>...</td>\n      <td>...</td>\n    </tr>\n    <tr>\n      <th>0</th>\n      <td>1</td>\n      <td>low fat</td>\n      <td>85</td>\n      <td>1</td>\n      <td>rest</td>\n      <td>1</td>\n    </tr>\n    <tr>\n      <th>33</th>\n      <td>12</td>\n      <td>low fat</td>\n      <td>93</td>\n      <td>1</td>\n      <td>walking</td>\n      <td>1</td>\n    </tr>\n    <tr>\n      <th>21</th>\n      <td>8</td>\n      <td>no fat</td>\n      <td>92</td>\n      <td>1</td>\n      <td>rest</td>\n      <td>1</td>\n    </tr>\n    <tr>\n      <th>71</th>\n      <td>24</td>\n      <td>low fat</td>\n      <td>120</td>\n      <td>30</td>\n      <td>running</td>\n      <td>1</td>\n    </tr>\n    <tr>\n      <th>68</th>\n      <td>23</td>\n      <td>low fat</td>\n      <td>99</td>\n      <td>30</td>\n      <td>running</td>\n      <td>1</td>\n    </tr>\n  </tbody>\n</table>\n<p>90 rows × 6 columns</p>\n</div>"
     },
     "metadata": {},
     "execution_count": 12
    }
   ],
   "source": [
    "from estimagic.inference import get_bootstrap_samples\n",
    "\n",
    "my_samples = get_bootstrap_samples(data=df, seed=1234)\n",
    "\n",
    "my_samples[0]"
   ]
  },
  {
   "cell_type": "code",
   "execution_count": null,
   "metadata": {},
   "outputs": [],
   "source": []
  }
 ],
 "metadata": {
  "kernelspec": {
   "name": "python3",
   "display_name": "Python 3.8.8 64-bit ('estimagic': conda)"
  },
  "language_info": {
   "codemirror_mode": {
    "name": "ipython",
    "version": 3
   },
   "file_extension": ".py",
   "mimetype": "text/x-python",
   "name": "python",
   "nbconvert_exporter": "python",
   "pygments_lexer": "ipython3",
   "version": "3.8.8"
  },
  "interpreter": {
   "hash": "5cdb9867252288f10687117449de6ad870b49795ca695c868016dc0022895cce"
  }
 },
 "nbformat": 4,
 "nbformat_minor": 4
}
