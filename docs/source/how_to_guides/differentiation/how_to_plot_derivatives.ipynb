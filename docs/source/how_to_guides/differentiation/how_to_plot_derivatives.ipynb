{
 "cells": [
  {
   "cell_type": "markdown",
   "id": "8430a5c1",
   "metadata": {},
   "source": [
    "# How to plot derivatives\n",
    "\n",
    "In this guide, we show you how to plot numerical derivatives that were calculated using estimagic's `first_derivative` function."
   ]
  },
  {
   "cell_type": "markdown",
   "id": "9d8927f1",
   "metadata": {},
   "source": [
    "## Why plot your derivatives?\n",
    "\n",
    "In estimagic, derivatives are mainly used to help in optimization. When an optimization process is stuck, it may be helpful in the debugging procedure to examine the derivative more closely."
   ]
  },
  {
   "cell_type": "markdown",
   "id": "d155660a",
   "metadata": {},
   "source": [
    "## Univariate functions\n",
    "\n",
    "The function ``derivative_plot`` works on the dictionary returned by ``first_derivative``. Note that this **requires** ``return_func_value`` and ``return_info`` to be set to True, **and** ``n_steps`` to be larger than 1."
   ]
  },
  {
   "cell_type": "code",
   "execution_count": null,
   "id": "1c033ff9",
   "metadata": {},
   "outputs": [],
   "source": [
    "import numpy as np\n",
    "\n",
    "import estimagic as em"
   ]
  },
  {
   "cell_type": "code",
   "execution_count": null,
   "id": "b8df45e8",
   "metadata": {},
   "outputs": [],
   "source": [
    "def sphere(params):\n",
    "    return params @ params"
   ]
  },
  {
   "cell_type": "code",
   "execution_count": null,
   "id": "d3578f81",
   "metadata": {},
   "outputs": [],
   "source": [
    "fd = em.first_derivative(\n",
    "    func=sphere, params=np.zeros(1), n_steps=4, return_func_value=True, return_info=True\n",
    ")"
   ]
  },
  {
   "cell_type": "code",
   "execution_count": null,
   "id": "0c4f9327",
   "metadata": {},
   "outputs": [],
   "source": [
    "fig = em.derivative_plot(fd)\n",
    "\n",
    "fig = fig.update_layout(width=800, height=500)\n",
    "fig.show(renderer=\"png\")"
   ]
  },
  {
   "cell_type": "markdown",
   "id": "37abbcc5",
   "metadata": {},
   "source": [
    "### Description:\n",
    "\n",
    "The figure visualizes the function evaluations, the best estimate of the derivative, as well as forward, central and, backward derivative estimates. Forward and backward estimates come with bands that are calculated by applying the standard (forward/backward) formula on the smallest and largest possible steps. **These bands are not confidence intervals**, they shall merely give a rough overview as to where the true derivative may lie."
   ]
  },
  {
   "cell_type": "markdown",
   "id": "b6a0ba22",
   "metadata": {},
   "source": [
    "## Multivariate functions"
   ]
  },
  {
   "cell_type": "code",
   "execution_count": null,
   "id": "101c6d0f",
   "metadata": {},
   "outputs": [],
   "source": [
    "def multivariate(params):\n",
    "    y1 = params[0] ** 3 + params[1]\n",
    "    y2 = params[2] ** 2 - params[0]\n",
    "    return np.array([y1, y2])"
   ]
  },
  {
   "cell_type": "code",
   "execution_count": null,
   "id": "ed0102c6",
   "metadata": {},
   "outputs": [],
   "source": [
    "fd = em.first_derivative(\n",
    "    func=multivariate,\n",
    "    params=np.zeros(3),\n",
    "    n_steps=4,\n",
    "    return_func_value=True,\n",
    "    return_info=True,\n",
    ")"
   ]
  },
  {
   "cell_type": "code",
   "execution_count": null,
   "id": "b9d37dd0",
   "metadata": {},
   "outputs": [],
   "source": [
    "fig = em.derivative_plot(fd)\n",
    "\n",
    "fig = fig.update_layout(height=1000, width=1000)\n",
    "fig.show(renderer=\"png\")"
   ]
  }
 ],
 "metadata": {
  "language_info": {
   "codemirror_mode": {
    "name": "ipython",
    "version": 3
   },
   "file_extension": ".py",
   "mimetype": "text/x-python",
   "name": "python",
   "nbconvert_exporter": "python",
   "pygments_lexer": "ipython3",
   "version": "3.9.13"
  }
 },
 "nbformat": 4,
 "nbformat_minor": 5
}
