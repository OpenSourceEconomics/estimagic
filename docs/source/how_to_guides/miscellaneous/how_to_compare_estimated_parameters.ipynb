{
 "cells": [
  {
   "cell_type": "markdown",
   "metadata": {},
   "source": [
    "# Comparison Plot Demo"
   ]
  },
  {
   "cell_type": "code",
   "execution_count": 1,
   "metadata": {},
   "outputs": [],
   "source": [
    "from collections import namedtuple\n",
    "from estimagic.visualization.comparison_plot import comparison_plot\n",
    "import pandas as pd\n",
    "import numpy as np\n",
    "from numpy.random import uniform\n",
    "np.random.seed(89345)"
   ]
  },
  {
   "cell_type": "code",
   "execution_count": null,
   "metadata": {},
   "outputs": [],
   "source": [
    "from bokeh.plotting import output_notebook\n",
    "output_notebook()"
   ]
  },
  {
   "cell_type": "markdown",
   "metadata": {},
   "source": [
    "## Functions for creating artificial estimagic optimization results lists"
   ]
  },
  {
   "cell_type": "code",
   "execution_count": null,
   "metadata": {},
   "outputs": [],
   "source": [
    "BLUEPRINT = namedtuple('optimization_result', ['params', 'info'])\n",
    "\n",
    "def create_comparison_plot_inputs(model_class_dict):\n",
    "    results_list = []\n",
    "    counter = 0\n",
    "    for model_class, specs in model_class_dict.items():\n",
    "        for m in range(specs['nr_models']): \n",
    "            df = create_result_df(specs)\n",
    "            \n",
    "            info = {\n",
    "                'model_name': 'mod_{}'.format(counter),\n",
    "                'model_class': model_class\n",
    "            }\n",
    "            results_list.append(BLUEPRINT(df, info))\n",
    "            counter += 1\n",
    "    return results_list\n",
    "\n",
    "\n",
    "def create_result_df(specs):\n",
    "    df = pd.DataFrame()\n",
    "    group_col = [] \n",
    "    final_values = []\n",
    "    ci_lower = []\n",
    "    ci_upper = []\n",
    "    names = []\n",
    "    for name, nr_params in specs['param_tuples']:\n",
    "        names += ['{}_{}'.format(name, i) for i in range(nr_params)]\n",
    "        group_col += [name] * nr_params\n",
    "        mean = np.random.randint(-5, 10)\n",
    "        std = np.random.uniform(0, 4)\n",
    "        vals = np.random.normal(mean, std, nr_params)\n",
    "        final_values += vals.tolist()\n",
    "        ci_lower += (vals - uniform(- 0.2, std)).tolist()\n",
    "        ci_upper += (vals + uniform(+ 0.2, std)).tolist()\n",
    "    df['group'] = group_col\n",
    "    df['name'] = names\n",
    "    df['value'] = final_values\n",
    "    df['conf_int_lower'] = ci_lower\n",
    "    df['conf_int_upper'] = ci_upper\n",
    "    return df"
   ]
  },
  {
   "cell_type": "markdown",
   "metadata": {},
   "source": [
    "## Generate some artifical results"
   ]
  },
  {
   "cell_type": "code",
   "execution_count": null,
   "metadata": {},
   "outputs": [],
   "source": [
    "models1 = {\n",
    "    'small': {\n",
    "        'nr_models': 15, \n",
    "        'param_tuples': [('covariance', 2), ('wage reg slope', 1)]\n",
    "    },\n",
    "    'large': {\n",
    "        'nr_models': 14, \n",
    "        'param_tuples': [('covariance', 2), ('wage reg slope', 1)]\n",
    "    },\n",
    "    'other': {\n",
    "        'nr_models': 10, \n",
    "        'param_tuples': [('covariance', 2)]\n",
    "    },\n",
    "}\n",
    "\n",
    "reslist1 = create_comparison_plot_inputs(models1)"
   ]
  },
  {
   "cell_type": "code",
   "execution_count": null,
   "metadata": {},
   "outputs": [],
   "source": [
    "color_dict={\n",
    "    'small': 'goldenrod',\n",
    "    'large': 'navy',\n",
    "    'other': 'firebrick', \n",
    "}"
   ]
  },
  {
   "cell_type": "markdown",
   "metadata": {},
   "source": [
    "## Generate the comparison plot"
   ]
  },
  {
   "cell_type": "code",
   "execution_count": null,
   "metadata": {},
   "outputs": [],
   "source": [
    "df, grid = comparison_plot(reslist1, color_dict)"
   ]
  }
 ],
 "metadata": {
  "kernelspec": {
   "display_name": "Python 3",
   "language": "python",
   "name": "python3"
  },
  "language_info": {
   "codemirror_mode": {
    "name": "ipython",
    "version": 3
   },
   "file_extension": ".py",
   "mimetype": "text/x-python",
   "name": "python",
   "nbconvert_exporter": "python",
   "pygments_lexer": "ipython3",
   "version": "3.7.3"
  }
 },
 "nbformat": 4,
 "nbformat_minor": 4
}
