{
 "cells": [
  {
   "cell_type": "markdown",
   "id": "26bb6b59",
   "metadata": {},
   "source": [
    "# How to visualize optimizer histories\n",
    "\n",
    "Estimagic's `criterion_plot` can visualize the history of function values for one or multiple optimizations. \n",
    "Estimagic's `params_plot` can visualize the history of parameter values for one optimization. \n",
    "\n",
    "This can help you to understand whether your optimization actually converged and if not, which parameters are problematic. \n",
    "\n",
    "It can also help you to find the fastest optimizer for a given optimization problem. "
   ]
  },
  {
   "cell_type": "code",
   "execution_count": null,
   "id": "8675ff3f",
   "metadata": {},
   "outputs": [],
   "source": [
    "import numpy as np\n",
    "\n",
    "import estimagic as em"
   ]
  },
  {
   "cell_type": "markdown",
   "id": "bb392c18",
   "metadata": {},
   "source": [
    "## Run two optimization to get example results"
   ]
  },
  {
   "cell_type": "code",
   "execution_count": null,
   "id": "5efb43c8",
   "metadata": {},
   "outputs": [],
   "source": [
    "def sphere(x):\n",
    "    return x @ x\n",
    "\n",
    "\n",
    "results = {}\n",
    "for algo in [\"scipy_lbfgsb\", \"scipy_neldermead\"]:\n",
    "    results[algo] = em.minimize(sphere, params=np.arange(5), algorithm=algo)"
   ]
  },
  {
   "cell_type": "markdown",
   "id": "a6472dcc",
   "metadata": {},
   "source": [
    "## Make a single criterion plot"
   ]
  },
  {
   "cell_type": "code",
   "execution_count": null,
   "id": "32cf04a2",
   "metadata": {},
   "outputs": [],
   "source": [
    "fig = em.criterion_plot(results[\"scipy_neldermead\"])\n",
    "fig.show(renderer=\"png\")"
   ]
  },
  {
   "cell_type": "markdown",
   "id": "4a2050c4",
   "metadata": {},
   "source": [
    "## Compare two optimizations in a criterion plot"
   ]
  },
  {
   "cell_type": "code",
   "execution_count": null,
   "id": "d641708a",
   "metadata": {},
   "outputs": [],
   "source": [
    "fig = em.criterion_plot(results)\n",
    "fig.show(renderer=\"png\")"
   ]
  },
  {
   "cell_type": "markdown",
   "id": "2b875eed",
   "metadata": {},
   "source": [
    "## Use some advanced options of criterion_plot"
   ]
  },
  {
   "cell_type": "code",
   "execution_count": null,
   "id": "72b6938c",
   "metadata": {},
   "outputs": [],
   "source": [
    "fig = em.criterion_plot(\n",
    "    results,\n",
    "    # cut off after 180 evaluations\n",
    "    max_evaluations=180,\n",
    "    # show only the current best function value\n",
    "    monotone=True,\n",
    ")\n",
    "fig.show(renderer=\"png\")"
   ]
  },
  {
   "cell_type": "markdown",
   "id": "ef9e2e0b",
   "metadata": {},
   "source": [
    "## Make a params plot"
   ]
  },
  {
   "cell_type": "code",
   "execution_count": null,
   "id": "45e853a5",
   "metadata": {},
   "outputs": [],
   "source": [
    "fig = em.params_plot(results[\"scipy_neldermead\"])\n",
    "fig.show(renderer=\"png\")"
   ]
  },
  {
   "cell_type": "markdown",
   "id": "61df05f0",
   "metadata": {},
   "source": [
    "## Use advanced options of params plot"
   ]
  },
  {
   "cell_type": "code",
   "execution_count": null,
   "id": "c09ded87",
   "metadata": {},
   "outputs": [],
   "source": [
    "fig = em.params_plot(\n",
    "    results[\"scipy_neldermead\"],\n",
    "    # cut off after 180 evaluations\n",
    "    max_evaluations=180,\n",
    "    # select only the last three parameters\n",
    "    selector=lambda x: x[2:],\n",
    ")\n",
    "fig.show(renderer=\"png\")"
   ]
  },
  {
   "cell_type": "markdown",
   "id": "7b663015",
   "metadata": {},
   "source": [
    "## criterion_plot with multistart optimization"
   ]
  },
  {
   "cell_type": "code",
   "execution_count": null,
   "id": "70099614",
   "metadata": {},
   "outputs": [],
   "source": [
    "def alpine(x):\n",
    "    return np.sum(np.abs(x * np.sin(x) + 0.1 * x))\n",
    "\n",
    "\n",
    "res = em.minimize(\n",
    "    sphere,\n",
    "    params=np.arange(10),\n",
    "    soft_lower_bounds=np.full(10, -3),\n",
    "    soft_upper_bounds=np.full(10, 10),\n",
    "    algorithm=\"scipy_neldermead\",\n",
    "    multistart=True,\n",
    "    multistart_options={\"n_samples\": 1000, \"convergence.max_discoveries\": 10},\n",
    ")"
   ]
  },
  {
   "cell_type": "code",
   "execution_count": null,
   "id": "e21dcd65",
   "metadata": {},
   "outputs": [],
   "source": [
    "fig = em.criterion_plot(res, max_evaluations=3000)\n",
    "fig.show(renderer=\"png\")"
   ]
  },
  {
   "cell_type": "code",
   "execution_count": null,
   "id": "cf0d7376",
   "metadata": {},
   "outputs": [],
   "source": []
  }
 ],
 "metadata": {
  "language_info": {
   "codemirror_mode": {
    "name": "ipython",
    "version": 3
   },
   "file_extension": ".py",
   "mimetype": "text/x-python",
   "name": "python",
   "nbconvert_exporter": "python",
   "pygments_lexer": "ipython3",
   "version": "3.9.13"
  }
 },
 "nbformat": 4,
 "nbformat_minor": 5
}
