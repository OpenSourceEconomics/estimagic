{
 "cells": [
  {
   "cell_type": "code",
   "execution_count": 1,
   "metadata": {},
   "outputs": [],
   "source": [
    "import numpy as np\n",
    "import pandas as pd\n",
    "\n",
    "from estimagic.visualization.plotting_utilities import combine_plots\n",
    "from estimagic.visualization.slice_plot import slice_plots"
   ]
  },
  {
   "cell_type": "markdown",
   "metadata": {},
   "source": [
    "# How to visualize an optimization problem\n",
    "\n",
    "In order to choose the right optimization algorithm, it is important to know as much as possible about the problem one wants to solve. If the criterion function has only one or two parameters, plotting it over the sample space can be helpful. However, such low dimensional problems are rare. \n",
    "\n",
    "In this notebook we show how higher dimensional functions can be visualized using estimagic and which properties of the criterion function can be learned from them. \n",
    "\n",
    "We start with the sphere function and then progress to more interesting examples. "
   ]
  },
  {
   "cell_type": "markdown",
   "metadata": {},
   "source": [
    "## The simple sphere function"
   ]
  },
  {
   "cell_type": "code",
   "execution_count": 2,
   "metadata": {},
   "outputs": [],
   "source": [
    "def sphere(params):\n",
    "    return (params[\"value\"] ** 2).sum()\n",
    "\n",
    "\n",
    "params = pd.DataFrame(\n",
    "    data=np.zeros(4),\n",
    "    columns=[\"value\"],\n",
    "    index=[f\"x_{i}\" for i in range(4)],\n",
    ")\n",
    "\n",
    "params[\"lower_bound\"] = -5\n",
    "params[\"upper_bound\"] = 5"
   ]
  },
  {
   "cell_type": "code",
   "execution_count": 3,
   "metadata": {},
   "outputs": [],
   "source": [
    "plots_dict = slice_plots(\n",
    "    criterion=sphere,\n",
    "    params=params,\n",
    "    n_random_values=3,\n",
    ")"
   ]
  },
  {
   "cell_type": "code",
   "execution_count": 7,
   "metadata": {},
   "outputs": [],
   "source": [
    "plots_dict[\"x_0\"].data = plots_dict[\"x_0\"].data[:-1]"
   ]
  },
  {
   "cell_type": "code",
   "execution_count": 8,
   "metadata": {},
   "outputs": [
    {
     "name": "stderr",
     "output_type": "stream",
     "text": [
      "/home/mariam/anaconda3/envs/estimagic/lib/python3.8/site-packages/plotly/io/_kaleido.py:339: UserWarning:\n",
      "\n",
      "full_figure_for_development is not recommended or necessary for production use in most circumstances. \n",
      "To suppress this warning, set warn=False\n",
      "\n"
     ]
    }
   ],
   "source": [
    "fig = combine_plots(\n",
    "    list(plots_dict.values()),\n",
    ")"
   ]
  },
  {
   "cell_type": "code",
   "execution_count": 9,
   "metadata": {
    "scrolled": false
   },
   "outputs": [
    {
     "data": {
      "application/vnd.plotly.v1+json": {
       "config": {
        "plotlyServerURL": "https://plot.ly"
       },
       "data": [
        {
         "hovertemplate": "value_identifier=start values<br>Parameter Value=%{x}<br>Criterion Value=%{y}<extra></extra>",
         "legendgroup": "start values",
         "line": {
          "color": "rgb(102,194,165)",
          "dash": "solid"
         },
         "marker": {
          "symbol": "circle"
         },
         "mode": "lines",
         "name": "start values",
         "orientation": "v",
         "showlegend": true,
         "type": "scatter",
         "x": [
          -5,
          -4.5,
          -4,
          -3.5,
          -3,
          -2.5,
          -2,
          -1.5,
          -1,
          -0.5,
          0,
          0.5,
          1,
          1.5,
          2,
          2.5,
          3,
          3.5,
          4,
          4.5,
          5
         ],
         "xaxis": "x",
         "y": [
          25,
          20.25,
          16,
          12.25,
          9,
          6.25,
          4,
          2.25,
          1,
          0.25,
          0,
          0.25,
          1,
          2.25,
          4,
          6.25,
          9,
          12.25,
          16,
          20.25,
          25
         ],
         "yaxis": "y"
        },
        {
         "hovertemplate": "value_identifier=random value 0<br>Parameter Value=%{x}<br>Criterion Value=%{y}<extra></extra>",
         "legendgroup": "random value 0",
         "line": {
          "color": "rgb(252,141,98)",
          "dash": "solid"
         },
         "marker": {
          "symbol": "circle"
         },
         "mode": "lines",
         "name": "random value 0",
         "orientation": "v",
         "showlegend": true,
         "type": "scatter",
         "x": [
          -5,
          -4.5,
          -4,
          -3.5,
          -3,
          -2.5,
          -2,
          -1.5,
          -1,
          -0.5,
          0,
          0.5,
          1,
          1.5,
          2,
          2.5,
          3,
          3.5,
          4,
          4.5,
          5
         ],
         "xaxis": "x",
         "y": [
          73.7712318095864,
          69.0212318095864,
          64.7712318095864,
          61.0212318095864,
          57.7712318095864,
          55.0212318095864,
          52.7712318095864,
          51.0212318095864,
          49.7712318095864,
          49.0212318095864,
          48.7712318095864,
          49.0212318095864,
          49.7712318095864,
          51.0212318095864,
          52.7712318095864,
          55.0212318095864,
          57.7712318095864,
          61.0212318095864,
          64.7712318095864,
          69.0212318095864,
          73.7712318095864
         ],
         "yaxis": "y"
        },
        {
         "hovertemplate": "value_identifier=random value 1<br>Parameter Value=%{x}<br>Criterion Value=%{y}<extra></extra>",
         "legendgroup": "random value 1",
         "line": {
          "color": "rgb(141,160,203)",
          "dash": "solid"
         },
         "marker": {
          "symbol": "circle"
         },
         "mode": "lines",
         "name": "random value 1",
         "orientation": "v",
         "showlegend": true,
         "type": "scatter",
         "x": [
          -5,
          -4.5,
          -4,
          -3.5,
          -3,
          -2.5,
          -2,
          -1.5,
          -1,
          -0.5,
          0,
          0.5,
          1,
          1.5,
          2,
          2.5,
          3,
          3.5,
          4,
          4.5,
          5
         ],
         "xaxis": "x",
         "y": [
          50.139996602054055,
          45.389996602054055,
          41.139996602054055,
          37.389996602054055,
          34.139996602054055,
          31.389996602054055,
          29.139996602054055,
          27.389996602054055,
          26.139996602054055,
          25.389996602054055,
          25.139996602054055,
          25.389996602054055,
          26.139996602054055,
          27.389996602054055,
          29.139996602054055,
          31.389996602054055,
          34.139996602054055,
          37.389996602054055,
          41.139996602054055,
          45.389996602054055,
          50.139996602054055
         ],
         "yaxis": "y"
        },
        {
         "hovertemplate": "value_identifier=start values<br>Parameter Value=%{x}<br>Criterion Value=%{y}<extra></extra>",
         "legendgroup": "start values",
         "line": {
          "color": "rgb(102,194,165)",
          "dash": "solid"
         },
         "marker": {
          "symbol": "circle"
         },
         "mode": "lines",
         "name": "start values",
         "orientation": "v",
         "showlegend": false,
         "type": "scatter",
         "x": [
          -5,
          -4.5,
          -4,
          -3.5,
          -3,
          -2.5,
          -2,
          -1.5,
          -1,
          -0.5,
          0,
          0.5,
          1,
          1.5,
          2,
          2.5,
          3,
          3.5,
          4,
          4.5,
          5
         ],
         "xaxis": "x2",
         "y": [
          25,
          20.25,
          16,
          12.25,
          9,
          6.25,
          4,
          2.25,
          1,
          0.25,
          0,
          0.25,
          1,
          2.25,
          4,
          6.25,
          9,
          12.25,
          16,
          20.25,
          25
         ],
         "yaxis": "y2"
        },
        {
         "hovertemplate": "value_identifier=random value 0<br>Parameter Value=%{x}<br>Criterion Value=%{y}<extra></extra>",
         "legendgroup": "random value 0",
         "line": {
          "color": "rgb(252,141,98)",
          "dash": "solid"
         },
         "marker": {
          "symbol": "circle"
         },
         "mode": "lines",
         "name": "random value 0",
         "orientation": "v",
         "showlegend": false,
         "type": "scatter",
         "x": [
          -5,
          -4.5,
          -4,
          -3.5,
          -3,
          -2.5,
          -2,
          -1.5,
          -1,
          -0.5,
          0,
          0.5,
          1,
          1.5,
          2,
          2.5,
          3,
          3.5,
          4,
          4.5,
          5
         ],
         "xaxis": "x2",
         "y": [
          91.43026722974417,
          86.68026722974417,
          82.43026722974417,
          78.68026722974417,
          75.43026722974417,
          72.68026722974417,
          70.43026722974417,
          68.68026722974417,
          67.43026722974417,
          66.68026722974417,
          66.43026722974417,
          66.68026722974417,
          67.43026722974417,
          68.68026722974417,
          70.43026722974417,
          72.68026722974417,
          75.43026722974417,
          78.68026722974417,
          82.43026722974417,
          86.68026722974417,
          91.43026722974417
         ],
         "yaxis": "y2"
        },
        {
         "hovertemplate": "value_identifier=random value 1<br>Parameter Value=%{x}<br>Criterion Value=%{y}<extra></extra>",
         "legendgroup": "random value 1",
         "line": {
          "color": "rgb(141,160,203)",
          "dash": "solid"
         },
         "marker": {
          "symbol": "circle"
         },
         "mode": "lines",
         "name": "random value 1",
         "orientation": "v",
         "showlegend": false,
         "type": "scatter",
         "x": [
          -5,
          -4.5,
          -4,
          -3.5,
          -3,
          -2.5,
          -2,
          -1.5,
          -1,
          -0.5,
          0,
          0.5,
          1,
          1.5,
          2,
          2.5,
          3,
          3.5,
          4,
          4.5,
          5
         ],
         "xaxis": "x2",
         "y": [
          44.911506027416735,
          40.161506027416735,
          35.911506027416735,
          32.161506027416735,
          28.911506027416735,
          26.161506027416735,
          23.911506027416735,
          22.161506027416735,
          20.911506027416735,
          20.161506027416735,
          19.911506027416735,
          20.161506027416735,
          20.911506027416735,
          22.161506027416735,
          23.911506027416735,
          26.161506027416735,
          28.911506027416735,
          32.161506027416735,
          35.911506027416735,
          40.161506027416735,
          44.911506027416735
         ],
         "yaxis": "y2"
        },
        {
         "hovertemplate": "value_identifier=random value 2<br>Parameter Value=%{x}<br>Criterion Value=%{y}<extra></extra>",
         "legendgroup": "random value 2",
         "line": {
          "color": "rgb(231,138,195)",
          "dash": "solid"
         },
         "marker": {
          "symbol": "circle"
         },
         "mode": "lines",
         "name": "random value 2",
         "orientation": "v",
         "showlegend": true,
         "type": "scatter",
         "x": [
          -5,
          -4.5,
          -4,
          -3.5,
          -3,
          -2.5,
          -2,
          -1.5,
          -1,
          -0.5,
          0,
          0.5,
          1,
          1.5,
          2,
          2.5,
          3,
          3.5,
          4,
          4.5,
          5
         ],
         "xaxis": "x2",
         "y": [
          41.324277890002705,
          36.574277890002705,
          32.324277890002705,
          28.57427789000271,
          25.32427789000271,
          22.57427789000271,
          20.32427789000271,
          18.57427789000271,
          17.32427789000271,
          16.57427789000271,
          16.32427789000271,
          16.57427789000271,
          17.32427789000271,
          18.57427789000271,
          20.32427789000271,
          22.57427789000271,
          25.32427789000271,
          28.57427789000271,
          32.324277890002705,
          36.574277890002705,
          41.324277890002705
         ],
         "yaxis": "y2"
        },
        {
         "hovertemplate": "value_identifier=start values<br>Parameter Value=%{x}<br>Criterion Value=%{y}<extra></extra>",
         "legendgroup": "start values",
         "line": {
          "color": "rgb(102,194,165)",
          "dash": "solid"
         },
         "marker": {
          "symbol": "circle"
         },
         "mode": "lines",
         "name": "start values",
         "orientation": "v",
         "showlegend": false,
         "type": "scatter",
         "x": [
          -5,
          -4.5,
          -4,
          -3.5,
          -3,
          -2.5,
          -2,
          -1.5,
          -1,
          -0.5,
          0,
          0.5,
          1,
          1.5,
          2,
          2.5,
          3,
          3.5,
          4,
          4.5,
          5
         ],
         "xaxis": "x3",
         "y": [
          25,
          20.25,
          16,
          12.25,
          9,
          6.25,
          4,
          2.25,
          1,
          0.25,
          0,
          0.25,
          1,
          2.25,
          4,
          6.25,
          9,
          12.25,
          16,
          20.25,
          25
         ],
         "yaxis": "y3"
        },
        {
         "hovertemplate": "value_identifier=random value 0<br>Parameter Value=%{x}<br>Criterion Value=%{y}<extra></extra>",
         "legendgroup": "random value 0",
         "line": {
          "color": "rgb(252,141,98)",
          "dash": "solid"
         },
         "marker": {
          "symbol": "circle"
         },
         "mode": "lines",
         "name": "random value 0",
         "orientation": "v",
         "showlegend": false,
         "type": "scatter",
         "x": [
          -5,
          -4.5,
          -4,
          -3.5,
          -3,
          -2.5,
          -2,
          -1.5,
          -1,
          -0.5,
          0,
          0.5,
          1,
          1.5,
          2,
          2.5,
          3,
          3.5,
          4,
          4.5,
          5
         ],
         "xaxis": "x3",
         "y": [
          74.70888845555935,
          69.95888845555935,
          65.70888845555935,
          61.95888845555935,
          58.70888845555935,
          55.95888845555935,
          53.70888845555935,
          51.95888845555935,
          50.70888845555935,
          49.95888845555935,
          49.70888845555935,
          49.95888845555935,
          50.70888845555935,
          51.95888845555935,
          53.70888845555935,
          55.95888845555935,
          58.70888845555935,
          61.95888845555935,
          65.70888845555935,
          69.95888845555935,
          74.70888845555935
         ],
         "yaxis": "y3"
        },
        {
         "hovertemplate": "value_identifier=random value 1<br>Parameter Value=%{x}<br>Criterion Value=%{y}<extra></extra>",
         "legendgroup": "random value 1",
         "line": {
          "color": "rgb(141,160,203)",
          "dash": "solid"
         },
         "marker": {
          "symbol": "circle"
         },
         "mode": "lines",
         "name": "random value 1",
         "orientation": "v",
         "showlegend": false,
         "type": "scatter",
         "x": [
          -5,
          -4.5,
          -4,
          -3.5,
          -3,
          -2.5,
          -2,
          -1.5,
          -1,
          -0.5,
          0,
          0.5,
          1,
          1.5,
          2,
          2.5,
          3,
          3.5,
          4,
          4.5,
          5
         ],
         "xaxis": "x3",
         "y": [
          45.825736439320075,
          41.075736439320075,
          36.825736439320075,
          33.075736439320075,
          29.825736439320075,
          27.075736439320075,
          24.825736439320075,
          23.075736439320075,
          21.825736439320075,
          21.075736439320075,
          20.825736439320075,
          21.075736439320075,
          21.825736439320075,
          23.075736439320075,
          24.825736439320075,
          27.075736439320075,
          29.825736439320075,
          33.075736439320075,
          36.825736439320075,
          41.075736439320075,
          45.825736439320075
         ],
         "yaxis": "y3"
        },
        {
         "hovertemplate": "value_identifier=random value 2<br>Parameter Value=%{x}<br>Criterion Value=%{y}<extra></extra>",
         "legendgroup": "random value 2",
         "line": {
          "color": "rgb(231,138,195)",
          "dash": "solid"
         },
         "marker": {
          "symbol": "circle"
         },
         "mode": "lines",
         "name": "random value 2",
         "orientation": "v",
         "showlegend": false,
         "type": "scatter",
         "x": [
          -5,
          -4.5,
          -4,
          -3.5,
          -3,
          -2.5,
          -2,
          -1.5,
          -1,
          -0.5,
          0,
          0.5,
          1,
          1.5,
          2,
          2.5,
          3,
          3.5,
          4,
          4.5,
          5
         ],
         "xaxis": "x3",
         "y": [
          46.75760681287284,
          42.00760681287284,
          37.75760681287284,
          34.00760681287284,
          30.757606812872837,
          28.007606812872837,
          25.757606812872837,
          24.007606812872837,
          22.757606812872837,
          22.007606812872837,
          21.757606812872837,
          22.007606812872837,
          22.757606812872837,
          24.007606812872837,
          25.757606812872837,
          28.007606812872837,
          30.757606812872837,
          34.00760681287284,
          37.75760681287284,
          42.00760681287284,
          46.75760681287284
         ],
         "yaxis": "y3"
        },
        {
         "hovertemplate": "value_identifier=start values<br>Parameter Value=%{x}<br>Criterion Value=%{y}<extra></extra>",
         "legendgroup": "start values",
         "line": {
          "color": "rgb(102,194,165)",
          "dash": "solid"
         },
         "marker": {
          "symbol": "circle"
         },
         "mode": "lines",
         "name": "start values",
         "orientation": "v",
         "showlegend": false,
         "type": "scatter",
         "x": [
          -5,
          -4.5,
          -4,
          -3.5,
          -3,
          -2.5,
          -2,
          -1.5,
          -1,
          -0.5,
          0,
          0.5,
          1,
          1.5,
          2,
          2.5,
          3,
          3.5,
          4,
          4.5,
          5
         ],
         "xaxis": "x4",
         "y": [
          25,
          20.25,
          16,
          12.25,
          9,
          6.25,
          4,
          2.25,
          1,
          0.25,
          0,
          0.25,
          1,
          2.25,
          4,
          6.25,
          9,
          12.25,
          16,
          20.25,
          25
         ],
         "yaxis": "y4"
        },
        {
         "hovertemplate": "value_identifier=random value 0<br>Parameter Value=%{x}<br>Criterion Value=%{y}<extra></extra>",
         "legendgroup": "random value 0",
         "line": {
          "color": "rgb(252,141,98)",
          "dash": "solid"
         },
         "marker": {
          "symbol": "circle"
         },
         "mode": "lines",
         "name": "random value 0",
         "orientation": "v",
         "showlegend": false,
         "type": "scatter",
         "x": [
          -5,
          -4.5,
          -4,
          -3.5,
          -3,
          -2.5,
          -2,
          -1.5,
          -1,
          -0.5,
          0,
          0.5,
          1,
          1.5,
          2,
          2.5,
          3,
          3.5,
          4,
          4.5,
          5
         ],
         "xaxis": "x4",
         "y": [
          74.77138554942823,
          70.02138554942823,
          65.77138554942823,
          62.02138554942823,
          58.77138554942823,
          56.02138554942823,
          53.77138554942823,
          52.02138554942823,
          50.77138554942823,
          50.02138554942823,
          49.77138554942823,
          50.02138554942823,
          50.77138554942823,
          52.02138554942823,
          53.77138554942823,
          56.02138554942823,
          58.77138554942823,
          62.02138554942823,
          65.77138554942823,
          70.02138554942823,
          74.77138554942823
         ],
         "yaxis": "y4"
        },
        {
         "hovertemplate": "value_identifier=random value 1<br>Parameter Value=%{x}<br>Criterion Value=%{y}<extra></extra>",
         "legendgroup": "random value 1",
         "line": {
          "color": "rgb(141,160,203)",
          "dash": "solid"
         },
         "marker": {
          "symbol": "circle"
         },
         "mode": "lines",
         "name": "random value 1",
         "orientation": "v",
         "showlegend": false,
         "type": "scatter",
         "x": [
          -5,
          -4.5,
          -4,
          -3.5,
          -3,
          -2.5,
          -2,
          -1.5,
          -1,
          -0.5,
          0,
          0.5,
          1,
          1.5,
          2,
          2.5,
          3,
          3.5,
          4,
          4.5,
          5
         ],
         "xaxis": "x4",
         "y": [
          43.0714057630159,
          38.3214057630159,
          34.0714057630159,
          30.3214057630159,
          27.0714057630159,
          24.3214057630159,
          22.0714057630159,
          20.3214057630159,
          19.0714057630159,
          18.3214057630159,
          18.0714057630159,
          18.3214057630159,
          19.0714057630159,
          20.3214057630159,
          22.0714057630159,
          24.3214057630159,
          27.0714057630159,
          30.3214057630159,
          34.0714057630159,
          38.3214057630159,
          43.0714057630159
         ],
         "yaxis": "y4"
        },
        {
         "hovertemplate": "value_identifier=random value 2<br>Parameter Value=%{x}<br>Criterion Value=%{y}<extra></extra>",
         "legendgroup": "random value 2",
         "line": {
          "color": "rgb(231,138,195)",
          "dash": "solid"
         },
         "marker": {
          "symbol": "circle"
         },
         "mode": "lines",
         "name": "random value 2",
         "orientation": "v",
         "showlegend": false,
         "type": "scatter",
         "x": [
          -5,
          -4.5,
          -4,
          -3.5,
          -3,
          -2.5,
          -2,
          -1.5,
          -1,
          -0.5,
          0,
          0.5,
          1,
          1.5,
          2,
          2.5,
          3,
          3.5,
          4,
          4.5,
          5
         ],
         "xaxis": "x4",
         "y": [
          36.234062337211114,
          31.484062337211114,
          27.234062337211114,
          23.484062337211114,
          20.234062337211114,
          17.484062337211114,
          15.234062337211112,
          13.484062337211112,
          12.234062337211112,
          11.484062337211112,
          11.234062337211112,
          11.484062337211112,
          12.234062337211112,
          13.484062337211112,
          15.234062337211112,
          17.484062337211114,
          20.234062337211114,
          23.484062337211114,
          27.234062337211114,
          31.484062337211114,
          36.234062337211114
         ],
         "yaxis": "y4"
        }
       ],
       "layout": {
        "height": 600,
        "showlegend": true,
        "template": {
         "data": {
          "bar": [
           {
            "error_x": {
             "color": "rgb(36,36,36)"
            },
            "error_y": {
             "color": "rgb(36,36,36)"
            },
            "marker": {
             "line": {
              "color": "white",
              "width": 0.5
             },
             "pattern": {
              "fillmode": "overlay",
              "size": 10,
              "solidity": 0.2
             }
            },
            "type": "bar"
           }
          ],
          "barpolar": [
           {
            "marker": {
             "line": {
              "color": "white",
              "width": 0.5
             },
             "pattern": {
              "fillmode": "overlay",
              "size": 10,
              "solidity": 0.2
             }
            },
            "type": "barpolar"
           }
          ],
          "carpet": [
           {
            "aaxis": {
             "endlinecolor": "rgb(36,36,36)",
             "gridcolor": "white",
             "linecolor": "white",
             "minorgridcolor": "white",
             "startlinecolor": "rgb(36,36,36)"
            },
            "baxis": {
             "endlinecolor": "rgb(36,36,36)",
             "gridcolor": "white",
             "linecolor": "white",
             "minorgridcolor": "white",
             "startlinecolor": "rgb(36,36,36)"
            },
            "type": "carpet"
           }
          ],
          "choropleth": [
           {
            "colorbar": {
             "outlinewidth": 1,
             "tickcolor": "rgb(36,36,36)",
             "ticks": "outside"
            },
            "type": "choropleth"
           }
          ],
          "contour": [
           {
            "colorbar": {
             "outlinewidth": 1,
             "tickcolor": "rgb(36,36,36)",
             "ticks": "outside"
            },
            "colorscale": [
             [
              0,
              "#440154"
             ],
             [
              0.1111111111111111,
              "#482878"
             ],
             [
              0.2222222222222222,
              "#3e4989"
             ],
             [
              0.3333333333333333,
              "#31688e"
             ],
             [
              0.4444444444444444,
              "#26828e"
             ],
             [
              0.5555555555555556,
              "#1f9e89"
             ],
             [
              0.6666666666666666,
              "#35b779"
             ],
             [
              0.7777777777777778,
              "#6ece58"
             ],
             [
              0.8888888888888888,
              "#b5de2b"
             ],
             [
              1,
              "#fde725"
             ]
            ],
            "type": "contour"
           }
          ],
          "contourcarpet": [
           {
            "colorbar": {
             "outlinewidth": 1,
             "tickcolor": "rgb(36,36,36)",
             "ticks": "outside"
            },
            "type": "contourcarpet"
           }
          ],
          "heatmap": [
           {
            "colorbar": {
             "outlinewidth": 1,
             "tickcolor": "rgb(36,36,36)",
             "ticks": "outside"
            },
            "colorscale": [
             [
              0,
              "#440154"
             ],
             [
              0.1111111111111111,
              "#482878"
             ],
             [
              0.2222222222222222,
              "#3e4989"
             ],
             [
              0.3333333333333333,
              "#31688e"
             ],
             [
              0.4444444444444444,
              "#26828e"
             ],
             [
              0.5555555555555556,
              "#1f9e89"
             ],
             [
              0.6666666666666666,
              "#35b779"
             ],
             [
              0.7777777777777778,
              "#6ece58"
             ],
             [
              0.8888888888888888,
              "#b5de2b"
             ],
             [
              1,
              "#fde725"
             ]
            ],
            "type": "heatmap"
           }
          ],
          "heatmapgl": [
           {
            "colorbar": {
             "outlinewidth": 1,
             "tickcolor": "rgb(36,36,36)",
             "ticks": "outside"
            },
            "colorscale": [
             [
              0,
              "#440154"
             ],
             [
              0.1111111111111111,
              "#482878"
             ],
             [
              0.2222222222222222,
              "#3e4989"
             ],
             [
              0.3333333333333333,
              "#31688e"
             ],
             [
              0.4444444444444444,
              "#26828e"
             ],
             [
              0.5555555555555556,
              "#1f9e89"
             ],
             [
              0.6666666666666666,
              "#35b779"
             ],
             [
              0.7777777777777778,
              "#6ece58"
             ],
             [
              0.8888888888888888,
              "#b5de2b"
             ],
             [
              1,
              "#fde725"
             ]
            ],
            "type": "heatmapgl"
           }
          ],
          "histogram": [
           {
            "marker": {
             "line": {
              "color": "white",
              "width": 0.6
             }
            },
            "type": "histogram"
           }
          ],
          "histogram2d": [
           {
            "colorbar": {
             "outlinewidth": 1,
             "tickcolor": "rgb(36,36,36)",
             "ticks": "outside"
            },
            "colorscale": [
             [
              0,
              "#440154"
             ],
             [
              0.1111111111111111,
              "#482878"
             ],
             [
              0.2222222222222222,
              "#3e4989"
             ],
             [
              0.3333333333333333,
              "#31688e"
             ],
             [
              0.4444444444444444,
              "#26828e"
             ],
             [
              0.5555555555555556,
              "#1f9e89"
             ],
             [
              0.6666666666666666,
              "#35b779"
             ],
             [
              0.7777777777777778,
              "#6ece58"
             ],
             [
              0.8888888888888888,
              "#b5de2b"
             ],
             [
              1,
              "#fde725"
             ]
            ],
            "type": "histogram2d"
           }
          ],
          "histogram2dcontour": [
           {
            "colorbar": {
             "outlinewidth": 1,
             "tickcolor": "rgb(36,36,36)",
             "ticks": "outside"
            },
            "colorscale": [
             [
              0,
              "#440154"
             ],
             [
              0.1111111111111111,
              "#482878"
             ],
             [
              0.2222222222222222,
              "#3e4989"
             ],
             [
              0.3333333333333333,
              "#31688e"
             ],
             [
              0.4444444444444444,
              "#26828e"
             ],
             [
              0.5555555555555556,
              "#1f9e89"
             ],
             [
              0.6666666666666666,
              "#35b779"
             ],
             [
              0.7777777777777778,
              "#6ece58"
             ],
             [
              0.8888888888888888,
              "#b5de2b"
             ],
             [
              1,
              "#fde725"
             ]
            ],
            "type": "histogram2dcontour"
           }
          ],
          "mesh3d": [
           {
            "colorbar": {
             "outlinewidth": 1,
             "tickcolor": "rgb(36,36,36)",
             "ticks": "outside"
            },
            "type": "mesh3d"
           }
          ],
          "parcoords": [
           {
            "line": {
             "colorbar": {
              "outlinewidth": 1,
              "tickcolor": "rgb(36,36,36)",
              "ticks": "outside"
             }
            },
            "type": "parcoords"
           }
          ],
          "pie": [
           {
            "automargin": true,
            "type": "pie"
           }
          ],
          "scatter": [
           {
            "fillpattern": {
             "fillmode": "overlay",
             "size": 10,
             "solidity": 0.2
            },
            "type": "scatter"
           }
          ],
          "scatter3d": [
           {
            "line": {
             "colorbar": {
              "outlinewidth": 1,
              "tickcolor": "rgb(36,36,36)",
              "ticks": "outside"
             }
            },
            "marker": {
             "colorbar": {
              "outlinewidth": 1,
              "tickcolor": "rgb(36,36,36)",
              "ticks": "outside"
             }
            },
            "type": "scatter3d"
           }
          ],
          "scattercarpet": [
           {
            "marker": {
             "colorbar": {
              "outlinewidth": 1,
              "tickcolor": "rgb(36,36,36)",
              "ticks": "outside"
             }
            },
            "type": "scattercarpet"
           }
          ],
          "scattergeo": [
           {
            "marker": {
             "colorbar": {
              "outlinewidth": 1,
              "tickcolor": "rgb(36,36,36)",
              "ticks": "outside"
             }
            },
            "type": "scattergeo"
           }
          ],
          "scattergl": [
           {
            "marker": {
             "colorbar": {
              "outlinewidth": 1,
              "tickcolor": "rgb(36,36,36)",
              "ticks": "outside"
             }
            },
            "type": "scattergl"
           }
          ],
          "scattermapbox": [
           {
            "marker": {
             "colorbar": {
              "outlinewidth": 1,
              "tickcolor": "rgb(36,36,36)",
              "ticks": "outside"
             }
            },
            "type": "scattermapbox"
           }
          ],
          "scatterpolar": [
           {
            "marker": {
             "colorbar": {
              "outlinewidth": 1,
              "tickcolor": "rgb(36,36,36)",
              "ticks": "outside"
             }
            },
            "type": "scatterpolar"
           }
          ],
          "scatterpolargl": [
           {
            "marker": {
             "colorbar": {
              "outlinewidth": 1,
              "tickcolor": "rgb(36,36,36)",
              "ticks": "outside"
             }
            },
            "type": "scatterpolargl"
           }
          ],
          "scatterternary": [
           {
            "marker": {
             "colorbar": {
              "outlinewidth": 1,
              "tickcolor": "rgb(36,36,36)",
              "ticks": "outside"
             }
            },
            "type": "scatterternary"
           }
          ],
          "surface": [
           {
            "colorbar": {
             "outlinewidth": 1,
             "tickcolor": "rgb(36,36,36)",
             "ticks": "outside"
            },
            "colorscale": [
             [
              0,
              "#440154"
             ],
             [
              0.1111111111111111,
              "#482878"
             ],
             [
              0.2222222222222222,
              "#3e4989"
             ],
             [
              0.3333333333333333,
              "#31688e"
             ],
             [
              0.4444444444444444,
              "#26828e"
             ],
             [
              0.5555555555555556,
              "#1f9e89"
             ],
             [
              0.6666666666666666,
              "#35b779"
             ],
             [
              0.7777777777777778,
              "#6ece58"
             ],
             [
              0.8888888888888888,
              "#b5de2b"
             ],
             [
              1,
              "#fde725"
             ]
            ],
            "type": "surface"
           }
          ],
          "table": [
           {
            "cells": {
             "fill": {
              "color": "rgb(237,237,237)"
             },
             "line": {
              "color": "white"
             }
            },
            "header": {
             "fill": {
              "color": "rgb(217,217,217)"
             },
             "line": {
              "color": "white"
             }
            },
            "type": "table"
           }
          ]
         },
         "layout": {
          "annotationdefaults": {
           "arrowhead": 0,
           "arrowwidth": 1
          },
          "autotypenumbers": "strict",
          "coloraxis": {
           "colorbar": {
            "outlinewidth": 1,
            "tickcolor": "rgb(36,36,36)",
            "ticks": "outside"
           }
          },
          "colorscale": {
           "diverging": [
            [
             0,
             "rgb(103,0,31)"
            ],
            [
             0.1,
             "rgb(178,24,43)"
            ],
            [
             0.2,
             "rgb(214,96,77)"
            ],
            [
             0.3,
             "rgb(244,165,130)"
            ],
            [
             0.4,
             "rgb(253,219,199)"
            ],
            [
             0.5,
             "rgb(247,247,247)"
            ],
            [
             0.6,
             "rgb(209,229,240)"
            ],
            [
             0.7,
             "rgb(146,197,222)"
            ],
            [
             0.8,
             "rgb(67,147,195)"
            ],
            [
             0.9,
             "rgb(33,102,172)"
            ],
            [
             1,
             "rgb(5,48,97)"
            ]
           ],
           "sequential": [
            [
             0,
             "#440154"
            ],
            [
             0.1111111111111111,
             "#482878"
            ],
            [
             0.2222222222222222,
             "#3e4989"
            ],
            [
             0.3333333333333333,
             "#31688e"
            ],
            [
             0.4444444444444444,
             "#26828e"
            ],
            [
             0.5555555555555556,
             "#1f9e89"
            ],
            [
             0.6666666666666666,
             "#35b779"
            ],
            [
             0.7777777777777778,
             "#6ece58"
            ],
            [
             0.8888888888888888,
             "#b5de2b"
            ],
            [
             1,
             "#fde725"
            ]
           ],
           "sequentialminus": [
            [
             0,
             "#440154"
            ],
            [
             0.1111111111111111,
             "#482878"
            ],
            [
             0.2222222222222222,
             "#3e4989"
            ],
            [
             0.3333333333333333,
             "#31688e"
            ],
            [
             0.4444444444444444,
             "#26828e"
            ],
            [
             0.5555555555555556,
             "#1f9e89"
            ],
            [
             0.6666666666666666,
             "#35b779"
            ],
            [
             0.7777777777777778,
             "#6ece58"
            ],
            [
             0.8888888888888888,
             "#b5de2b"
            ],
            [
             1,
             "#fde725"
            ]
           ]
          },
          "colorway": [
           "#1F77B4",
           "#FF7F0E",
           "#2CA02C",
           "#D62728",
           "#9467BD",
           "#8C564B",
           "#E377C2",
           "#7F7F7F",
           "#BCBD22",
           "#17BECF"
          ],
          "font": {
           "color": "rgb(36,36,36)"
          },
          "geo": {
           "bgcolor": "white",
           "lakecolor": "white",
           "landcolor": "white",
           "showlakes": true,
           "showland": true,
           "subunitcolor": "white"
          },
          "hoverlabel": {
           "align": "left"
          },
          "hovermode": "closest",
          "mapbox": {
           "style": "light"
          },
          "paper_bgcolor": "white",
          "plot_bgcolor": "white",
          "polar": {
           "angularaxis": {
            "gridcolor": "rgb(232,232,232)",
            "linecolor": "rgb(36,36,36)",
            "showgrid": false,
            "showline": true,
            "ticks": "outside"
           },
           "bgcolor": "white",
           "radialaxis": {
            "gridcolor": "rgb(232,232,232)",
            "linecolor": "rgb(36,36,36)",
            "showgrid": false,
            "showline": true,
            "ticks": "outside"
           }
          },
          "scene": {
           "xaxis": {
            "backgroundcolor": "white",
            "gridcolor": "rgb(232,232,232)",
            "gridwidth": 2,
            "linecolor": "rgb(36,36,36)",
            "showbackground": true,
            "showgrid": false,
            "showline": true,
            "ticks": "outside",
            "zeroline": false,
            "zerolinecolor": "rgb(36,36,36)"
           },
           "yaxis": {
            "backgroundcolor": "white",
            "gridcolor": "rgb(232,232,232)",
            "gridwidth": 2,
            "linecolor": "rgb(36,36,36)",
            "showbackground": true,
            "showgrid": false,
            "showline": true,
            "ticks": "outside",
            "zeroline": false,
            "zerolinecolor": "rgb(36,36,36)"
           },
           "zaxis": {
            "backgroundcolor": "white",
            "gridcolor": "rgb(232,232,232)",
            "gridwidth": 2,
            "linecolor": "rgb(36,36,36)",
            "showbackground": true,
            "showgrid": false,
            "showline": true,
            "ticks": "outside",
            "zeroline": false,
            "zerolinecolor": "rgb(36,36,36)"
           }
          },
          "shapedefaults": {
           "fillcolor": "black",
           "line": {
            "width": 0
           },
           "opacity": 0.3
          },
          "ternary": {
           "aaxis": {
            "gridcolor": "rgb(232,232,232)",
            "linecolor": "rgb(36,36,36)",
            "showgrid": false,
            "showline": true,
            "ticks": "outside"
           },
           "baxis": {
            "gridcolor": "rgb(232,232,232)",
            "linecolor": "rgb(36,36,36)",
            "showgrid": false,
            "showline": true,
            "ticks": "outside"
           },
           "bgcolor": "white",
           "caxis": {
            "gridcolor": "rgb(232,232,232)",
            "linecolor": "rgb(36,36,36)",
            "showgrid": false,
            "showline": true,
            "ticks": "outside"
           }
          },
          "title": {
           "x": 0.05
          },
          "xaxis": {
           "automargin": true,
           "gridcolor": "rgb(232,232,232)",
           "linecolor": "rgb(36,36,36)",
           "showgrid": false,
           "showline": true,
           "ticks": "outside",
           "title": {
            "standoff": 15
           },
           "zeroline": false,
           "zerolinecolor": "rgb(36,36,36)"
          },
          "yaxis": {
           "automargin": true,
           "gridcolor": "rgb(232,232,232)",
           "linecolor": "rgb(36,36,36)",
           "showgrid": false,
           "showline": true,
           "ticks": "outside",
           "title": {
            "standoff": 15
           },
           "zeroline": false,
           "zerolinecolor": "rgb(36,36,36)"
          }
         }
        },
        "width": 800,
        "xaxis": {
         "anchor": "y",
         "domain": [
          0,
          0.45
         ],
         "showgrid": false,
         "title": {
          "text": "x_0"
         }
        },
        "xaxis2": {
         "anchor": "y2",
         "domain": [
          0.55,
          1
         ],
         "title": {
          "text": "x_1"
         }
        },
        "xaxis3": {
         "anchor": "y3",
         "domain": [
          0,
          0.45
         ],
         "title": {
          "text": "x_2"
         }
        },
        "xaxis4": {
         "anchor": "y4",
         "domain": [
          0.55,
          1
         ],
         "title": {
          "text": "x_3"
         }
        },
        "yaxis": {
         "anchor": "x",
         "domain": [
          0.6000000000000001,
          1
         ],
         "range": [
          -1.8286053445948836,
          93.25887257433905
         ],
         "showgrid": false,
         "title": {
          "text": "Criterion Value"
         }
        },
        "yaxis2": {
         "anchor": "x2",
         "domain": [
          0.6000000000000001,
          1
         ],
         "matches": "y",
         "range": [
          -1.8286053445948836,
          93.25887257433905
         ],
         "showticklabels": false
        },
        "yaxis3": {
         "anchor": "x3",
         "domain": [
          0,
          0.4
         ],
         "range": [
          -1.8286053445948836,
          93.25887257433905
         ],
         "title": {
          "text": "Criterion Value"
         }
        },
        "yaxis4": {
         "anchor": "x4",
         "domain": [
          0,
          0.4
         ],
         "matches": "y3",
         "range": [
          -1.8286053445948836,
          93.25887257433905
         ],
         "showticklabels": false
        }
       }
      },
      "text/html": [
       "<div>                            <div id=\"ea43ad43-8bb0-4fce-bb50-827377bbe078\" class=\"plotly-graph-div\" style=\"height:600px; width:800px;\"></div>            <script type=\"text/javascript\">                require([\"plotly\"], function(Plotly) {                    window.PLOTLYENV=window.PLOTLYENV || {};                                    if (document.getElementById(\"ea43ad43-8bb0-4fce-bb50-827377bbe078\")) {                    Plotly.newPlot(                        \"ea43ad43-8bb0-4fce-bb50-827377bbe078\",                        [{\"hovertemplate\":\"value_identifier=start values<br>Parameter Value=%{x}<br>Criterion Value=%{y}<extra></extra>\",\"legendgroup\":\"start values\",\"line\":{\"color\":\"rgb(102,194,165)\",\"dash\":\"solid\"},\"marker\":{\"symbol\":\"circle\"},\"mode\":\"lines\",\"name\":\"start values\",\"orientation\":\"v\",\"showlegend\":true,\"x\":[-5.0,-4.5,-4.0,-3.5,-3.0,-2.5,-2.0,-1.5,-1.0,-0.5,0.0,0.5,1.0,1.5,2.0,2.5,3.0,3.5,4.0,4.5,5.0],\"xaxis\":\"x\",\"y\":[25.0,20.25,16.0,12.25,9.0,6.25,4.0,2.25,1.0,0.25,0.0,0.25,1.0,2.25,4.0,6.25,9.0,12.25,16.0,20.25,25.0],\"yaxis\":\"y\",\"type\":\"scatter\"},{\"hovertemplate\":\"value_identifier=random value 0<br>Parameter Value=%{x}<br>Criterion Value=%{y}<extra></extra>\",\"legendgroup\":\"random value 0\",\"line\":{\"color\":\"rgb(252,141,98)\",\"dash\":\"solid\"},\"marker\":{\"symbol\":\"circle\"},\"mode\":\"lines\",\"name\":\"random value 0\",\"orientation\":\"v\",\"showlegend\":true,\"x\":[-5.0,-4.5,-4.0,-3.5,-3.0,-2.5,-2.0,-1.5,-1.0,-0.5,0.0,0.5,1.0,1.5,2.0,2.5,3.0,3.5,4.0,4.5,5.0],\"xaxis\":\"x\",\"y\":[73.7712318095864,69.0212318095864,64.7712318095864,61.0212318095864,57.7712318095864,55.0212318095864,52.7712318095864,51.0212318095864,49.7712318095864,49.0212318095864,48.7712318095864,49.0212318095864,49.7712318095864,51.0212318095864,52.7712318095864,55.0212318095864,57.7712318095864,61.0212318095864,64.7712318095864,69.0212318095864,73.7712318095864],\"yaxis\":\"y\",\"type\":\"scatter\"},{\"hovertemplate\":\"value_identifier=random value 1<br>Parameter Value=%{x}<br>Criterion Value=%{y}<extra></extra>\",\"legendgroup\":\"random value 1\",\"line\":{\"color\":\"rgb(141,160,203)\",\"dash\":\"solid\"},\"marker\":{\"symbol\":\"circle\"},\"mode\":\"lines\",\"name\":\"random value 1\",\"orientation\":\"v\",\"showlegend\":true,\"x\":[-5.0,-4.5,-4.0,-3.5,-3.0,-2.5,-2.0,-1.5,-1.0,-0.5,0.0,0.5,1.0,1.5,2.0,2.5,3.0,3.5,4.0,4.5,5.0],\"xaxis\":\"x\",\"y\":[50.139996602054055,45.389996602054055,41.139996602054055,37.389996602054055,34.139996602054055,31.389996602054055,29.139996602054055,27.389996602054055,26.139996602054055,25.389996602054055,25.139996602054055,25.389996602054055,26.139996602054055,27.389996602054055,29.139996602054055,31.389996602054055,34.139996602054055,37.389996602054055,41.139996602054055,45.389996602054055,50.139996602054055],\"yaxis\":\"y\",\"type\":\"scatter\"},{\"hovertemplate\":\"value_identifier=start values<br>Parameter Value=%{x}<br>Criterion Value=%{y}<extra></extra>\",\"legendgroup\":\"start values\",\"line\":{\"color\":\"rgb(102,194,165)\",\"dash\":\"solid\"},\"marker\":{\"symbol\":\"circle\"},\"mode\":\"lines\",\"name\":\"start values\",\"orientation\":\"v\",\"showlegend\":false,\"x\":[-5.0,-4.5,-4.0,-3.5,-3.0,-2.5,-2.0,-1.5,-1.0,-0.5,0.0,0.5,1.0,1.5,2.0,2.5,3.0,3.5,4.0,4.5,5.0],\"xaxis\":\"x2\",\"y\":[25.0,20.25,16.0,12.25,9.0,6.25,4.0,2.25,1.0,0.25,0.0,0.25,1.0,2.25,4.0,6.25,9.0,12.25,16.0,20.25,25.0],\"yaxis\":\"y2\",\"type\":\"scatter\"},{\"hovertemplate\":\"value_identifier=random value 0<br>Parameter Value=%{x}<br>Criterion Value=%{y}<extra></extra>\",\"legendgroup\":\"random value 0\",\"line\":{\"color\":\"rgb(252,141,98)\",\"dash\":\"solid\"},\"marker\":{\"symbol\":\"circle\"},\"mode\":\"lines\",\"name\":\"random value 0\",\"orientation\":\"v\",\"showlegend\":false,\"x\":[-5.0,-4.5,-4.0,-3.5,-3.0,-2.5,-2.0,-1.5,-1.0,-0.5,0.0,0.5,1.0,1.5,2.0,2.5,3.0,3.5,4.0,4.5,5.0],\"xaxis\":\"x2\",\"y\":[91.43026722974417,86.68026722974417,82.43026722974417,78.68026722974417,75.43026722974417,72.68026722974417,70.43026722974417,68.68026722974417,67.43026722974417,66.68026722974417,66.43026722974417,66.68026722974417,67.43026722974417,68.68026722974417,70.43026722974417,72.68026722974417,75.43026722974417,78.68026722974417,82.43026722974417,86.68026722974417,91.43026722974417],\"yaxis\":\"y2\",\"type\":\"scatter\"},{\"hovertemplate\":\"value_identifier=random value 1<br>Parameter Value=%{x}<br>Criterion Value=%{y}<extra></extra>\",\"legendgroup\":\"random value 1\",\"line\":{\"color\":\"rgb(141,160,203)\",\"dash\":\"solid\"},\"marker\":{\"symbol\":\"circle\"},\"mode\":\"lines\",\"name\":\"random value 1\",\"orientation\":\"v\",\"showlegend\":false,\"x\":[-5.0,-4.5,-4.0,-3.5,-3.0,-2.5,-2.0,-1.5,-1.0,-0.5,0.0,0.5,1.0,1.5,2.0,2.5,3.0,3.5,4.0,4.5,5.0],\"xaxis\":\"x2\",\"y\":[44.911506027416735,40.161506027416735,35.911506027416735,32.161506027416735,28.911506027416735,26.161506027416735,23.911506027416735,22.161506027416735,20.911506027416735,20.161506027416735,19.911506027416735,20.161506027416735,20.911506027416735,22.161506027416735,23.911506027416735,26.161506027416735,28.911506027416735,32.161506027416735,35.911506027416735,40.161506027416735,44.911506027416735],\"yaxis\":\"y2\",\"type\":\"scatter\"},{\"hovertemplate\":\"value_identifier=random value 2<br>Parameter Value=%{x}<br>Criterion Value=%{y}<extra></extra>\",\"legendgroup\":\"random value 2\",\"line\":{\"color\":\"rgb(231,138,195)\",\"dash\":\"solid\"},\"marker\":{\"symbol\":\"circle\"},\"mode\":\"lines\",\"name\":\"random value 2\",\"orientation\":\"v\",\"showlegend\":true,\"x\":[-5.0,-4.5,-4.0,-3.5,-3.0,-2.5,-2.0,-1.5,-1.0,-0.5,0.0,0.5,1.0,1.5,2.0,2.5,3.0,3.5,4.0,4.5,5.0],\"xaxis\":\"x2\",\"y\":[41.324277890002705,36.574277890002705,32.324277890002705,28.57427789000271,25.32427789000271,22.57427789000271,20.32427789000271,18.57427789000271,17.32427789000271,16.57427789000271,16.32427789000271,16.57427789000271,17.32427789000271,18.57427789000271,20.32427789000271,22.57427789000271,25.32427789000271,28.57427789000271,32.324277890002705,36.574277890002705,41.324277890002705],\"yaxis\":\"y2\",\"type\":\"scatter\"},{\"hovertemplate\":\"value_identifier=start values<br>Parameter Value=%{x}<br>Criterion Value=%{y}<extra></extra>\",\"legendgroup\":\"start values\",\"line\":{\"color\":\"rgb(102,194,165)\",\"dash\":\"solid\"},\"marker\":{\"symbol\":\"circle\"},\"mode\":\"lines\",\"name\":\"start values\",\"orientation\":\"v\",\"showlegend\":false,\"x\":[-5.0,-4.5,-4.0,-3.5,-3.0,-2.5,-2.0,-1.5,-1.0,-0.5,0.0,0.5,1.0,1.5,2.0,2.5,3.0,3.5,4.0,4.5,5.0],\"xaxis\":\"x3\",\"y\":[25.0,20.25,16.0,12.25,9.0,6.25,4.0,2.25,1.0,0.25,0.0,0.25,1.0,2.25,4.0,6.25,9.0,12.25,16.0,20.25,25.0],\"yaxis\":\"y3\",\"type\":\"scatter\"},{\"hovertemplate\":\"value_identifier=random value 0<br>Parameter Value=%{x}<br>Criterion Value=%{y}<extra></extra>\",\"legendgroup\":\"random value 0\",\"line\":{\"color\":\"rgb(252,141,98)\",\"dash\":\"solid\"},\"marker\":{\"symbol\":\"circle\"},\"mode\":\"lines\",\"name\":\"random value 0\",\"orientation\":\"v\",\"showlegend\":false,\"x\":[-5.0,-4.5,-4.0,-3.5,-3.0,-2.5,-2.0,-1.5,-1.0,-0.5,0.0,0.5,1.0,1.5,2.0,2.5,3.0,3.5,4.0,4.5,5.0],\"xaxis\":\"x3\",\"y\":[74.70888845555935,69.95888845555935,65.70888845555935,61.95888845555935,58.70888845555935,55.95888845555935,53.70888845555935,51.95888845555935,50.70888845555935,49.95888845555935,49.70888845555935,49.95888845555935,50.70888845555935,51.95888845555935,53.70888845555935,55.95888845555935,58.70888845555935,61.95888845555935,65.70888845555935,69.95888845555935,74.70888845555935],\"yaxis\":\"y3\",\"type\":\"scatter\"},{\"hovertemplate\":\"value_identifier=random value 1<br>Parameter Value=%{x}<br>Criterion Value=%{y}<extra></extra>\",\"legendgroup\":\"random value 1\",\"line\":{\"color\":\"rgb(141,160,203)\",\"dash\":\"solid\"},\"marker\":{\"symbol\":\"circle\"},\"mode\":\"lines\",\"name\":\"random value 1\",\"orientation\":\"v\",\"showlegend\":false,\"x\":[-5.0,-4.5,-4.0,-3.5,-3.0,-2.5,-2.0,-1.5,-1.0,-0.5,0.0,0.5,1.0,1.5,2.0,2.5,3.0,3.5,4.0,4.5,5.0],\"xaxis\":\"x3\",\"y\":[45.825736439320075,41.075736439320075,36.825736439320075,33.075736439320075,29.825736439320075,27.075736439320075,24.825736439320075,23.075736439320075,21.825736439320075,21.075736439320075,20.825736439320075,21.075736439320075,21.825736439320075,23.075736439320075,24.825736439320075,27.075736439320075,29.825736439320075,33.075736439320075,36.825736439320075,41.075736439320075,45.825736439320075],\"yaxis\":\"y3\",\"type\":\"scatter\"},{\"hovertemplate\":\"value_identifier=random value 2<br>Parameter Value=%{x}<br>Criterion Value=%{y}<extra></extra>\",\"legendgroup\":\"random value 2\",\"line\":{\"color\":\"rgb(231,138,195)\",\"dash\":\"solid\"},\"marker\":{\"symbol\":\"circle\"},\"mode\":\"lines\",\"name\":\"random value 2\",\"orientation\":\"v\",\"showlegend\":false,\"x\":[-5.0,-4.5,-4.0,-3.5,-3.0,-2.5,-2.0,-1.5,-1.0,-0.5,0.0,0.5,1.0,1.5,2.0,2.5,3.0,3.5,4.0,4.5,5.0],\"xaxis\":\"x3\",\"y\":[46.75760681287284,42.00760681287284,37.75760681287284,34.00760681287284,30.757606812872837,28.007606812872837,25.757606812872837,24.007606812872837,22.757606812872837,22.007606812872837,21.757606812872837,22.007606812872837,22.757606812872837,24.007606812872837,25.757606812872837,28.007606812872837,30.757606812872837,34.00760681287284,37.75760681287284,42.00760681287284,46.75760681287284],\"yaxis\":\"y3\",\"type\":\"scatter\"},{\"hovertemplate\":\"value_identifier=start values<br>Parameter Value=%{x}<br>Criterion Value=%{y}<extra></extra>\",\"legendgroup\":\"start values\",\"line\":{\"color\":\"rgb(102,194,165)\",\"dash\":\"solid\"},\"marker\":{\"symbol\":\"circle\"},\"mode\":\"lines\",\"name\":\"start values\",\"orientation\":\"v\",\"showlegend\":false,\"x\":[-5.0,-4.5,-4.0,-3.5,-3.0,-2.5,-2.0,-1.5,-1.0,-0.5,0.0,0.5,1.0,1.5,2.0,2.5,3.0,3.5,4.0,4.5,5.0],\"xaxis\":\"x4\",\"y\":[25.0,20.25,16.0,12.25,9.0,6.25,4.0,2.25,1.0,0.25,0.0,0.25,1.0,2.25,4.0,6.25,9.0,12.25,16.0,20.25,25.0],\"yaxis\":\"y4\",\"type\":\"scatter\"},{\"hovertemplate\":\"value_identifier=random value 0<br>Parameter Value=%{x}<br>Criterion Value=%{y}<extra></extra>\",\"legendgroup\":\"random value 0\",\"line\":{\"color\":\"rgb(252,141,98)\",\"dash\":\"solid\"},\"marker\":{\"symbol\":\"circle\"},\"mode\":\"lines\",\"name\":\"random value 0\",\"orientation\":\"v\",\"showlegend\":false,\"x\":[-5.0,-4.5,-4.0,-3.5,-3.0,-2.5,-2.0,-1.5,-1.0,-0.5,0.0,0.5,1.0,1.5,2.0,2.5,3.0,3.5,4.0,4.5,5.0],\"xaxis\":\"x4\",\"y\":[74.77138554942823,70.02138554942823,65.77138554942823,62.02138554942823,58.77138554942823,56.02138554942823,53.77138554942823,52.02138554942823,50.77138554942823,50.02138554942823,49.77138554942823,50.02138554942823,50.77138554942823,52.02138554942823,53.77138554942823,56.02138554942823,58.77138554942823,62.02138554942823,65.77138554942823,70.02138554942823,74.77138554942823],\"yaxis\":\"y4\",\"type\":\"scatter\"},{\"hovertemplate\":\"value_identifier=random value 1<br>Parameter Value=%{x}<br>Criterion Value=%{y}<extra></extra>\",\"legendgroup\":\"random value 1\",\"line\":{\"color\":\"rgb(141,160,203)\",\"dash\":\"solid\"},\"marker\":{\"symbol\":\"circle\"},\"mode\":\"lines\",\"name\":\"random value 1\",\"orientation\":\"v\",\"showlegend\":false,\"x\":[-5.0,-4.5,-4.0,-3.5,-3.0,-2.5,-2.0,-1.5,-1.0,-0.5,0.0,0.5,1.0,1.5,2.0,2.5,3.0,3.5,4.0,4.5,5.0],\"xaxis\":\"x4\",\"y\":[43.0714057630159,38.3214057630159,34.0714057630159,30.3214057630159,27.0714057630159,24.3214057630159,22.0714057630159,20.3214057630159,19.0714057630159,18.3214057630159,18.0714057630159,18.3214057630159,19.0714057630159,20.3214057630159,22.0714057630159,24.3214057630159,27.0714057630159,30.3214057630159,34.0714057630159,38.3214057630159,43.0714057630159],\"yaxis\":\"y4\",\"type\":\"scatter\"},{\"hovertemplate\":\"value_identifier=random value 2<br>Parameter Value=%{x}<br>Criterion Value=%{y}<extra></extra>\",\"legendgroup\":\"random value 2\",\"line\":{\"color\":\"rgb(231,138,195)\",\"dash\":\"solid\"},\"marker\":{\"symbol\":\"circle\"},\"mode\":\"lines\",\"name\":\"random value 2\",\"orientation\":\"v\",\"showlegend\":false,\"x\":[-5.0,-4.5,-4.0,-3.5,-3.0,-2.5,-2.0,-1.5,-1.0,-0.5,0.0,0.5,1.0,1.5,2.0,2.5,3.0,3.5,4.0,4.5,5.0],\"xaxis\":\"x4\",\"y\":[36.234062337211114,31.484062337211114,27.234062337211114,23.484062337211114,20.234062337211114,17.484062337211114,15.234062337211112,13.484062337211112,12.234062337211112,11.484062337211112,11.234062337211112,11.484062337211112,12.234062337211112,13.484062337211112,15.234062337211112,17.484062337211114,20.234062337211114,23.484062337211114,27.234062337211114,31.484062337211114,36.234062337211114],\"yaxis\":\"y4\",\"type\":\"scatter\"}],                        {\"template\":{\"data\":{\"barpolar\":[{\"marker\":{\"line\":{\"color\":\"white\",\"width\":0.5},\"pattern\":{\"fillmode\":\"overlay\",\"size\":10,\"solidity\":0.2}},\"type\":\"barpolar\"}],\"bar\":[{\"error_x\":{\"color\":\"rgb(36,36,36)\"},\"error_y\":{\"color\":\"rgb(36,36,36)\"},\"marker\":{\"line\":{\"color\":\"white\",\"width\":0.5},\"pattern\":{\"fillmode\":\"overlay\",\"size\":10,\"solidity\":0.2}},\"type\":\"bar\"}],\"carpet\":[{\"aaxis\":{\"endlinecolor\":\"rgb(36,36,36)\",\"gridcolor\":\"white\",\"linecolor\":\"white\",\"minorgridcolor\":\"white\",\"startlinecolor\":\"rgb(36,36,36)\"},\"baxis\":{\"endlinecolor\":\"rgb(36,36,36)\",\"gridcolor\":\"white\",\"linecolor\":\"white\",\"minorgridcolor\":\"white\",\"startlinecolor\":\"rgb(36,36,36)\"},\"type\":\"carpet\"}],\"choropleth\":[{\"colorbar\":{\"outlinewidth\":1,\"tickcolor\":\"rgb(36,36,36)\",\"ticks\":\"outside\"},\"type\":\"choropleth\"}],\"contourcarpet\":[{\"colorbar\":{\"outlinewidth\":1,\"tickcolor\":\"rgb(36,36,36)\",\"ticks\":\"outside\"},\"type\":\"contourcarpet\"}],\"contour\":[{\"colorbar\":{\"outlinewidth\":1,\"tickcolor\":\"rgb(36,36,36)\",\"ticks\":\"outside\"},\"colorscale\":[[0.0,\"#440154\"],[0.1111111111111111,\"#482878\"],[0.2222222222222222,\"#3e4989\"],[0.3333333333333333,\"#31688e\"],[0.4444444444444444,\"#26828e\"],[0.5555555555555556,\"#1f9e89\"],[0.6666666666666666,\"#35b779\"],[0.7777777777777778,\"#6ece58\"],[0.8888888888888888,\"#b5de2b\"],[1.0,\"#fde725\"]],\"type\":\"contour\"}],\"heatmapgl\":[{\"colorbar\":{\"outlinewidth\":1,\"tickcolor\":\"rgb(36,36,36)\",\"ticks\":\"outside\"},\"colorscale\":[[0.0,\"#440154\"],[0.1111111111111111,\"#482878\"],[0.2222222222222222,\"#3e4989\"],[0.3333333333333333,\"#31688e\"],[0.4444444444444444,\"#26828e\"],[0.5555555555555556,\"#1f9e89\"],[0.6666666666666666,\"#35b779\"],[0.7777777777777778,\"#6ece58\"],[0.8888888888888888,\"#b5de2b\"],[1.0,\"#fde725\"]],\"type\":\"heatmapgl\"}],\"heatmap\":[{\"colorbar\":{\"outlinewidth\":1,\"tickcolor\":\"rgb(36,36,36)\",\"ticks\":\"outside\"},\"colorscale\":[[0.0,\"#440154\"],[0.1111111111111111,\"#482878\"],[0.2222222222222222,\"#3e4989\"],[0.3333333333333333,\"#31688e\"],[0.4444444444444444,\"#26828e\"],[0.5555555555555556,\"#1f9e89\"],[0.6666666666666666,\"#35b779\"],[0.7777777777777778,\"#6ece58\"],[0.8888888888888888,\"#b5de2b\"],[1.0,\"#fde725\"]],\"type\":\"heatmap\"}],\"histogram2dcontour\":[{\"colorbar\":{\"outlinewidth\":1,\"tickcolor\":\"rgb(36,36,36)\",\"ticks\":\"outside\"},\"colorscale\":[[0.0,\"#440154\"],[0.1111111111111111,\"#482878\"],[0.2222222222222222,\"#3e4989\"],[0.3333333333333333,\"#31688e\"],[0.4444444444444444,\"#26828e\"],[0.5555555555555556,\"#1f9e89\"],[0.6666666666666666,\"#35b779\"],[0.7777777777777778,\"#6ece58\"],[0.8888888888888888,\"#b5de2b\"],[1.0,\"#fde725\"]],\"type\":\"histogram2dcontour\"}],\"histogram2d\":[{\"colorbar\":{\"outlinewidth\":1,\"tickcolor\":\"rgb(36,36,36)\",\"ticks\":\"outside\"},\"colorscale\":[[0.0,\"#440154\"],[0.1111111111111111,\"#482878\"],[0.2222222222222222,\"#3e4989\"],[0.3333333333333333,\"#31688e\"],[0.4444444444444444,\"#26828e\"],[0.5555555555555556,\"#1f9e89\"],[0.6666666666666666,\"#35b779\"],[0.7777777777777778,\"#6ece58\"],[0.8888888888888888,\"#b5de2b\"],[1.0,\"#fde725\"]],\"type\":\"histogram2d\"}],\"histogram\":[{\"marker\":{\"line\":{\"color\":\"white\",\"width\":0.6}},\"type\":\"histogram\"}],\"mesh3d\":[{\"colorbar\":{\"outlinewidth\":1,\"tickcolor\":\"rgb(36,36,36)\",\"ticks\":\"outside\"},\"type\":\"mesh3d\"}],\"parcoords\":[{\"line\":{\"colorbar\":{\"outlinewidth\":1,\"tickcolor\":\"rgb(36,36,36)\",\"ticks\":\"outside\"}},\"type\":\"parcoords\"}],\"pie\":[{\"automargin\":true,\"type\":\"pie\"}],\"scatter3d\":[{\"line\":{\"colorbar\":{\"outlinewidth\":1,\"tickcolor\":\"rgb(36,36,36)\",\"ticks\":\"outside\"}},\"marker\":{\"colorbar\":{\"outlinewidth\":1,\"tickcolor\":\"rgb(36,36,36)\",\"ticks\":\"outside\"}},\"type\":\"scatter3d\"}],\"scattercarpet\":[{\"marker\":{\"colorbar\":{\"outlinewidth\":1,\"tickcolor\":\"rgb(36,36,36)\",\"ticks\":\"outside\"}},\"type\":\"scattercarpet\"}],\"scattergeo\":[{\"marker\":{\"colorbar\":{\"outlinewidth\":1,\"tickcolor\":\"rgb(36,36,36)\",\"ticks\":\"outside\"}},\"type\":\"scattergeo\"}],\"scattergl\":[{\"marker\":{\"colorbar\":{\"outlinewidth\":1,\"tickcolor\":\"rgb(36,36,36)\",\"ticks\":\"outside\"}},\"type\":\"scattergl\"}],\"scattermapbox\":[{\"marker\":{\"colorbar\":{\"outlinewidth\":1,\"tickcolor\":\"rgb(36,36,36)\",\"ticks\":\"outside\"}},\"type\":\"scattermapbox\"}],\"scatterpolargl\":[{\"marker\":{\"colorbar\":{\"outlinewidth\":1,\"tickcolor\":\"rgb(36,36,36)\",\"ticks\":\"outside\"}},\"type\":\"scatterpolargl\"}],\"scatterpolar\":[{\"marker\":{\"colorbar\":{\"outlinewidth\":1,\"tickcolor\":\"rgb(36,36,36)\",\"ticks\":\"outside\"}},\"type\":\"scatterpolar\"}],\"scatter\":[{\"fillpattern\":{\"fillmode\":\"overlay\",\"size\":10,\"solidity\":0.2},\"type\":\"scatter\"}],\"scatterternary\":[{\"marker\":{\"colorbar\":{\"outlinewidth\":1,\"tickcolor\":\"rgb(36,36,36)\",\"ticks\":\"outside\"}},\"type\":\"scatterternary\"}],\"surface\":[{\"colorbar\":{\"outlinewidth\":1,\"tickcolor\":\"rgb(36,36,36)\",\"ticks\":\"outside\"},\"colorscale\":[[0.0,\"#440154\"],[0.1111111111111111,\"#482878\"],[0.2222222222222222,\"#3e4989\"],[0.3333333333333333,\"#31688e\"],[0.4444444444444444,\"#26828e\"],[0.5555555555555556,\"#1f9e89\"],[0.6666666666666666,\"#35b779\"],[0.7777777777777778,\"#6ece58\"],[0.8888888888888888,\"#b5de2b\"],[1.0,\"#fde725\"]],\"type\":\"surface\"}],\"table\":[{\"cells\":{\"fill\":{\"color\":\"rgb(237,237,237)\"},\"line\":{\"color\":\"white\"}},\"header\":{\"fill\":{\"color\":\"rgb(217,217,217)\"},\"line\":{\"color\":\"white\"}},\"type\":\"table\"}]},\"layout\":{\"annotationdefaults\":{\"arrowhead\":0,\"arrowwidth\":1},\"autotypenumbers\":\"strict\",\"coloraxis\":{\"colorbar\":{\"outlinewidth\":1,\"tickcolor\":\"rgb(36,36,36)\",\"ticks\":\"outside\"}},\"colorscale\":{\"diverging\":[[0.0,\"rgb(103,0,31)\"],[0.1,\"rgb(178,24,43)\"],[0.2,\"rgb(214,96,77)\"],[0.3,\"rgb(244,165,130)\"],[0.4,\"rgb(253,219,199)\"],[0.5,\"rgb(247,247,247)\"],[0.6,\"rgb(209,229,240)\"],[0.7,\"rgb(146,197,222)\"],[0.8,\"rgb(67,147,195)\"],[0.9,\"rgb(33,102,172)\"],[1.0,\"rgb(5,48,97)\"]],\"sequential\":[[0.0,\"#440154\"],[0.1111111111111111,\"#482878\"],[0.2222222222222222,\"#3e4989\"],[0.3333333333333333,\"#31688e\"],[0.4444444444444444,\"#26828e\"],[0.5555555555555556,\"#1f9e89\"],[0.6666666666666666,\"#35b779\"],[0.7777777777777778,\"#6ece58\"],[0.8888888888888888,\"#b5de2b\"],[1.0,\"#fde725\"]],\"sequentialminus\":[[0.0,\"#440154\"],[0.1111111111111111,\"#482878\"],[0.2222222222222222,\"#3e4989\"],[0.3333333333333333,\"#31688e\"],[0.4444444444444444,\"#26828e\"],[0.5555555555555556,\"#1f9e89\"],[0.6666666666666666,\"#35b779\"],[0.7777777777777778,\"#6ece58\"],[0.8888888888888888,\"#b5de2b\"],[1.0,\"#fde725\"]]},\"colorway\":[\"#1F77B4\",\"#FF7F0E\",\"#2CA02C\",\"#D62728\",\"#9467BD\",\"#8C564B\",\"#E377C2\",\"#7F7F7F\",\"#BCBD22\",\"#17BECF\"],\"font\":{\"color\":\"rgb(36,36,36)\"},\"geo\":{\"bgcolor\":\"white\",\"lakecolor\":\"white\",\"landcolor\":\"white\",\"showlakes\":true,\"showland\":true,\"subunitcolor\":\"white\"},\"hoverlabel\":{\"align\":\"left\"},\"hovermode\":\"closest\",\"mapbox\":{\"style\":\"light\"},\"paper_bgcolor\":\"white\",\"plot_bgcolor\":\"white\",\"polar\":{\"angularaxis\":{\"gridcolor\":\"rgb(232,232,232)\",\"linecolor\":\"rgb(36,36,36)\",\"showgrid\":false,\"showline\":true,\"ticks\":\"outside\"},\"bgcolor\":\"white\",\"radialaxis\":{\"gridcolor\":\"rgb(232,232,232)\",\"linecolor\":\"rgb(36,36,36)\",\"showgrid\":false,\"showline\":true,\"ticks\":\"outside\"}},\"scene\":{\"xaxis\":{\"backgroundcolor\":\"white\",\"gridcolor\":\"rgb(232,232,232)\",\"gridwidth\":2,\"linecolor\":\"rgb(36,36,36)\",\"showbackground\":true,\"showgrid\":false,\"showline\":true,\"ticks\":\"outside\",\"zeroline\":false,\"zerolinecolor\":\"rgb(36,36,36)\"},\"yaxis\":{\"backgroundcolor\":\"white\",\"gridcolor\":\"rgb(232,232,232)\",\"gridwidth\":2,\"linecolor\":\"rgb(36,36,36)\",\"showbackground\":true,\"showgrid\":false,\"showline\":true,\"ticks\":\"outside\",\"zeroline\":false,\"zerolinecolor\":\"rgb(36,36,36)\"},\"zaxis\":{\"backgroundcolor\":\"white\",\"gridcolor\":\"rgb(232,232,232)\",\"gridwidth\":2,\"linecolor\":\"rgb(36,36,36)\",\"showbackground\":true,\"showgrid\":false,\"showline\":true,\"ticks\":\"outside\",\"zeroline\":false,\"zerolinecolor\":\"rgb(36,36,36)\"}},\"shapedefaults\":{\"fillcolor\":\"black\",\"line\":{\"width\":0},\"opacity\":0.3},\"ternary\":{\"aaxis\":{\"gridcolor\":\"rgb(232,232,232)\",\"linecolor\":\"rgb(36,36,36)\",\"showgrid\":false,\"showline\":true,\"ticks\":\"outside\"},\"baxis\":{\"gridcolor\":\"rgb(232,232,232)\",\"linecolor\":\"rgb(36,36,36)\",\"showgrid\":false,\"showline\":true,\"ticks\":\"outside\"},\"bgcolor\":\"white\",\"caxis\":{\"gridcolor\":\"rgb(232,232,232)\",\"linecolor\":\"rgb(36,36,36)\",\"showgrid\":false,\"showline\":true,\"ticks\":\"outside\"}},\"title\":{\"x\":0.05},\"xaxis\":{\"automargin\":true,\"gridcolor\":\"rgb(232,232,232)\",\"linecolor\":\"rgb(36,36,36)\",\"showgrid\":false,\"showline\":true,\"ticks\":\"outside\",\"title\":{\"standoff\":15},\"zeroline\":false,\"zerolinecolor\":\"rgb(36,36,36)\"},\"yaxis\":{\"automargin\":true,\"gridcolor\":\"rgb(232,232,232)\",\"linecolor\":\"rgb(36,36,36)\",\"showgrid\":false,\"showline\":true,\"ticks\":\"outside\",\"title\":{\"standoff\":15},\"zeroline\":false,\"zerolinecolor\":\"rgb(36,36,36)\"}}},\"xaxis\":{\"anchor\":\"y\",\"domain\":[0.0,0.45],\"title\":{\"text\":\"x_0\"},\"showgrid\":false},\"yaxis\":{\"anchor\":\"x\",\"domain\":[0.6000000000000001,1.0],\"title\":{\"text\":\"Criterion Value\"},\"showgrid\":false,\"range\":[-1.8286053445948836,93.25887257433905]},\"xaxis2\":{\"anchor\":\"y2\",\"domain\":[0.55,1.0],\"title\":{\"text\":\"x_1\"}},\"yaxis2\":{\"anchor\":\"x2\",\"domain\":[0.6000000000000001,1.0],\"matches\":\"y\",\"showticklabels\":false,\"range\":[-1.8286053445948836,93.25887257433905]},\"xaxis3\":{\"anchor\":\"y3\",\"domain\":[0.0,0.45],\"title\":{\"text\":\"x_2\"}},\"yaxis3\":{\"anchor\":\"x3\",\"domain\":[0.0,0.4],\"title\":{\"text\":\"Criterion Value\"},\"range\":[-1.8286053445948836,93.25887257433905]},\"xaxis4\":{\"anchor\":\"y4\",\"domain\":[0.55,1.0],\"title\":{\"text\":\"x_3\"}},\"yaxis4\":{\"anchor\":\"x4\",\"domain\":[0.0,0.4],\"matches\":\"y3\",\"showticklabels\":false,\"range\":[-1.8286053445948836,93.25887257433905]},\"showlegend\":true,\"height\":600,\"width\":800},                        {\"responsive\": true}                    ).then(function(){\n",
       "                            \n",
       "var gd = document.getElementById('ea43ad43-8bb0-4fce-bb50-827377bbe078');\n",
       "var x = new MutationObserver(function (mutations, observer) {{\n",
       "        var display = window.getComputedStyle(gd).display;\n",
       "        if (!display || display === 'none') {{\n",
       "            console.log([gd, 'removed!']);\n",
       "            Plotly.purge(gd);\n",
       "            observer.disconnect();\n",
       "        }}\n",
       "}});\n",
       "\n",
       "// Listen for the removal of the full notebook cells\n",
       "var notebookContainer = gd.closest('#notebook-container');\n",
       "if (notebookContainer) {{\n",
       "    x.observe(notebookContainer, {childList: true});\n",
       "}}\n",
       "\n",
       "// Listen for the clearing of the current output cell\n",
       "var outputEl = gd.closest('.output');\n",
       "if (outputEl) {{\n",
       "    x.observe(outputEl, {childList: true});\n",
       "}}\n",
       "\n",
       "                        })                };                });            </script>        </div>"
      ]
     },
     "metadata": {},
     "output_type": "display_data"
    }
   ],
   "source": [
    "fig = fig.update_layout(height=600, width=800)\n",
    "\n",
    "fig.show(renderer=\"png\")"
   ]
  },
  {
   "cell_type": "markdown",
   "metadata": {},
   "source": [
    "The plot gives us the following insights:\n",
    "\n",
    "- No matter at which value the other parameters are, there seems to be a minimum at 0 for each parameter. Thus, coordinate descent is probably a good strategy. \n",
    "- There is no sign of local optima. \n",
    "- There is no sign of noise or non-differentiablities (careful, grid might not be fine enough).\n",
    "- The problem seems to be convex.\n",
    "\n",
    "-> We would expect almost any derivative based optimizer to work well here (which we know to be correct in that case)"
   ]
  },
  {
   "cell_type": "markdown",
   "metadata": {},
   "source": [
    "## The alpine function"
   ]
  },
  {
   "cell_type": "code",
   "execution_count": 10,
   "metadata": {},
   "outputs": [],
   "source": [
    "def alpine(params):\n",
    "    x = params[\"value\"].to_numpy()\n",
    "    res = -np.prod(np.sqrt(x) * np.sin(x))\n",
    "    return res\n",
    "\n",
    "\n",
    "params = pd.DataFrame(\n",
    "    np.random.uniform(low=0, high=10, size=4),\n",
    "    columns=[\"value\"],\n",
    "    index=[f\"x_{i}\" for i in range(4)],\n",
    ")\n",
    "params[\"lower_bound\"] = 0\n",
    "params[\"upper_bound\"] = 10"
   ]
  },
  {
   "cell_type": "code",
   "execution_count": 11,
   "metadata": {},
   "outputs": [],
   "source": [
    "plots_dict = slice_plots(\n",
    "    criterion=alpine,\n",
    "    params=params,\n",
    "    n_random_values=4,\n",
    "    seed=1234,\n",
    ")"
   ]
  },
  {
   "cell_type": "code",
   "execution_count": 12,
   "metadata": {},
   "outputs": [
    {
     "data": {
      "application/vnd.plotly.v1+json": {
       "config": {
        "plotlyServerURL": "https://plot.ly"
       },
       "data": [
        {
         "hovertemplate": "value_identifier=start values<br>Parameter Value=%{x}<br>Criterion Value=%{y}<extra></extra>",
         "legendgroup": "start values",
         "line": {
          "color": "rgb(102,194,165)",
          "dash": "solid"
         },
         "marker": {
          "symbol": "circle"
         },
         "mode": "lines",
         "name": "start values",
         "orientation": "v",
         "showlegend": true,
         "type": "scatter",
         "x": [
          0,
          0.5,
          1,
          1.5,
          2,
          2.5,
          3,
          3.5,
          4,
          4.5,
          5,
          5.5,
          6,
          6.5,
          7,
          7.5,
          8,
          8.5,
          9,
          9.5,
          10
         ],
         "xaxis": "x",
         "y": [
          0,
          0.11398540059596762,
          0.282932090412861,
          0.41077065831017184,
          0.43237843256896225,
          0.31816837377308566,
          0.0821849476462481,
          -0.2206560832306999,
          -0.5089271428081977,
          -0.6972354604705405,
          -0.7209620048885126,
          -0.556347638274938,
          -0.2301278496205544,
          0.18440831788949716,
          0.5844516563284646,
          0.8637270525092783,
          0.9408960265455636,
          0.7827452428617068,
          0.41570611452699663,
          -0.07788257923263582,
          -0.5784406637974847
         ],
         "yaxis": "y"
        },
        {
         "hovertemplate": "value_identifier=random value 0<br>Parameter Value=%{x}<br>Criterion Value=%{y}<extra></extra>",
         "legendgroup": "random value 0",
         "line": {
          "color": "rgb(252,141,98)",
          "dash": "solid"
         },
         "marker": {
          "symbol": "circle"
         },
         "mode": "lines",
         "name": "random value 0",
         "orientation": "v",
         "showlegend": true,
         "type": "scatter",
         "x": [
          0,
          0.5,
          1,
          1.5,
          2,
          2.5,
          3,
          3.5,
          4,
          4.5,
          5,
          5.5,
          6,
          6.5,
          7,
          7.5,
          8,
          8.5,
          9,
          9.5,
          10
         ],
         "xaxis": "x",
         "y": [
          0,
          -0.29054594251842936,
          -0.7211868401383874,
          -1.047044160512137,
          -1.1021218380473408,
          -0.8110032473819051,
          -0.20948738127741998,
          0.5624468514343817,
          1.2972425907818412,
          1.7772357947641475,
          1.8377141645780175,
          1.4181162507245897,
          0.5865901476693911,
          -0.47005220185485325,
          -1.4897526916303887,
          -2.20161870939506,
          -2.398320499074482,
          -1.9951980968615102,
          -1.059624515283698,
          0.19852075152256765,
          1.4744308216255158
         ],
         "yaxis": "y"
        },
        {
         "hovertemplate": "value_identifier=random value 1<br>Parameter Value=%{x}<br>Criterion Value=%{y}<extra></extra>",
         "legendgroup": "random value 1",
         "line": {
          "color": "rgb(141,160,203)",
          "dash": "solid"
         },
         "marker": {
          "symbol": "circle"
         },
         "mode": "lines",
         "name": "random value 1",
         "orientation": "v",
         "showlegend": true,
         "type": "scatter",
         "x": [
          0,
          0.5,
          1,
          1.5,
          2,
          2.5,
          3,
          3.5,
          4,
          4.5,
          5,
          5.5,
          6,
          6.5,
          7,
          7.5,
          8,
          8.5,
          9,
          9.5,
          10
         ],
         "xaxis": "x",
         "y": [
          0,
          -0.3863946845855946,
          -0.9591005099129142,
          -1.392455508555635,
          -1.4657028637052332,
          -1.0785466190089616,
          -0.27859556361974164,
          0.7479934907105567,
          1.72519236493676,
          2.363531420882131,
          2.4439611127440264,
          1.885941261663557,
          0.7801014639030966,
          -0.6251185981127572,
          -1.9812099814698056,
          -2.9279148055577764,
          -3.1895069149563833,
          -2.6533977127341273,
          -1.409186019991443,
          0.2640111319516781,
          1.960833551234787
         ],
         "yaxis": "y"
        },
        {
         "hovertemplate": "value_identifier=random value 2<br>Parameter Value=%{x}<br>Criterion Value=%{y}<extra></extra>",
         "legendgroup": "random value 2",
         "line": {
          "color": "rgb(231,138,195)",
          "dash": "solid"
         },
         "marker": {
          "symbol": "circle"
         },
         "mode": "lines",
         "name": "random value 2",
         "orientation": "v",
         "showlegend": true,
         "type": "scatter",
         "x": [
          0,
          0.5,
          1,
          1.5,
          2,
          2.5,
          3,
          3.5,
          4,
          4.5,
          5,
          5.5,
          6,
          6.5,
          7,
          7.5,
          8,
          8.5,
          9,
          9.5,
          10
         ],
         "xaxis": "x",
         "y": [
          0,
          -1.0602958585085365,
          -2.6318433951666256,
          -3.821001860991907,
          -4.02199807136969,
          -2.959612435067698,
          -0.7644870234736048,
          2.0525499755317145,
          4.734056633400155,
          6.485706654334111,
          6.7064117328052255,
          5.175163605774881,
          2.140656650802533,
          -1.7153720977463192,
          -5.436588084645007,
          -8.034416792581512,
          -8.752245068380198,
          -7.281121397426456,
          -3.8669116332889626,
          0.7244662542621098,
          5.380673638998455
         ],
         "yaxis": "y"
        },
        {
         "hovertemplate": "value_identifier=random value 3<br>Parameter Value=%{x}<br>Criterion Value=%{y}<extra></extra>",
         "legendgroup": "random value 3",
         "line": {
          "color": "rgb(166,216,84)",
          "dash": "solid"
         },
         "marker": {
          "symbol": "circle"
         },
         "mode": "lines",
         "name": "random value 3",
         "orientation": "v",
         "showlegend": true,
         "type": "scatter",
         "x": [
          0,
          0.5,
          1,
          1.5,
          2,
          2.5,
          3,
          3.5,
          4,
          4.5,
          5,
          5.5,
          6,
          6.5,
          7,
          7.5,
          8,
          8.5,
          9,
          9.5,
          10
         ],
         "xaxis": "x",
         "y": [
          0,
          -1.0198406670335918,
          -2.531426395864843,
          -3.6752129656830195,
          -3.868540240912824,
          -2.8466895307750115,
          -0.7353183073397519,
          1.974235699751338,
          4.553430475125017,
          6.23824694538034,
          6.450531104220966,
          4.977707176132415,
          2.05898069781697,
          -1.6499227176433724,
          -5.229157101896388,
          -7.72786662818626,
          -8.418306434898202,
          -7.003312936777043,
          -3.7193710678080714,
          0.6968245155925499,
          5.175376050987441
         ],
         "yaxis": "y"
        },
        {
         "hovertemplate": "value_identifier=start values<br>Parameter Value=%{x}<br>Criterion Value=%{y}<extra></extra>",
         "legendgroup": "start values",
         "line": {
          "color": "rgb(102,194,165)",
          "dash": "solid"
         },
         "marker": {
          "symbol": "circle"
         },
         "mode": "lines",
         "name": "start values",
         "orientation": "v",
         "showlegend": false,
         "type": "scatter",
         "x": [
          0,
          0.5,
          1,
          1.5,
          2,
          2.5,
          3,
          3.5,
          4,
          4.5,
          5,
          5.5,
          6,
          6.5,
          7,
          7.5,
          8,
          8.5,
          9,
          9.5,
          10
         ],
         "xaxis": "x2",
         "y": [
          0,
          0.11901940979942725,
          0.29542739893172054,
          0.42891178220527626,
          0.45147383423925824,
          0.3322198445180168,
          0.08581453337103341,
          -0.2304010571306468,
          -0.5314032134926175,
          -0.7280279102635473,
          -0.7528023050407924,
          -0.580917970236364,
          -0.2402911311189328,
          0.1925524588461161,
          0.6102631637807514,
          0.9018723755846492,
          0.9824494117366888,
          0.8173141151552473,
          0.4340652060906698,
          -0.08132215674516274,
          -0.6039867039919941
         ],
         "yaxis": "y2"
        },
        {
         "hovertemplate": "value_identifier=random value 0<br>Parameter Value=%{x}<br>Criterion Value=%{y}<extra></extra>",
         "legendgroup": "random value 0",
         "line": {
          "color": "rgb(252,141,98)",
          "dash": "solid"
         },
         "marker": {
          "symbol": "circle"
         },
         "mode": "lines",
         "name": "random value 0",
         "orientation": "v",
         "showlegend": false,
         "type": "scatter",
         "x": [
          0,
          0.5,
          1,
          1.5,
          2,
          2.5,
          3,
          3.5,
          4,
          4.5,
          5,
          5.5,
          6,
          6.5,
          7,
          7.5,
          8,
          8.5,
          9,
          9.5,
          10
         ],
         "xaxis": "x2",
         "y": [
          0,
          2.445179458137884,
          6.06937144501304,
          8.81172475119011,
          9.275248022393528,
          6.825249266234604,
          1.7630060051730199,
          -4.7334458554156065,
          -10.917347210932494,
          -14.956878832851036,
          -15.465853304319214,
          -11.93459697102235,
          -4.936631250103534,
          3.9558700364747486,
          12.537475649136594,
          18.528404823699695,
          20.183809718822516,
          16.79120816169069,
          8.917598627097211,
          -1.6707129324522831,
          -12.408529701822948
         ],
         "yaxis": "y2"
        },
        {
         "hovertemplate": "value_identifier=random value 1<br>Parameter Value=%{x}<br>Criterion Value=%{y}<extra></extra>",
         "legendgroup": "random value 1",
         "line": {
          "color": "rgb(141,160,203)",
          "dash": "solid"
         },
         "marker": {
          "symbol": "circle"
         },
         "mode": "lines",
         "name": "random value 1",
         "orientation": "v",
         "showlegend": false,
         "type": "scatter",
         "x": [
          0,
          0.5,
          1,
          1.5,
          2,
          2.5,
          3,
          3.5,
          4,
          4.5,
          5,
          5.5,
          6,
          6.5,
          7,
          7.5,
          8,
          8.5,
          9,
          9.5,
          10
         ],
         "xaxis": "x2",
         "y": [
          0,
          -1.6162544911237229,
          -4.011831861114563,
          -5.824517156095778,
          -6.130904307488507,
          -4.511464278368934,
          -1.1653403860627007,
          3.128790034958259,
          7.216325739242195,
          9.886441057049668,
          10.222871282095088,
          7.8887240320823615,
          3.263094822119034,
          -2.6148153222353536,
          -8.287224587066959,
          -12.247206400330551,
          -13.341422854450451,
          -11.098925893722898,
          -5.89449939271977,
          1.104335009631926,
          8.201991797398179
         ],
         "yaxis": "y2"
        },
        {
         "hovertemplate": "value_identifier=random value 2<br>Parameter Value=%{x}<br>Criterion Value=%{y}<extra></extra>",
         "legendgroup": "random value 2",
         "line": {
          "color": "rgb(231,138,195)",
          "dash": "solid"
         },
         "marker": {
          "symbol": "circle"
         },
         "mode": "lines",
         "name": "random value 2",
         "orientation": "v",
         "showlegend": false,
         "type": "scatter",
         "x": [
          0,
          0.5,
          1,
          1.5,
          2,
          2.5,
          3,
          3.5,
          4,
          4.5,
          5,
          5.5,
          6,
          6.5,
          7,
          7.5,
          8,
          8.5,
          9,
          9.5,
          10
         ],
         "xaxis": "x2",
         "y": [
          0,
          0.28014787368909255,
          0.6953769790968924,
          1.0095725057576748,
          1.0626790613525516,
          0.7819790334693056,
          0.2019902392057768,
          -0.542317982920971,
          -1.2508168254437446,
          -1.7136320150667368,
          -1.7719459827672623,
          -1.3673646544186115,
          -0.5655972379863028,
          0.4532299564436717,
          1.4364373677542692,
          2.1228270984098425,
          2.3124893172378815,
          1.9237938743158387,
          1.0217026343320352,
          -0.1914160835981399,
          -1.4216638373941486
         ],
         "yaxis": "y2"
        },
        {
         "hovertemplate": "value_identifier=random value 3<br>Parameter Value=%{x}<br>Criterion Value=%{y}<extra></extra>",
         "legendgroup": "random value 3",
         "line": {
          "color": "rgb(166,216,84)",
          "dash": "solid"
         },
         "marker": {
          "symbol": "circle"
         },
         "mode": "lines",
         "name": "random value 3",
         "orientation": "v",
         "showlegend": false,
         "type": "scatter",
         "x": [
          0,
          0.5,
          1,
          1.5,
          2,
          2.5,
          3,
          3.5,
          4,
          4.5,
          5,
          5.5,
          6,
          6.5,
          7,
          7.5,
          8,
          8.5,
          9,
          9.5,
          10
         ],
         "xaxis": "x2",
         "y": [
          0,
          -0.7002669436344853,
          -1.7381874272812707,
          -2.5235610168111777,
          -2.656307929659966,
          -1.9546608030354644,
          -0.504901520721894,
          1.3555960692371778,
          3.1265833428104415,
          4.283451585417867,
          4.429215118780131,
          3.4179101728474977,
          1.4137856695365512,
          -1.1329086749186987,
          -3.5905666246675887,
          -5.306289226802013,
          -5.780375217720662,
          -4.808779159412727,
          -2.5538818896802242,
          0.4784700096368121,
          3.5536382167673586
         ],
         "yaxis": "y2"
        },
        {
         "hovertemplate": "value_identifier=start values<br>Parameter Value=%{x}<br>Criterion Value=%{y}<extra></extra>",
         "legendgroup": "start values",
         "line": {
          "color": "rgb(102,194,165)",
          "dash": "solid"
         },
         "marker": {
          "symbol": "circle"
         },
         "mode": "lines",
         "name": "start values",
         "orientation": "v",
         "showlegend": false,
         "type": "scatter",
         "x": [
          0,
          0.5,
          1,
          1.5,
          2,
          2.5,
          3,
          3.5,
          4,
          4.5,
          5,
          5.5,
          6,
          6.5,
          7,
          7.5,
          8,
          8.5,
          9,
          9.5,
          10
         ],
         "xaxis": "x3",
         "y": [
          0,
          0.2889508539288907,
          0.7172275458193583,
          1.0412959191885807,
          1.0960712219109987,
          0.80655086365641,
          0.20833730178007248,
          -0.5593590349356604,
          -1.2901207675118833,
          -1.7674788230694967,
          -1.8276251684304772,
          -1.4103308346538537,
          -0.583369785191867,
          0.46747162923639846,
          1.481573993628081,
          2.1895318881115444,
          2.38515379081151,
          1.9842445186060809,
          1.0538072081863281,
          -0.19743087849665128,
          -1.4663362402341757
         ],
         "yaxis": "y3"
        },
        {
         "hovertemplate": "value_identifier=random value 0<br>Parameter Value=%{x}<br>Criterion Value=%{y}<extra></extra>",
         "legendgroup": "random value 0",
         "line": {
          "color": "rgb(252,141,98)",
          "dash": "solid"
         },
         "marker": {
          "symbol": "circle"
         },
         "mode": "lines",
         "name": "random value 0",
         "orientation": "v",
         "showlegend": false,
         "type": "scatter",
         "x": [
          0,
          0.5,
          1,
          1.5,
          2,
          2.5,
          3,
          3.5,
          4,
          4.5,
          5,
          5.5,
          6,
          6.5,
          7,
          7.5,
          8,
          8.5,
          9,
          9.5,
          10
         ],
         "xaxis": "x3",
         "y": [
          0,
          0.19155507543588773,
          0.47547385576487844,
          0.6903094960236321,
          0.7266218553828416,
          0.5346892366983813,
          0.13811368617174,
          -0.37081759986497353,
          -0.855263715548532,
          -1.1717201547628295,
          -1.2115931558845043,
          -0.9349549438886985,
          -0.38673512014242456,
          0.30990240030421434,
          0.9821843896786648,
          1.451513087065334,
          1.5811973147431166,
          1.3154213018466223,
          0.6986036431949483,
          -0.13088345754848213,
          -0.9720827791066426
         ],
         "yaxis": "y3"
        },
        {
         "hovertemplate": "value_identifier=random value 1<br>Parameter Value=%{x}<br>Criterion Value=%{y}<extra></extra>",
         "legendgroup": "random value 1",
         "line": {
          "color": "rgb(141,160,203)",
          "dash": "solid"
         },
         "marker": {
          "symbol": "circle"
         },
         "mode": "lines",
         "name": "random value 1",
         "orientation": "v",
         "showlegend": false,
         "type": "scatter",
         "x": [
          0,
          0.5,
          1,
          1.5,
          2,
          2.5,
          3,
          3.5,
          4,
          4.5,
          5,
          5.5,
          6,
          6.5,
          7,
          7.5,
          8,
          8.5,
          9,
          9.5,
          10
         ],
         "xaxis": "x3",
         "y": [
          0,
          -1.7606119969629523,
          -4.370152932763495,
          -6.344740161810182,
          -6.678492610709674,
          -4.914410556003293,
          -1.2694240142967514,
          3.408241277458556,
          7.860859623455045,
          10.769459158753426,
          11.135938010697153,
          8.593313892020591,
          3.5545416409368444,
          -2.848360361225876,
          -9.027406952089661,
          -13.341078794287988,
          -14.533026366268649,
          -12.090238380903255,
          -6.42097293706381,
          1.2029698771462418,
          8.934561504265949
         ],
         "yaxis": "y3"
        },
        {
         "hovertemplate": "value_identifier=random value 2<br>Parameter Value=%{x}<br>Criterion Value=%{y}<extra></extra>",
         "legendgroup": "random value 2",
         "line": {
          "color": "rgb(231,138,195)",
          "dash": "solid"
         },
         "marker": {
          "symbol": "circle"
         },
         "mode": "lines",
         "name": "random value 2",
         "orientation": "v",
         "showlegend": false,
         "type": "scatter",
         "x": [
          0,
          0.5,
          1,
          1.5,
          2,
          2.5,
          3,
          3.5,
          4,
          4.5,
          5,
          5.5,
          6,
          6.5,
          7,
          7.5,
          8,
          8.5,
          9,
          9.5,
          10
         ],
         "xaxis": "x3",
         "y": [
          0,
          -0.6400146509135833,
          -1.5886304924232864,
          -2.3064290523994333,
          -2.4277541697122946,
          -1.7864780893644343,
          -0.46145883861573556,
          1.238958018680253,
          2.8575661965639374,
          3.914895306806605,
          4.048117069976785,
          3.123826714960261,
          1.2921408756763464,
          -1.0354310690888853,
          -3.281627479003312,
          -4.849726062338371,
          -5.283020797637478,
          -4.395022702426029,
          -2.334141060000362,
          0.4373015447522871,
          3.247876461186603
         ],
         "yaxis": "y3"
        },
        {
         "hovertemplate": "value_identifier=random value 3<br>Parameter Value=%{x}<br>Criterion Value=%{y}<extra></extra>",
         "legendgroup": "random value 3",
         "line": {
          "color": "rgb(166,216,84)",
          "dash": "solid"
         },
         "marker": {
          "symbol": "circle"
         },
         "mode": "lines",
         "name": "random value 3",
         "orientation": "v",
         "showlegend": false,
         "type": "scatter",
         "x": [
          0,
          0.5,
          1,
          1.5,
          2,
          2.5,
          3,
          3.5,
          4,
          4.5,
          5,
          5.5,
          6,
          6.5,
          7,
          7.5,
          8,
          8.5,
          9,
          9.5,
          10
         ],
         "xaxis": "x3",
         "y": [
          0,
          1.364661892583758,
          3.3873341669788606,
          4.917849663698648,
          5.176543373246981,
          3.809191816174006,
          0.9839388694554764,
          -2.641750141485914,
          -6.093003790491118,
          -8.347478344484546,
          -8.631538503422547,
          -6.660733892351116,
          -2.7551485116290055,
          2.207782775544073,
          6.997202266946543,
          10.340757570621726,
          11.264643942091208,
          9.371222971973992,
          4.976938187197285,
          -0.9324298324102498,
          -6.925237152109512
         ],
         "yaxis": "y3"
        },
        {
         "hovertemplate": "value_identifier=start values<br>Parameter Value=%{x}<br>Criterion Value=%{y}<extra></extra>",
         "legendgroup": "start values",
         "line": {
          "color": "rgb(102,194,165)",
          "dash": "solid"
         },
         "marker": {
          "symbol": "circle"
         },
         "mode": "lines",
         "name": "start values",
         "orientation": "v",
         "showlegend": false,
         "type": "scatter",
         "x": [
          0,
          0.5,
          1,
          1.5,
          2,
          2.5,
          3,
          3.5,
          4,
          4.5,
          5,
          5.5,
          6,
          6.5,
          7,
          7.5,
          8,
          8.5,
          9,
          9.5,
          10
         ],
         "xaxis": "x4",
         "y": [
          0,
          -0.805746912969203,
          -2.0000075205960277,
          -2.9036805427822214,
          -3.056422887978416,
          -2.2490878975001336,
          -0.5809539424546497,
          1.5597871039749769,
          3.5975350536114936,
          4.928660310438677,
          5.096379946639911,
          3.9327439280289407,
          1.6267417006960303,
          -1.303556701897157,
          -4.1314073153598,
          -6.105566173989124,
          -6.651062897969906,
          -5.533117046390069,
          -2.938568595024079,
          0.5505410996730371,
          4.088916446788958
         ],
         "yaxis": "y4"
        },
        {
         "hovertemplate": "value_identifier=random value 0<br>Parameter Value=%{x}<br>Criterion Value=%{y}<extra></extra>",
         "legendgroup": "random value 0",
         "line": {
          "color": "rgb(252,141,98)",
          "dash": "solid"
         },
         "marker": {
          "symbol": "circle"
         },
         "mode": "lines",
         "name": "random value 0",
         "orientation": "v",
         "showlegend": false,
         "type": "scatter",
         "x": [
          0,
          0.5,
          1,
          1.5,
          2,
          2.5,
          3,
          3.5,
          4,
          4.5,
          5,
          5.5,
          6,
          6.5,
          7,
          7.5,
          8,
          8.5,
          9,
          9.5,
          10
         ],
         "xaxis": "x4",
         "y": [
          0,
          -0.13505341798416787,
          -0.33522666646674265,
          -0.48669374430709295,
          -0.5122953016418242,
          -0.37697570169385003,
          -0.09737526058989304,
          0.2614401325388619,
          0.6029925743279382,
          0.8261060766026104,
          0.8542180181657096,
          0.6591778398251107,
          0.2726625734708515,
          -0.2184926622661587,
          -0.6924763471547574,
          -1.0233704495213702,
          -1.1148026298834273,
          -0.9274207039375951,
          -0.49254142504434845,
          0.09227768180657986,
          0.685354337822495
         ],
         "yaxis": "y4"
        },
        {
         "hovertemplate": "value_identifier=random value 1<br>Parameter Value=%{x}<br>Criterion Value=%{y}<extra></extra>",
         "legendgroup": "random value 1",
         "line": {
          "color": "rgb(141,160,203)",
          "dash": "solid"
         },
         "marker": {
          "symbol": "circle"
         },
         "mode": "lines",
         "name": "random value 1",
         "orientation": "v",
         "showlegend": false,
         "type": "scatter",
         "x": [
          0,
          0.5,
          1,
          1.5,
          2,
          2.5,
          3,
          3.5,
          4,
          4.5,
          5,
          5.5,
          6,
          6.5,
          7,
          7.5,
          8,
          8.5,
          9,
          9.5,
          10
         ],
         "xaxis": "x4",
         "y": [
          0,
          -0.38574512596065114,
          -0.9574881895750459,
          -1.3901146857609261,
          -1.4632389065787395,
          -1.0767335007474303,
          -0.27812722345244806,
          0.7467360572036396,
          1.72229218637573,
          2.359558146194346,
          2.439852629674412,
          1.882770852075847,
          0.7787900544701417,
          -0.6240677265733307,
          -1.9778794179744308,
          -2.9229927598078738,
          -3.1841451131289373,
          -2.6489371509343194,
          -1.4068170719444044,
          0.2635673093146659,
          1.9575372420563912
         ],
         "yaxis": "y4"
        },
        {
         "hovertemplate": "value_identifier=random value 2<br>Parameter Value=%{x}<br>Criterion Value=%{y}<extra></extra>",
         "legendgroup": "random value 2",
         "line": {
          "color": "rgb(231,138,195)",
          "dash": "solid"
         },
         "marker": {
          "symbol": "circle"
         },
         "mode": "lines",
         "name": "random value 2",
         "orientation": "v",
         "showlegend": false,
         "type": "scatter",
         "x": [
          0,
          0.5,
          1,
          1.5,
          2,
          2.5,
          3,
          3.5,
          4,
          4.5,
          5,
          5.5,
          6,
          6.5,
          7,
          7.5,
          8,
          8.5,
          9,
          9.5,
          10
         ],
         "xaxis": "x4",
         "y": [
          0,
          -0.23922153933930182,
          -0.5937905191644824,
          -0.8620857467939093,
          -0.9074340544969824,
          -0.6677410242463321,
          -0.17248182296734332,
          0.4630916557650497,
          1.0680870872724437,
          1.4632903798524715,
          1.5130853575355205,
          1.16760863882619,
          0.48297008338995917,
          -0.38701835008559354,
          -1.2265906349873894,
          -1.8127068378051303,
          -1.97466162027442,
          -1.6427500445571737,
          -0.872443805171188,
          0.16345242806827828,
          1.2139753449704245
         ],
         "yaxis": "y4"
        },
        {
         "hovertemplate": "value_identifier=random value 3<br>Parameter Value=%{x}<br>Criterion Value=%{y}<extra></extra>",
         "legendgroup": "random value 3",
         "line": {
          "color": "rgb(166,216,84)",
          "dash": "solid"
         },
         "marker": {
          "symbol": "circle"
         },
         "mode": "lines",
         "name": "random value 3",
         "orientation": "v",
         "showlegend": false,
         "type": "scatter",
         "x": [
          0,
          0.5,
          1,
          1.5,
          2,
          2.5,
          3,
          3.5,
          4,
          4.5,
          5,
          5.5,
          6,
          6.5,
          7,
          7.5,
          8,
          8.5,
          9,
          9.5,
          10
         ],
         "xaxis": "x4",
         "y": [
          0,
          0.9480777591788245,
          2.3532980616457575,
          3.416600049049573,
          3.5963235056765326,
          2.6463771436622814,
          0.6835763228913049,
          -1.835315082850521,
          -4.233020216765785,
          -5.7992815705058876,
          -5.99662797581074,
          -4.6274419308291135,
          -1.9140968479485703,
          1.5338229622785196,
          4.861198133998973,
          7.184081506961833,
          7.825937284981869,
          6.510512328597847,
          3.4576508875438665,
          -0.6477912154704202,
          -4.811201482678578
         ],
         "yaxis": "y4"
        }
       ],
       "layout": {
        "height": 500,
        "template": {
         "data": {
          "bar": [
           {
            "error_x": {
             "color": "rgb(36,36,36)"
            },
            "error_y": {
             "color": "rgb(36,36,36)"
            },
            "marker": {
             "line": {
              "color": "white",
              "width": 0.5
             },
             "pattern": {
              "fillmode": "overlay",
              "size": 10,
              "solidity": 0.2
             }
            },
            "type": "bar"
           }
          ],
          "barpolar": [
           {
            "marker": {
             "line": {
              "color": "white",
              "width": 0.5
             },
             "pattern": {
              "fillmode": "overlay",
              "size": 10,
              "solidity": 0.2
             }
            },
            "type": "barpolar"
           }
          ],
          "carpet": [
           {
            "aaxis": {
             "endlinecolor": "rgb(36,36,36)",
             "gridcolor": "white",
             "linecolor": "white",
             "minorgridcolor": "white",
             "startlinecolor": "rgb(36,36,36)"
            },
            "baxis": {
             "endlinecolor": "rgb(36,36,36)",
             "gridcolor": "white",
             "linecolor": "white",
             "minorgridcolor": "white",
             "startlinecolor": "rgb(36,36,36)"
            },
            "type": "carpet"
           }
          ],
          "choropleth": [
           {
            "colorbar": {
             "outlinewidth": 1,
             "tickcolor": "rgb(36,36,36)",
             "ticks": "outside"
            },
            "type": "choropleth"
           }
          ],
          "contour": [
           {
            "colorbar": {
             "outlinewidth": 1,
             "tickcolor": "rgb(36,36,36)",
             "ticks": "outside"
            },
            "colorscale": [
             [
              0,
              "#440154"
             ],
             [
              0.1111111111111111,
              "#482878"
             ],
             [
              0.2222222222222222,
              "#3e4989"
             ],
             [
              0.3333333333333333,
              "#31688e"
             ],
             [
              0.4444444444444444,
              "#26828e"
             ],
             [
              0.5555555555555556,
              "#1f9e89"
             ],
             [
              0.6666666666666666,
              "#35b779"
             ],
             [
              0.7777777777777778,
              "#6ece58"
             ],
             [
              0.8888888888888888,
              "#b5de2b"
             ],
             [
              1,
              "#fde725"
             ]
            ],
            "type": "contour"
           }
          ],
          "contourcarpet": [
           {
            "colorbar": {
             "outlinewidth": 1,
             "tickcolor": "rgb(36,36,36)",
             "ticks": "outside"
            },
            "type": "contourcarpet"
           }
          ],
          "heatmap": [
           {
            "colorbar": {
             "outlinewidth": 1,
             "tickcolor": "rgb(36,36,36)",
             "ticks": "outside"
            },
            "colorscale": [
             [
              0,
              "#440154"
             ],
             [
              0.1111111111111111,
              "#482878"
             ],
             [
              0.2222222222222222,
              "#3e4989"
             ],
             [
              0.3333333333333333,
              "#31688e"
             ],
             [
              0.4444444444444444,
              "#26828e"
             ],
             [
              0.5555555555555556,
              "#1f9e89"
             ],
             [
              0.6666666666666666,
              "#35b779"
             ],
             [
              0.7777777777777778,
              "#6ece58"
             ],
             [
              0.8888888888888888,
              "#b5de2b"
             ],
             [
              1,
              "#fde725"
             ]
            ],
            "type": "heatmap"
           }
          ],
          "heatmapgl": [
           {
            "colorbar": {
             "outlinewidth": 1,
             "tickcolor": "rgb(36,36,36)",
             "ticks": "outside"
            },
            "colorscale": [
             [
              0,
              "#440154"
             ],
             [
              0.1111111111111111,
              "#482878"
             ],
             [
              0.2222222222222222,
              "#3e4989"
             ],
             [
              0.3333333333333333,
              "#31688e"
             ],
             [
              0.4444444444444444,
              "#26828e"
             ],
             [
              0.5555555555555556,
              "#1f9e89"
             ],
             [
              0.6666666666666666,
              "#35b779"
             ],
             [
              0.7777777777777778,
              "#6ece58"
             ],
             [
              0.8888888888888888,
              "#b5de2b"
             ],
             [
              1,
              "#fde725"
             ]
            ],
            "type": "heatmapgl"
           }
          ],
          "histogram": [
           {
            "marker": {
             "line": {
              "color": "white",
              "width": 0.6
             }
            },
            "type": "histogram"
           }
          ],
          "histogram2d": [
           {
            "colorbar": {
             "outlinewidth": 1,
             "tickcolor": "rgb(36,36,36)",
             "ticks": "outside"
            },
            "colorscale": [
             [
              0,
              "#440154"
             ],
             [
              0.1111111111111111,
              "#482878"
             ],
             [
              0.2222222222222222,
              "#3e4989"
             ],
             [
              0.3333333333333333,
              "#31688e"
             ],
             [
              0.4444444444444444,
              "#26828e"
             ],
             [
              0.5555555555555556,
              "#1f9e89"
             ],
             [
              0.6666666666666666,
              "#35b779"
             ],
             [
              0.7777777777777778,
              "#6ece58"
             ],
             [
              0.8888888888888888,
              "#b5de2b"
             ],
             [
              1,
              "#fde725"
             ]
            ],
            "type": "histogram2d"
           }
          ],
          "histogram2dcontour": [
           {
            "colorbar": {
             "outlinewidth": 1,
             "tickcolor": "rgb(36,36,36)",
             "ticks": "outside"
            },
            "colorscale": [
             [
              0,
              "#440154"
             ],
             [
              0.1111111111111111,
              "#482878"
             ],
             [
              0.2222222222222222,
              "#3e4989"
             ],
             [
              0.3333333333333333,
              "#31688e"
             ],
             [
              0.4444444444444444,
              "#26828e"
             ],
             [
              0.5555555555555556,
              "#1f9e89"
             ],
             [
              0.6666666666666666,
              "#35b779"
             ],
             [
              0.7777777777777778,
              "#6ece58"
             ],
             [
              0.8888888888888888,
              "#b5de2b"
             ],
             [
              1,
              "#fde725"
             ]
            ],
            "type": "histogram2dcontour"
           }
          ],
          "mesh3d": [
           {
            "colorbar": {
             "outlinewidth": 1,
             "tickcolor": "rgb(36,36,36)",
             "ticks": "outside"
            },
            "type": "mesh3d"
           }
          ],
          "parcoords": [
           {
            "line": {
             "colorbar": {
              "outlinewidth": 1,
              "tickcolor": "rgb(36,36,36)",
              "ticks": "outside"
             }
            },
            "type": "parcoords"
           }
          ],
          "pie": [
           {
            "automargin": true,
            "type": "pie"
           }
          ],
          "scatter": [
           {
            "fillpattern": {
             "fillmode": "overlay",
             "size": 10,
             "solidity": 0.2
            },
            "type": "scatter"
           }
          ],
          "scatter3d": [
           {
            "line": {
             "colorbar": {
              "outlinewidth": 1,
              "tickcolor": "rgb(36,36,36)",
              "ticks": "outside"
             }
            },
            "marker": {
             "colorbar": {
              "outlinewidth": 1,
              "tickcolor": "rgb(36,36,36)",
              "ticks": "outside"
             }
            },
            "type": "scatter3d"
           }
          ],
          "scattercarpet": [
           {
            "marker": {
             "colorbar": {
              "outlinewidth": 1,
              "tickcolor": "rgb(36,36,36)",
              "ticks": "outside"
             }
            },
            "type": "scattercarpet"
           }
          ],
          "scattergeo": [
           {
            "marker": {
             "colorbar": {
              "outlinewidth": 1,
              "tickcolor": "rgb(36,36,36)",
              "ticks": "outside"
             }
            },
            "type": "scattergeo"
           }
          ],
          "scattergl": [
           {
            "marker": {
             "colorbar": {
              "outlinewidth": 1,
              "tickcolor": "rgb(36,36,36)",
              "ticks": "outside"
             }
            },
            "type": "scattergl"
           }
          ],
          "scattermapbox": [
           {
            "marker": {
             "colorbar": {
              "outlinewidth": 1,
              "tickcolor": "rgb(36,36,36)",
              "ticks": "outside"
             }
            },
            "type": "scattermapbox"
           }
          ],
          "scatterpolar": [
           {
            "marker": {
             "colorbar": {
              "outlinewidth": 1,
              "tickcolor": "rgb(36,36,36)",
              "ticks": "outside"
             }
            },
            "type": "scatterpolar"
           }
          ],
          "scatterpolargl": [
           {
            "marker": {
             "colorbar": {
              "outlinewidth": 1,
              "tickcolor": "rgb(36,36,36)",
              "ticks": "outside"
             }
            },
            "type": "scatterpolargl"
           }
          ],
          "scatterternary": [
           {
            "marker": {
             "colorbar": {
              "outlinewidth": 1,
              "tickcolor": "rgb(36,36,36)",
              "ticks": "outside"
             }
            },
            "type": "scatterternary"
           }
          ],
          "surface": [
           {
            "colorbar": {
             "outlinewidth": 1,
             "tickcolor": "rgb(36,36,36)",
             "ticks": "outside"
            },
            "colorscale": [
             [
              0,
              "#440154"
             ],
             [
              0.1111111111111111,
              "#482878"
             ],
             [
              0.2222222222222222,
              "#3e4989"
             ],
             [
              0.3333333333333333,
              "#31688e"
             ],
             [
              0.4444444444444444,
              "#26828e"
             ],
             [
              0.5555555555555556,
              "#1f9e89"
             ],
             [
              0.6666666666666666,
              "#35b779"
             ],
             [
              0.7777777777777778,
              "#6ece58"
             ],
             [
              0.8888888888888888,
              "#b5de2b"
             ],
             [
              1,
              "#fde725"
             ]
            ],
            "type": "surface"
           }
          ],
          "table": [
           {
            "cells": {
             "fill": {
              "color": "rgb(237,237,237)"
             },
             "line": {
              "color": "white"
             }
            },
            "header": {
             "fill": {
              "color": "rgb(217,217,217)"
             },
             "line": {
              "color": "white"
             }
            },
            "type": "table"
           }
          ]
         },
         "layout": {
          "annotationdefaults": {
           "arrowhead": 0,
           "arrowwidth": 1
          },
          "autotypenumbers": "strict",
          "coloraxis": {
           "colorbar": {
            "outlinewidth": 1,
            "tickcolor": "rgb(36,36,36)",
            "ticks": "outside"
           }
          },
          "colorscale": {
           "diverging": [
            [
             0,
             "rgb(103,0,31)"
            ],
            [
             0.1,
             "rgb(178,24,43)"
            ],
            [
             0.2,
             "rgb(214,96,77)"
            ],
            [
             0.3,
             "rgb(244,165,130)"
            ],
            [
             0.4,
             "rgb(253,219,199)"
            ],
            [
             0.5,
             "rgb(247,247,247)"
            ],
            [
             0.6,
             "rgb(209,229,240)"
            ],
            [
             0.7,
             "rgb(146,197,222)"
            ],
            [
             0.8,
             "rgb(67,147,195)"
            ],
            [
             0.9,
             "rgb(33,102,172)"
            ],
            [
             1,
             "rgb(5,48,97)"
            ]
           ],
           "sequential": [
            [
             0,
             "#440154"
            ],
            [
             0.1111111111111111,
             "#482878"
            ],
            [
             0.2222222222222222,
             "#3e4989"
            ],
            [
             0.3333333333333333,
             "#31688e"
            ],
            [
             0.4444444444444444,
             "#26828e"
            ],
            [
             0.5555555555555556,
             "#1f9e89"
            ],
            [
             0.6666666666666666,
             "#35b779"
            ],
            [
             0.7777777777777778,
             "#6ece58"
            ],
            [
             0.8888888888888888,
             "#b5de2b"
            ],
            [
             1,
             "#fde725"
            ]
           ],
           "sequentialminus": [
            [
             0,
             "#440154"
            ],
            [
             0.1111111111111111,
             "#482878"
            ],
            [
             0.2222222222222222,
             "#3e4989"
            ],
            [
             0.3333333333333333,
             "#31688e"
            ],
            [
             0.4444444444444444,
             "#26828e"
            ],
            [
             0.5555555555555556,
             "#1f9e89"
            ],
            [
             0.6666666666666666,
             "#35b779"
            ],
            [
             0.7777777777777778,
             "#6ece58"
            ],
            [
             0.8888888888888888,
             "#b5de2b"
            ],
            [
             1,
             "#fde725"
            ]
           ]
          },
          "colorway": [
           "#1F77B4",
           "#FF7F0E",
           "#2CA02C",
           "#D62728",
           "#9467BD",
           "#8C564B",
           "#E377C2",
           "#7F7F7F",
           "#BCBD22",
           "#17BECF"
          ],
          "font": {
           "color": "rgb(36,36,36)"
          },
          "geo": {
           "bgcolor": "white",
           "lakecolor": "white",
           "landcolor": "white",
           "showlakes": true,
           "showland": true,
           "subunitcolor": "white"
          },
          "hoverlabel": {
           "align": "left"
          },
          "hovermode": "closest",
          "mapbox": {
           "style": "light"
          },
          "paper_bgcolor": "white",
          "plot_bgcolor": "white",
          "polar": {
           "angularaxis": {
            "gridcolor": "rgb(232,232,232)",
            "linecolor": "rgb(36,36,36)",
            "showgrid": false,
            "showline": true,
            "ticks": "outside"
           },
           "bgcolor": "white",
           "radialaxis": {
            "gridcolor": "rgb(232,232,232)",
            "linecolor": "rgb(36,36,36)",
            "showgrid": false,
            "showline": true,
            "ticks": "outside"
           }
          },
          "scene": {
           "xaxis": {
            "backgroundcolor": "white",
            "gridcolor": "rgb(232,232,232)",
            "gridwidth": 2,
            "linecolor": "rgb(36,36,36)",
            "showbackground": true,
            "showgrid": false,
            "showline": true,
            "ticks": "outside",
            "zeroline": false,
            "zerolinecolor": "rgb(36,36,36)"
           },
           "yaxis": {
            "backgroundcolor": "white",
            "gridcolor": "rgb(232,232,232)",
            "gridwidth": 2,
            "linecolor": "rgb(36,36,36)",
            "showbackground": true,
            "showgrid": false,
            "showline": true,
            "ticks": "outside",
            "zeroline": false,
            "zerolinecolor": "rgb(36,36,36)"
           },
           "zaxis": {
            "backgroundcolor": "white",
            "gridcolor": "rgb(232,232,232)",
            "gridwidth": 2,
            "linecolor": "rgb(36,36,36)",
            "showbackground": true,
            "showgrid": false,
            "showline": true,
            "ticks": "outside",
            "zeroline": false,
            "zerolinecolor": "rgb(36,36,36)"
           }
          },
          "shapedefaults": {
           "fillcolor": "black",
           "line": {
            "width": 0
           },
           "opacity": 0.3
          },
          "ternary": {
           "aaxis": {
            "gridcolor": "rgb(232,232,232)",
            "linecolor": "rgb(36,36,36)",
            "showgrid": false,
            "showline": true,
            "ticks": "outside"
           },
           "baxis": {
            "gridcolor": "rgb(232,232,232)",
            "linecolor": "rgb(36,36,36)",
            "showgrid": false,
            "showline": true,
            "ticks": "outside"
           },
           "bgcolor": "white",
           "caxis": {
            "gridcolor": "rgb(232,232,232)",
            "linecolor": "rgb(36,36,36)",
            "showgrid": false,
            "showline": true,
            "ticks": "outside"
           }
          },
          "title": {
           "x": 0.05
          },
          "xaxis": {
           "automargin": true,
           "gridcolor": "rgb(232,232,232)",
           "linecolor": "rgb(36,36,36)",
           "showgrid": false,
           "showline": true,
           "ticks": "outside",
           "title": {
            "standoff": 15
           },
           "zeroline": false,
           "zerolinecolor": "rgb(36,36,36)"
          },
          "yaxis": {
           "automargin": true,
           "gridcolor": "rgb(232,232,232)",
           "linecolor": "rgb(36,36,36)",
           "showgrid": false,
           "showline": true,
           "ticks": "outside",
           "title": {
            "standoff": 15
           },
           "zeroline": false,
           "zerolinecolor": "rgb(36,36,36)"
          }
         }
        },
        "width": 900,
        "xaxis": {
         "anchor": "y",
         "domain": [
          0,
          0.45
         ],
         "showgrid": false,
         "title": {
          "text": "x_0"
         }
        },
        "xaxis2": {
         "anchor": "y2",
         "domain": [
          0.55,
          1
         ],
         "title": {
          "text": "x_1"
         }
        },
        "xaxis3": {
         "anchor": "y3",
         "domain": [
          0,
          0.45
         ],
         "title": {
          "text": "x_2"
         }
        },
        "xaxis4": {
         "anchor": "y4",
         "domain": [
          0.55,
          1
         ],
         "title": {
          "text": "x_3"
         }
        },
        "yaxis": {
         "anchor": "x",
         "domain": [
          0.6000000000000001,
          1
         ],
         "showgrid": false,
         "title": {
          "text": "Criterion Value"
         }
        },
        "yaxis2": {
         "anchor": "x2",
         "domain": [
          0.6000000000000001,
          1
         ],
         "matches": "y",
         "showticklabels": false
        },
        "yaxis3": {
         "anchor": "x3",
         "domain": [
          0,
          0.4
         ],
         "title": {
          "text": "Criterion Value"
         }
        },
        "yaxis4": {
         "anchor": "x4",
         "domain": [
          0,
          0.4
         ],
         "matches": "y3",
         "showticklabels": false
        }
       }
      },
      "text/html": [
       "<div>                            <div id=\"273ba067-f9fa-4f88-8ff0-aca0879ea33c\" class=\"plotly-graph-div\" style=\"height:500px; width:900px;\"></div>            <script type=\"text/javascript\">                require([\"plotly\"], function(Plotly) {                    window.PLOTLYENV=window.PLOTLYENV || {};                                    if (document.getElementById(\"273ba067-f9fa-4f88-8ff0-aca0879ea33c\")) {                    Plotly.newPlot(                        \"273ba067-f9fa-4f88-8ff0-aca0879ea33c\",                        [{\"hovertemplate\":\"value_identifier=start values<br>Parameter Value=%{x}<br>Criterion Value=%{y}<extra></extra>\",\"legendgroup\":\"start values\",\"line\":{\"color\":\"rgb(102,194,165)\",\"dash\":\"solid\"},\"marker\":{\"symbol\":\"circle\"},\"mode\":\"lines\",\"name\":\"start values\",\"orientation\":\"v\",\"showlegend\":true,\"x\":[0.0,0.5,1.0,1.5,2.0,2.5,3.0,3.5,4.0,4.5,5.0,5.5,6.0,6.5,7.0,7.5,8.0,8.5,9.0,9.5,10.0],\"xaxis\":\"x\",\"y\":[0.0,0.11398540059596762,0.282932090412861,0.41077065831017184,0.43237843256896225,0.31816837377308566,0.0821849476462481,-0.2206560832306999,-0.5089271428081977,-0.6972354604705405,-0.7209620048885126,-0.556347638274938,-0.2301278496205544,0.18440831788949716,0.5844516563284646,0.8637270525092783,0.9408960265455636,0.7827452428617068,0.41570611452699663,-0.07788257923263582,-0.5784406637974847],\"yaxis\":\"y\",\"type\":\"scatter\"},{\"hovertemplate\":\"value_identifier=random value 0<br>Parameter Value=%{x}<br>Criterion Value=%{y}<extra></extra>\",\"legendgroup\":\"random value 0\",\"line\":{\"color\":\"rgb(252,141,98)\",\"dash\":\"solid\"},\"marker\":{\"symbol\":\"circle\"},\"mode\":\"lines\",\"name\":\"random value 0\",\"orientation\":\"v\",\"showlegend\":true,\"x\":[0.0,0.5,1.0,1.5,2.0,2.5,3.0,3.5,4.0,4.5,5.0,5.5,6.0,6.5,7.0,7.5,8.0,8.5,9.0,9.5,10.0],\"xaxis\":\"x\",\"y\":[-0.0,-0.29054594251842936,-0.7211868401383874,-1.047044160512137,-1.1021218380473408,-0.8110032473819051,-0.20948738127741998,0.5624468514343817,1.2972425907818412,1.7772357947641475,1.8377141645780175,1.4181162507245897,0.5865901476693911,-0.47005220185485325,-1.4897526916303887,-2.20161870939506,-2.398320499074482,-1.9951980968615102,-1.059624515283698,0.19852075152256765,1.4744308216255158],\"yaxis\":\"y\",\"type\":\"scatter\"},{\"hovertemplate\":\"value_identifier=random value 1<br>Parameter Value=%{x}<br>Criterion Value=%{y}<extra></extra>\",\"legendgroup\":\"random value 1\",\"line\":{\"color\":\"rgb(141,160,203)\",\"dash\":\"solid\"},\"marker\":{\"symbol\":\"circle\"},\"mode\":\"lines\",\"name\":\"random value 1\",\"orientation\":\"v\",\"showlegend\":true,\"x\":[0.0,0.5,1.0,1.5,2.0,2.5,3.0,3.5,4.0,4.5,5.0,5.5,6.0,6.5,7.0,7.5,8.0,8.5,9.0,9.5,10.0],\"xaxis\":\"x\",\"y\":[-0.0,-0.3863946845855946,-0.9591005099129142,-1.392455508555635,-1.4657028637052332,-1.0785466190089616,-0.27859556361974164,0.7479934907105567,1.72519236493676,2.363531420882131,2.4439611127440264,1.885941261663557,0.7801014639030966,-0.6251185981127572,-1.9812099814698056,-2.9279148055577764,-3.1895069149563833,-2.6533977127341273,-1.409186019991443,0.2640111319516781,1.960833551234787],\"yaxis\":\"y\",\"type\":\"scatter\"},{\"hovertemplate\":\"value_identifier=random value 2<br>Parameter Value=%{x}<br>Criterion Value=%{y}<extra></extra>\",\"legendgroup\":\"random value 2\",\"line\":{\"color\":\"rgb(231,138,195)\",\"dash\":\"solid\"},\"marker\":{\"symbol\":\"circle\"},\"mode\":\"lines\",\"name\":\"random value 2\",\"orientation\":\"v\",\"showlegend\":true,\"x\":[0.0,0.5,1.0,1.5,2.0,2.5,3.0,3.5,4.0,4.5,5.0,5.5,6.0,6.5,7.0,7.5,8.0,8.5,9.0,9.5,10.0],\"xaxis\":\"x\",\"y\":[-0.0,-1.0602958585085365,-2.6318433951666256,-3.821001860991907,-4.02199807136969,-2.959612435067698,-0.7644870234736048,2.0525499755317145,4.734056633400155,6.485706654334111,6.7064117328052255,5.175163605774881,2.140656650802533,-1.7153720977463192,-5.436588084645007,-8.034416792581512,-8.752245068380198,-7.281121397426456,-3.8669116332889626,0.7244662542621098,5.380673638998455],\"yaxis\":\"y\",\"type\":\"scatter\"},{\"hovertemplate\":\"value_identifier=random value 3<br>Parameter Value=%{x}<br>Criterion Value=%{y}<extra></extra>\",\"legendgroup\":\"random value 3\",\"line\":{\"color\":\"rgb(166,216,84)\",\"dash\":\"solid\"},\"marker\":{\"symbol\":\"circle\"},\"mode\":\"lines\",\"name\":\"random value 3\",\"orientation\":\"v\",\"showlegend\":true,\"x\":[0.0,0.5,1.0,1.5,2.0,2.5,3.0,3.5,4.0,4.5,5.0,5.5,6.0,6.5,7.0,7.5,8.0,8.5,9.0,9.5,10.0],\"xaxis\":\"x\",\"y\":[-0.0,-1.0198406670335918,-2.531426395864843,-3.6752129656830195,-3.868540240912824,-2.8466895307750115,-0.7353183073397519,1.974235699751338,4.553430475125017,6.23824694538034,6.450531104220966,4.977707176132415,2.05898069781697,-1.6499227176433724,-5.229157101896388,-7.72786662818626,-8.418306434898202,-7.003312936777043,-3.7193710678080714,0.6968245155925499,5.175376050987441],\"yaxis\":\"y\",\"type\":\"scatter\"},{\"hovertemplate\":\"value_identifier=start values<br>Parameter Value=%{x}<br>Criterion Value=%{y}<extra></extra>\",\"legendgroup\":\"start values\",\"line\":{\"color\":\"rgb(102,194,165)\",\"dash\":\"solid\"},\"marker\":{\"symbol\":\"circle\"},\"mode\":\"lines\",\"name\":\"start values\",\"orientation\":\"v\",\"showlegend\":false,\"x\":[0.0,0.5,1.0,1.5,2.0,2.5,3.0,3.5,4.0,4.5,5.0,5.5,6.0,6.5,7.0,7.5,8.0,8.5,9.0,9.5,10.0],\"xaxis\":\"x2\",\"y\":[0.0,0.11901940979942725,0.29542739893172054,0.42891178220527626,0.45147383423925824,0.3322198445180168,0.08581453337103341,-0.2304010571306468,-0.5314032134926175,-0.7280279102635473,-0.7528023050407924,-0.580917970236364,-0.2402911311189328,0.1925524588461161,0.6102631637807514,0.9018723755846492,0.9824494117366888,0.8173141151552473,0.4340652060906698,-0.08132215674516274,-0.6039867039919941],\"yaxis\":\"y2\",\"type\":\"scatter\"},{\"hovertemplate\":\"value_identifier=random value 0<br>Parameter Value=%{x}<br>Criterion Value=%{y}<extra></extra>\",\"legendgroup\":\"random value 0\",\"line\":{\"color\":\"rgb(252,141,98)\",\"dash\":\"solid\"},\"marker\":{\"symbol\":\"circle\"},\"mode\":\"lines\",\"name\":\"random value 0\",\"orientation\":\"v\",\"showlegend\":false,\"x\":[0.0,0.5,1.0,1.5,2.0,2.5,3.0,3.5,4.0,4.5,5.0,5.5,6.0,6.5,7.0,7.5,8.0,8.5,9.0,9.5,10.0],\"xaxis\":\"x2\",\"y\":[0.0,2.445179458137884,6.06937144501304,8.81172475119011,9.275248022393528,6.825249266234604,1.7630060051730199,-4.7334458554156065,-10.917347210932494,-14.956878832851036,-15.465853304319214,-11.93459697102235,-4.936631250103534,3.9558700364747486,12.537475649136594,18.528404823699695,20.183809718822516,16.79120816169069,8.917598627097211,-1.6707129324522831,-12.408529701822948],\"yaxis\":\"y2\",\"type\":\"scatter\"},{\"hovertemplate\":\"value_identifier=random value 1<br>Parameter Value=%{x}<br>Criterion Value=%{y}<extra></extra>\",\"legendgroup\":\"random value 1\",\"line\":{\"color\":\"rgb(141,160,203)\",\"dash\":\"solid\"},\"marker\":{\"symbol\":\"circle\"},\"mode\":\"lines\",\"name\":\"random value 1\",\"orientation\":\"v\",\"showlegend\":false,\"x\":[0.0,0.5,1.0,1.5,2.0,2.5,3.0,3.5,4.0,4.5,5.0,5.5,6.0,6.5,7.0,7.5,8.0,8.5,9.0,9.5,10.0],\"xaxis\":\"x2\",\"y\":[-0.0,-1.6162544911237229,-4.011831861114563,-5.824517156095778,-6.130904307488507,-4.511464278368934,-1.1653403860627007,3.128790034958259,7.216325739242195,9.886441057049668,10.222871282095088,7.8887240320823615,3.263094822119034,-2.6148153222353536,-8.287224587066959,-12.247206400330551,-13.341422854450451,-11.098925893722898,-5.89449939271977,1.104335009631926,8.201991797398179],\"yaxis\":\"y2\",\"type\":\"scatter\"},{\"hovertemplate\":\"value_identifier=random value 2<br>Parameter Value=%{x}<br>Criterion Value=%{y}<extra></extra>\",\"legendgroup\":\"random value 2\",\"line\":{\"color\":\"rgb(231,138,195)\",\"dash\":\"solid\"},\"marker\":{\"symbol\":\"circle\"},\"mode\":\"lines\",\"name\":\"random value 2\",\"orientation\":\"v\",\"showlegend\":false,\"x\":[0.0,0.5,1.0,1.5,2.0,2.5,3.0,3.5,4.0,4.5,5.0,5.5,6.0,6.5,7.0,7.5,8.0,8.5,9.0,9.5,10.0],\"xaxis\":\"x2\",\"y\":[0.0,0.28014787368909255,0.6953769790968924,1.0095725057576748,1.0626790613525516,0.7819790334693056,0.2019902392057768,-0.542317982920971,-1.2508168254437446,-1.7136320150667368,-1.7719459827672623,-1.3673646544186115,-0.5655972379863028,0.4532299564436717,1.4364373677542692,2.1228270984098425,2.3124893172378815,1.9237938743158387,1.0217026343320352,-0.1914160835981399,-1.4216638373941486],\"yaxis\":\"y2\",\"type\":\"scatter\"},{\"hovertemplate\":\"value_identifier=random value 3<br>Parameter Value=%{x}<br>Criterion Value=%{y}<extra></extra>\",\"legendgroup\":\"random value 3\",\"line\":{\"color\":\"rgb(166,216,84)\",\"dash\":\"solid\"},\"marker\":{\"symbol\":\"circle\"},\"mode\":\"lines\",\"name\":\"random value 3\",\"orientation\":\"v\",\"showlegend\":false,\"x\":[0.0,0.5,1.0,1.5,2.0,2.5,3.0,3.5,4.0,4.5,5.0,5.5,6.0,6.5,7.0,7.5,8.0,8.5,9.0,9.5,10.0],\"xaxis\":\"x2\",\"y\":[-0.0,-0.7002669436344853,-1.7381874272812707,-2.5235610168111777,-2.656307929659966,-1.9546608030354644,-0.504901520721894,1.3555960692371778,3.1265833428104415,4.283451585417867,4.429215118780131,3.4179101728474977,1.4137856695365512,-1.1329086749186987,-3.5905666246675887,-5.306289226802013,-5.780375217720662,-4.808779159412727,-2.5538818896802242,0.4784700096368121,3.5536382167673586],\"yaxis\":\"y2\",\"type\":\"scatter\"},{\"hovertemplate\":\"value_identifier=start values<br>Parameter Value=%{x}<br>Criterion Value=%{y}<extra></extra>\",\"legendgroup\":\"start values\",\"line\":{\"color\":\"rgb(102,194,165)\",\"dash\":\"solid\"},\"marker\":{\"symbol\":\"circle\"},\"mode\":\"lines\",\"name\":\"start values\",\"orientation\":\"v\",\"showlegend\":false,\"x\":[0.0,0.5,1.0,1.5,2.0,2.5,3.0,3.5,4.0,4.5,5.0,5.5,6.0,6.5,7.0,7.5,8.0,8.5,9.0,9.5,10.0],\"xaxis\":\"x3\",\"y\":[0.0,0.2889508539288907,0.7172275458193583,1.0412959191885807,1.0960712219109987,0.80655086365641,0.20833730178007248,-0.5593590349356604,-1.2901207675118833,-1.7674788230694967,-1.8276251684304772,-1.4103308346538537,-0.583369785191867,0.46747162923639846,1.481573993628081,2.1895318881115444,2.38515379081151,1.9842445186060809,1.0538072081863281,-0.19743087849665128,-1.4663362402341757],\"yaxis\":\"y3\",\"type\":\"scatter\"},{\"hovertemplate\":\"value_identifier=random value 0<br>Parameter Value=%{x}<br>Criterion Value=%{y}<extra></extra>\",\"legendgroup\":\"random value 0\",\"line\":{\"color\":\"rgb(252,141,98)\",\"dash\":\"solid\"},\"marker\":{\"symbol\":\"circle\"},\"mode\":\"lines\",\"name\":\"random value 0\",\"orientation\":\"v\",\"showlegend\":false,\"x\":[0.0,0.5,1.0,1.5,2.0,2.5,3.0,3.5,4.0,4.5,5.0,5.5,6.0,6.5,7.0,7.5,8.0,8.5,9.0,9.5,10.0],\"xaxis\":\"x3\",\"y\":[0.0,0.19155507543588773,0.47547385576487844,0.6903094960236321,0.7266218553828416,0.5346892366983813,0.13811368617174,-0.37081759986497353,-0.855263715548532,-1.1717201547628295,-1.2115931558845043,-0.9349549438886985,-0.38673512014242456,0.30990240030421434,0.9821843896786648,1.451513087065334,1.5811973147431166,1.3154213018466223,0.6986036431949483,-0.13088345754848213,-0.9720827791066426],\"yaxis\":\"y3\",\"type\":\"scatter\"},{\"hovertemplate\":\"value_identifier=random value 1<br>Parameter Value=%{x}<br>Criterion Value=%{y}<extra></extra>\",\"legendgroup\":\"random value 1\",\"line\":{\"color\":\"rgb(141,160,203)\",\"dash\":\"solid\"},\"marker\":{\"symbol\":\"circle\"},\"mode\":\"lines\",\"name\":\"random value 1\",\"orientation\":\"v\",\"showlegend\":false,\"x\":[0.0,0.5,1.0,1.5,2.0,2.5,3.0,3.5,4.0,4.5,5.0,5.5,6.0,6.5,7.0,7.5,8.0,8.5,9.0,9.5,10.0],\"xaxis\":\"x3\",\"y\":[-0.0,-1.7606119969629523,-4.370152932763495,-6.344740161810182,-6.678492610709674,-4.914410556003293,-1.2694240142967514,3.408241277458556,7.860859623455045,10.769459158753426,11.135938010697153,8.593313892020591,3.5545416409368444,-2.848360361225876,-9.027406952089661,-13.341078794287988,-14.533026366268649,-12.090238380903255,-6.42097293706381,1.2029698771462418,8.934561504265949],\"yaxis\":\"y3\",\"type\":\"scatter\"},{\"hovertemplate\":\"value_identifier=random value 2<br>Parameter Value=%{x}<br>Criterion Value=%{y}<extra></extra>\",\"legendgroup\":\"random value 2\",\"line\":{\"color\":\"rgb(231,138,195)\",\"dash\":\"solid\"},\"marker\":{\"symbol\":\"circle\"},\"mode\":\"lines\",\"name\":\"random value 2\",\"orientation\":\"v\",\"showlegend\":false,\"x\":[0.0,0.5,1.0,1.5,2.0,2.5,3.0,3.5,4.0,4.5,5.0,5.5,6.0,6.5,7.0,7.5,8.0,8.5,9.0,9.5,10.0],\"xaxis\":\"x3\",\"y\":[-0.0,-0.6400146509135833,-1.5886304924232864,-2.3064290523994333,-2.4277541697122946,-1.7864780893644343,-0.46145883861573556,1.238958018680253,2.8575661965639374,3.914895306806605,4.048117069976785,3.123826714960261,1.2921408756763464,-1.0354310690888853,-3.281627479003312,-4.849726062338371,-5.283020797637478,-4.395022702426029,-2.334141060000362,0.4373015447522871,3.247876461186603],\"yaxis\":\"y3\",\"type\":\"scatter\"},{\"hovertemplate\":\"value_identifier=random value 3<br>Parameter Value=%{x}<br>Criterion Value=%{y}<extra></extra>\",\"legendgroup\":\"random value 3\",\"line\":{\"color\":\"rgb(166,216,84)\",\"dash\":\"solid\"},\"marker\":{\"symbol\":\"circle\"},\"mode\":\"lines\",\"name\":\"random value 3\",\"orientation\":\"v\",\"showlegend\":false,\"x\":[0.0,0.5,1.0,1.5,2.0,2.5,3.0,3.5,4.0,4.5,5.0,5.5,6.0,6.5,7.0,7.5,8.0,8.5,9.0,9.5,10.0],\"xaxis\":\"x3\",\"y\":[0.0,1.364661892583758,3.3873341669788606,4.917849663698648,5.176543373246981,3.809191816174006,0.9839388694554764,-2.641750141485914,-6.093003790491118,-8.347478344484546,-8.631538503422547,-6.660733892351116,-2.7551485116290055,2.207782775544073,6.997202266946543,10.340757570621726,11.264643942091208,9.371222971973992,4.976938187197285,-0.9324298324102498,-6.925237152109512],\"yaxis\":\"y3\",\"type\":\"scatter\"},{\"hovertemplate\":\"value_identifier=start values<br>Parameter Value=%{x}<br>Criterion Value=%{y}<extra></extra>\",\"legendgroup\":\"start values\",\"line\":{\"color\":\"rgb(102,194,165)\",\"dash\":\"solid\"},\"marker\":{\"symbol\":\"circle\"},\"mode\":\"lines\",\"name\":\"start values\",\"orientation\":\"v\",\"showlegend\":false,\"x\":[0.0,0.5,1.0,1.5,2.0,2.5,3.0,3.5,4.0,4.5,5.0,5.5,6.0,6.5,7.0,7.5,8.0,8.5,9.0,9.5,10.0],\"xaxis\":\"x4\",\"y\":[-0.0,-0.805746912969203,-2.0000075205960277,-2.9036805427822214,-3.056422887978416,-2.2490878975001336,-0.5809539424546497,1.5597871039749769,3.5975350536114936,4.928660310438677,5.096379946639911,3.9327439280289407,1.6267417006960303,-1.303556701897157,-4.1314073153598,-6.105566173989124,-6.651062897969906,-5.533117046390069,-2.938568595024079,0.5505410996730371,4.088916446788958],\"yaxis\":\"y4\",\"type\":\"scatter\"},{\"hovertemplate\":\"value_identifier=random value 0<br>Parameter Value=%{x}<br>Criterion Value=%{y}<extra></extra>\",\"legendgroup\":\"random value 0\",\"line\":{\"color\":\"rgb(252,141,98)\",\"dash\":\"solid\"},\"marker\":{\"symbol\":\"circle\"},\"mode\":\"lines\",\"name\":\"random value 0\",\"orientation\":\"v\",\"showlegend\":false,\"x\":[0.0,0.5,1.0,1.5,2.0,2.5,3.0,3.5,4.0,4.5,5.0,5.5,6.0,6.5,7.0,7.5,8.0,8.5,9.0,9.5,10.0],\"xaxis\":\"x4\",\"y\":[-0.0,-0.13505341798416787,-0.33522666646674265,-0.48669374430709295,-0.5122953016418242,-0.37697570169385003,-0.09737526058989304,0.2614401325388619,0.6029925743279382,0.8261060766026104,0.8542180181657096,0.6591778398251107,0.2726625734708515,-0.2184926622661587,-0.6924763471547574,-1.0233704495213702,-1.1148026298834273,-0.9274207039375951,-0.49254142504434845,0.09227768180657986,0.685354337822495],\"yaxis\":\"y4\",\"type\":\"scatter\"},{\"hovertemplate\":\"value_identifier=random value 1<br>Parameter Value=%{x}<br>Criterion Value=%{y}<extra></extra>\",\"legendgroup\":\"random value 1\",\"line\":{\"color\":\"rgb(141,160,203)\",\"dash\":\"solid\"},\"marker\":{\"symbol\":\"circle\"},\"mode\":\"lines\",\"name\":\"random value 1\",\"orientation\":\"v\",\"showlegend\":false,\"x\":[0.0,0.5,1.0,1.5,2.0,2.5,3.0,3.5,4.0,4.5,5.0,5.5,6.0,6.5,7.0,7.5,8.0,8.5,9.0,9.5,10.0],\"xaxis\":\"x4\",\"y\":[-0.0,-0.38574512596065114,-0.9574881895750459,-1.3901146857609261,-1.4632389065787395,-1.0767335007474303,-0.27812722345244806,0.7467360572036396,1.72229218637573,2.359558146194346,2.439852629674412,1.882770852075847,0.7787900544701417,-0.6240677265733307,-1.9778794179744308,-2.9229927598078738,-3.1841451131289373,-2.6489371509343194,-1.4068170719444044,0.2635673093146659,1.9575372420563912],\"yaxis\":\"y4\",\"type\":\"scatter\"},{\"hovertemplate\":\"value_identifier=random value 2<br>Parameter Value=%{x}<br>Criterion Value=%{y}<extra></extra>\",\"legendgroup\":\"random value 2\",\"line\":{\"color\":\"rgb(231,138,195)\",\"dash\":\"solid\"},\"marker\":{\"symbol\":\"circle\"},\"mode\":\"lines\",\"name\":\"random value 2\",\"orientation\":\"v\",\"showlegend\":false,\"x\":[0.0,0.5,1.0,1.5,2.0,2.5,3.0,3.5,4.0,4.5,5.0,5.5,6.0,6.5,7.0,7.5,8.0,8.5,9.0,9.5,10.0],\"xaxis\":\"x4\",\"y\":[-0.0,-0.23922153933930182,-0.5937905191644824,-0.8620857467939093,-0.9074340544969824,-0.6677410242463321,-0.17248182296734332,0.4630916557650497,1.0680870872724437,1.4632903798524715,1.5130853575355205,1.16760863882619,0.48297008338995917,-0.38701835008559354,-1.2265906349873894,-1.8127068378051303,-1.97466162027442,-1.6427500445571737,-0.872443805171188,0.16345242806827828,1.2139753449704245],\"yaxis\":\"y4\",\"type\":\"scatter\"},{\"hovertemplate\":\"value_identifier=random value 3<br>Parameter Value=%{x}<br>Criterion Value=%{y}<extra></extra>\",\"legendgroup\":\"random value 3\",\"line\":{\"color\":\"rgb(166,216,84)\",\"dash\":\"solid\"},\"marker\":{\"symbol\":\"circle\"},\"mode\":\"lines\",\"name\":\"random value 3\",\"orientation\":\"v\",\"showlegend\":false,\"x\":[0.0,0.5,1.0,1.5,2.0,2.5,3.0,3.5,4.0,4.5,5.0,5.5,6.0,6.5,7.0,7.5,8.0,8.5,9.0,9.5,10.0],\"xaxis\":\"x4\",\"y\":[0.0,0.9480777591788245,2.3532980616457575,3.416600049049573,3.5963235056765326,2.6463771436622814,0.6835763228913049,-1.835315082850521,-4.233020216765785,-5.7992815705058876,-5.99662797581074,-4.6274419308291135,-1.9140968479485703,1.5338229622785196,4.861198133998973,7.184081506961833,7.825937284981869,6.510512328597847,3.4576508875438665,-0.6477912154704202,-4.811201482678578],\"yaxis\":\"y4\",\"type\":\"scatter\"}],                        {\"template\":{\"data\":{\"barpolar\":[{\"marker\":{\"line\":{\"color\":\"white\",\"width\":0.5},\"pattern\":{\"fillmode\":\"overlay\",\"size\":10,\"solidity\":0.2}},\"type\":\"barpolar\"}],\"bar\":[{\"error_x\":{\"color\":\"rgb(36,36,36)\"},\"error_y\":{\"color\":\"rgb(36,36,36)\"},\"marker\":{\"line\":{\"color\":\"white\",\"width\":0.5},\"pattern\":{\"fillmode\":\"overlay\",\"size\":10,\"solidity\":0.2}},\"type\":\"bar\"}],\"carpet\":[{\"aaxis\":{\"endlinecolor\":\"rgb(36,36,36)\",\"gridcolor\":\"white\",\"linecolor\":\"white\",\"minorgridcolor\":\"white\",\"startlinecolor\":\"rgb(36,36,36)\"},\"baxis\":{\"endlinecolor\":\"rgb(36,36,36)\",\"gridcolor\":\"white\",\"linecolor\":\"white\",\"minorgridcolor\":\"white\",\"startlinecolor\":\"rgb(36,36,36)\"},\"type\":\"carpet\"}],\"choropleth\":[{\"colorbar\":{\"outlinewidth\":1,\"tickcolor\":\"rgb(36,36,36)\",\"ticks\":\"outside\"},\"type\":\"choropleth\"}],\"contourcarpet\":[{\"colorbar\":{\"outlinewidth\":1,\"tickcolor\":\"rgb(36,36,36)\",\"ticks\":\"outside\"},\"type\":\"contourcarpet\"}],\"contour\":[{\"colorbar\":{\"outlinewidth\":1,\"tickcolor\":\"rgb(36,36,36)\",\"ticks\":\"outside\"},\"colorscale\":[[0.0,\"#440154\"],[0.1111111111111111,\"#482878\"],[0.2222222222222222,\"#3e4989\"],[0.3333333333333333,\"#31688e\"],[0.4444444444444444,\"#26828e\"],[0.5555555555555556,\"#1f9e89\"],[0.6666666666666666,\"#35b779\"],[0.7777777777777778,\"#6ece58\"],[0.8888888888888888,\"#b5de2b\"],[1.0,\"#fde725\"]],\"type\":\"contour\"}],\"heatmapgl\":[{\"colorbar\":{\"outlinewidth\":1,\"tickcolor\":\"rgb(36,36,36)\",\"ticks\":\"outside\"},\"colorscale\":[[0.0,\"#440154\"],[0.1111111111111111,\"#482878\"],[0.2222222222222222,\"#3e4989\"],[0.3333333333333333,\"#31688e\"],[0.4444444444444444,\"#26828e\"],[0.5555555555555556,\"#1f9e89\"],[0.6666666666666666,\"#35b779\"],[0.7777777777777778,\"#6ece58\"],[0.8888888888888888,\"#b5de2b\"],[1.0,\"#fde725\"]],\"type\":\"heatmapgl\"}],\"heatmap\":[{\"colorbar\":{\"outlinewidth\":1,\"tickcolor\":\"rgb(36,36,36)\",\"ticks\":\"outside\"},\"colorscale\":[[0.0,\"#440154\"],[0.1111111111111111,\"#482878\"],[0.2222222222222222,\"#3e4989\"],[0.3333333333333333,\"#31688e\"],[0.4444444444444444,\"#26828e\"],[0.5555555555555556,\"#1f9e89\"],[0.6666666666666666,\"#35b779\"],[0.7777777777777778,\"#6ece58\"],[0.8888888888888888,\"#b5de2b\"],[1.0,\"#fde725\"]],\"type\":\"heatmap\"}],\"histogram2dcontour\":[{\"colorbar\":{\"outlinewidth\":1,\"tickcolor\":\"rgb(36,36,36)\",\"ticks\":\"outside\"},\"colorscale\":[[0.0,\"#440154\"],[0.1111111111111111,\"#482878\"],[0.2222222222222222,\"#3e4989\"],[0.3333333333333333,\"#31688e\"],[0.4444444444444444,\"#26828e\"],[0.5555555555555556,\"#1f9e89\"],[0.6666666666666666,\"#35b779\"],[0.7777777777777778,\"#6ece58\"],[0.8888888888888888,\"#b5de2b\"],[1.0,\"#fde725\"]],\"type\":\"histogram2dcontour\"}],\"histogram2d\":[{\"colorbar\":{\"outlinewidth\":1,\"tickcolor\":\"rgb(36,36,36)\",\"ticks\":\"outside\"},\"colorscale\":[[0.0,\"#440154\"],[0.1111111111111111,\"#482878\"],[0.2222222222222222,\"#3e4989\"],[0.3333333333333333,\"#31688e\"],[0.4444444444444444,\"#26828e\"],[0.5555555555555556,\"#1f9e89\"],[0.6666666666666666,\"#35b779\"],[0.7777777777777778,\"#6ece58\"],[0.8888888888888888,\"#b5de2b\"],[1.0,\"#fde725\"]],\"type\":\"histogram2d\"}],\"histogram\":[{\"marker\":{\"line\":{\"color\":\"white\",\"width\":0.6}},\"type\":\"histogram\"}],\"mesh3d\":[{\"colorbar\":{\"outlinewidth\":1,\"tickcolor\":\"rgb(36,36,36)\",\"ticks\":\"outside\"},\"type\":\"mesh3d\"}],\"parcoords\":[{\"line\":{\"colorbar\":{\"outlinewidth\":1,\"tickcolor\":\"rgb(36,36,36)\",\"ticks\":\"outside\"}},\"type\":\"parcoords\"}],\"pie\":[{\"automargin\":true,\"type\":\"pie\"}],\"scatter3d\":[{\"line\":{\"colorbar\":{\"outlinewidth\":1,\"tickcolor\":\"rgb(36,36,36)\",\"ticks\":\"outside\"}},\"marker\":{\"colorbar\":{\"outlinewidth\":1,\"tickcolor\":\"rgb(36,36,36)\",\"ticks\":\"outside\"}},\"type\":\"scatter3d\"}],\"scattercarpet\":[{\"marker\":{\"colorbar\":{\"outlinewidth\":1,\"tickcolor\":\"rgb(36,36,36)\",\"ticks\":\"outside\"}},\"type\":\"scattercarpet\"}],\"scattergeo\":[{\"marker\":{\"colorbar\":{\"outlinewidth\":1,\"tickcolor\":\"rgb(36,36,36)\",\"ticks\":\"outside\"}},\"type\":\"scattergeo\"}],\"scattergl\":[{\"marker\":{\"colorbar\":{\"outlinewidth\":1,\"tickcolor\":\"rgb(36,36,36)\",\"ticks\":\"outside\"}},\"type\":\"scattergl\"}],\"scattermapbox\":[{\"marker\":{\"colorbar\":{\"outlinewidth\":1,\"tickcolor\":\"rgb(36,36,36)\",\"ticks\":\"outside\"}},\"type\":\"scattermapbox\"}],\"scatterpolargl\":[{\"marker\":{\"colorbar\":{\"outlinewidth\":1,\"tickcolor\":\"rgb(36,36,36)\",\"ticks\":\"outside\"}},\"type\":\"scatterpolargl\"}],\"scatterpolar\":[{\"marker\":{\"colorbar\":{\"outlinewidth\":1,\"tickcolor\":\"rgb(36,36,36)\",\"ticks\":\"outside\"}},\"type\":\"scatterpolar\"}],\"scatter\":[{\"fillpattern\":{\"fillmode\":\"overlay\",\"size\":10,\"solidity\":0.2},\"type\":\"scatter\"}],\"scatterternary\":[{\"marker\":{\"colorbar\":{\"outlinewidth\":1,\"tickcolor\":\"rgb(36,36,36)\",\"ticks\":\"outside\"}},\"type\":\"scatterternary\"}],\"surface\":[{\"colorbar\":{\"outlinewidth\":1,\"tickcolor\":\"rgb(36,36,36)\",\"ticks\":\"outside\"},\"colorscale\":[[0.0,\"#440154\"],[0.1111111111111111,\"#482878\"],[0.2222222222222222,\"#3e4989\"],[0.3333333333333333,\"#31688e\"],[0.4444444444444444,\"#26828e\"],[0.5555555555555556,\"#1f9e89\"],[0.6666666666666666,\"#35b779\"],[0.7777777777777778,\"#6ece58\"],[0.8888888888888888,\"#b5de2b\"],[1.0,\"#fde725\"]],\"type\":\"surface\"}],\"table\":[{\"cells\":{\"fill\":{\"color\":\"rgb(237,237,237)\"},\"line\":{\"color\":\"white\"}},\"header\":{\"fill\":{\"color\":\"rgb(217,217,217)\"},\"line\":{\"color\":\"white\"}},\"type\":\"table\"}]},\"layout\":{\"annotationdefaults\":{\"arrowhead\":0,\"arrowwidth\":1},\"autotypenumbers\":\"strict\",\"coloraxis\":{\"colorbar\":{\"outlinewidth\":1,\"tickcolor\":\"rgb(36,36,36)\",\"ticks\":\"outside\"}},\"colorscale\":{\"diverging\":[[0.0,\"rgb(103,0,31)\"],[0.1,\"rgb(178,24,43)\"],[0.2,\"rgb(214,96,77)\"],[0.3,\"rgb(244,165,130)\"],[0.4,\"rgb(253,219,199)\"],[0.5,\"rgb(247,247,247)\"],[0.6,\"rgb(209,229,240)\"],[0.7,\"rgb(146,197,222)\"],[0.8,\"rgb(67,147,195)\"],[0.9,\"rgb(33,102,172)\"],[1.0,\"rgb(5,48,97)\"]],\"sequential\":[[0.0,\"#440154\"],[0.1111111111111111,\"#482878\"],[0.2222222222222222,\"#3e4989\"],[0.3333333333333333,\"#31688e\"],[0.4444444444444444,\"#26828e\"],[0.5555555555555556,\"#1f9e89\"],[0.6666666666666666,\"#35b779\"],[0.7777777777777778,\"#6ece58\"],[0.8888888888888888,\"#b5de2b\"],[1.0,\"#fde725\"]],\"sequentialminus\":[[0.0,\"#440154\"],[0.1111111111111111,\"#482878\"],[0.2222222222222222,\"#3e4989\"],[0.3333333333333333,\"#31688e\"],[0.4444444444444444,\"#26828e\"],[0.5555555555555556,\"#1f9e89\"],[0.6666666666666666,\"#35b779\"],[0.7777777777777778,\"#6ece58\"],[0.8888888888888888,\"#b5de2b\"],[1.0,\"#fde725\"]]},\"colorway\":[\"#1F77B4\",\"#FF7F0E\",\"#2CA02C\",\"#D62728\",\"#9467BD\",\"#8C564B\",\"#E377C2\",\"#7F7F7F\",\"#BCBD22\",\"#17BECF\"],\"font\":{\"color\":\"rgb(36,36,36)\"},\"geo\":{\"bgcolor\":\"white\",\"lakecolor\":\"white\",\"landcolor\":\"white\",\"showlakes\":true,\"showland\":true,\"subunitcolor\":\"white\"},\"hoverlabel\":{\"align\":\"left\"},\"hovermode\":\"closest\",\"mapbox\":{\"style\":\"light\"},\"paper_bgcolor\":\"white\",\"plot_bgcolor\":\"white\",\"polar\":{\"angularaxis\":{\"gridcolor\":\"rgb(232,232,232)\",\"linecolor\":\"rgb(36,36,36)\",\"showgrid\":false,\"showline\":true,\"ticks\":\"outside\"},\"bgcolor\":\"white\",\"radialaxis\":{\"gridcolor\":\"rgb(232,232,232)\",\"linecolor\":\"rgb(36,36,36)\",\"showgrid\":false,\"showline\":true,\"ticks\":\"outside\"}},\"scene\":{\"xaxis\":{\"backgroundcolor\":\"white\",\"gridcolor\":\"rgb(232,232,232)\",\"gridwidth\":2,\"linecolor\":\"rgb(36,36,36)\",\"showbackground\":true,\"showgrid\":false,\"showline\":true,\"ticks\":\"outside\",\"zeroline\":false,\"zerolinecolor\":\"rgb(36,36,36)\"},\"yaxis\":{\"backgroundcolor\":\"white\",\"gridcolor\":\"rgb(232,232,232)\",\"gridwidth\":2,\"linecolor\":\"rgb(36,36,36)\",\"showbackground\":true,\"showgrid\":false,\"showline\":true,\"ticks\":\"outside\",\"zeroline\":false,\"zerolinecolor\":\"rgb(36,36,36)\"},\"zaxis\":{\"backgroundcolor\":\"white\",\"gridcolor\":\"rgb(232,232,232)\",\"gridwidth\":2,\"linecolor\":\"rgb(36,36,36)\",\"showbackground\":true,\"showgrid\":false,\"showline\":true,\"ticks\":\"outside\",\"zeroline\":false,\"zerolinecolor\":\"rgb(36,36,36)\"}},\"shapedefaults\":{\"fillcolor\":\"black\",\"line\":{\"width\":0},\"opacity\":0.3},\"ternary\":{\"aaxis\":{\"gridcolor\":\"rgb(232,232,232)\",\"linecolor\":\"rgb(36,36,36)\",\"showgrid\":false,\"showline\":true,\"ticks\":\"outside\"},\"baxis\":{\"gridcolor\":\"rgb(232,232,232)\",\"linecolor\":\"rgb(36,36,36)\",\"showgrid\":false,\"showline\":true,\"ticks\":\"outside\"},\"bgcolor\":\"white\",\"caxis\":{\"gridcolor\":\"rgb(232,232,232)\",\"linecolor\":\"rgb(36,36,36)\",\"showgrid\":false,\"showline\":true,\"ticks\":\"outside\"}},\"title\":{\"x\":0.05},\"xaxis\":{\"automargin\":true,\"gridcolor\":\"rgb(232,232,232)\",\"linecolor\":\"rgb(36,36,36)\",\"showgrid\":false,\"showline\":true,\"ticks\":\"outside\",\"title\":{\"standoff\":15},\"zeroline\":false,\"zerolinecolor\":\"rgb(36,36,36)\"},\"yaxis\":{\"automargin\":true,\"gridcolor\":\"rgb(232,232,232)\",\"linecolor\":\"rgb(36,36,36)\",\"showgrid\":false,\"showline\":true,\"ticks\":\"outside\",\"title\":{\"standoff\":15},\"zeroline\":false,\"zerolinecolor\":\"rgb(36,36,36)\"}}},\"xaxis\":{\"anchor\":\"y\",\"domain\":[0.0,0.45],\"title\":{\"text\":\"x_0\"},\"showgrid\":false},\"yaxis\":{\"anchor\":\"x\",\"domain\":[0.6000000000000001,1.0],\"title\":{\"text\":\"Criterion Value\"},\"showgrid\":false},\"xaxis2\":{\"anchor\":\"y2\",\"domain\":[0.55,1.0],\"title\":{\"text\":\"x_1\"}},\"yaxis2\":{\"anchor\":\"x2\",\"domain\":[0.6000000000000001,1.0],\"matches\":\"y\",\"showticklabels\":false},\"xaxis3\":{\"anchor\":\"y3\",\"domain\":[0.0,0.45],\"title\":{\"text\":\"x_2\"}},\"yaxis3\":{\"anchor\":\"x3\",\"domain\":[0.0,0.4],\"title\":{\"text\":\"Criterion Value\"}},\"xaxis4\":{\"anchor\":\"y4\",\"domain\":[0.55,1.0],\"title\":{\"text\":\"x_3\"}},\"yaxis4\":{\"anchor\":\"x4\",\"domain\":[0.0,0.4],\"matches\":\"y3\",\"showticklabels\":false},\"height\":500,\"width\":900},                        {\"responsive\": true}                    ).then(function(){\n",
       "                            \n",
       "var gd = document.getElementById('273ba067-f9fa-4f88-8ff0-aca0879ea33c');\n",
       "var x = new MutationObserver(function (mutations, observer) {{\n",
       "        var display = window.getComputedStyle(gd).display;\n",
       "        if (!display || display === 'none') {{\n",
       "            console.log([gd, 'removed!']);\n",
       "            Plotly.purge(gd);\n",
       "            observer.disconnect();\n",
       "        }}\n",
       "}});\n",
       "\n",
       "// Listen for the removal of the full notebook cells\n",
       "var notebookContainer = gd.closest('#notebook-container');\n",
       "if (notebookContainer) {{\n",
       "    x.observe(notebookContainer, {childList: true});\n",
       "}}\n",
       "\n",
       "// Listen for the clearing of the current output cell\n",
       "var outputEl = gd.closest('.output');\n",
       "if (outputEl) {{\n",
       "    x.observe(outputEl, {childList: true});\n",
       "}}\n",
       "\n",
       "                        })                };                });            </script>        </div>"
      ]
     },
     "metadata": {},
     "output_type": "display_data"
    }
   ],
   "source": [
    "fig = combine_plots(list(plots_dict.values()))\n",
    "\n",
    "fig = fig.update_layout(height=500, width=900)\n",
    "fig.show(renderer=\"png\")"
   ]
  },
  {
   "cell_type": "markdown",
   "metadata": {},
   "source": [
    "Here the picture looks very differently:\n",
    "\n",
    "- The minimum along each coordinate seems to strongly depend on the value of all other parameters. This means that fixing some parameters initially and only optimizing the rest would not work well. \n",
    "- There is no sign of noise or non-differentiablities.\n",
    "- There are several local optima.\n",
    "\n",
    "-> We would expect that a gradient based optimizer is efficient at finding local optima. Thus, a good strategy would be to run gradient based optimizers from many starting values."
   ]
  },
  {
   "cell_type": "code",
   "execution_count": null,
   "metadata": {},
   "outputs": [],
   "source": []
  }
 ],
 "metadata": {
  "kernelspec": {
   "display_name": "Python 3 (ipykernel)",
   "language": "python",
   "name": "python3"
  },
  "language_info": {
   "codemirror_mode": {
    "name": "ipython",
    "version": 3
   },
   "file_extension": ".py",
   "mimetype": "text/x-python",
   "name": "python",
   "nbconvert_exporter": "python",
   "pygments_lexer": "ipython3",
   "version": "3.8.13"
  }
 },
 "nbformat": 4,
 "nbformat_minor": 4
}
