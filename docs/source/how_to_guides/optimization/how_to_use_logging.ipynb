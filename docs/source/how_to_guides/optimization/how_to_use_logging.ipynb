{
 "cells": [
  {
   "cell_type": "markdown",
   "metadata": {},
   "source": [
    "# How to use logging\n",
    "\n",
    "\n",
    "Estimagic can keep a persistent log of the parameter and criterion values tried out by an optimizer. For this we use an sqlite database, which makes it easy to read from and write to the log-file from several processes or threads. Moreover, it is possible to retrieve data from the log-file without ever loading it into memory, which might be relevant for very long running optimizations.\n",
    "\n",
    "The log-file is updated instantly when new information becomes available. Thus, no data is lost when an optimization has to be aborted or a server is shut down for maintenance.\n",
    "\n",
    "The sqlite database is also used to exchange data between the optimization and the dashboard.\n",
    "\n",
    "In addition to parameters and criterion values, we also save all arguments to an maximize or minimize in the database as well as other information in the database that can help to reproduce an optimization result.\n"
   ]
  },
  {
   "cell_type": "markdown",
   "metadata": {},
   "source": [
    "## Turn logging on or off\n",
    "\n",
    "``logging`` is an optional argument of `maximize` or `minimize`. It can be a string or pathlib.Path that specifies the path to a sqlite3\n",
    "database. Typically, those files have the file extension ``.db``. If the file does not exist, it will be created for you.\n",
    "\n",
    "We encourage users to always use logging. However, it introduces a small overhead of about 5 milliseconds for each evaluation of the criterion function. If this is too much, you can turn logging off by specifying `logging=False`\n",
    "\n"
   ]
  },
  {
   "cell_type": "markdown",
   "metadata": {},
   "source": [
    "## Reading the log\n",
    "\n",
    "The most convenient way of displaying the content of the log file is the dashboard. However, sometimes you need to access the content of a specific iteration. Examples are:\n",
    "- You want to re-start the optimization from the last or some other parameter vector\n",
    "- You want to find a parameter vector that caused an error in order to investigate that error\n",
    "- You want to visualize the fit of your model at a specific parameter vector in a way that is not yet supported in the dashboard. \n",
    "\n",
    "Since most estimagic users have little experience with sql databases, we provide a convenience function for this:"
   ]
  },
  {
   "cell_type": "code",
   "execution_count": 4,
   "metadata": {},
   "outputs": [],
   "source": [
    "from estimagic.logging.read_log import read_optimization_iteration\n",
    "from estimagic.config import TEST_DIR"
   ]
  },
  {
   "cell_type": "code",
   "execution_count": 20,
   "metadata": {},
   "outputs": [
    {
     "data": {
      "text/plain": [
       "dict_keys(['rowid', 'timestamp', 'exceptions', 'valid', 'hash', 'value', 'params'])"
      ]
     },
     "execution_count": 20,
     "metadata": {},
     "output_type": "execute_result"
    }
   ],
   "source": [
    "path = TEST_DIR / \"dashboard\" / \"db1.db\"\n",
    "info = read_optimization_iteration(path, 1)\n",
    "info.keys()"
   ]
  },
  {
   "cell_type": "markdown",
   "metadata": {},
   "source": [
    "The entries should be rather self explanatory. For more detailed information about the function, check out the docstring"
   ]
  },
  {
   "cell_type": "code",
   "execution_count": 21,
   "metadata": {},
   "outputs": [
    {
     "name": "stdout",
     "output_type": "stream",
     "text": [
      "Get information about an optimization iteration.\n",
      "\n",
      "    Args:\n",
      "        path (str or pathlib.Path): Path to the sqlite database file used for logging.\n",
      "            Typically, those have the file extension ``.db``.\n",
      "        iteration (int): The index of the iteration that should be retrieved. The row_id\n",
      "            behaves as Python list indices, i.e. 0 identifies the first iteration,\n",
      "            -1 the last one, etc.\n",
      "        include_internals (bool): Whether internally used quantities like the\n",
      "            internal parameter vector and the corresponding derivative etc. are included\n",
      "             in the result. Default False. This should only be used by advanced users.\n",
      "\n",
      "    Returns:\n",
      "        dict: The logged information corresponding to the iteration. The keys correspond\n",
      "            to database columns.\n",
      "\n",
      "    Raises:\n",
      "        KeyError if the iteration is out of bounds.\n",
      "\n",
      "    \n"
     ]
    }
   ],
   "source": [
    "print(read_optimization_iteration.__doc__)"
   ]
  },
  {
   "cell_type": "markdown",
   "metadata": {},
   "source": [
    "## Customize the logging behaviour with the `log_options` argument\n",
    "\n",
    "``log_options`` is an optional argument to `maximize` or `minimize`. It is a dictionary with keyword arguments that influence the logging\n",
    "behavior. The following options are available:\n",
    "\n",
    "\n",
    "- \"fast_logging\": A boolean that determines if \"unsafe\" settings are used to speed up write processes to the database. This should only be used for very short running criterion functions where the main purpose of the log is a real-time dashboard and it would not be catastrophic to get a corrupted database in case of a sudden system shutdown. If one evaluation of the criterion function (and gradient if applicable) takes more than 100 ms, the logging overhead is negligible.\n",
    "- \"if_exists\": (str) One of \"extend\", \"replace\", \"raise\"\n"
   ]
  },
  {
   "cell_type": "code",
   "execution_count": null,
   "metadata": {},
   "outputs": [],
   "source": []
  }
 ],
 "metadata": {
  "kernelspec": {
   "display_name": "Python 3",
   "language": "python",
   "name": "python3"
  },
  "language_info": {
   "codemirror_mode": {
    "name": "ipython",
    "version": 3
   },
   "file_extension": ".py",
   "mimetype": "text/x-python",
   "name": "python",
   "nbconvert_exporter": "python",
   "pygments_lexer": "ipython3",
   "version": "3.7.8"
  }
 },
 "nbformat": 4,
 "nbformat_minor": 2
}
