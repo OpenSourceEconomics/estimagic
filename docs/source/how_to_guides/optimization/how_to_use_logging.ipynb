{
 "cells": [
  {
   "cell_type": "markdown",
   "metadata": {},
   "source": [
    "# How to Use Logging\n",
    "\n",
    "\n",
    "Estimagic can keep a persistent log of the parameter and criterion values tried out by an optimizer. For this we use an sqlite database, which makes it easy to read from and write to the log-file from several processes or threads. Moreover, it is possible to retrieve data from the log-file without ever loading it into memory, which might be relevant for very long running optimizations.\n",
    "\n",
    "The log-file is updated instantly when new information becomes available. Thus, no data is lost when an optimization has to be aborted or a server is shut down for maintenance.\n",
    "\n",
    "The sqlite database is also used to exchange data between the optimization and the dashboard.\n",
    "\n",
    "In addition to parameters and criterion values, we also save all arguments to an maximize or minimize in the database as well as other information in the database that can help to reproduce an optimization result.\n"
   ]
  },
  {
   "cell_type": "markdown",
   "metadata": {},
   "source": [
    "## Turn logging on or off\n",
    "\n",
    "``logging`` is an optional argument of `maximize` or `minimize`. It can be a string or pathlib.Path that specifies the path to a sqlite3\n",
    "database. Typically, those files have the file extension ``.db``. If the file does not exist, it will be created for you.\n",
    "\n",
    "We encourage users to always use logging. However, it introduces a small overhead of about 5 milliseconds for each evaluation of the criterion function. If this is too much, you can turn logging off by specifying `logging=False`\n",
    "\n"
   ]
  },
  {
   "cell_type": "markdown",
   "metadata": {},
   "source": [
    "## Reading the log file"
   ]
  },
  {
   "cell_type": "markdown",
   "metadata": {},
   "source": [
    "## Customize the logging behaviour with the `log_options` argument\n",
    "\n",
    "``log_options`` is an optional argument to `maximize` or `minimize`. It is a dictionary with keyword arguments that influence the logging\n",
    "behavior. The following options are available:\n",
    "\n",
    "\n",
    "- \"fast_logging\": A boolean that determines if \"unsafe\" settings are used to speed up write processes to the database. This should only be used for very short running criterion functions where the main purpose of the log is a real-time dashboard and it would not be catastrophic to get a corrupted database in case of a sudden system shutdown. If one evaluation of the criterion function (and gradient if applicable) takes more than 100 ms, the logging overhead is negligible.\n",
    "- \"if_exists\": (str) One of \"extend\", \"replace\", \"raise\"\n"
   ]
  },
  {
   "cell_type": "code",
   "execution_count": null,
   "metadata": {},
   "outputs": [],
   "source": []
  }
 ],
 "metadata": {
  "kernelspec": {
   "display_name": "Python 3",
   "language": "python",
   "name": "python3"
  },
  "language_info": {
   "codemirror_mode": {
    "name": "ipython",
    "version": 3
   },
   "file_extension": ".py",
   "mimetype": "text/x-python",
   "name": "python",
   "nbconvert_exporter": "python",
   "pygments_lexer": "ipython3",
   "version": "3.7.4"
  }
 },
 "nbformat": 4,
 "nbformat_minor": 2
}
