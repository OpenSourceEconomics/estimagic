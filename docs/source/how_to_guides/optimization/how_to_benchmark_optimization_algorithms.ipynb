{
 "cells": [
  {
   "cell_type": "markdown",
   "id": "6be356db",
   "metadata": {},
   "source": [
    "# How to benchmark optimization algorithms\n",
    "\n",
    "Benchmarking optimization algorithms is an important step when developing a new algorithm or when searching for a algorithm that is good a solving a particular problem. \n",
    "\n",
    "In general, benchmarking constists of the following steps\n",
    "\n",
    "- Defining the test problems (or getting pre-implemented ones)\n",
    "- Defining the optimization algorithms and the tuning parameters you want to try\n",
    "- Running the benchmark\n",
    "- Plotting the results. "
   ]
  },
  {
   "cell_type": "markdown",
   "id": "8671802f",
   "metadata": {},
   "source": [
    "## Getting test problems"
   ]
  },
  {
   "cell_type": "code",
   "execution_count": 1,
   "id": "c3640855",
   "metadata": {},
   "outputs": [
    {
     "data": {
      "text/plain": [
       "dict_keys(['linear_full_rank_good_start', 'linear_full_rank_bad_start'])"
      ]
     },
     "execution_count": 1,
     "metadata": {},
     "output_type": "execute_result"
    }
   ],
   "source": [
    "from estimagic.examples.benchmarking import get_problems\n",
    "\n",
    "problems = get_problems(\"more_wild\")\n",
    "problems.keys()"
   ]
  },
  {
   "cell_type": "markdown",
   "id": "c628b987",
   "metadata": {},
   "source": [
    "## Specifying optimizers"
   ]
  },
  {
   "cell_type": "code",
   "execution_count": 2,
   "id": "4b1d8bc0",
   "metadata": {},
   "outputs": [],
   "source": [
    "optimize_options = {\n",
    "    \"lbfgsb\": {\"algorithm\": \"scipy_lbfgsb\"},\n",
    "    \"lbfgsb_strict\": {\n",
    "        \"algorithm\": \"scipy_lbfgsb\",\n",
    "        \"algo_options\": {\"convergence.relative_criterion_tolerance\": 1e-8},\n",
    "    },\n",
    "    \"neldermead\": {\"algorithm\": \"scipy_neldermead\"},\n",
    "}"
   ]
  },
  {
   "cell_type": "markdown",
   "id": "9703f954",
   "metadata": {},
   "source": [
    "## Running the benchmark"
   ]
  },
  {
   "cell_type": "code",
   "execution_count": 3,
   "id": "f0ef15da",
   "metadata": {},
   "outputs": [],
   "source": [
    "from estimagic.examples.benchmarking import run_benchmark\n",
    "\n",
    "results = run_benchmark(\n",
    "    problems,\n",
    "    optimize_options,\n",
    "    logging_directory=\"benchmark_logs\",\n",
    ")"
   ]
  },
  {
   "cell_type": "markdown",
   "id": "70744c8b",
   "metadata": {},
   "source": [
    "## Visualizing the results\n",
    "\n",
    "[This is work in progress]"
   ]
  },
  {
   "cell_type": "code",
   "execution_count": 4,
   "id": "f499eb45",
   "metadata": {},
   "outputs": [
    {
     "data": {
      "text/plain": [
       "0    72.0\n",
       "1    61.0\n",
       "2    36.0\n",
       "dtype: float64"
      ]
     },
     "execution_count": 4,
     "metadata": {},
     "output_type": "execute_result"
    }
   ],
   "source": [
    "results[(\"linear_full_rank_good_start\", \"lbfgsb\")][\"criterion_history\"]"
   ]
  },
  {
   "cell_type": "code",
   "execution_count": null,
   "id": "476846e2",
   "metadata": {},
   "outputs": [],
   "source": []
  },
  {
   "cell_type": "code",
   "execution_count": null,
   "id": "03316837",
   "metadata": {},
   "outputs": [],
   "source": []
  }
 ],
 "metadata": {
  "kernelspec": {
   "display_name": "Python 3 (ipykernel)",
   "language": "python",
   "name": "python3"
  },
  "language_info": {
   "codemirror_mode": {
    "name": "ipython",
    "version": 3
   },
   "file_extension": ".py",
   "mimetype": "text/x-python",
   "name": "python",
   "nbconvert_exporter": "python",
   "pygments_lexer": "ipython3",
   "version": "3.8.12"
  }
 },
 "nbformat": 4,
 "nbformat_minor": 5
}
