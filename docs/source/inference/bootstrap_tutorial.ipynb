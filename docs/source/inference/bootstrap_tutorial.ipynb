{
 "cells": [
  {
   "cell_type": "code",
   "execution_count": 1,
   "metadata": {},
   "outputs": [],
   "source": [
    "import numpy as np\n",
    "import pandas as pd\n",
    "import statsmodels.api as sm\n",
    "import seaborn as sns"
   ]
  },
  {
   "cell_type": "markdown",
   "metadata": {},
   "source": [
    "# Bootstrap Tutorial\n",
    "\n",
    "This notebook contains a tutorial on how to use the bootstrap functionality provided by estimagic. In this example, we will work with the \"exercise\" example dataset taken from the seaborn library.\n",
    "\n",
    "The working example will be a linear regression to investigate the effects of exercise time on pulse."
   ]
  },
  {
   "cell_type": "code",
   "execution_count": 2,
   "metadata": {},
   "outputs": [
    {
     "name": "stdout",
     "output_type": "stream",
     "text": [
      "   Unnamed: 0  id     diet  pulse  time  kind  constant\n",
      "0           0   1  low fat     85     1  rest         1\n",
      "1           1   1  low fat     85    15  rest         1\n",
      "2           2   1  low fat     88    30  rest         1\n",
      "3           3   2  low fat     90     1  rest         1\n",
      "4           4   2  low fat     92    15  rest         1\n"
     ]
    }
   ],
   "source": [
    "df = sns.load_dataset(\"exercise\")\n",
    "\n",
    "dictionary = {\"1 min\": 1, \"15 min\": 15, \"30 min\": 30}\n",
    "\n",
    "df = df.replace({\"time\": dictionary})\n",
    "df[\"constant\"] = 1\n",
    "\n",
    "print(df.head())"
   ]
  },
  {
   "cell_type": "markdown",
   "metadata": {},
   "source": [
    "In general, there are two ways to use bootstrap functionality in estimagic. We can either use the main bootstrap() function, which will draw bootstrap samples, compute estimates, as well as compute standard errors and confidence intervals of these estimates at the same time. Or we can use the fact that all of the code is separated, and go through all of this step by step. \n",
    "\n",
    "In either way, the first thing that is required from the user is to specify a wrapping function that calculates the statistic of interest, and only takes the data on which to compute the statistic as an input. In our case, we want to regress \"pulse\" on \"time\" and a constant, and the function looks as follows:"
   ]
  },
  {
   "cell_type": "code",
   "execution_count": 3,
   "metadata": {},
   "outputs": [],
   "source": [
    "def ols_fit(data):\n",
    "    \n",
    "    y = data[\"pulse\"]\n",
    "    x = data[[\"constant\", \"time\"]]\n",
    "    \n",
    "    params = pd.Series(\n",
    "        sm.OLS(y, x).fit().params, index=[\"constant\", \"time\"]\n",
    "    )\n",
    "    \n",
    "    return params"
   ]
  },
  {
   "cell_type": "markdown",
   "metadata": {},
   "source": [
    "By returning a pd.Series with the coefficient names as index, we make sure we will eventually get a nice and readable output table. This is however not necessary. We could also simply return the parameter vector, in which case we would simply have to keep in mind the meaning of each parameter by ourselves."
   ]
  },
  {
   "cell_type": "markdown",
   "metadata": {},
   "source": [
    "## The Easy Way"
   ]
  },
  {
   "cell_type": "markdown",
   "metadata": {},
   "source": [
    "After defining our function of interest, we can make use of estimagic's bootstrap functionality using one simple function call of the bootstrap() function."
   ]
  },
  {
   "cell_type": "code",
   "execution_count": 4,
   "metadata": {},
   "outputs": [
    {
     "name": "stdout",
     "output_type": "stream",
     "text": [
      "               mean       std   lower_ci   upper_ci\n",
      "constant  93.747665  1.505694  90.748863  96.774676\n",
      "time       0.392136  0.124565   0.154251   0.645340\n"
     ]
    }
   ],
   "source": [
    "from estimagic.inference.bootstrap import bootstrap\n",
    "\n",
    "results_without_cluster = bootstrap(data=df, f=ols_fit)\n",
    "\n",
    "print(results_without_cluster)"
   ]
  },
  {
   "cell_type": "markdown",
   "metadata": {},
   "source": [
    "The above function call represents the minimum that a user has to specify, making full use of the default options, such as drawing a 1000 bootstrap draws, using the \"percentile\" bootstrap confidence interval, not making use of parallelization, etc.\n",
    "\n",
    "If we would for example want to make 10000 draws, while parallelizing the maximum possible number of threads and using a \"bca\" type confidence interval, we would simply call the following."
   ]
  },
  {
   "cell_type": "code",
   "execution_count": 5,
   "metadata": {},
   "outputs": [
    {
     "name": "stdout",
     "output_type": "stream",
     "text": [
      "               mean       std   lower_ci   upper_ci\n",
      "constant  93.784457  1.512215  91.813764  97.294586\n",
      "time       0.386832  0.126028   0.126121   0.563412\n"
     ]
    }
   ],
   "source": [
    "results_without_cluster2 = bootstrap(data=df, f=ols_fit, ndraws=10000, ci_method=\"bca\", n_cores=-1)\n",
    "\n",
    "print(results_without_cluster2)"
   ]
  },
  {
   "cell_type": "markdown",
   "metadata": {},
   "source": [
    "Estimagic implements two different types of bootstrap. In the standard bootstrap that we called in the two examples above, observations from the original dataset are drawn uniformly with replacement in order to create the different bootstrap samples.\n",
    "\n",
    "In the cluster robust variant of the bootstrap, the original dataset is divided into clusters according to the values of some user-specified variable, and then clusters are drawn uniformly with replacement in order to create the different bootstrap samples. \n",
    "\n",
    "In order to use the cluster robust boostrap, we simply specify which variable to cluster by. In the example we are working with, it seems sensible to cluster on individuals, i.e. on the column \"id\" of our dataset."
   ]
  },
  {
   "cell_type": "code",
   "execution_count": 6,
   "metadata": {},
   "outputs": [
    {
     "name": "stdout",
     "output_type": "stream",
     "text": [
      "               mean       std   lower_ci   upper_ci\n",
      "constant  93.783383  1.157161  91.469985  95.996858\n",
      "time       0.387834  0.101596   0.206891   0.597352\n"
     ]
    }
   ],
   "source": [
    "results_with_cluster = bootstrap(data=df, f=ols_fit, cluster_by=\"id\")\n",
    "\n",
    "print(results_with_cluster)"
   ]
  },
  {
   "cell_type": "markdown",
   "metadata": {},
   "source": [
    "We can see that the estimated standard errors are indeed of a smaller magnitude when we use the cluster robust bootstrap.\n",
    "\n",
    "Finally, we can compare the results to full sample regressions using the statsmodels regression function and see that the cluster robust bootstrap gives standard error estimates very close to the cluster robust regression, while the regular bootstrap seems to overestimate the standard errors of both coefficients."
   ]
  },
  {
   "cell_type": "code",
   "execution_count": 7,
   "metadata": {},
   "outputs": [
    {
     "data": {
      "text/html": [
       "<table class=\"simpletable\">\n",
       "<caption>OLS Regression Results</caption>\n",
       "<tr>\n",
       "  <th>Dep. Variable:</th>          <td>pulse</td>      <th>  R-squared:         </th> <td>   0.096</td>\n",
       "</tr>\n",
       "<tr>\n",
       "  <th>Model:</th>                   <td>OLS</td>       <th>  Adj. R-squared:    </th> <td>   0.086</td>\n",
       "</tr>\n",
       "<tr>\n",
       "  <th>Method:</th>             <td>Least Squares</td>  <th>  F-statistic:       </th> <td>   13.75</td>\n",
       "</tr>\n",
       "<tr>\n",
       "  <th>Date:</th>             <td>Sat, 07 Mar 2020</td> <th>  Prob (F-statistic):</th> <td>0.000879</td>\n",
       "</tr>\n",
       "<tr>\n",
       "  <th>Time:</th>                 <td>10:23:19</td>     <th>  Log-Likelihood:    </th> <td> -365.51</td>\n",
       "</tr>\n",
       "<tr>\n",
       "  <th>No. Observations:</th>      <td>    90</td>      <th>  AIC:               </th> <td>   735.0</td>\n",
       "</tr>\n",
       "<tr>\n",
       "  <th>Df Residuals:</th>          <td>    88</td>      <th>  BIC:               </th> <td>   740.0</td>\n",
       "</tr>\n",
       "<tr>\n",
       "  <th>Df Model:</th>              <td>     1</td>      <th>                     </th>     <td> </td>   \n",
       "</tr>\n",
       "<tr>\n",
       "  <th>Covariance Type:</th>       <td>cluster</td>     <th>                     </th>     <td> </td>   \n",
       "</tr>\n",
       "</table>\n",
       "<table class=\"simpletable\">\n",
       "<tr>\n",
       "      <td></td>        <th>coef</th>     <th>std err</th>      <th>z</th>      <th>P>|z|</th>  <th>[0.025</th>    <th>0.975]</th>  \n",
       "</tr>\n",
       "<tr>\n",
       "  <th>constant</th> <td>   93.7611</td> <td>    1.205</td> <td>   77.837</td> <td> 0.000</td> <td>   91.400</td> <td>   96.122</td>\n",
       "</tr>\n",
       "<tr>\n",
       "  <th>time</th>     <td>    0.3873</td> <td>    0.104</td> <td>    3.708</td> <td> 0.000</td> <td>    0.183</td> <td>    0.592</td>\n",
       "</tr>\n",
       "</table>\n",
       "<table class=\"simpletable\">\n",
       "<tr>\n",
       "  <th>Omnibus:</th>       <td>20.828</td> <th>  Durbin-Watson:     </th> <td>   0.827</td>\n",
       "</tr>\n",
       "<tr>\n",
       "  <th>Prob(Omnibus):</th> <td> 0.000</td> <th>  Jarque-Bera (JB):  </th> <td>  26.313</td>\n",
       "</tr>\n",
       "<tr>\n",
       "  <th>Skew:</th>          <td> 1.173</td> <th>  Prob(JB):          </th> <td>1.93e-06</td>\n",
       "</tr>\n",
       "<tr>\n",
       "  <th>Kurtosis:</th>      <td> 4.231</td> <th>  Cond. No.          </th> <td>    31.7</td>\n",
       "</tr>\n",
       "</table><br/><br/>Warnings:<br/>[1] Standard Errors are robust to cluster correlation (cluster)"
      ],
      "text/plain": [
       "<class 'statsmodels.iolib.summary.Summary'>\n",
       "\"\"\"\n",
       "                            OLS Regression Results                            \n",
       "==============================================================================\n",
       "Dep. Variable:                  pulse   R-squared:                       0.096\n",
       "Model:                            OLS   Adj. R-squared:                  0.086\n",
       "Method:                 Least Squares   F-statistic:                     13.75\n",
       "Date:                Sat, 07 Mar 2020   Prob (F-statistic):           0.000879\n",
       "Time:                        10:23:19   Log-Likelihood:                -365.51\n",
       "No. Observations:                  90   AIC:                             735.0\n",
       "Df Residuals:                      88   BIC:                             740.0\n",
       "Df Model:                           1                                         \n",
       "Covariance Type:              cluster                                         \n",
       "==============================================================================\n",
       "                 coef    std err          z      P>|z|      [0.025      0.975]\n",
       "------------------------------------------------------------------------------\n",
       "constant      93.7611      1.205     77.837      0.000      91.400      96.122\n",
       "time           0.3873      0.104      3.708      0.000       0.183       0.592\n",
       "==============================================================================\n",
       "Omnibus:                       20.828   Durbin-Watson:                   0.827\n",
       "Prob(Omnibus):                  0.000   Jarque-Bera (JB):               26.313\n",
       "Skew:                           1.173   Prob(JB):                     1.93e-06\n",
       "Kurtosis:                       4.231   Cond. No.                         31.7\n",
       "==============================================================================\n",
       "\n",
       "Warnings:\n",
       "[1] Standard Errors are robust to cluster correlation (cluster)\n",
       "\"\"\""
      ]
     },
     "execution_count": 7,
     "metadata": {},
     "output_type": "execute_result"
    }
   ],
   "source": [
    "y = df[\"pulse\"]\n",
    "x = df[[\"constant\", \"time\"]]\n",
    "\n",
    "\n",
    "cluster_robust_ols = sm.OLS(y, x).fit(\n",
    "        cov_type=\"cluster\", cov_kwds={\"groups\": df[\"id\"]}\n",
    "    )\n",
    "\n",
    "cluster_robust_ols.summary()"
   ]
  },
  {
   "cell_type": "markdown",
   "metadata": {},
   "source": [
    "Finally, note that we can also call the bootstrap function (and all functions below) with a list of statistics instead of one single statistic function."
   ]
  },
  {
   "cell_type": "code",
   "execution_count": 8,
   "metadata": {},
   "outputs": [
    {
     "name": "stdout",
     "output_type": "stream",
     "text": [
      "                        mean       std   lower_ci   upper_ci\n",
      "constant           93.808116  1.468092  90.866438  96.592118\n",
      "time                0.389905  0.124758   0.160019   0.641667\n",
      "corr(pulse, time)   0.307628  0.080118   0.150206   0.453532\n"
     ]
    }
   ],
   "source": [
    "def corr(data):\n",
    "    \n",
    "    return pd.Series(data[\"pulse\"].corr(data[\"time\"]), index=[\"corr(pulse, time)\"])\n",
    "\n",
    "list_results = bootstrap(data=df, f=[ols_fit, corr])\n",
    "\n",
    "print(list_results)"
   ]
  },
  {
   "cell_type": "markdown",
   "metadata": {},
   "source": [
    "## The More Sophisticated Way\n",
    "\n",
    "In some analyses, we might be interested in not simply calculating one statistic of our sample, but indeed calculating several statistics of our sample one after another. Here I want to show how this can be done with bootstrap in estimagic.\n",
    "\n",
    "In a first step, we should fix seeds in order to make sure that the samples we base our estimates on are the same for each separate statistic. The seeds returned are simply an np.array of ndraws valid random seeds."
   ]
  },
  {
   "cell_type": "code",
   "execution_count": 9,
   "metadata": {},
   "outputs": [
    {
     "name": "stdout",
     "output_type": "stream",
     "text": [
      "[ 820832367  418597563 1743692288 ... 1101394466 1215746329 1456628164]\n"
     ]
    }
   ],
   "source": [
    "from estimagic.inference.bootstrap_samples import get_seeds\n",
    "\n",
    "my_seeds = get_seeds(2000)\n",
    "\n",
    "print(my_seeds)"
   ]
  },
  {
   "cell_type": "markdown",
   "metadata": {},
   "source": [
    "Next, we can then go on to call the bootstrap function for different statistics, e.g. the above defined function and also a simple correlation coefficient of \"pulse\" and \"time\":"
   ]
  },
  {
   "cell_type": "code",
   "execution_count": 10,
   "metadata": {},
   "outputs": [
    {
     "name": "stdout",
     "output_type": "stream",
     "text": [
      "               mean       std   lower_ci   upper_ci\n",
      "constant  93.840476  1.525184  90.884772  96.924009\n",
      "time       0.383560  0.127032   0.150264   0.647411\n"
     ]
    }
   ],
   "source": [
    "results_ols = bootstrap(data=df, f=ols_fit, seeds=my_seeds)\n",
    "print(results_ols)"
   ]
  },
  {
   "cell_type": "code",
   "execution_count": 11,
   "metadata": {},
   "outputs": [
    {
     "name": "stdout",
     "output_type": "stream",
     "text": [
      "                       mean       std  lower_ci  upper_ci\n",
      "corr(pulse, time)  0.304974  0.082786  0.140951  0.459555\n"
     ]
    }
   ],
   "source": [
    "results_corr = bootstrap(data=df, f=corr, seeds=my_seeds)\n",
    "print(results_corr)"
   ]
  },
  {
   "cell_type": "markdown",
   "metadata": {},
   "source": [
    "## A Complete Separation of Code"
   ]
  },
  {
   "cell_type": "markdown",
   "metadata": {},
   "source": [
    "There might of course also be situations where we simply want to return the collection of bootstrap estimates and not directly get the very streamlined results table. The following example makes use of the complete separation of code."
   ]
  },
  {
   "cell_type": "code",
   "execution_count": 12,
   "metadata": {},
   "outputs": [],
   "source": [
    "more_seeds = get_seeds(2000)"
   ]
  },
  {
   "cell_type": "markdown",
   "metadata": {},
   "source": [
    "Next, we can use get_bootstrap_estimates() to get the pd.DataFrame containing all of the different bootstrap estimates for f. We could again use cluster_by to use the clustered bootstrap."
   ]
  },
  {
   "cell_type": "code",
   "execution_count": 13,
   "metadata": {},
   "outputs": [
    {
     "name": "stdout",
     "output_type": "stream",
     "text": [
      "    constant      time\n",
      "0  94.566718  0.210447\n",
      "1  93.308101  0.385386\n",
      "2  92.484300  0.450313\n",
      "3  92.987570  0.478580\n",
      "4  95.768208  0.271246\n"
     ]
    }
   ],
   "source": [
    "from estimagic.inference.bootstrap_estimates import get_bootstrap_estimates\n",
    "\n",
    "my_estimates = get_bootstrap_estimates(data=df, f=ols_fit, seeds=more_seeds)\n",
    "\n",
    "print(my_estimates.head())"
   ]
  },
  {
   "cell_type": "markdown",
   "metadata": {},
   "source": [
    "We can also compute confidence intervals using estimates as an input."
   ]
  },
  {
   "cell_type": "code",
   "execution_count": 14,
   "metadata": {},
   "outputs": [
    {
     "name": "stdout",
     "output_type": "stream",
     "text": [
      "           lower_ci   upper_ci\n",
      "constant  91.552669  96.522910\n",
      "time       0.181187   0.593919\n"
     ]
    }
   ],
   "source": [
    "from estimagic.inference.bootstrap_ci import compute_ci\n",
    "\n",
    "confidence_intervals = compute_ci(data=df, f=ols_fit, estimates=my_estimates, ci_method=\"bc\")\n",
    "\n",
    "print(confidence_intervals)"
   ]
  },
  {
   "cell_type": "markdown",
   "metadata": {},
   "source": [
    "Alternatively, we can compute the whole results table using specific estimates as an input."
   ]
  },
  {
   "cell_type": "code",
   "execution_count": 15,
   "metadata": {},
   "outputs": [
    {
     "name": "stdout",
     "output_type": "stream",
     "text": [
      "               mean       std   lower_ci   upper_ci\n",
      "constant  93.742363  1.506603  90.691330  96.584602\n",
      "time       0.393578  0.127448   0.124622   0.613314\n"
     ]
    }
   ],
   "source": [
    "from estimagic.inference.bootstrap import get_results_table\n",
    "\n",
    "my_results = get_results_table(data=df, f=ols_fit, estimates=my_estimates, ci_method=\"t\")\n",
    "\n",
    "print(my_results)"
   ]
  },
  {
   "cell_type": "markdown",
   "metadata": {},
   "source": [
    "Finally, note that it is also possible to return the list of bootstrap samples using the get_bootstrap_samples() function. This function returns a list of ndraws np.arrays of bootstrap sample ids (row numbers) obtained from drawing from the original sample with replacement, using the cluster robust bootstrap if specified using the cluster_by input.\n",
    "If we specify return_samples=True, the function instead returns a list of DataFrames. This can however be very memory inefficient for large datasets and/or large numbers of bootstrap draws."
   ]
  },
  {
   "cell_type": "code",
   "execution_count": 16,
   "metadata": {},
   "outputs": [
    {
     "name": "stdout",
     "output_type": "stream",
     "text": [
      "<class 'list'>\n",
      "[43 69 40  9 61 51 68 84 51 89 78 11 68 47 64 59 47  2 19 82 76 17 65 35\n",
      " 73 59 60 18 40 66 77 24  6 10 14 88 20 21  1 48 41 30 79 61 55  2 83  1\n",
      " 82 47 57 55 54 81 43 15 43  2 30 75 26 67 89 50 56 28  0  0 50 54 40 54\n",
      " 66 47 84 69 56 79 39 39 38 54  7 55 82 40 83 31 38 25]\n"
     ]
    }
   ],
   "source": [
    "from estimagic.inference.bootstrap_samples import get_bootstrap_samples\n",
    "\n",
    "my_samples = get_bootstrap_samples(data=df, seeds=my_seeds)\n",
    "\n",
    "print(type(my_samples))\n",
    "\n",
    "print(my_samples[4])"
   ]
  }
 ],
 "metadata": {
  "kernelspec": {
   "display_name": "Python 3",
   "language": "python",
   "name": "python3"
  },
  "language_info": {
   "codemirror_mode": {
    "name": "ipython",
    "version": 3
   },
   "file_extension": ".py",
   "mimetype": "text/x-python",
   "name": "python",
   "nbconvert_exporter": "python",
   "pygments_lexer": "ipython3",
   "version": "3.7.6"
  }
 },
 "nbformat": 4,
 "nbformat_minor": 4
}
