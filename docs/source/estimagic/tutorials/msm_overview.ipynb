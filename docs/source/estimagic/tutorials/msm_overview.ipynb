{
 "cells": [
  {
   "cell_type": "markdown",
   "id": "private-handle",
   "metadata": {},
   "source": [
    "# Method of Simulated Moments (MSM)\n",
    "\n",
    "This tutorial shows you how to do a Method of Simulated Moments estimation in estimagic. The Method of Simulated Moments (MSM) is a nonlinear estimation principle that is very useful for fitting complicated models to the data. The only ingredient required is a function that simulates the model outcomes you observe in some empirical dataset. \n",
    "\n",
    "In the tutorial here, we will use a simple linear regression model. This is the same model which we use in the tutorial on maximum likelihood estimation.\n",
    "\n",
    "Throughout the tutorial, we only talk about MSM estimation. However, the more general case of indirect inference estimation works exactly the same way. \n",
    "\n",
    "\n",
    "## Steps of MSM estimation\n",
    "\n",
    "1. Load (simulate) empirical data \n",
    "2. Define a function to calculate estimation moments on the data \n",
    "3. Calculate the covariance matrix of the empirical moments (with ``get_moments_cov``)\n",
    "4. Define a function to simulate moments from the model \n",
    "5. Estimate the model, calculate standard errors, do sensitivity analysis (with ``estimate_msm``)\n",
    "\n",
    "## Example: Estimate the parameters of a regression model\n",
    "\n",
    "The model we consider here is a simple regression model with only one explanatory variable (plus a constant). The goal is to estimate the slope coefficients and the error variance from a simulated data set.\n",
    "\n",
    "The estimation mechanics are exactly the same for more complicated models. A model is always defined by a function that can take parameters (here: the mean, variance and lower_cutoff and upper_cutoff) and returns a number of simulated moments (mean, variance, soft_min and soft_max of simulated exam points).\n",
    "\n",
    "### Model:\n",
    "\n",
    "$$ y = \\beta_0 + \\beta_1 x + \\epsilon, \\text{ where } \\epsilon \\sim N(0, \\sigma^2)$$\n",
    "\n",
    "We aim to estimate $\\beta_0, \\beta_1, \\sigma^2$."
   ]
  },
  {
   "cell_type": "code",
   "execution_count": 1,
   "id": "dirty-slovakia",
   "metadata": {},
   "outputs": [],
   "source": [
    "import estimagic as em\n",
    "import numpy as np\n",
    "import pandas as pd\n",
    "\n",
    "rng = np.random.default_rng(seed=0)"
   ]
  },
  {
   "cell_type": "markdown",
   "id": "annoying-guard",
   "metadata": {},
   "source": [
    "## 1. Simulate data"
   ]
  },
  {
   "cell_type": "code",
   "execution_count": 2,
   "id": "fdaf1542",
   "metadata": {},
   "outputs": [],
   "source": [
    "def simulate_data(params, n_draws, rng):\n",
    "    x = rng.normal(0, 1, size=n_draws)\n",
    "    e = rng.normal(0, params.loc[\"sd\", \"value\"], size=n_draws)\n",
    "    y = params.loc[\"intercept\", \"value\"] + params.loc[\"slope\", \"value\"] * x + e\n",
    "    return pd.DataFrame({\"y\": y, \"x\": x})"
   ]
  },
  {
   "cell_type": "code",
   "execution_count": 3,
   "id": "f965ccdc",
   "metadata": {},
   "outputs": [],
   "source": [
    "true_params = pd.DataFrame(\n",
    "    data=[[2, -np.inf], [-1, -np.inf], [1, 1e-10]],\n",
    "    columns=[\"value\", \"lower_bound\"],\n",
    "    index=[\"intercept\", \"slope\", \"sd\"],\n",
    ")\n",
    "\n",
    "data = simulate_data(true_params, n_draws=100, rng=rng)"
   ]
  },
  {
   "cell_type": "markdown",
   "id": "20a94f52",
   "metadata": {},
   "source": [
    "## 2. Calculate Moments"
   ]
  },
  {
   "cell_type": "code",
   "execution_count": 4,
   "id": "diverse-validation",
   "metadata": {},
   "outputs": [],
   "source": [
    "def calculate_moments(sample):\n",
    "    moments = {\n",
    "        \"y_mean\": sample[\"y\"].mean(),\n",
    "        \"x_mean\": sample[\"x\"].mean(),\n",
    "        \"yx_mean\": (sample[\"y\"] * sample[\"x\"]).mean(),\n",
    "        \"y_sqrd_mean\": (sample[\"y\"] ** 2).mean(),\n",
    "        \"x_sqrd_mean\": (sample[\"x\"] ** 2).mean(),\n",
    "    }\n",
    "    return pd.Series(moments)"
   ]
  },
  {
   "cell_type": "code",
   "execution_count": 5,
   "id": "short-flood",
   "metadata": {},
   "outputs": [
    {
     "data": {
      "text/plain": [
       "y_mean         1.868333\n",
       "x_mean         0.081097\n",
       "yx_mean       -0.723189\n",
       "y_sqrd_mean    5.227749\n",
       "x_sqrd_mean    0.932272\n",
       "dtype: float64"
      ]
     },
     "execution_count": 5,
     "metadata": {},
     "output_type": "execute_result"
    }
   ],
   "source": [
    "empirical_moments = calculate_moments(data)\n",
    "empirical_moments"
   ]
  },
  {
   "cell_type": "markdown",
   "id": "italic-baptist",
   "metadata": {},
   "source": [
    "## 3. Calculate the covariance matrix of empirical moments\n",
    "\n",
    "The covariance matrix of the empirical moments (``moments_cov``) is needed for three things:\n",
    "1. to calculate the weighting matrix\n",
    "2. to calculate standard errors\n",
    "3. to calculate sensitivity measures\n",
    "\n",
    "We will calculate ``moments_cov`` via a bootstrap. Depending on your problem, there can be other ways to calculate the covariance matrix."
   ]
  },
  {
   "cell_type": "code",
   "execution_count": 6,
   "id": "rocky-willow",
   "metadata": {},
   "outputs": [
    {
     "data": {
      "text/html": [
       "<div>\n",
       "<style scoped>\n",
       "    .dataframe tbody tr th:only-of-type {\n",
       "        vertical-align: middle;\n",
       "    }\n",
       "\n",
       "    .dataframe tbody tr th {\n",
       "        vertical-align: top;\n",
       "    }\n",
       "\n",
       "    .dataframe thead th {\n",
       "        text-align: right;\n",
       "    }\n",
       "</style>\n",
       "<table border=\"1\" class=\"dataframe\">\n",
       "  <thead>\n",
       "    <tr style=\"text-align: right;\">\n",
       "      <th></th>\n",
       "      <th>y_mean</th>\n",
       "      <th>x_mean</th>\n",
       "      <th>yx_mean</th>\n",
       "      <th>y_sqrd_mean</th>\n",
       "      <th>x_sqrd_mean</th>\n",
       "    </tr>\n",
       "  </thead>\n",
       "  <tbody>\n",
       "    <tr>\n",
       "      <th>y_mean</th>\n",
       "      <td>0.017775</td>\n",
       "      <td>-0.009000</td>\n",
       "      <td>-0.015085</td>\n",
       "      <td>0.060904</td>\n",
       "      <td>-0.001010</td>\n",
       "    </tr>\n",
       "    <tr>\n",
       "      <th>x_mean</th>\n",
       "      <td>-0.009000</td>\n",
       "      <td>0.009407</td>\n",
       "      <td>0.016998</td>\n",
       "      <td>-0.032881</td>\n",
       "      <td>0.001586</td>\n",
       "    </tr>\n",
       "    <tr>\n",
       "      <th>yx_mean</th>\n",
       "      <td>-0.015085</td>\n",
       "      <td>0.016998</td>\n",
       "      <td>0.052317</td>\n",
       "      <td>-0.081053</td>\n",
       "      <td>-0.010686</td>\n",
       "    </tr>\n",
       "    <tr>\n",
       "      <th>y_sqrd_mean</th>\n",
       "      <td>0.060904</td>\n",
       "      <td>-0.032881</td>\n",
       "      <td>-0.081053</td>\n",
       "      <td>0.254822</td>\n",
       "      <td>0.008873</td>\n",
       "    </tr>\n",
       "    <tr>\n",
       "      <th>x_sqrd_mean</th>\n",
       "      <td>-0.001010</td>\n",
       "      <td>0.001586</td>\n",
       "      <td>-0.010686</td>\n",
       "      <td>0.008873</td>\n",
       "      <td>0.012473</td>\n",
       "    </tr>\n",
       "  </tbody>\n",
       "</table>\n",
       "</div>"
      ],
      "text/plain": [
       "               y_mean    x_mean   yx_mean  y_sqrd_mean  x_sqrd_mean\n",
       "y_mean       0.017775 -0.009000 -0.015085     0.060904    -0.001010\n",
       "x_mean      -0.009000  0.009407  0.016998    -0.032881     0.001586\n",
       "yx_mean     -0.015085  0.016998  0.052317    -0.081053    -0.010686\n",
       "y_sqrd_mean  0.060904 -0.032881 -0.081053     0.254822     0.008873\n",
       "x_sqrd_mean -0.001010  0.001586 -0.010686     0.008873     0.012473"
      ]
     },
     "execution_count": 6,
     "metadata": {},
     "output_type": "execute_result"
    }
   ],
   "source": [
    "moments_cov = em.get_moments_cov(\n",
    "    data, calculate_moments, bootstrap_kwargs={\"n_draws\": 5_000, \"seed\": 0}\n",
    ")\n",
    "\n",
    "moments_cov"
   ]
  },
  {
   "cell_type": "markdown",
   "id": "hearing-dairy",
   "metadata": {},
   "source": [
    "``get_moments_cov`` mainly just calls estimagic's bootstrap function. See our [bootstrap_tutorial](bootstrap_overview.ipynb) for background information. \n",
    "\n"
   ]
  },
  {
   "cell_type": "markdown",
   "id": "worldwide-whole",
   "metadata": {},
   "source": [
    "## 4. Define a function to calculate simulated moments\n",
    "\n",
    "In a real world application, this is the step that would take most of the time. However, in our very simple example, all the work is already done by numpy."
   ]
  },
  {
   "cell_type": "code",
   "execution_count": 7,
   "id": "creative-pittsburgh",
   "metadata": {},
   "outputs": [],
   "source": [
    "def simulate_moments(params, n_draws=10_000, seed=0):\n",
    "    rng = np.random.default_rng(seed)\n",
    "    sim_data = simulate_data(params, n_draws, rng)\n",
    "    sim_moments = calculate_moments(sim_data)\n",
    "    return sim_moments"
   ]
  },
  {
   "cell_type": "code",
   "execution_count": 8,
   "id": "casual-stream",
   "metadata": {},
   "outputs": [
    {
     "data": {
      "text/plain": [
       "y_mean         1.996739\n",
       "x_mean         0.006312\n",
       "yx_mean       -0.997919\n",
       "y_sqrd_mean    5.999877\n",
       "x_sqrd_mean    0.996197\n",
       "dtype: float64"
      ]
     },
     "execution_count": 8,
     "metadata": {},
     "output_type": "execute_result"
    }
   ],
   "source": [
    "simulate_moments(true_params)"
   ]
  },
  {
   "cell_type": "markdown",
   "id": "sustainable-collectible",
   "metadata": {},
   "source": [
    "## 5. Estimate the model parameters\n",
    "\n",
    "Estimating a model consists of the following steps:\n",
    "\n",
    "- Building a criterion function that measures a distance between simulated and empirical moments\n",
    "- Minimizing this criterion function\n",
    "- Calculating the Jacobian of the model\n",
    "- Calculating standard errors, confidence intervals and p-values\n",
    "- Calculating sensitivity measures\n",
    "\n",
    "This can all be done in one go with the ``estimate_msm`` function. This function has sensible default values, so you only need a minimum number of inputs. However, you can configure almost any aspect of the workflow via optional arguments. If you need even more control, you can call the lower level functions, which the now famliliar``estimate_msm`` function is built on, directly. "
   ]
  },
  {
   "cell_type": "code",
   "execution_count": 9,
   "id": "finite-david",
   "metadata": {},
   "outputs": [],
   "source": [
    "start_params = true_params.assign(value=[100, 100, 100])\n",
    "\n",
    "res = em.estimate_msm(\n",
    "    simulate_moments,\n",
    "    empirical_moments,\n",
    "    moments_cov,\n",
    "    start_params,\n",
    "    optimize_options=\"scipy_lbfgsb\",\n",
    ")"
   ]
  },
  {
   "cell_type": "code",
   "execution_count": 10,
   "id": "outside-volleyball",
   "metadata": {},
   "outputs": [
    {
     "data": {
      "text/html": [
       "<div>\n",
       "<style scoped>\n",
       "    .dataframe tbody tr th:only-of-type {\n",
       "        vertical-align: middle;\n",
       "    }\n",
       "\n",
       "    .dataframe tbody tr th {\n",
       "        vertical-align: top;\n",
       "    }\n",
       "\n",
       "    .dataframe thead th {\n",
       "        text-align: right;\n",
       "    }\n",
       "</style>\n",
       "<table border=\"1\" class=\"dataframe\">\n",
       "  <thead>\n",
       "    <tr style=\"text-align: right;\">\n",
       "      <th></th>\n",
       "      <th>value</th>\n",
       "      <th>standard_error</th>\n",
       "      <th>ci_lower</th>\n",
       "      <th>ci_upper</th>\n",
       "      <th>p_value</th>\n",
       "      <th>free</th>\n",
       "      <th>stars</th>\n",
       "    </tr>\n",
       "  </thead>\n",
       "  <tbody>\n",
       "    <tr>\n",
       "      <th>intercept</th>\n",
       "      <td>1.869534</td>\n",
       "      <td>0.134356</td>\n",
       "      <td>1.606201</td>\n",
       "      <td>2.132867</td>\n",
       "      <td>5.151663e-44</td>\n",
       "      <td>True</td>\n",
       "      <td>***</td>\n",
       "    </tr>\n",
       "    <tr>\n",
       "      <th>slope</th>\n",
       "      <td>-0.721958</td>\n",
       "      <td>0.231564</td>\n",
       "      <td>-1.175815</td>\n",
       "      <td>-0.268102</td>\n",
       "      <td>1.822359e-03</td>\n",
       "      <td>True</td>\n",
       "      <td>***</td>\n",
       "    </tr>\n",
       "    <tr>\n",
       "      <th>sd</th>\n",
       "      <td>1.099789</td>\n",
       "      <td>0.137635</td>\n",
       "      <td>0.830029</td>\n",
       "      <td>1.369549</td>\n",
       "      <td>1.342810e-15</td>\n",
       "      <td>True</td>\n",
       "      <td>***</td>\n",
       "    </tr>\n",
       "  </tbody>\n",
       "</table>\n",
       "</div>"
      ],
      "text/plain": [
       "              value  standard_error  ci_lower  ci_upper       p_value  free  \\\n",
       "intercept  1.869534        0.134356  1.606201  2.132867  5.151663e-44  True   \n",
       "slope     -0.721958        0.231564 -1.175815 -0.268102  1.822359e-03  True   \n",
       "sd         1.099789        0.137635  0.830029  1.369549  1.342810e-15  True   \n",
       "\n",
       "          stars  \n",
       "intercept   ***  \n",
       "slope       ***  \n",
       "sd          ***  "
      ]
     },
     "execution_count": 10,
     "metadata": {},
     "output_type": "execute_result"
    }
   ],
   "source": [
    "res.summary()"
   ]
  },
  {
   "cell_type": "markdown",
   "id": "incident-government",
   "metadata": {},
   "source": [
    "## What's in the result?\n",
    "\n",
    "`MomentsResult` objects provide attributes and methods to calculate standard errors, confidence intervals and p-values. For all three, several methods are available. You can even calculate cluster robust standard errors.\n",
    "\n",
    "A few examples are:"
   ]
  },
  {
   "cell_type": "code",
   "execution_count": 11,
   "id": "caring-scale",
   "metadata": {},
   "outputs": [
    {
     "data": {
      "text/html": [
       "<div>\n",
       "<style scoped>\n",
       "    .dataframe tbody tr th:only-of-type {\n",
       "        vertical-align: middle;\n",
       "    }\n",
       "\n",
       "    .dataframe tbody tr th {\n",
       "        vertical-align: top;\n",
       "    }\n",
       "\n",
       "    .dataframe thead th {\n",
       "        text-align: right;\n",
       "    }\n",
       "</style>\n",
       "<table border=\"1\" class=\"dataframe\">\n",
       "  <thead>\n",
       "    <tr style=\"text-align: right;\">\n",
       "      <th></th>\n",
       "      <th>value</th>\n",
       "      <th>lower_bound</th>\n",
       "    </tr>\n",
       "  </thead>\n",
       "  <tbody>\n",
       "    <tr>\n",
       "      <th>intercept</th>\n",
       "      <td>1.869534</td>\n",
       "      <td>-inf</td>\n",
       "    </tr>\n",
       "    <tr>\n",
       "      <th>slope</th>\n",
       "      <td>-0.721958</td>\n",
       "      <td>-inf</td>\n",
       "    </tr>\n",
       "    <tr>\n",
       "      <th>sd</th>\n",
       "      <td>1.099789</td>\n",
       "      <td>1.000000e-10</td>\n",
       "    </tr>\n",
       "  </tbody>\n",
       "</table>\n",
       "</div>"
      ],
      "text/plain": [
       "              value   lower_bound\n",
       "intercept  1.869534          -inf\n",
       "slope     -0.721958          -inf\n",
       "sd         1.099789  1.000000e-10"
      ]
     },
     "execution_count": 11,
     "metadata": {},
     "output_type": "execute_result"
    }
   ],
   "source": [
    "res.params"
   ]
  },
  {
   "cell_type": "code",
   "execution_count": 12,
   "id": "9fc88986",
   "metadata": {},
   "outputs": [
    {
     "data": {
      "text/html": [
       "<div>\n",
       "<style scoped>\n",
       "    .dataframe tbody tr th:only-of-type {\n",
       "        vertical-align: middle;\n",
       "    }\n",
       "\n",
       "    .dataframe tbody tr th {\n",
       "        vertical-align: top;\n",
       "    }\n",
       "\n",
       "    .dataframe thead th {\n",
       "        text-align: right;\n",
       "    }\n",
       "</style>\n",
       "<table border=\"1\" class=\"dataframe\">\n",
       "  <thead>\n",
       "    <tr style=\"text-align: right;\">\n",
       "      <th></th>\n",
       "      <th>intercept</th>\n",
       "      <th>slope</th>\n",
       "      <th>sd</th>\n",
       "    </tr>\n",
       "  </thead>\n",
       "  <tbody>\n",
       "    <tr>\n",
       "      <th>intercept</th>\n",
       "      <td>0.018052</td>\n",
       "      <td>-0.015855</td>\n",
       "      <td>-0.013072</td>\n",
       "    </tr>\n",
       "    <tr>\n",
       "      <th>slope</th>\n",
       "      <td>-0.015855</td>\n",
       "      <td>0.053622</td>\n",
       "      <td>0.024682</td>\n",
       "    </tr>\n",
       "    <tr>\n",
       "      <th>sd</th>\n",
       "      <td>-0.013072</td>\n",
       "      <td>0.024682</td>\n",
       "      <td>0.018943</td>\n",
       "    </tr>\n",
       "  </tbody>\n",
       "</table>\n",
       "</div>"
      ],
      "text/plain": [
       "           intercept     slope        sd\n",
       "intercept   0.018052 -0.015855 -0.013072\n",
       "slope      -0.015855  0.053622  0.024682\n",
       "sd         -0.013072  0.024682  0.018943"
      ]
     },
     "execution_count": 12,
     "metadata": {},
     "output_type": "execute_result"
    }
   ],
   "source": [
    "res.cov(method=\"robust\")"
   ]
  },
  {
   "cell_type": "code",
   "execution_count": 13,
   "id": "d7dbe79c",
   "metadata": {},
   "outputs": [
    {
     "data": {
      "text/html": [
       "<div>\n",
       "<style scoped>\n",
       "    .dataframe tbody tr th:only-of-type {\n",
       "        vertical-align: middle;\n",
       "    }\n",
       "\n",
       "    .dataframe tbody tr th {\n",
       "        vertical-align: top;\n",
       "    }\n",
       "\n",
       "    .dataframe thead th {\n",
       "        text-align: right;\n",
       "    }\n",
       "</style>\n",
       "<table border=\"1\" class=\"dataframe\">\n",
       "  <thead>\n",
       "    <tr style=\"text-align: right;\">\n",
       "      <th></th>\n",
       "      <th>value</th>\n",
       "      <th>lower_bound</th>\n",
       "    </tr>\n",
       "  </thead>\n",
       "  <tbody>\n",
       "    <tr>\n",
       "      <th>intercept</th>\n",
       "      <td>0.134356</td>\n",
       "      <td>-inf</td>\n",
       "    </tr>\n",
       "    <tr>\n",
       "      <th>slope</th>\n",
       "      <td>0.231564</td>\n",
       "      <td>-inf</td>\n",
       "    </tr>\n",
       "    <tr>\n",
       "      <th>sd</th>\n",
       "      <td>0.137635</td>\n",
       "      <td>1.000000e-10</td>\n",
       "    </tr>\n",
       "  </tbody>\n",
       "</table>\n",
       "</div>"
      ],
      "text/plain": [
       "              value   lower_bound\n",
       "intercept  0.134356          -inf\n",
       "slope      0.231564          -inf\n",
       "sd         0.137635  1.000000e-10"
      ]
     },
     "execution_count": 13,
     "metadata": {},
     "output_type": "execute_result"
    }
   ],
   "source": [
    "res.se()"
   ]
  },
  {
   "cell_type": "markdown",
   "id": "blind-tractor",
   "metadata": {},
   "source": [
    "## How to visualize sensitivity measures?\n",
    "\n",
    "For more background on the sensitivity measures and their interpretation, check out the [how to guide](sensitivity_overview.ipynb) on sensitivity measures. \n",
    "\n",
    "Here, we just show you how to plot them:"
   ]
  },
  {
   "cell_type": "code",
   "execution_count": 14,
   "id": "fleet-qatar",
   "metadata": {},
   "outputs": [
    {
     "data": {
      "image/png": "[encoded data removed]"
     },
     "metadata": {},
     "output_type": "display_data"
    }
   ],
   "source": [
    "from estimagic import lollipop_plot\n",
    "\n",
    "sensitivity_data = res.sensitivity(kind=\"bias\").abs().T\n",
    "\n",
    "fig = lollipop_plot(sensitivity_data)\n",
    "\n",
    "fig = fig.update_layout(height=500, width=900)\n",
    "fig.show(renderer=\"png\")"
   ]
  }
 ],
 "metadata": {
  "kernelspec": {
   "display_name": "estimagic",
   "language": "python",
   "name": "python3"
  },
  "language_info": {
   "codemirror_mode": {
    "name": "ipython",
    "version": 3
   },
   "file_extension": ".py",
   "mimetype": "text/x-python",
   "name": "python",
   "nbconvert_exporter": "python",
   "pygments_lexer": "ipython3",
   "version": "3.10.14"
  },
  "vscode": {
   "interpreter": {
    "hash": "e8a16b1bdcc80285313db4674a5df2a5a80c75795379c5d9f174c7c712f05b3a"
   }
  }
 },
 "nbformat": 4,
 "nbformat_minor": 5
}
