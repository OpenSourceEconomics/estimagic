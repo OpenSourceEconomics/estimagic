{
 "cells": [
  {
   "cell_type": "markdown",
   "metadata": {},
   "source": [
    "# How to calculate second derivatives\n",
    "\n",
    "In this guide, we show you how to compute second derivatives with optimagic, while\n",
    "introducing some core concepts."
   ]
  },
  {
   "cell_type": "code",
   "execution_count": null,
   "metadata": {},
   "outputs": [],
   "source": [
    "import numpy as np\n",
    "import optimagic as om\n",
    "import pandas as pd"
   ]
  },
  {
   "cell_type": "markdown",
   "metadata": {},
   "source": [
    "## Introduction\n",
    "\n",
    "Instead of the sphere function, let's now look at an ellipse $$f(x) = x^\\top W x,$$\n",
    "with a weighting matrix $W$.\n",
    "\n",
    "The second derivative of $f$ is given by $f''(x) = W + W^\\top$. With numerical\n",
    "derivatives, we have to specify the value of $x$ at which we want to compute the\n",
    "derivative. Note that in this case the second derivative should be independent of the\n",
    "value of $x$."
   ]
  },
  {
   "cell_type": "code",
   "execution_count": null,
   "metadata": {},
   "outputs": [],
   "source": [
    "def fun_scalar(params):\n",
    "    weight = 1\n",
    "    return weight * params**2"
   ]
  },
  {
   "cell_type": "markdown",
   "metadata": {},
   "source": [
    "Let's first consider two **scalar** points $x = 0$ and $x=1$. Since the second\n",
    "derivative here is constant, we have $f''(0) = f''(1) = 2$.\n",
    "\n",
    "To compute the derivative using optimagic, we simply pass the function `fun_scalar`\n",
    "and `params` to the function `second_derivative`:"
   ]
  },
  {
   "cell_type": "code",
   "execution_count": null,
   "metadata": {},
   "outputs": [],
   "source": [
    "sd = om.second_derivative(func=fun_scalar, params=0)\n",
    "sd.derivative"
   ]
  },
  {
   "cell_type": "code",
   "execution_count": null,
   "metadata": {},
   "outputs": [],
   "source": [
    "sd = om.second_derivative(func=fun_scalar, params=1)\n",
    "sd.derivative"
   ]
  },
  {
   "cell_type": "markdown",
   "metadata": {},
   "source": [
    "Notice that the output of `second_derivative` is an object containing the derivative\n",
    "under the attribute `derivative`. We discuss the ouput in more detail below."
   ]
  },
  {
   "cell_type": "markdown",
   "metadata": {},
   "source": [
    "## Hessian and Batch-Hessian\n",
    "\n",
    "The scalar case from above extends directly to the multivariate case. Let's consider two\n",
    "cases: \n",
    "\n",
    "|         |                                     |\n",
    "|:--------|:------------------------------------|\n",
    "|Hessian | $f_1: \\mathbb{R}^N \\to \\mathbb{R}$  |\n",
    "|Batch-Hessian | $f_2: \\mathbb{R}^N \\to \\mathbb{R}^M$|\n",
    "\n",
    "\n",
    "The second derivative of $f_1$ is usually referred to as the Hessian, while the second\n",
    "derivative of $f_2$ is usually called a Batch-Hessian."
   ]
  },
  {
   "cell_type": "markdown",
   "metadata": {},
   "source": [
    "### Hessian\n",
    "\n",
    "Let's again use the ellipse function, but this time with a vector input. The hessian is\n",
    "a 2-dimensional object of shape (N, N)."
   ]
  },
  {
   "cell_type": "code",
   "execution_count": null,
   "metadata": {},
   "outputs": [],
   "source": [
    "def fun_vector(params):\n",
    "    weight = np.arange(len(params) ** 2).reshape(len(params), len(params))\n",
    "    return params @ weight @ params"
   ]
  },
  {
   "cell_type": "code",
   "execution_count": null,
   "metadata": {},
   "outputs": [],
   "source": [
    "sd = om.second_derivative(fun_vector, params=np.arange(4))\n",
    "sd.derivative.round(2)"
   ]
  },
  {
   "cell_type": "markdown",
   "metadata": {},
   "source": [
    "### Batch-Hessian\n",
    "\n",
    "As an example let's now use the function\n",
    "$$f(x) = (x^\\top x) \\begin{pmatrix}1\\\\2\\\\3 \\end{pmatrix},$$\n",
    "with $f: \\mathbb{R}^N \\to \\mathbb{R}^3$. The Batch-Hessian is now a 3-dimensional object\n",
    "of shape (M, N, N), where M is the output dimension."
   ]
  },
  {
   "cell_type": "code",
   "execution_count": null,
   "metadata": {},
   "outputs": [],
   "source": [
    "def fun_multivariate(params):\n",
    "    weight = np.arange(len(params) ** 2).reshape(len(params), len(params))\n",
    "    return (params @ weight @ params) * np.arange(3)"
   ]
  },
  {
   "cell_type": "code",
   "execution_count": null,
   "metadata": {},
   "outputs": [],
   "source": [
    "sd = om.second_derivative(fun_multivariate, params=np.arange(4))\n",
    "sd.derivative.round(2)"
   ]
  },
  {
   "cell_type": "markdown",
   "metadata": {},
   "source": [
    "## The output of `second_derivative`\n",
    "\n",
    "The output of `second_derivative` has the following attributes:\n",
    "\n",
    "- `derivative`: The computed numerical derivative.\n",
    "- `func_value`: The function value at the params vector, if `return_func_value` is True."
   ]
  },
  {
   "cell_type": "code",
   "execution_count": null,
   "metadata": {},
   "outputs": [],
   "source": [
    "sd = om.second_derivative(fun_scalar, params=0, return_func_value=True)"
   ]
  },
  {
   "cell_type": "code",
   "execution_count": null,
   "metadata": {},
   "outputs": [],
   "source": [
    "sd.derivative"
   ]
  },
  {
   "cell_type": "code",
   "execution_count": null,
   "metadata": {},
   "outputs": [],
   "source": [
    "assert sd.func_value == fun_scalar(0)"
   ]
  },
  {
   "cell_type": "markdown",
   "metadata": {},
   "source": [
    "## The ``params`` argument\n",
    "\n",
    "Above we used a ``numpy.ndarray`` as the ``params`` argument. In optimagic, params can be arbitrary [pytrees](https://jax.readthedocs.io/en/latest/pytrees.html). Examples are (nested) dictionaries of numbers, arrays and pandas objects. Lets look at a few cases.\n",
    "\n",
    "### pandas"
   ]
  },
  {
   "cell_type": "code",
   "execution_count": null,
   "metadata": {},
   "outputs": [],
   "source": [
    "params = pd.DataFrame(\n",
    "    [[\"time_pref\", \"delta\", 0.9], [\"time_pref\", \"beta\", 0.6], [\"price\", \"price\", 2]],\n",
    "    columns=[\"category\", \"name\", \"value\"],\n",
    ").set_index([\"category\", \"name\"])\n",
    "\n",
    "params"
   ]
  },
  {
   "cell_type": "code",
   "execution_count": null,
   "metadata": {},
   "outputs": [],
   "source": [
    "def fun_pandas(params):\n",
    "    weight = np.arange(len(params) ** 2).reshape(len(params), len(params))\n",
    "    return params[\"value\"] @ weight @ params[\"value\"]"
   ]
  },
  {
   "cell_type": "code",
   "execution_count": null,
   "metadata": {},
   "outputs": [],
   "source": [
    "sd = om.second_derivative(fun_pandas, params)\n",
    "sd.derivative"
   ]
  },
  {
   "cell_type": "markdown",
   "metadata": {},
   "source": [
    "### nested dicts"
   ]
  },
  {
   "cell_type": "code",
   "execution_count": null,
   "metadata": {},
   "outputs": [],
   "source": [
    "params = {\"a\": 0, \"b\": 1, \"c\": pd.Series([2, 3, 4])}\n",
    "\n",
    "params"
   ]
  },
  {
   "cell_type": "code",
   "execution_count": null,
   "metadata": {},
   "outputs": [],
   "source": [
    "def fun_dict(params):\n",
    "    return params[\"a\"] ** 2 + params[\"b\"] ** 2 + (params[\"c\"] ** 2).sum()"
   ]
  },
  {
   "cell_type": "code",
   "execution_count": null,
   "metadata": {},
   "outputs": [],
   "source": [
    "sd = om.second_derivative(\n",
    "    func=fun_dict,\n",
    "    params=params,\n",
    ")\n",
    "\n",
    "sd[\"derivative\"]"
   ]
  },
  {
   "cell_type": "markdown",
   "metadata": {},
   "source": [
    "### Description of the output\n",
    "\n",
    "> Note. Understanding the output of the first and second derivative requires terminolgy\n",
    "> of pytrees. Please refer to the\n",
    "> [JAX documentation of pytrees](https://jax.readthedocs.io/en/latest/pytrees.html).\n",
    "\n",
    "The output tree is a product of the params tree with itself. This is equivalent to the\n",
    "numpy case, where the hessian is a matrix of shape `(len(params), len(params))`. If,\n",
    "however, the params tree contains non-scalar entries like `numpy.ndarray`'s,\n",
    "`pandas.Series`', or `pandas.DataFrame`'s, the output is not expanded but a block is\n",
    "created instead. In the above example, the entry `params[\"c\"]` is a 3-dimensional\n",
    "`pandas.Series`. Thus, the second derivative output contains the corresponding 3x3-block\n",
    "of the hessian at the position `[\"c\"][\"c\"]`:"
   ]
  },
  {
   "cell_type": "code",
   "execution_count": null,
   "metadata": {},
   "outputs": [],
   "source": [
    "sd.derivative[\"c\"][\"c\"].round(3)"
   ]
  },
  {
   "cell_type": "markdown",
   "metadata": {},
   "source": [
    "## Parallelization\n",
    "\n",
    "Function evaluations can be run in parallel by  by setting the `n_cores` argument. For\n",
    "example, if we wish to evaluate the function on `2` cores, we simply write"
   ]
  },
  {
   "cell_type": "code",
   "execution_count": null,
   "metadata": {},
   "outputs": [],
   "source": [
    "sd = om.second_derivative(fun_scalar, params=0, n_cores=2)"
   ]
  }
 ],
 "metadata": {
  "kernelspec": {
   "display_name": "estimagic",
   "language": "python",
   "name": "python3"
  },
  "language_info": {
   "codemirror_mode": {
    "name": "ipython",
    "version": 3
   },
   "file_extension": ".py",
   "mimetype": "text/x-python",
   "name": "python",
   "nbconvert_exporter": "python",
   "pygments_lexer": "ipython3",
   "version": "3.10.14"
  },
  "vscode": {
   "interpreter": {
    "hash": "e8a16b1bdcc80285313db4674a5df2a5a80c75795379c5d9f174c7c712f05b3a"
   }
  }
 },
 "nbformat": 4,
 "nbformat_minor": 2
}
