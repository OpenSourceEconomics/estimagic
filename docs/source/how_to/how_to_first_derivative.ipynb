{
 "cells": [
  {
   "cell_type": "markdown",
   "metadata": {},
   "source": [
    "# How to calculate first derivatives\n",
    "\n",
    "In this guide, we show you how to compute first derivatives with optimagic - while introducing some core concepts."
   ]
  },
  {
   "cell_type": "code",
   "execution_count": null,
   "metadata": {},
   "outputs": [],
   "source": [
    "import numpy as np\n",
    "import optimagic as om\n",
    "import pandas as pd"
   ]
  },
  {
   "cell_type": "markdown",
   "metadata": {},
   "source": [
    "## Introduction\n",
    "\n",
    "As in the getting started section, let's look at the sphere function $$f(x) = x^\\top x.$$"
   ]
  },
  {
   "cell_type": "code",
   "execution_count": null,
   "metadata": {},
   "outputs": [],
   "source": [
    "def fun_scalar(params):\n",
    "    return params**2"
   ]
  },
  {
   "cell_type": "markdown",
   "metadata": {},
   "source": [
    "The derivative of $f$ is given by $f'(x) = 2 x$. With numerical derivatives, we have to\n",
    "specify the value of $x$ at which we want to compute the derivative. Let's first\n",
    "consider two **scalar** points $x = 0$ and $x=1$. We have $f'(0) = 0$ and $f'(1) = 2$.\n",
    "\n",
    "To compute the derivative using optimagic we simply pass the function and the parameters\n",
    "to the `first_derivative` function:"
   ]
  },
  {
   "cell_type": "code",
   "execution_count": null,
   "metadata": {},
   "outputs": [],
   "source": [
    "fd = om.first_derivative(func=fun_scalar, params=0)\n",
    "fd.derivative"
   ]
  },
  {
   "cell_type": "code",
   "execution_count": null,
   "metadata": {},
   "outputs": [],
   "source": [
    "fd = om.first_derivative(func=fun_scalar, params=1)\n",
    "fd.derivative"
   ]
  },
  {
   "cell_type": "markdown",
   "metadata": {},
   "source": [
    "Notice that the output of `first_derivative` is an object containing the derivative\n",
    "under the attribute `derivative`. We discuss the ouput in more detail below."
   ]
  },
  {
   "cell_type": "markdown",
   "metadata": {},
   "source": [
    "## Gradient and Jacobian\n",
    "\n",
    "The scalar case from above extends directly to the multivariate case. Let's consider two cases: \n",
    "\n",
    "|         |                                     |\n",
    "|:--------|:------------------------------------|\n",
    "|Gradient | $f_1: \\mathbb{R}^N \\to \\mathbb{R}$  |\n",
    "|Jacobian | $f_2: \\mathbb{R}^N \\to \\mathbb{R}^M$|\n",
    "\n",
    "\n",
    "The first derivative of $f_1$ is usually referred to as the gradient, while the first\n",
    "derivative of $f_2$ is usually called the Jacobian."
   ]
  },
  {
   "cell_type": "markdown",
   "metadata": {},
   "source": [
    "### Gradient\n",
    "\n",
    "Let's again use the sphere function, but this time with a vector input. The gradient is\n",
    "a 1-dimensional vector of shape (N,)."
   ]
  },
  {
   "cell_type": "code",
   "execution_count": null,
   "metadata": {},
   "outputs": [],
   "source": [
    "def fun(params):\n",
    "    return params @ params"
   ]
  },
  {
   "cell_type": "code",
   "execution_count": null,
   "metadata": {},
   "outputs": [],
   "source": [
    "fd = om.first_derivative(fun, params=np.arange(4))\n",
    "fd.derivative"
   ]
  },
  {
   "cell_type": "markdown",
   "metadata": {},
   "source": [
    "### Jacobian\n",
    "\n",
    "As an example, let's now use the function\n",
    "$$f(x) = (x^\\top x) \\begin{pmatrix}1\\\\2\\\\3 \\end{pmatrix},$$\n",
    "with $f: \\mathbb{R}^N \\to \\mathbb{R}^3$. The Jacobian is a 2-dimensional object of shape\n",
    "(M, N), where M is the output dimension."
   ]
  },
  {
   "cell_type": "code",
   "execution_count": null,
   "metadata": {},
   "outputs": [],
   "source": [
    "def fun_multivariate(params):\n",
    "    return (params @ params) * np.arange(3)"
   ]
  },
  {
   "cell_type": "code",
   "execution_count": null,
   "metadata": {},
   "outputs": [],
   "source": [
    "fd = om.first_derivative(fun_multivariate, params=np.arange(4))\n",
    "fd.derivative"
   ]
  },
  {
   "cell_type": "markdown",
   "metadata": {},
   "source": [
    "## The output of ``first_derivative``\n",
    "\n",
    "The output of `first_derivative` has the following attributes:\n",
    "\n",
    "- `derivative`: The computed numerical derivative.\n",
    "- `func_value`: The function value at the params vector, if `return_func_value` is True."
   ]
  },
  {
   "cell_type": "code",
   "execution_count": null,
   "metadata": {},
   "outputs": [],
   "source": [
    "fd = om.first_derivative(fun_scalar, params=0, return_func_value=True)"
   ]
  },
  {
   "cell_type": "code",
   "execution_count": null,
   "metadata": {},
   "outputs": [],
   "source": [
    "fd.derivative"
   ]
  },
  {
   "cell_type": "code",
   "execution_count": null,
   "metadata": {},
   "outputs": [],
   "source": [
    "assert fd.func_value == fun_scalar(0)"
   ]
  },
  {
   "cell_type": "markdown",
   "metadata": {},
   "source": [
    "## The `params` argument\n",
    "\n",
    "Above we used a `float` and `numpy.ndarray` as the `params` argument. In optimagic,\n",
    "params can be arbitrary [pytrees](https://jax.readthedocs.io/en/latest/pytrees.html).\n",
    "Examples are (nested) dictionaries of numbers, arrays, and pandas objects. Let's look at\n",
    "a few cases."
   ]
  },
  {
   "cell_type": "markdown",
   "metadata": {},
   "source": [
    "### pandas"
   ]
  },
  {
   "cell_type": "code",
   "execution_count": null,
   "metadata": {},
   "outputs": [],
   "source": [
    "params = pd.DataFrame(\n",
    "    [[\"time_pref\", \"delta\", 0.9], [\"time_pref\", \"beta\", 0.6], [\"price\", \"price\", 2]],\n",
    "    columns=[\"category\", \"name\", \"value\"],\n",
    ").set_index([\"category\", \"name\"])\n",
    "\n",
    "params"
   ]
  },
  {
   "cell_type": "code",
   "execution_count": null,
   "metadata": {},
   "outputs": [],
   "source": [
    "def fun_pandas(params):\n",
    "    return params[\"value\"] @ params[\"value\"]"
   ]
  },
  {
   "cell_type": "code",
   "execution_count": null,
   "metadata": {},
   "outputs": [],
   "source": [
    "fd = om.first_derivative(fun_pandas, params)\n",
    "fd.derivative"
   ]
  },
  {
   "cell_type": "markdown",
   "metadata": {},
   "source": [
    "### nested dicts"
   ]
  },
  {
   "cell_type": "code",
   "execution_count": null,
   "metadata": {},
   "outputs": [],
   "source": [
    "params = {\"a\": 0, \"b\": 1, \"c\": pd.Series([2, 3, 4])}\n",
    "\n",
    "params"
   ]
  },
  {
   "cell_type": "code",
   "execution_count": null,
   "metadata": {},
   "outputs": [],
   "source": [
    "def fun_dict(params):\n",
    "    return params[\"a\"] ** 2 + params[\"b\"] ** 2 + (params[\"c\"] ** 2).sum()"
   ]
  },
  {
   "cell_type": "code",
   "execution_count": null,
   "metadata": {},
   "outputs": [],
   "source": [
    "fd = om.first_derivative(\n",
    "    func=fun_dict,\n",
    "    params=params,\n",
    ")\n",
    "\n",
    "fd.derivative"
   ]
  },
  {
   "cell_type": "markdown",
   "metadata": {},
   "source": [
    "### Description of the output\n",
    "\n",
    "> Note. Understanding the output of the first and second derivative requires terminolgy\n",
    "> of pytrees. Please refer to the\n",
    "> [JAX documentation of pytrees](https://jax.readthedocs.io/en/latest/pytrees.html).\n",
    "\n",
    "The output tree of `first_derivative` has the same structure as the params tree.\n",
    "Equivalent to the numpy case, where the gradient is a vector of shape `(len(params),)`.\n",
    "If, however, the params tree contains non-scalar entries, like `numpy.ndarray`'s,\n",
    "`pandas.Series`', or `pandas.DataFrame`'s, the output is not expanded but a block is\n",
    "created instead. In the above example, the entry `params[\"c\"]` is a `pandas.Series` with\n",
    "3 entries. Thus, the first derivative output contains the corresponding 3x1-block of the\n",
    "gradient at the position `[\"c\"]`:"
   ]
  },
  {
   "cell_type": "markdown",
   "metadata": {},
   "source": [
    "## Parallelization\n",
    "\n",
    "Function evaluations can be run in parallel by  by setting the `n_cores` argument. For\n",
    "example, if we wish to evaluate the function on `2` cores, we simply write"
   ]
  },
  {
   "cell_type": "code",
   "execution_count": null,
   "metadata": {},
   "outputs": [],
   "source": [
    "fd = om.first_derivative(fun_scalar, params=0, n_cores=2)\n",
    "\n",
    "fd.derivative"
   ]
  }
 ],
 "metadata": {
  "kernelspec": {
   "display_name": "estimagic",
   "language": "python",
   "name": "python3"
  },
  "language_info": {
   "codemirror_mode": {
    "name": "ipython",
    "version": 3
   },
   "file_extension": ".py",
   "mimetype": "text/x-python",
   "name": "python",
   "nbconvert_exporter": "python",
   "pygments_lexer": "ipython3",
   "version": "3.10.14"
  },
  "vscode": {
   "interpreter": {
    "hash": "e8a16b1bdcc80285313db4674a5df2a5a80c75795379c5d9f174c7c712f05b3a"
   }
  }
 },
 "nbformat": 4,
 "nbformat_minor": 2
}
