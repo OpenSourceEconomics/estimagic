{
 "cells": [
  {
   "cell_type": "markdown",
   "metadata": {},
   "source": [
    "# Probit Example for Moment Sensitivity"
   ]
  },
  {
   "cell_type": "markdown",
   "metadata": {},
   "source": [
    "This example is a replication of the probit model in [Honoré, Jørgensen & de Paula (2020)](https://papers.ssrn.com/abstract=3518640), Section 3.1.\n",
    "\n",
    "Through this example, we will show you how to set up the `params`, how to use the`optimize` functions, and how to calculate the local `moment_sensitivity` measurements for your own model. "
   ]
  },
  {
   "cell_type": "code",
   "execution_count": 1,
   "metadata": {},
   "outputs": [],
   "source": [
    "import numpy as np\n",
    "import pandas as pd\n",
    "from scipy import stats\n",
    "\n",
    "from estimagic import minimize\n",
    "from estimagic.sensitivity.moment_sensitivity import moment_sensitivity"
   ]
  },
  {
   "cell_type": "code",
   "execution_count": 2,
   "metadata": {},
   "outputs": [],
   "source": [
    "import matplotlib.pyplot as plt\n",
    "import seaborn as sns\n",
    "\n",
    "from estimagic.visualization.sensitivity_plot import moment_sensitivity_plot\n",
    "\n",
    "sns.set(style=\"whitegrid\")"
   ]
  },
  {
   "cell_type": "markdown",
   "metadata": {},
   "source": [
    "## Input Data"
   ]
  },
  {
   "cell_type": "markdown",
   "metadata": {},
   "source": [
    "First, we should create the index for `params`. Here, we only have one set of params, `beta`. "
   ]
  },
  {
   "cell_type": "code",
   "execution_count": 3,
   "metadata": {},
   "outputs": [
    {
     "output_type": "stream",
     "name": "stdout",
     "text": [
      "MultiIndex([('beta', 'intersection'),\n            ('beta',           'x1'),\n            ('beta',           'x2')],\n           names=['type', 'name'])\n"
     ]
    }
   ],
   "source": [
    "params_index = [[\"beta\"], [\"intersection\", \"x1\", \"x2\"]]\n",
    "params_index = pd.MultiIndex.from_product(params_index, names=[\"type\", \"name\"])\n",
    "print(params_index)"
   ]
  },
  {
   "cell_type": "markdown",
   "metadata": {},
   "source": [
    "Now read the data."
   ]
  },
  {
   "cell_type": "code",
   "execution_count": 4,
   "metadata": {},
   "outputs": [],
   "source": [
    "y = pd.read_csv(\"moment_sensitivity_y.csv\", header=None)\n",
    "y.columns = [\"y_probit\"]"
   ]
  },
  {
   "cell_type": "code",
   "execution_count": 5,
   "metadata": {},
   "outputs": [],
   "source": [
    "x = pd.read_csv(\"moment_sensitivity_x.csv\", header=None)\n",
    "x.columns = [\"intertsection\", \"x1\", \"x2\"]"
   ]
  },
  {
   "cell_type": "markdown",
   "metadata": {},
   "source": [
    "## Calculate the Moments"
   ]
  },
  {
   "cell_type": "code",
   "execution_count": 6,
   "metadata": {},
   "outputs": [],
   "source": [
    "def calc_moments_value(params, x, y, estimate_y=True):\n",
    "    \"\"\"This is the func2 in sensitivity module.\n",
    "\n",
    "    Args:\n",
    "        params (pd.DataFrame): see :ref:`params`\n",
    "        x (pd.DataFrame)\n",
    "        y (pd.DataFrame)\n",
    "        estimate_y (boolean): use estimated y_star\n",
    "\n",
    "    Return:\n",
    "        mom_value (pd.DataFrame): sample value of moments\n",
    "    \"\"\"\n",
    "\n",
    "    if estimate_y == True:\n",
    "        y_estimated = x.to_numpy() @ (params[\"value\"].to_numpy())\n",
    "    else:\n",
    "        y_estimated = y.copy(deep=True)\n",
    "\n",
    "    x_np = x.T.to_numpy()\n",
    "\n",
    "    residual = y.T.to_numpy() - stats.norm.cdf(y_estimated)\n",
    "    mom_value = []\n",
    "\n",
    "    # loop through all x\n",
    "\n",
    "    length = len(x_np)\n",
    "\n",
    "    for i in range(length):\n",
    "        for j in range(i, length):\n",
    "            moment = residual * x_np[i] * x_np[j]\n",
    "            mom_value.append(moment)\n",
    "\n",
    "    mom_value = np.stack(mom_value, axis=1)[0]\n",
    "    mom_value = pd.DataFrame(data=mom_value)\n",
    "\n",
    "    return mom_value"
   ]
  },
  {
   "cell_type": "code",
   "execution_count": 7,
   "metadata": {},
   "outputs": [],
   "source": [
    "def calc_moments_expectation(params, x, y, estimate_y=True):\n",
    "    \"\"\"This is the func1 in sensitivity module.\n",
    "\n",
    "    Args:\n",
    "        params (pd.DataFrame): see :ref:`params`\n",
    "        x (pd.DataFrame)\n",
    "        y (pd.DataFrame)\n",
    "        estimate_y (boolean): use estimated y_star\n",
    "\n",
    "    Return:\n",
    "        moments (np.array): expectation of moments\n",
    "    \"\"\"\n",
    "\n",
    "    mom_value = calc_moments_value(params, x, y, estimate_y)\n",
    "\n",
    "    moments = mom_value.mean(axis=1)\n",
    "\n",
    "    # do not use pd.DataFrame since jacobian: extrapolation=False\n",
    "    # moments = pd.DataFrame(data=moments,\n",
    "    #                        columns=[\"moments\"])\n",
    "\n",
    "    return moments"
   ]
  },
  {
   "cell_type": "markdown",
   "metadata": {},
   "source": [
    "## Criterion Function & Estimation"
   ]
  },
  {
   "cell_type": "markdown",
   "metadata": {},
   "source": [
    "This is the criterion function:"
   ]
  },
  {
   "cell_type": "code",
   "execution_count": 8,
   "metadata": {},
   "outputs": [],
   "source": [
    "def criterion_func(params, x, y, weight_matrix):\n",
    "    \"\"\"\n",
    "    Args:\n",
    "        params (pd.DataFrame)\n",
    "        x (pd.DataFrame)\n",
    "        y (pd.DataFrame)\n",
    "        weight_matrix (np.array)\n",
    "\n",
    "    Return:\n",
    "        criterion (float)\n",
    "    \"\"\"\n",
    "\n",
    "    moments = calc_moments_expectation(params, x, y, estimate_y=True).to_numpy()\n",
    "\n",
    "    criterion = moments.T @ weight_matrix @ moments\n",
    "    criterion = criterion.item()\n",
    "\n",
    "    return criterion"
   ]
  },
  {
   "cell_type": "markdown",
   "metadata": {},
   "source": [
    "Give the initial arguments:"
   ]
  },
  {
   "cell_type": "code",
   "execution_count": 9,
   "metadata": {},
   "outputs": [
    {
     "output_type": "execute_result",
     "data": {
      "text/plain": [
       "                   value\n",
       "type name               \n",
       "beta intersection    0.0\n",
       "     x1              0.0\n",
       "     x2              0.0"
      ],
      "text/html": "<div>\n<style scoped>\n    .dataframe tbody tr th:only-of-type {\n        vertical-align: middle;\n    }\n\n    .dataframe tbody tr th {\n        vertical-align: top;\n    }\n\n    .dataframe thead th {\n        text-align: right;\n    }\n</style>\n<table border=\"1\" class=\"dataframe\">\n  <thead>\n    <tr style=\"text-align: right;\">\n      <th></th>\n      <th></th>\n      <th>value</th>\n    </tr>\n    <tr>\n      <th>type</th>\n      <th>name</th>\n      <th></th>\n    </tr>\n  </thead>\n  <tbody>\n    <tr>\n      <th rowspan=\"3\" valign=\"top\">beta</th>\n      <th>intersection</th>\n      <td>0.0</td>\n    </tr>\n    <tr>\n      <th>x1</th>\n      <td>0.0</td>\n    </tr>\n    <tr>\n      <th>x2</th>\n      <td>0.0</td>\n    </tr>\n  </tbody>\n</table>\n</div>"
     },
     "metadata": {},
     "execution_count": 9
    }
   ],
   "source": [
    "I_matrix = np.identity(6)\n",
    "\n",
    "params_init = pd.DataFrame(\n",
    "    data=[[0.0], [0], [0]], index=params_index, columns=[\"value\"]\n",
    ")\n",
    "params_init"
   ]
  },
  {
   "cell_type": "markdown",
   "metadata": {},
   "source": [
    "Now, we can estimate the `params` using identity matrix as the weight matrix:"
   ]
  },
  {
   "cell_type": "code",
   "execution_count": 10,
   "metadata": {},
   "outputs": [],
   "source": [
    "estimation = minimize(\n",
    "    criterion=criterion_func,\n",
    "    params=params_init,\n",
    "    criterion_kwargs={\"x\": x, \"y\": y, \"weight_matrix\": I_matrix},\n",
    "    algorithm=\"scipy_lbfgsb\",\n",
    ")"
   ]
  },
  {
   "cell_type": "code",
   "execution_count": 11,
   "metadata": {},
   "outputs": [
    {
     "output_type": "execute_result",
     "data": {
      "text/plain": [
       "                   lower_bound  upper_bound     value\n",
       "type name                                            \n",
       "beta intersection         -inf          inf  0.612646\n",
       "     x1                   -inf          inf  0.651558\n",
       "     x2                   -inf          inf  0.574975"
      ],
      "text/html": "<div>\n<style scoped>\n    .dataframe tbody tr th:only-of-type {\n        vertical-align: middle;\n    }\n\n    .dataframe tbody tr th {\n        vertical-align: top;\n    }\n\n    .dataframe thead th {\n        text-align: right;\n    }\n</style>\n<table border=\"1\" class=\"dataframe\">\n  <thead>\n    <tr style=\"text-align: right;\">\n      <th></th>\n      <th></th>\n      <th>lower_bound</th>\n      <th>upper_bound</th>\n      <th>value</th>\n    </tr>\n    <tr>\n      <th>type</th>\n      <th>name</th>\n      <th></th>\n      <th></th>\n      <th></th>\n    </tr>\n  </thead>\n  <tbody>\n    <tr>\n      <th rowspan=\"3\" valign=\"top\">beta</th>\n      <th>intersection</th>\n      <td>-inf</td>\n      <td>inf</td>\n      <td>0.612646</td>\n    </tr>\n    <tr>\n      <th>x1</th>\n      <td>-inf</td>\n      <td>inf</td>\n      <td>0.651558</td>\n    </tr>\n    <tr>\n      <th>x2</th>\n      <td>-inf</td>\n      <td>inf</td>\n      <td>0.574975</td>\n    </tr>\n  </tbody>\n</table>\n</div>"
     },
     "metadata": {},
     "execution_count": 11
    }
   ],
   "source": [
    "params_estimated = estimation[\"solution_params\"]\n",
    "params_estimated"
   ]
  },
  {
   "cell_type": "markdown",
   "metadata": {},
   "source": [
    "The true `beta`'s for this data are $1/\\sqrt{3}\\approx 0.57735$, so that looks ok for the small sample size."
   ]
  },
  {
   "cell_type": "markdown",
   "metadata": {},
   "source": [
    "## Sensitivity Measurements"
   ]
  },
  {
   "cell_type": "markdown",
   "metadata": {},
   "source": [
    "Now, we can call the sensitivity function without specifying a weight matrix, in other words, using the optimal weight matrix."
   ]
  },
  {
   "cell_type": "code",
   "execution_count": 12,
   "metadata": {},
   "outputs": [],
   "source": [
    "sensitivity = moment_sensitivity(\n",
    "    func1=calc_moments_expectation,\n",
    "    func2=calc_moments_value,\n",
    "    params=params_estimated,\n",
    "    func1_kwargs={\"x\": x, \"y\": y},\n",
    "    func2_kwargs={\"x\": x, \"y\": y},\n",
    "    save_csv=False,\n",
    ")"
   ]
  },
  {
   "cell_type": "code",
   "execution_count": 13,
   "metadata": {},
   "outputs": [
    {
     "output_type": "execute_result",
     "data": {
      "text/plain": [
       "[                          0         1         2         3         4         5\n",
       " type name                                                                    \n",
       " beta intersection  4.488934  2.202800  2.869532  0.358412  1.562034  0.637375\n",
       "      x1            0.856247  6.960227 -2.218059  1.374285 -2.160678 -0.087258\n",
       "      x2            2.430106 -1.500825  7.776466 -0.994083  1.803429  0.208955,\n",
       "                           0         1         2         3         4         5\n",
       " type name                                                                    \n",
       " beta intersection  1.207190  0.189113  0.304658  0.009399  0.051347  0.025318\n",
       "      x1            0.029976  1.288557  0.124229  0.094310  0.067050  0.000324\n",
       "      x2            0.237320  0.058888  1.500893  0.048502  0.045912  0.001825,\n",
       "                           0         1         2         3         4         5\n",
       " type name                                                                    \n",
       " beta intersection  1.207190  0.189113  0.304658  0.009399  0.051347  0.025318\n",
       "      x1            0.029976  1.288557  0.124229  0.094310  0.067050  0.000324\n",
       "      x2            0.237320  0.058888  1.500893  0.048502  0.045912  0.001825,\n",
       "                           0         1         2         3         4         5\n",
       " type name                                                                    \n",
       " beta intersection  1.199944  0.300256  0.540495  0.008161  0.034571  0.014224\n",
       "      x1            0.029666  2.074091  0.220427  0.048715  0.046024  0.000148\n",
       "      x2            0.231495  0.093360  2.673269  0.022091  0.032507  0.003722,\n",
       "                           0         1         2         3         4         5\n",
       " type name                                                                    \n",
       " beta intersection  1.176535  0.298144  0.540388  0.004198  0.034567  0.011544\n",
       "      x1            0.029215  2.031459  0.220351  0.042127  0.045139  0.000148\n",
       "      x2            0.231294  0.092839  2.662211  0.021665  0.030909  0.000832,\n",
       "                               0             1             2             3  \\\n",
       " type name                                                                   \n",
       " beta intersection -3.962593e-15 -2.675319e-16 -5.986106e-17 -9.838761e-16   \n",
       "      x1           -1.162030e-16 -2.767577e-15 -1.001571e-16 -6.235065e-16   \n",
       "      x2           -1.026429e-16 -6.611723e-17  0.000000e+00  2.983198e-17   \n",
       " \n",
       "                               4             5  \n",
       " type name                                      \n",
       " beta intersection -1.520822e-16 -6.208201e-16  \n",
       "      x1           -4.581161e-16 -4.186758e-17  \n",
       "      x2            0.000000e+00  1.041119e-16  ]"
      ]
     },
     "metadata": {},
     "execution_count": 13
    }
   ],
   "source": [
    "sensitivity"
   ]
  },
  {
   "cell_type": "markdown",
   "metadata": {},
   "source": [
    "## Visualization"
   ]
  },
  {
   "cell_type": "code",
   "execution_count": 14,
   "metadata": {},
   "outputs": [
    {
     "output_type": "execute_result",
     "data": {
      "text/plain": [
       "'Figures saved.'"
      ]
     },
     "metadata": {},
     "execution_count": 14
    },
    {
     "output_type": "display_data",
     "data": {
      "text/plain": "<Figure size 432x288 with 0 Axes>"
     },
     "metadata": {}
    },
    {
     "output_type": "display_data",
     "data": {
      "text/plain": "<Figure size 378x504 with 0 Axes>"
     },
     "metadata": {}
    },
    {
     "output_type": "display_data",
     "data": {
      "text/plain": "<Figure size 378x504 with 0 Axes>"
     },
     "metadata": {}
    },
    {
     "output_type": "display_data",
     "data": {
      "text/plain": "<Figure size 378x504 with 0 Axes>"
     },
     "metadata": {}
    },
    {
     "output_type": "display_data",
     "data": {
      "text/plain": "<Figure size 378x504 with 0 Axes>"
     },
     "metadata": {}
    },
    {
     "output_type": "display_data",
     "data": {
      "text/plain": "<Figure size 378x504 with 0 Axes>"
     },
     "metadata": {}
    },
    {
     "output_type": "display_data",
     "data": {
      "text/plain": "<Figure size 378x504 with 3 Axes>",
      "image/svg+xml": "<?xml version=\"1.0\" encoding=\"utf-8\" standalone=\"no\"?>\n<!DOCTYPE svg PUBLIC \"-//W3C//DTD SVG 1.1//EN\"\n  \"http://www.w3.org/Graphics/SVG/1.1/DTD/svg11.dtd\">\n<!-- Created with matplotlib (https://matplotlib.org/) -->\n<svg height=\"496.399687pt\" version=\"1.1\" viewBox=\"0 0 341.894531 496.399687\" width=\"341.894531pt\" xmlns=\"http://www.w3.org/2000/svg\" xmlns:xlink=\"http://www.w3.org/1999/xlink\">\n <metadata>\n  <rdf:RDF xmlns:cc=\"http://creativecommons.org/ns#\" xmlns:dc=\"http://purl.org/dc/elements/1.1/\" xmlns:rdf=\"http://www.w3.org/1999/02/22-rdf-syntax-ns#\">\n   <cc:Work>\n    <dc:type rdf:resource=\"http://purl.org/dc/dcmitype/StillImage\"/>\n    <dc:date>2021-06-30T12:17:18.767863</dc:date>\n    <dc:format>image/svg+xml</dc:format>\n    <dc:creator>\n     <cc:Agent>\n      <dc:title>Matplotlib v3.3.4, https://matplotlib.org/</dc:title>\n     </cc:Agent>\n    </dc:creator>\n   </cc:Work>\n  </rdf:RDF>\n </metadata>\n <defs>\n  <style type=\"text/css\">*{stroke-linecap:butt;stroke-linejoin:round;}</style>\n </defs>\n <g id=\"figure_1\">\n  <g id=\"patch_1\">\n   <path d=\"M 0 496.399687 \nL 341.894531 496.399687 \nL 341.894531 0 \nL 0 0 \nz\n\" style=\"fill:#ffffff;\"/>\n  </g>\n  <g id=\"axes_1\">\n   <g id=\"patch_2\">\n    <path d=\"M 22.817031 456.58 \nL 112.526198 456.58 \nL 112.526198 47.52 \nL 22.817031 47.52 \nz\n\" style=\"fill:#ffffff;\"/>\n   </g>\n   <g id=\"matplotlib.axis_1\">\n    <g id=\"xtick_1\">\n     <g id=\"text_1\">\n      <!-- 0.0 -->\n      <g style=\"fill:#262626;\" transform=\"translate(15.172031 473.953594)scale(0.11 -0.11)\">\n       <defs>\n        <path d=\"M 4.15625 35.296875 \nQ 4.15625 48 6.765625 55.734375 \nQ 9.375 63.484375 14.515625 67.671875 \nQ 19.671875 71.875 27.484375 71.875 \nQ 33.25 71.875 37.59375 69.546875 \nQ 41.9375 67.234375 44.765625 62.859375 \nQ 47.609375 58.5 49.21875 52.21875 \nQ 50.828125 45.953125 50.828125 35.296875 \nQ 50.828125 22.703125 48.234375 14.96875 \nQ 45.65625 7.234375 40.5 3 \nQ 35.359375 -1.21875 27.484375 -1.21875 \nQ 17.140625 -1.21875 11.234375 6.203125 \nQ 4.15625 15.140625 4.15625 35.296875 \nz\nM 13.1875 35.296875 \nQ 13.1875 17.671875 17.3125 11.828125 \nQ 21.4375 6 27.484375 6 \nQ 33.546875 6 37.671875 11.859375 \nQ 41.796875 17.71875 41.796875 35.296875 \nQ 41.796875 52.984375 37.671875 58.78125 \nQ 33.546875 64.59375 27.390625 64.59375 \nQ 21.34375 64.59375 17.71875 59.46875 \nQ 13.1875 52.9375 13.1875 35.296875 \nz\n\" id=\"ArialMT-48\"/>\n        <path d=\"M 9.078125 0 \nL 9.078125 10.015625 \nL 19.09375 10.015625 \nL 19.09375 0 \nz\n\" id=\"ArialMT-46\"/>\n       </defs>\n       <use xlink:href=\"#ArialMT-48\"/>\n       <use x=\"55.615234\" xlink:href=\"#ArialMT-46\"/>\n       <use x=\"83.398438\" xlink:href=\"#ArialMT-48\"/>\n      </g>\n     </g>\n    </g>\n    <g id=\"xtick_2\">\n     <g id=\"text_2\">\n      <!-- 2.5 -->\n      <g style=\"fill:#262626;\" transform=\"translate(69.113232 473.953594)scale(0.11 -0.11)\">\n       <defs>\n        <path d=\"M 50.34375 8.453125 \nL 50.34375 0 \nL 3.03125 0 \nQ 2.9375 3.171875 4.046875 6.109375 \nQ 5.859375 10.9375 9.828125 15.625 \nQ 13.8125 20.3125 21.34375 26.46875 \nQ 33.015625 36.03125 37.109375 41.625 \nQ 41.21875 47.21875 41.21875 52.203125 \nQ 41.21875 57.421875 37.46875 61 \nQ 33.734375 64.59375 27.734375 64.59375 \nQ 21.390625 64.59375 17.578125 60.78125 \nQ 13.765625 56.984375 13.71875 50.25 \nL 4.6875 51.171875 \nQ 5.609375 61.28125 11.65625 66.578125 \nQ 17.71875 71.875 27.9375 71.875 \nQ 38.234375 71.875 44.234375 66.15625 \nQ 50.25 60.453125 50.25 52 \nQ 50.25 47.703125 48.484375 43.546875 \nQ 46.734375 39.40625 42.65625 34.8125 \nQ 38.578125 30.21875 29.109375 22.21875 \nQ 21.1875 15.578125 18.9375 13.203125 \nQ 16.703125 10.84375 15.234375 8.453125 \nz\n\" id=\"ArialMT-50\"/>\n        <path d=\"M 4.15625 18.75 \nL 13.375 19.53125 \nQ 14.40625 12.796875 18.140625 9.390625 \nQ 21.875 6 27.15625 6 \nQ 33.5 6 37.890625 10.78125 \nQ 42.28125 15.578125 42.28125 23.484375 \nQ 42.28125 31 38.0625 35.34375 \nQ 33.84375 39.703125 27 39.703125 \nQ 22.75 39.703125 19.328125 37.765625 \nQ 15.921875 35.84375 13.96875 32.765625 \nL 5.71875 33.84375 \nL 12.640625 70.609375 \nL 48.25 70.609375 \nL 48.25 62.203125 \nL 19.671875 62.203125 \nL 15.828125 42.96875 \nQ 22.265625 47.46875 29.34375 47.46875 \nQ 38.71875 47.46875 45.15625 40.96875 \nQ 51.609375 34.46875 51.609375 24.265625 \nQ 51.609375 14.546875 45.953125 7.46875 \nQ 39.0625 -1.21875 27.15625 -1.21875 \nQ 17.390625 -1.21875 11.203125 4.25 \nQ 5.03125 9.71875 4.15625 18.75 \nz\n\" id=\"ArialMT-53\"/>\n       </defs>\n       <use xlink:href=\"#ArialMT-50\"/>\n       <use x=\"55.615234\" xlink:href=\"#ArialMT-46\"/>\n       <use x=\"83.398438\" xlink:href=\"#ArialMT-53\"/>\n      </g>\n     </g>\n    </g>\n    <g id=\"text_3\">\n     <!-- 1e−15 -->\n     <g style=\"fill:#262626;\" transform=\"translate(81.633385 487.013437)scale(0.11 -0.11)\">\n      <defs>\n       <path d=\"M 37.25 0 \nL 28.46875 0 \nL 28.46875 56 \nQ 25.296875 52.984375 20.140625 49.953125 \nQ 14.984375 46.921875 10.890625 45.40625 \nL 10.890625 53.90625 \nQ 18.265625 57.375 23.78125 62.296875 \nQ 29.296875 67.234375 31.59375 71.875 \nL 37.25 71.875 \nz\n\" id=\"ArialMT-49\"/>\n       <path d=\"M 42.09375 16.703125 \nL 51.171875 15.578125 \nQ 49.03125 7.625 43.21875 3.21875 \nQ 37.40625 -1.171875 28.375 -1.171875 \nQ 17 -1.171875 10.328125 5.828125 \nQ 3.65625 12.84375 3.65625 25.484375 \nQ 3.65625 38.578125 10.390625 45.796875 \nQ 17.140625 53.03125 27.875 53.03125 \nQ 38.28125 53.03125 44.875 45.953125 \nQ 51.46875 38.875 51.46875 26.03125 \nQ 51.46875 25.25 51.421875 23.6875 \nL 12.75 23.6875 \nQ 13.234375 15.140625 17.578125 10.59375 \nQ 21.921875 6.0625 28.421875 6.0625 \nQ 33.25 6.0625 36.671875 8.59375 \nQ 40.09375 11.140625 42.09375 16.703125 \nz\nM 13.234375 30.90625 \nL 42.1875 30.90625 \nQ 41.609375 37.453125 38.875 40.71875 \nQ 34.671875 45.796875 27.984375 45.796875 \nQ 21.921875 45.796875 17.796875 41.75 \nQ 13.671875 37.703125 13.234375 30.90625 \nz\n\" id=\"ArialMT-101\"/>\n       <path d=\"M 52.828125 31.203125 \nL 5.5625 31.203125 \nL 5.5625 39.40625 \nL 52.828125 39.40625 \nz\n\" id=\"ArialMT-8722\"/>\n      </defs>\n      <use xlink:href=\"#ArialMT-49\"/>\n      <use x=\"55.615234\" xlink:href=\"#ArialMT-101\"/>\n      <use x=\"111.230469\" xlink:href=\"#ArialMT-8722\"/>\n      <use x=\"169.628906\" xlink:href=\"#ArialMT-49\"/>\n      <use x=\"225.244141\" xlink:href=\"#ArialMT-53\"/>\n     </g>\n    </g>\n   </g>\n   <g id=\"matplotlib.axis_2\">\n    <g id=\"ytick_1\">\n     <g id=\"line2d_1\">\n      <path clip-path=\"url(#pb1a64974d2)\" d=\"M 22.817031 81.608333 \nL 112.526198 81.608333 \n\" style=\"fill:none;stroke:#cccccc;stroke-linecap:round;\"/>\n     </g>\n     <g id=\"text_4\">\n      <!-- 0 -->\n      <g style=\"fill:#262626;\" transform=\"translate(7.2 85.54513)scale(0.11 -0.11)\">\n       <use xlink:href=\"#ArialMT-48\"/>\n      </g>\n     </g>\n    </g>\n    <g id=\"ytick_2\">\n     <g id=\"line2d_2\">\n      <path clip-path=\"url(#pb1a64974d2)\" d=\"M 22.817031 149.785 \nL 112.526198 149.785 \n\" style=\"fill:none;stroke:#cccccc;stroke-linecap:round;\"/>\n     </g>\n     <g id=\"text_5\">\n      <!-- 1 -->\n      <g style=\"fill:#262626;\" transform=\"translate(7.2 153.721797)scale(0.11 -0.11)\">\n       <use xlink:href=\"#ArialMT-49\"/>\n      </g>\n     </g>\n    </g>\n    <g id=\"ytick_3\">\n     <g id=\"line2d_3\">\n      <path clip-path=\"url(#pb1a64974d2)\" d=\"M 22.817031 217.961667 \nL 112.526198 217.961667 \n\" style=\"fill:none;stroke:#cccccc;stroke-linecap:round;\"/>\n     </g>\n     <g id=\"text_6\">\n      <!-- 2 -->\n      <g style=\"fill:#262626;\" transform=\"translate(7.2 221.898464)scale(0.11 -0.11)\">\n       <use xlink:href=\"#ArialMT-50\"/>\n      </g>\n     </g>\n    </g>\n    <g id=\"ytick_4\">\n     <g id=\"line2d_4\">\n      <path clip-path=\"url(#pb1a64974d2)\" d=\"M 22.817031 286.138333 \nL 112.526198 286.138333 \n\" style=\"fill:none;stroke:#cccccc;stroke-linecap:round;\"/>\n     </g>\n     <g id=\"text_7\">\n      <!-- 3 -->\n      <g style=\"fill:#262626;\" transform=\"translate(7.2 290.07513)scale(0.11 -0.11)\">\n       <defs>\n        <path d=\"M 4.203125 18.890625 \nL 12.984375 20.0625 \nQ 14.5 12.59375 18.140625 9.296875 \nQ 21.78125 6 27 6 \nQ 33.203125 6 37.46875 10.296875 \nQ 41.75 14.59375 41.75 20.953125 \nQ 41.75 27 37.796875 30.921875 \nQ 33.84375 34.859375 27.734375 34.859375 \nQ 25.25 34.859375 21.53125 33.890625 \nL 22.515625 41.609375 \nQ 23.390625 41.5 23.921875 41.5 \nQ 29.546875 41.5 34.03125 44.421875 \nQ 38.53125 47.359375 38.53125 53.46875 \nQ 38.53125 58.296875 35.25 61.46875 \nQ 31.984375 64.65625 26.8125 64.65625 \nQ 21.6875 64.65625 18.265625 61.421875 \nQ 14.84375 58.203125 13.875 51.765625 \nL 5.078125 53.328125 \nQ 6.6875 62.15625 12.390625 67.015625 \nQ 18.109375 71.875 26.609375 71.875 \nQ 32.46875 71.875 37.390625 69.359375 \nQ 42.328125 66.84375 44.9375 62.5 \nQ 47.5625 58.15625 47.5625 53.265625 \nQ 47.5625 48.640625 45.0625 44.828125 \nQ 42.578125 41.015625 37.703125 38.765625 \nQ 44.046875 37.3125 47.5625 32.6875 \nQ 51.078125 28.078125 51.078125 21.140625 \nQ 51.078125 11.765625 44.234375 5.25 \nQ 37.40625 -1.265625 26.953125 -1.265625 \nQ 17.53125 -1.265625 11.296875 4.34375 \nQ 5.078125 9.96875 4.203125 18.890625 \nz\n\" id=\"ArialMT-51\"/>\n       </defs>\n       <use xlink:href=\"#ArialMT-51\"/>\n      </g>\n     </g>\n    </g>\n    <g id=\"ytick_5\">\n     <g id=\"line2d_5\">\n      <path clip-path=\"url(#pb1a64974d2)\" d=\"M 22.817031 354.315 \nL 112.526198 354.315 \n\" style=\"fill:none;stroke:#cccccc;stroke-linecap:round;\"/>\n     </g>\n     <g id=\"text_8\">\n      <!-- 4 -->\n      <g style=\"fill:#262626;\" transform=\"translate(7.2 358.251797)scale(0.11 -0.11)\">\n       <defs>\n        <path d=\"M 32.328125 0 \nL 32.328125 17.140625 \nL 1.265625 17.140625 \nL 1.265625 25.203125 \nL 33.9375 71.578125 \nL 41.109375 71.578125 \nL 41.109375 25.203125 \nL 50.78125 25.203125 \nL 50.78125 17.140625 \nL 41.109375 17.140625 \nL 41.109375 0 \nz\nM 32.328125 25.203125 \nL 32.328125 57.46875 \nL 9.90625 25.203125 \nz\n\" id=\"ArialMT-52\"/>\n       </defs>\n       <use xlink:href=\"#ArialMT-52\"/>\n      </g>\n     </g>\n    </g>\n    <g id=\"ytick_6\">\n     <g id=\"line2d_6\">\n      <path clip-path=\"url(#pb1a64974d2)\" d=\"M 22.817031 422.491667 \nL 112.526198 422.491667 \n\" style=\"fill:none;stroke:#cccccc;stroke-linecap:round;\"/>\n     </g>\n     <g id=\"text_9\">\n      <!-- 5 -->\n      <g style=\"fill:#262626;\" transform=\"translate(7.2 426.428464)scale(0.11 -0.11)\">\n       <use xlink:href=\"#ArialMT-53\"/>\n      </g>\n     </g>\n    </g>\n   </g>\n   <g id=\"patch_3\">\n    <path d=\"M 22.817031 456.58 \nL 22.817031 47.52 \n\" style=\"fill:none;stroke:#cccccc;stroke-linecap:square;stroke-linejoin:miter;stroke-width:1.25;\"/>\n   </g>\n   <g id=\"PathCollection_1\">\n    <defs>\n     <path d=\"M 0 6 \nC 1.591219 6 3.117479 5.367802 4.242641 4.242641 \nC 5.367802 3.117479 6 1.591219 6 0 \nC 6 -1.591219 5.367802 -3.117479 4.242641 -4.242641 \nC 3.117479 -5.367802 1.591219 -6 0 -6 \nC -1.591219 -6 -3.117479 -5.367802 -4.242641 -4.242641 \nC -5.367802 -3.117479 -6 -1.591219 -6 0 \nC -6 1.591219 -5.367802 3.117479 -4.242641 4.242641 \nC -3.117479 5.367802 -1.591219 6 0 6 \nz\n\" id=\"m57991c4a38\" style=\"stroke:#ffffff;\"/>\n    </defs>\n    <g clip-path=\"url(#pb1a64974d2)\">\n     <use style=\"fill:#411b19;stroke:#ffffff;\" x=\"108.315837\" xlink:href=\"#m57991c4a38\" y=\"81.608333\"/>\n    </g>\n   </g>\n   <g id=\"PathCollection_2\">\n    <defs>\n     <path d=\"M 0 6 \nC 1.591219 6 3.117479 5.367802 4.242641 4.242641 \nC 5.367802 3.117479 6 1.591219 6 0 \nC 6 -1.591219 5.367802 -3.117479 4.242641 -4.242641 \nC 3.117479 -5.367802 1.591219 -6 0 -6 \nC -1.591219 -6 -3.117479 -5.367802 -4.242641 -4.242641 \nC -5.367802 -3.117479 -6 -1.591219 -6 0 \nC -6 1.591219 -5.367802 3.117479 -4.242641 4.242641 \nC -3.117479 5.367802 -1.591219 6 0 6 \nz\n\" id=\"m955c4c4fab\" style=\"stroke:#ffffff;\"/>\n    </defs>\n    <g clip-path=\"url(#pb1a64974d2)\">\n     <use style=\"fill:#773639;stroke:#ffffff;\" x=\"28.589428\" xlink:href=\"#m955c4c4fab\" y=\"149.785\"/>\n    </g>\n   </g>\n   <g id=\"PathCollection_3\">\n    <defs>\n     <path d=\"M 0 6 \nC 1.591219 6 3.117479 5.367802 4.242641 4.242641 \nC 5.367802 3.117479 6 1.591219 6 0 \nC 6 -1.591219 5.367802 -3.117479 4.242641 -4.242641 \nC 3.117479 -5.367802 1.591219 -6 0 -6 \nC -1.591219 -6 -3.117479 -5.367802 -4.242641 -4.242641 \nC -5.367802 -3.117479 -6 -1.591219 -6 0 \nC -6 1.591219 -5.367802 3.117479 -4.242641 4.242641 \nC -3.117479 5.367802 -1.591219 6 0 6 \nz\n\" id=\"mdf51a79514\" style=\"stroke:#ffffff;\"/>\n    </defs>\n    <g clip-path=\"url(#pb1a64974d2)\">\n     <use style=\"fill:#a5555f;stroke:#ffffff;\" x=\"24.108622\" xlink:href=\"#mdf51a79514\" y=\"217.961667\"/>\n    </g>\n   </g>\n   <g id=\"PathCollection_4\">\n    <defs>\n     <path d=\"M 0 6 \nC 1.591219 6 3.117479 5.367802 4.242641 4.242641 \nC 5.367802 3.117479 6 1.591219 6 0 \nC 6 -1.591219 5.367802 -3.117479 4.242641 -4.242641 \nC 3.117479 -5.367802 1.591219 -6 0 -6 \nC -1.591219 -6 -3.117479 -5.367802 -4.242641 -4.242641 \nC -5.367802 -3.117479 -6 -1.591219 -6 0 \nC -6 1.591219 -5.367802 3.117479 -4.242641 4.242641 \nC -3.117479 5.367802 -1.591219 6 0 6 \nz\n\" id=\"mcb91a4601e\" style=\"stroke:#ffffff;\"/>\n    </defs>\n    <g clip-path=\"url(#pb1a64974d2)\">\n     <use style=\"fill:#c97787;stroke:#ffffff;\" x=\"44.045614\" xlink:href=\"#mcb91a4601e\" y=\"286.138333\"/>\n    </g>\n   </g>\n   <g id=\"PathCollection_5\">\n    <defs>\n     <path d=\"M 0 6 \nC 1.591219 6 3.117479 5.367802 4.242641 4.242641 \nC 5.367802 3.117479 6 1.591219 6 0 \nC 6 -1.591219 5.367802 -3.117479 4.242641 -4.242641 \nC 3.117479 -5.367802 1.591219 -6 0 -6 \nC -1.591219 -6 -3.117479 -5.367802 -4.242641 -4.242641 \nC -5.367802 -3.117479 -6 -1.591219 -6 0 \nC -6 1.591219 -5.367802 3.117479 -4.242641 4.242641 \nC -3.117479 5.367802 -1.591219 6 0 6 \nz\n\" id=\"m63a0576a3e\" style=\"stroke:#ffffff;\"/>\n    </defs>\n    <g clip-path=\"url(#pb1a64974d2)\">\n     <use style=\"fill:#e49eb1;stroke:#ffffff;\" x=\"26.09843\" xlink:href=\"#m63a0576a3e\" y=\"354.315\"/>\n    </g>\n   </g>\n   <g id=\"PathCollection_6\">\n    <defs>\n     <path d=\"M 0 6 \nC 1.591219 6 3.117479 5.367802 4.242641 4.242641 \nC 5.367802 3.117479 6 1.591219 6 0 \nC 6 -1.591219 5.367802 -3.117479 4.242641 -4.242641 \nC 3.117479 -5.367802 1.591219 -6 0 -6 \nC -1.591219 -6 -3.117479 -5.367802 -4.242641 -4.242641 \nC -5.367802 -3.117479 -6 -1.591219 -6 0 \nC -6 1.591219 -5.367802 3.117479 -4.242641 4.242641 \nC -3.117479 5.367802 -1.591219 6 0 6 \nz\n\" id=\"m18bd83a260\" style=\"stroke:#ffffff;\"/>\n    </defs>\n    <g clip-path=\"url(#pb1a64974d2)\">\n     <use style=\"fill:#f6cad9;stroke:#ffffff;\" x=\"36.212144\" xlink:href=\"#m18bd83a260\" y=\"422.491667\"/>\n    </g>\n   </g>\n   <g id=\"text_10\">\n    <!-- intersection -->\n    <g style=\"fill:#262626;\" transform=\"translate(36.99099 41.52)scale(0.12 -0.12)\">\n     <defs>\n      <path d=\"M 6.640625 61.46875 \nL 6.640625 71.578125 \nL 15.4375 71.578125 \nL 15.4375 61.46875 \nz\nM 6.640625 0 \nL 6.640625 51.859375 \nL 15.4375 51.859375 \nL 15.4375 0 \nz\n\" id=\"ArialMT-105\"/>\n      <path d=\"M 6.59375 0 \nL 6.59375 51.859375 \nL 14.5 51.859375 \nL 14.5 44.484375 \nQ 20.21875 53.03125 31 53.03125 \nQ 35.6875 53.03125 39.625 51.34375 \nQ 43.5625 49.65625 45.515625 46.921875 \nQ 47.46875 44.1875 48.25 40.4375 \nQ 48.734375 37.984375 48.734375 31.890625 \nL 48.734375 0 \nL 39.9375 0 \nL 39.9375 31.546875 \nQ 39.9375 36.921875 38.90625 39.578125 \nQ 37.890625 42.234375 35.28125 43.8125 \nQ 32.671875 45.40625 29.15625 45.40625 \nQ 23.53125 45.40625 19.453125 41.84375 \nQ 15.375 38.28125 15.375 28.328125 \nL 15.375 0 \nz\n\" id=\"ArialMT-110\"/>\n      <path d=\"M 25.78125 7.859375 \nL 27.046875 0.09375 \nQ 23.34375 -0.6875 20.40625 -0.6875 \nQ 15.625 -0.6875 12.984375 0.828125 \nQ 10.359375 2.34375 9.28125 4.8125 \nQ 8.203125 7.28125 8.203125 15.1875 \nL 8.203125 45.015625 \nL 1.765625 45.015625 \nL 1.765625 51.859375 \nL 8.203125 51.859375 \nL 8.203125 64.703125 \nL 16.9375 69.96875 \nL 16.9375 51.859375 \nL 25.78125 51.859375 \nL 25.78125 45.015625 \nL 16.9375 45.015625 \nL 16.9375 14.703125 \nQ 16.9375 10.9375 17.40625 9.859375 \nQ 17.875 8.796875 18.921875 8.15625 \nQ 19.96875 7.515625 21.921875 7.515625 \nQ 23.390625 7.515625 25.78125 7.859375 \nz\n\" id=\"ArialMT-116\"/>\n      <path d=\"M 6.5 0 \nL 6.5 51.859375 \nL 14.40625 51.859375 \nL 14.40625 44 \nQ 17.4375 49.515625 20 51.265625 \nQ 22.5625 53.03125 25.640625 53.03125 \nQ 30.078125 53.03125 34.671875 50.203125 \nL 31.640625 42.046875 \nQ 28.421875 43.953125 25.203125 43.953125 \nQ 22.3125 43.953125 20.015625 42.21875 \nQ 17.71875 40.484375 16.75 37.40625 \nQ 15.28125 32.71875 15.28125 27.15625 \nL 15.28125 0 \nz\n\" id=\"ArialMT-114\"/>\n      <path d=\"M 3.078125 15.484375 \nL 11.765625 16.84375 \nQ 12.5 11.625 15.84375 8.84375 \nQ 19.1875 6.0625 25.203125 6.0625 \nQ 31.25 6.0625 34.171875 8.515625 \nQ 37.109375 10.984375 37.109375 14.3125 \nQ 37.109375 17.28125 34.515625 19 \nQ 32.71875 20.171875 25.53125 21.96875 \nQ 15.875 24.421875 12.140625 26.203125 \nQ 8.40625 27.984375 6.46875 31.125 \nQ 4.546875 34.28125 4.546875 38.09375 \nQ 4.546875 41.546875 6.125 44.5 \nQ 7.71875 47.46875 10.453125 49.421875 \nQ 12.5 50.921875 16.03125 51.96875 \nQ 19.578125 53.03125 23.640625 53.03125 \nQ 29.734375 53.03125 34.34375 51.265625 \nQ 38.96875 49.515625 41.15625 46.5 \nQ 43.359375 43.5 44.1875 38.484375 \nL 35.59375 37.3125 \nQ 35.015625 41.3125 32.203125 43.546875 \nQ 29.390625 45.796875 24.265625 45.796875 \nQ 18.21875 45.796875 15.625 43.796875 \nQ 13.03125 41.796875 13.03125 39.109375 \nQ 13.03125 37.40625 14.109375 36.03125 \nQ 15.1875 34.625 17.484375 33.6875 \nQ 18.796875 33.203125 25.25 31.453125 \nQ 34.578125 28.953125 38.25 27.359375 \nQ 41.9375 25.78125 44.03125 22.75 \nQ 46.140625 19.734375 46.140625 15.234375 \nQ 46.140625 10.84375 43.578125 6.953125 \nQ 41.015625 3.078125 36.171875 0.953125 \nQ 31.34375 -1.171875 25.25 -1.171875 \nQ 15.140625 -1.171875 9.84375 3.03125 \nQ 4.546875 7.234375 3.078125 15.484375 \nz\n\" id=\"ArialMT-115\"/>\n      <path d=\"M 40.4375 19 \nL 49.078125 17.875 \nQ 47.65625 8.9375 41.8125 3.875 \nQ 35.984375 -1.171875 27.484375 -1.171875 \nQ 16.84375 -1.171875 10.375 5.78125 \nQ 3.90625 12.75 3.90625 25.734375 \nQ 3.90625 34.125 6.6875 40.421875 \nQ 9.46875 46.734375 15.15625 49.875 \nQ 20.84375 53.03125 27.546875 53.03125 \nQ 35.984375 53.03125 41.359375 48.75 \nQ 46.734375 44.484375 48.25 36.625 \nL 39.703125 35.296875 \nQ 38.484375 40.53125 35.375 43.15625 \nQ 32.28125 45.796875 27.875 45.796875 \nQ 21.234375 45.796875 17.078125 41.03125 \nQ 12.9375 36.28125 12.9375 25.984375 \nQ 12.9375 15.53125 16.9375 10.796875 \nQ 20.953125 6.0625 27.390625 6.0625 \nQ 32.5625 6.0625 36.03125 9.234375 \nQ 39.5 12.40625 40.4375 19 \nz\n\" id=\"ArialMT-99\"/>\n      <path d=\"M 3.328125 25.921875 \nQ 3.328125 40.328125 11.328125 47.265625 \nQ 18.015625 53.03125 27.640625 53.03125 \nQ 38.328125 53.03125 45.109375 46.015625 \nQ 51.90625 39.015625 51.90625 26.65625 \nQ 51.90625 16.65625 48.90625 10.90625 \nQ 45.90625 5.171875 40.15625 2 \nQ 34.421875 -1.171875 27.640625 -1.171875 \nQ 16.75 -1.171875 10.03125 5.8125 \nQ 3.328125 12.796875 3.328125 25.921875 \nz\nM 12.359375 25.921875 \nQ 12.359375 15.96875 16.703125 11.015625 \nQ 21.046875 6.0625 27.640625 6.0625 \nQ 34.1875 6.0625 38.53125 11.03125 \nQ 42.875 16.015625 42.875 26.21875 \nQ 42.875 35.84375 38.5 40.796875 \nQ 34.125 45.75 27.640625 45.75 \nQ 21.046875 45.75 16.703125 40.8125 \nQ 12.359375 35.890625 12.359375 25.921875 \nz\n\" id=\"ArialMT-111\"/>\n     </defs>\n     <use xlink:href=\"#ArialMT-105\"/>\n     <use x=\"22.216797\" xlink:href=\"#ArialMT-110\"/>\n     <use x=\"77.832031\" xlink:href=\"#ArialMT-116\"/>\n     <use x=\"105.615234\" xlink:href=\"#ArialMT-101\"/>\n     <use x=\"161.230469\" xlink:href=\"#ArialMT-114\"/>\n     <use x=\"194.53125\" xlink:href=\"#ArialMT-115\"/>\n     <use x=\"244.53125\" xlink:href=\"#ArialMT-101\"/>\n     <use x=\"300.146484\" xlink:href=\"#ArialMT-99\"/>\n     <use x=\"350.146484\" xlink:href=\"#ArialMT-116\"/>\n     <use x=\"377.929688\" xlink:href=\"#ArialMT-105\"/>\n     <use x=\"400.146484\" xlink:href=\"#ArialMT-111\"/>\n     <use x=\"455.761719\" xlink:href=\"#ArialMT-110\"/>\n    </g>\n   </g>\n  </g>\n  <g id=\"axes_2\">\n   <g id=\"patch_4\">\n    <path d=\"M 133.901198 456.58 \nL 223.610365 456.58 \nL 223.610365 47.52 \nL 133.901198 47.52 \nz\n\" style=\"fill:#ffffff;\"/>\n   </g>\n   <g id=\"matplotlib.axis_3\">\n    <g id=\"xtick_3\">\n     <g id=\"text_11\">\n      <!-- 0 -->\n      <g style=\"fill:#262626;\" transform=\"translate(130.842682 473.953594)scale(0.11 -0.11)\">\n       <use xlink:href=\"#ArialMT-48\"/>\n      </g>\n     </g>\n    </g>\n    <g id=\"xtick_4\">\n     <g id=\"text_12\">\n      <!-- 2 -->\n      <g style=\"fill:#262626;\" transform=\"translate(192.628789 473.953594)scale(0.11 -0.11)\">\n       <use xlink:href=\"#ArialMT-50\"/>\n      </g>\n     </g>\n    </g>\n    <g id=\"text_13\">\n     <!-- 1e−15 -->\n     <g style=\"fill:#262626;\" transform=\"translate(192.717552 487.013437)scale(0.11 -0.11)\">\n      <use xlink:href=\"#ArialMT-49\"/>\n      <use x=\"55.615234\" xlink:href=\"#ArialMT-101\"/>\n      <use x=\"111.230469\" xlink:href=\"#ArialMT-8722\"/>\n      <use x=\"169.628906\" xlink:href=\"#ArialMT-49\"/>\n      <use x=\"225.244141\" xlink:href=\"#ArialMT-53\"/>\n     </g>\n    </g>\n   </g>\n   <g id=\"matplotlib.axis_4\">\n    <g id=\"ytick_7\">\n     <g id=\"line2d_7\">\n      <path clip-path=\"url(#p16d7a495c3)\" d=\"M 133.901198 81.608333 \nL 223.610365 81.608333 \n\" style=\"fill:none;stroke:#cccccc;stroke-linecap:round;\"/>\n     </g>\n    </g>\n    <g id=\"ytick_8\">\n     <g id=\"line2d_8\">\n      <path clip-path=\"url(#p16d7a495c3)\" d=\"M 133.901198 149.785 \nL 223.610365 149.785 \n\" style=\"fill:none;stroke:#cccccc;stroke-linecap:round;\"/>\n     </g>\n    </g>\n    <g id=\"ytick_9\">\n     <g id=\"line2d_9\">\n      <path clip-path=\"url(#p16d7a495c3)\" d=\"M 133.901198 217.961667 \nL 223.610365 217.961667 \n\" style=\"fill:none;stroke:#cccccc;stroke-linecap:round;\"/>\n     </g>\n    </g>\n    <g id=\"ytick_10\">\n     <g id=\"line2d_10\">\n      <path clip-path=\"url(#p16d7a495c3)\" d=\"M 133.901198 286.138333 \nL 223.610365 286.138333 \n\" style=\"fill:none;stroke:#cccccc;stroke-linecap:round;\"/>\n     </g>\n    </g>\n    <g id=\"ytick_11\">\n     <g id=\"line2d_11\">\n      <path clip-path=\"url(#p16d7a495c3)\" d=\"M 133.901198 354.315 \nL 223.610365 354.315 \n\" style=\"fill:none;stroke:#cccccc;stroke-linecap:round;\"/>\n     </g>\n    </g>\n    <g id=\"ytick_12\">\n     <g id=\"line2d_12\">\n      <path clip-path=\"url(#p16d7a495c3)\" d=\"M 133.901198 422.491667 \nL 223.610365 422.491667 \n\" style=\"fill:none;stroke:#cccccc;stroke-linecap:round;\"/>\n     </g>\n    </g>\n   </g>\n   <g id=\"patch_5\">\n    <path d=\"M 133.901198 456.58 \nL 133.901198 47.52 \n\" style=\"fill:none;stroke:#cccccc;stroke-linecap:square;stroke-linejoin:miter;stroke-width:1.25;\"/>\n   </g>\n   <g id=\"PathCollection_7\">\n    <g clip-path=\"url(#p16d7a495c3)\">\n     <use style=\"fill:#411b19;stroke:#ffffff;\" x=\"137.491064\" xlink:href=\"#m57991c4a38\" y=\"81.608333\"/>\n    </g>\n   </g>\n   <g id=\"PathCollection_8\">\n    <g clip-path=\"url(#p16d7a495c3)\">\n     <use style=\"fill:#773639;stroke:#ffffff;\" x=\"219.400091\" xlink:href=\"#m955c4c4fab\" y=\"149.785\"/>\n    </g>\n   </g>\n   <g id=\"PathCollection_9\">\n    <g clip-path=\"url(#p16d7a495c3)\">\n     <use style=\"fill:#a5555f;stroke:#ffffff;\" x=\"136.995355\" xlink:href=\"#mdf51a79514\" y=\"217.961667\"/>\n    </g>\n   </g>\n   <g id=\"PathCollection_10\">\n    <g clip-path=\"url(#p16d7a495c3)\">\n     <use style=\"fill:#c97787;stroke:#ffffff;\" x=\"153.163216\" xlink:href=\"#mcb91a4601e\" y=\"286.138333\"/>\n    </g>\n   </g>\n   <g id=\"PathCollection_11\">\n    <g clip-path=\"url(#p16d7a495c3)\">\n     <use style=\"fill:#e49eb1;stroke:#ffffff;\" x=\"148.053803\" xlink:href=\"#m63a0576a3e\" y=\"354.315\"/>\n    </g>\n   </g>\n   <g id=\"PathCollection_12\">\n    <g clip-path=\"url(#p16d7a495c3)\">\n     <use style=\"fill:#f6cad9;stroke:#ffffff;\" x=\"135.194615\" xlink:href=\"#m18bd83a260\" y=\"422.491667\"/>\n    </g>\n   </g>\n   <g id=\"text_14\">\n    <!-- beta1 -->\n    <g style=\"fill:#262626;\" transform=\"translate(163.742656 41.52)scale(0.12 -0.12)\">\n     <defs>\n      <path d=\"M 14.703125 0 \nL 6.546875 0 \nL 6.546875 71.578125 \nL 15.328125 71.578125 \nL 15.328125 46.046875 \nQ 20.90625 53.03125 29.546875 53.03125 \nQ 34.328125 53.03125 38.59375 51.09375 \nQ 42.875 49.171875 45.625 45.671875 \nQ 48.390625 42.1875 49.953125 37.25 \nQ 51.515625 32.328125 51.515625 26.703125 \nQ 51.515625 13.375 44.921875 6.09375 \nQ 38.328125 -1.171875 29.109375 -1.171875 \nQ 19.921875 -1.171875 14.703125 6.5 \nz\nM 14.59375 26.3125 \nQ 14.59375 17 17.140625 12.84375 \nQ 21.296875 6.0625 28.375 6.0625 \nQ 34.125 6.0625 38.328125 11.0625 \nQ 42.53125 16.0625 42.53125 25.984375 \nQ 42.53125 36.140625 38.5 40.96875 \nQ 34.46875 45.796875 28.765625 45.796875 \nQ 23 45.796875 18.796875 40.796875 \nQ 14.59375 35.796875 14.59375 26.3125 \nz\n\" id=\"ArialMT-98\"/>\n      <path d=\"M 40.4375 6.390625 \nQ 35.546875 2.25 31.03125 0.53125 \nQ 26.515625 -1.171875 21.34375 -1.171875 \nQ 12.796875 -1.171875 8.203125 3 \nQ 3.609375 7.171875 3.609375 13.671875 \nQ 3.609375 17.484375 5.34375 20.625 \nQ 7.078125 23.78125 9.890625 25.6875 \nQ 12.703125 27.59375 16.21875 28.5625 \nQ 18.796875 29.25 24.03125 29.890625 \nQ 34.671875 31.15625 39.703125 32.90625 \nQ 39.75 34.71875 39.75 35.203125 \nQ 39.75 40.578125 37.25 42.78125 \nQ 33.890625 45.75 27.25 45.75 \nQ 21.046875 45.75 18.09375 43.578125 \nQ 15.140625 41.40625 13.71875 35.890625 \nL 5.125 37.0625 \nQ 6.296875 42.578125 8.984375 45.96875 \nQ 11.671875 49.359375 16.75 51.1875 \nQ 21.828125 53.03125 28.515625 53.03125 \nQ 35.15625 53.03125 39.296875 51.46875 \nQ 43.453125 49.90625 45.40625 47.53125 \nQ 47.359375 45.171875 48.140625 41.546875 \nQ 48.578125 39.3125 48.578125 33.453125 \nL 48.578125 21.734375 \nQ 48.578125 9.46875 49.140625 6.21875 \nQ 49.703125 2.984375 51.375 0 \nL 42.1875 0 \nQ 40.828125 2.734375 40.4375 6.390625 \nz\nM 39.703125 26.03125 \nQ 34.90625 24.078125 25.34375 22.703125 \nQ 19.921875 21.921875 17.671875 20.9375 \nQ 15.4375 19.96875 14.203125 18.09375 \nQ 12.984375 16.21875 12.984375 13.921875 \nQ 12.984375 10.40625 15.640625 8.0625 \nQ 18.3125 5.71875 23.4375 5.71875 \nQ 28.515625 5.71875 32.46875 7.9375 \nQ 36.421875 10.15625 38.28125 14.015625 \nQ 39.703125 17 39.703125 22.796875 \nz\n\" id=\"ArialMT-97\"/>\n     </defs>\n     <use xlink:href=\"#ArialMT-98\"/>\n     <use x=\"55.615234\" xlink:href=\"#ArialMT-101\"/>\n     <use x=\"111.230469\" xlink:href=\"#ArialMT-116\"/>\n     <use x=\"139.013672\" xlink:href=\"#ArialMT-97\"/>\n     <use x=\"194.628906\" xlink:href=\"#ArialMT-49\"/>\n    </g>\n   </g>\n  </g>\n  <g id=\"axes_3\">\n   <g id=\"patch_6\">\n    <path d=\"M 244.985365 456.58 \nL 334.694531 456.58 \nL 334.694531 47.52 \nL 244.985365 47.52 \nz\n\" style=\"fill:#ffffff;\"/>\n   </g>\n   <g id=\"matplotlib.axis_5\">\n    <g id=\"xtick_5\">\n     <g id=\"text_15\">\n      <!-- 0 -->\n      <g style=\"fill:#262626;\" transform=\"translate(241.926849 473.953594)scale(0.11 -0.11)\">\n       <use xlink:href=\"#ArialMT-48\"/>\n      </g>\n     </g>\n    </g>\n    <g id=\"xtick_6\">\n     <g id=\"text_16\">\n      <!-- 1 -->\n      <g style=\"fill:#262626;\" transform=\"translate(323.989794 473.953594)scale(0.11 -0.11)\">\n       <use xlink:href=\"#ArialMT-49\"/>\n      </g>\n     </g>\n    </g>\n    <g id=\"text_17\">\n     <!-- 1e−16 -->\n     <g style=\"fill:#262626;\" transform=\"translate(303.801719 487.013437)scale(0.11 -0.11)\">\n      <defs>\n       <path d=\"M 49.75 54.046875 \nL 41.015625 53.375 \nQ 39.84375 58.546875 37.703125 60.890625 \nQ 34.125 64.65625 28.90625 64.65625 \nQ 24.703125 64.65625 21.53125 62.3125 \nQ 17.390625 59.28125 14.984375 53.46875 \nQ 12.59375 47.65625 12.5 36.921875 \nQ 15.671875 41.75 20.265625 44.09375 \nQ 24.859375 46.4375 29.890625 46.4375 \nQ 38.671875 46.4375 44.84375 39.96875 \nQ 51.03125 33.5 51.03125 23.25 \nQ 51.03125 16.5 48.125 10.71875 \nQ 45.21875 4.9375 40.140625 1.859375 \nQ 35.0625 -1.21875 28.609375 -1.21875 \nQ 17.625 -1.21875 10.6875 6.859375 \nQ 3.765625 14.9375 3.765625 33.5 \nQ 3.765625 54.25 11.421875 63.671875 \nQ 18.109375 71.875 29.4375 71.875 \nQ 37.890625 71.875 43.28125 67.140625 \nQ 48.6875 62.40625 49.75 54.046875 \nz\nM 13.875 23.1875 \nQ 13.875 18.65625 15.796875 14.5 \nQ 17.71875 10.359375 21.1875 8.171875 \nQ 24.65625 6 28.46875 6 \nQ 34.03125 6 38.03125 10.484375 \nQ 42.046875 14.984375 42.046875 22.703125 \nQ 42.046875 30.125 38.078125 34.390625 \nQ 34.125 38.671875 28.125 38.671875 \nQ 22.171875 38.671875 18.015625 34.390625 \nQ 13.875 30.125 13.875 23.1875 \nz\n\" id=\"ArialMT-54\"/>\n      </defs>\n      <use xlink:href=\"#ArialMT-49\"/>\n      <use x=\"55.615234\" xlink:href=\"#ArialMT-101\"/>\n      <use x=\"111.230469\" xlink:href=\"#ArialMT-8722\"/>\n      <use x=\"169.628906\" xlink:href=\"#ArialMT-49\"/>\n      <use x=\"225.244141\" xlink:href=\"#ArialMT-54\"/>\n     </g>\n    </g>\n   </g>\n   <g id=\"matplotlib.axis_6\">\n    <g id=\"ytick_13\">\n     <g id=\"line2d_13\">\n      <path clip-path=\"url(#pb0461f5a19)\" d=\"M 244.985365 81.608333 \nL 334.694531 81.608333 \n\" style=\"fill:none;stroke:#cccccc;stroke-linecap:round;\"/>\n     </g>\n    </g>\n    <g id=\"ytick_14\">\n     <g id=\"line2d_14\">\n      <path clip-path=\"url(#pb0461f5a19)\" d=\"M 244.985365 149.785 \nL 334.694531 149.785 \n\" style=\"fill:none;stroke:#cccccc;stroke-linecap:round;\"/>\n     </g>\n    </g>\n    <g id=\"ytick_15\">\n     <g id=\"line2d_15\">\n      <path clip-path=\"url(#pb0461f5a19)\" d=\"M 244.985365 217.961667 \nL 334.694531 217.961667 \n\" style=\"fill:none;stroke:#cccccc;stroke-linecap:round;\"/>\n     </g>\n    </g>\n    <g id=\"ytick_16\">\n     <g id=\"line2d_16\">\n      <path clip-path=\"url(#pb0461f5a19)\" d=\"M 244.985365 286.138333 \nL 334.694531 286.138333 \n\" style=\"fill:none;stroke:#cccccc;stroke-linecap:round;\"/>\n     </g>\n    </g>\n    <g id=\"ytick_17\">\n     <g id=\"line2d_17\">\n      <path clip-path=\"url(#pb0461f5a19)\" d=\"M 244.985365 354.315 \nL 334.694531 354.315 \n\" style=\"fill:none;stroke:#cccccc;stroke-linecap:round;\"/>\n     </g>\n    </g>\n    <g id=\"ytick_18\">\n     <g id=\"line2d_18\">\n      <path clip-path=\"url(#pb0461f5a19)\" d=\"M 244.985365 422.491667 \nL 334.694531 422.491667 \n\" style=\"fill:none;stroke:#cccccc;stroke-linecap:round;\"/>\n     </g>\n    </g>\n   </g>\n   <g id=\"patch_7\">\n    <path d=\"M 244.985365 456.58 \nL 244.985365 47.52 \n\" style=\"fill:none;stroke:#cccccc;stroke-linecap:square;stroke-linejoin:miter;stroke-width:1.25;\"/>\n   </g>\n   <g id=\"PathCollection_13\">\n    <g clip-path=\"url(#pb0461f5a19)\">\n     <use style=\"fill:#411b19;stroke:#ffffff;\" x=\"329.217191\" xlink:href=\"#m57991c4a38\" y=\"81.608333\"/>\n    </g>\n   </g>\n   <g id=\"PathCollection_14\">\n    <g clip-path=\"url(#pb0461f5a19)\">\n     <use style=\"fill:#773639;stroke:#ffffff;\" x=\"299.243108\" xlink:href=\"#m955c4c4fab\" y=\"149.785\"/>\n    </g>\n   </g>\n   <g id=\"PathCollection_15\">\n    <g clip-path=\"url(#pb0461f5a19)\">\n     <use style=\"fill:#a5555f;stroke:#ffffff;\" x=\"244.985365\" xlink:href=\"#mdf51a79514\" y=\"217.961667\"/>\n    </g>\n   </g>\n   <g id=\"PathCollection_16\">\n    <g clip-path=\"url(#pb0461f5a19)\">\n     <use style=\"fill:#c97787;stroke:#ffffff;\" x=\"269.466365\" xlink:href=\"#mcb91a4601e\" y=\"286.138333\"/>\n    </g>\n   </g>\n   <g id=\"PathCollection_17\">\n    <g clip-path=\"url(#pb0461f5a19)\">\n     <use style=\"fill:#e49eb1;stroke:#ffffff;\" x=\"244.985365\" xlink:href=\"#m63a0576a3e\" y=\"354.315\"/>\n    </g>\n   </g>\n   <g id=\"PathCollection_18\">\n    <g clip-path=\"url(#pb0461f5a19)\">\n     <use style=\"fill:#f6cad9;stroke:#ffffff;\" x=\"330.422666\" xlink:href=\"#m18bd83a260\" y=\"422.491667\"/>\n    </g>\n   </g>\n   <g id=\"text_18\">\n    <!-- beta2 -->\n    <g style=\"fill:#262626;\" transform=\"translate(274.826823 41.52)scale(0.12 -0.12)\">\n     <use xlink:href=\"#ArialMT-98\"/>\n     <use x=\"55.615234\" xlink:href=\"#ArialMT-101\"/>\n     <use x=\"111.230469\" xlink:href=\"#ArialMT-116\"/>\n     <use x=\"139.013672\" xlink:href=\"#ArialMT-97\"/>\n     <use x=\"194.628906\" xlink:href=\"#ArialMT-50\"/>\n    </g>\n   </g>\n  </g>\n  <g id=\"text_19\">\n   <!-- Sensitivity 6 -->\n   <g style=\"fill:#262626;\" transform=\"translate(124.747781 17.68275)scale(0.144 -0.144)\">\n    <defs>\n     <path d=\"M 4.5 23 \nL 13.421875 23.78125 \nQ 14.0625 18.40625 16.375 14.96875 \nQ 18.703125 11.53125 23.578125 9.40625 \nQ 28.46875 7.28125 34.578125 7.28125 \nQ 39.984375 7.28125 44.140625 8.890625 \nQ 48.296875 10.5 50.3125 13.296875 \nQ 52.34375 16.109375 52.34375 19.4375 \nQ 52.34375 22.796875 50.390625 25.3125 \nQ 48.4375 27.828125 43.953125 29.546875 \nQ 41.0625 30.671875 31.203125 33.03125 \nQ 21.34375 35.40625 17.390625 37.5 \nQ 12.25 40.1875 9.734375 44.15625 \nQ 7.234375 48.140625 7.234375 53.078125 \nQ 7.234375 58.5 10.296875 63.203125 \nQ 13.375 67.921875 19.28125 70.359375 \nQ 25.203125 72.796875 32.421875 72.796875 \nQ 40.375 72.796875 46.453125 70.234375 \nQ 52.546875 67.671875 55.8125 62.6875 \nQ 59.078125 57.71875 59.328125 51.421875 \nL 50.25 50.734375 \nQ 49.515625 57.515625 45.28125 60.984375 \nQ 41.0625 64.453125 32.8125 64.453125 \nQ 24.21875 64.453125 20.28125 61.296875 \nQ 16.359375 58.15625 16.359375 53.71875 \nQ 16.359375 49.859375 19.140625 47.359375 \nQ 21.875 44.875 33.421875 42.265625 \nQ 44.96875 39.65625 49.265625 37.703125 \nQ 55.515625 34.8125 58.484375 30.390625 \nQ 61.46875 25.984375 61.46875 20.21875 \nQ 61.46875 14.5 58.203125 9.4375 \nQ 54.9375 4.390625 48.796875 1.578125 \nQ 42.671875 -1.21875 35.015625 -1.21875 \nQ 25.296875 -1.21875 18.71875 1.609375 \nQ 12.15625 4.4375 8.421875 10.125 \nQ 4.6875 15.828125 4.5 23 \nz\n\" id=\"ArialMT-83\"/>\n     <path d=\"M 21 0 \nL 1.265625 51.859375 \nL 10.546875 51.859375 \nL 21.6875 20.796875 \nQ 23.484375 15.765625 25 10.359375 \nQ 26.171875 14.453125 28.265625 20.21875 \nL 39.796875 51.859375 \nL 48.828125 51.859375 \nL 29.203125 0 \nz\n\" id=\"ArialMT-118\"/>\n     <path d=\"M 6.203125 -19.96875 \nL 5.21875 -11.71875 \nQ 8.109375 -12.5 10.25 -12.5 \nQ 13.1875 -12.5 14.9375 -11.515625 \nQ 16.703125 -10.546875 17.828125 -8.796875 \nQ 18.65625 -7.46875 20.515625 -2.25 \nQ 20.75 -1.515625 21.296875 -0.09375 \nL 1.609375 51.859375 \nL 11.078125 51.859375 \nL 21.875 21.828125 \nQ 23.96875 16.109375 25.640625 9.8125 \nQ 27.15625 15.875 29.25 21.625 \nL 40.328125 51.859375 \nL 49.125 51.859375 \nL 29.390625 -0.875 \nQ 26.21875 -9.421875 24.46875 -12.640625 \nQ 22.125 -17 19.09375 -19.015625 \nQ 16.0625 -21.046875 11.859375 -21.046875 \nQ 9.328125 -21.046875 6.203125 -19.96875 \nz\n\" id=\"ArialMT-121\"/>\n     <path id=\"ArialMT-32\"/>\n    </defs>\n    <use xlink:href=\"#ArialMT-83\"/>\n    <use x=\"66.699219\" xlink:href=\"#ArialMT-101\"/>\n    <use x=\"122.314453\" xlink:href=\"#ArialMT-110\"/>\n    <use x=\"177.929688\" xlink:href=\"#ArialMT-115\"/>\n    <use x=\"227.929688\" xlink:href=\"#ArialMT-105\"/>\n    <use x=\"250.146484\" xlink:href=\"#ArialMT-116\"/>\n    <use x=\"277.929688\" xlink:href=\"#ArialMT-105\"/>\n    <use x=\"300.146484\" xlink:href=\"#ArialMT-118\"/>\n    <use x=\"350.146484\" xlink:href=\"#ArialMT-105\"/>\n    <use x=\"372.363281\" xlink:href=\"#ArialMT-116\"/>\n    <use x=\"400.146484\" xlink:href=\"#ArialMT-121\"/>\n    <use x=\"450.146484\" xlink:href=\"#ArialMT-32\"/>\n    <use x=\"477.929688\" xlink:href=\"#ArialMT-54\"/>\n   </g>\n  </g>\n </g>\n <defs>\n  <clipPath id=\"pb1a64974d2\">\n   <rect height=\"409.06\" width=\"89.709167\" x=\"22.817031\" y=\"47.52\"/>\n  </clipPath>\n  <clipPath id=\"p16d7a495c3\">\n   <rect height=\"409.06\" width=\"89.709167\" x=\"133.901198\" y=\"47.52\"/>\n  </clipPath>\n  <clipPath id=\"pb0461f5a19\">\n   <rect height=\"409.06\" width=\"89.709167\" x=\"244.985365\" y=\"47.52\"/>\n  </clipPath>\n </defs>\n</svg>\n",
      "image/png": "[encoded data removed]"
     },
     "metadata": {}
    }
   ],
   "source": [
    "moment_sensitivity_plot(sensitivity)"
   ]
  },
  {
   "cell_type": "code",
   "execution_count": null,
   "metadata": {},
   "outputs": [],
   "source": []
  }
 ],
 "metadata": {
  "jupytext": {
   "encoding": "# -*- coding: utf-8 -*-",
   "formats": "ipynb,py:light"
  },
  "kernelspec": {
   "name": "python3",
   "display_name": "Python 3.8.8 64-bit ('estimagic': conda)"
  },
  "language_info": {
   "codemirror_mode": {
    "name": "ipython",
    "version": 3
   },
   "file_extension": ".py",
   "mimetype": "text/x-python",
   "name": "python",
   "nbconvert_exporter": "python",
   "pygments_lexer": "ipython3",
   "version": "3.8.8"
  },
  "toc": {
   "base_numbering": 1,
   "nav_menu": {},
   "number_sections": true,
   "sideBar": true,
   "skip_h1_title": false,
   "title_cell": "Table of Contents",
   "title_sidebar": "Contents",
   "toc_cell": false,
   "toc_position": {
    "height": "calc(100% - 180px)",
    "left": "10px",
    "top": "150px",
    "width": "240px"
   },
   "toc_section_display": true,
   "toc_window_display": true
  },
  "interpreter": {
   "hash": "5cdb9867252288f10687117449de6ad870b49795ca695c868016dc0022895cce"
  }
 },
 "nbformat": 4,
 "nbformat_minor": 4
}
