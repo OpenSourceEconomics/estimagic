{
 "cells": [
  {
   "cell_type": "markdown",
   "metadata": {},
   "source": [
    "# Probit Example for Moment Sensitivity"
   ]
  },
  {
   "cell_type": "markdown",
   "metadata": {},
   "source": [
    "This example is a replication of the probit model in [Honoré, Jørgensen & de Paula (2020)](https://papers.ssrn.com/abstract=3518640), Section 3.1.\n",
    "\n",
    "Through this example, we will show you how to set up the `params`, how to use the`optimize` functions, and how to calculate the local `moment_sensitivity` measurements for your own model. "
   ]
  },
  {
   "cell_type": "code",
   "execution_count": 1,
   "metadata": {},
   "outputs": [
    {
     "ename": "ModuleNotFoundError",
     "evalue": "No module named 'estimagic.sensitivity.moment_sensitivity'",
     "output_type": "error",
     "traceback": [
      "\u001b[0;31m---------------------------------------------------------------------------\u001b[0m",
      "\u001b[0;31mModuleNotFoundError\u001b[0m                       Traceback (most recent call last)",
      "\u001b[0;32m<ipython-input-1-6db716beb6e2>\u001b[0m in \u001b[0;36m<module>\u001b[0;34m\u001b[0m\n\u001b[1;32m      5\u001b[0m \u001b[0;32mfrom\u001b[0m \u001b[0mestimagic\u001b[0m \u001b[0;32mimport\u001b[0m \u001b[0mminimize\u001b[0m\u001b[0;34m\u001b[0m\u001b[0;34m\u001b[0m\u001b[0m\n\u001b[1;32m      6\u001b[0m \u001b[0;32mfrom\u001b[0m \u001b[0mestimagic\u001b[0m\u001b[0;34m.\u001b[0m\u001b[0mconfig\u001b[0m \u001b[0;32mimport\u001b[0m \u001b[0mTEST_DIR\u001b[0m\u001b[0;34m\u001b[0m\u001b[0;34m\u001b[0m\u001b[0m\n\u001b[0;32m----> 7\u001b[0;31m \u001b[0;32mfrom\u001b[0m \u001b[0mestimagic\u001b[0m\u001b[0;34m.\u001b[0m\u001b[0msensitivity\u001b[0m\u001b[0;34m.\u001b[0m\u001b[0mmoment_sensitivity\u001b[0m \u001b[0;32mimport\u001b[0m \u001b[0mmoment_sensitivity\u001b[0m\u001b[0;34m\u001b[0m\u001b[0;34m\u001b[0m\u001b[0m\n\u001b[0m",
      "\u001b[0;31mModuleNotFoundError\u001b[0m: No module named 'estimagic.sensitivity.moment_sensitivity'"
     ]
    }
   ],
   "source": [
    "import numpy as np\n",
    "import pandas as pd\n",
    "from scipy import stats\n",
    "\n",
    "from estimagic import minimize\n",
    "from estimagic.config import TEST_DIR\n",
    "from estimagic.sensitivity.moment_sensitivity import moment_sensitivity"
   ]
  },
  {
   "cell_type": "code",
   "execution_count": null,
   "metadata": {},
   "outputs": [],
   "source": [
    "import matplotlib.pyplot as plt\n",
    "import seaborn as sns\n",
    "\n",
    "from estimagic.visualization.sensitivity_plot import moment_sensitivity_plot\n",
    "\n",
    "sns.set(style=\"whitegrid\")"
   ]
  },
  {
   "cell_type": "markdown",
   "metadata": {},
   "source": [
    "## Input Data"
   ]
  },
  {
   "cell_type": "markdown",
   "metadata": {},
   "source": [
    "First, we should create the index for `params`. Here, we only have one set of params, `beta`. "
   ]
  },
  {
   "cell_type": "code",
   "execution_count": null,
   "metadata": {},
   "outputs": [],
   "source": [
    "params_index = [[\"beta\"], [\"intercept\", \"x1\", \"x2\"]]\n",
    "params_index = pd.MultiIndex.from_product(params_index, names=[\"type\", \"name\"])\n",
    "print(params_index)"
   ]
  },
  {
   "cell_type": "markdown",
   "metadata": {},
   "source": [
    "Now read the data."
   ]
  },
  {
   "cell_type": "code",
   "execution_count": null,
   "metadata": {},
   "outputs": [],
   "source": [
    "data = pd.read_csv(TEST_DIR / \"sensitivity\" / \"sensitivity_probit_example_data.csv\")\n",
    "y = data[[\"y\"]]\n",
    "y.head()"
   ]
  },
  {
   "cell_type": "code",
   "execution_count": null,
   "metadata": {},
   "outputs": [],
   "source": [
    "x = data[[\"intercept\", \"x1\", \"x2\"]]\n",
    "x.head()"
   ]
  },
  {
   "cell_type": "markdown",
   "metadata": {},
   "source": [
    "## Calculate the Moments"
   ]
  },
  {
   "cell_type": "code",
   "execution_count": null,
   "metadata": {},
   "outputs": [],
   "source": [
    "def calc_moments_value(params, x, y, estimate_y=True):\n",
    "    \"\"\"This is the func2 in sensitivity module.\n",
    "\n",
    "    Args:\n",
    "        params (pd.DataFrame): see :ref:`params`\n",
    "        x (pd.DataFrame)\n",
    "        y (pd.DataFrame)\n",
    "        estimate_y (boolean): use estimated y_star\n",
    "\n",
    "    Return:\n",
    "        mom_value (pd.DataFrame): sample value of moments\n",
    "    \"\"\"\n",
    "\n",
    "    if estimate_y == True:\n",
    "        y_estimated = x.to_numpy() @ (params[\"value\"].to_numpy())\n",
    "    else:\n",
    "        y_estimated = y.copy(deep=True)\n",
    "\n",
    "    x_np = x.T.to_numpy()\n",
    "\n",
    "    residual = y.T.to_numpy() - stats.norm.cdf(y_estimated)\n",
    "    mom_value = []\n",
    "\n",
    "    # loop through all x\n",
    "\n",
    "    length = len(x_np)\n",
    "\n",
    "    for i in range(length):\n",
    "        for j in range(i, length):\n",
    "            moment = residual * x_np[i] * x_np[j]\n",
    "            mom_value.append(moment)\n",
    "\n",
    "    mom_value = np.stack(mom_value, axis=1)[0]\n",
    "    mom_value = pd.DataFrame(data=mom_value)\n",
    "\n",
    "    return mom_value"
   ]
  },
  {
   "cell_type": "code",
   "execution_count": null,
   "metadata": {},
   "outputs": [],
   "source": [
    "def calc_moments_expectation(params, x, y, estimate_y=True):\n",
    "    \"\"\"This is the func1 in sensitivity module.\n",
    "\n",
    "    Args:\n",
    "        params (pd.DataFrame): see :ref:`params`\n",
    "        x (pd.DataFrame)\n",
    "        y (pd.DataFrame)\n",
    "        estimate_y (boolean): use estimated y_star\n",
    "\n",
    "    Return:\n",
    "        moments (np.array): expectation of moments\n",
    "    \"\"\"\n",
    "\n",
    "    mom_value = calc_moments_value(params, x, y, estimate_y)\n",
    "\n",
    "    moments = mom_value.mean(axis=1)\n",
    "\n",
    "    # do not use pd.DataFrame since jacobian: extrapolation=False\n",
    "    # moments = pd.DataFrame(data=moments,\n",
    "    #                        columns=[\"moments\"])\n",
    "\n",
    "    return moments"
   ]
  },
  {
   "cell_type": "markdown",
   "metadata": {},
   "source": [
    "## Criterion Function & Estimation"
   ]
  },
  {
   "cell_type": "markdown",
   "metadata": {},
   "source": [
    "This is the criterion function:"
   ]
  },
  {
   "cell_type": "code",
   "execution_count": null,
   "metadata": {},
   "outputs": [],
   "source": [
    "def criterion_func(params, x, y, weight_matrix):\n",
    "    \"\"\"\n",
    "    Args:\n",
    "        params (pd.DataFrame)\n",
    "        x (pd.DataFrame)\n",
    "        y (pd.DataFrame)\n",
    "        weight_matrix (np.array)\n",
    "\n",
    "    Return:\n",
    "        criterion (float)\n",
    "    \"\"\"\n",
    "\n",
    "    moments = calc_moments_expectation(params, x, y, estimate_y=True).to_numpy()\n",
    "\n",
    "    criterion = moments.T @ weight_matrix @ moments\n",
    "    criterion = criterion.item()\n",
    "\n",
    "    return criterion"
   ]
  },
  {
   "cell_type": "markdown",
   "metadata": {},
   "source": [
    "Give the initial arguments:"
   ]
  },
  {
   "cell_type": "code",
   "execution_count": null,
   "metadata": {},
   "outputs": [],
   "source": [
    "I_matrix = np.identity(6)\n",
    "\n",
    "params_init = pd.DataFrame(\n",
    "    data=np.full((3, 1), 0.5), index=params_index, columns=[\"value\"]\n",
    ")\n",
    "params_init"
   ]
  },
  {
   "cell_type": "markdown",
   "metadata": {},
   "source": [
    "Now, we can estimate the `params` using identity matrix as the weight matrix:"
   ]
  },
  {
   "cell_type": "code",
   "execution_count": null,
   "metadata": {},
   "outputs": [],
   "source": [
    "estimation = minimize(\n",
    "    criterion=criterion_func,\n",
    "    params=params_init,\n",
    "    criterion_kwargs={\"x\": x, \"y\": y, \"weight_matrix\": I_matrix},\n",
    "    algorithm=\"scipy_lbfgsb\",\n",
    ")"
   ]
  },
  {
   "cell_type": "code",
   "execution_count": null,
   "metadata": {},
   "outputs": [],
   "source": [
    "params_estimated = estimation[\"solution_params\"]\n",
    "params_estimated"
   ]
  },
  {
   "cell_type": "markdown",
   "metadata": {},
   "source": [
    "The true `beta`'s for this data are $1/\\sqrt{3}\\approx 0.57735$, so that looks ok for the small sample size."
   ]
  },
  {
   "cell_type": "markdown",
   "metadata": {},
   "source": [
    "## Sensitivity Measurements"
   ]
  },
  {
   "cell_type": "markdown",
   "metadata": {},
   "source": [
    "Now, we can call the sensitivity function without specifying a weight matrix, in other words, using the optimal weight matrix."
   ]
  },
  {
   "cell_type": "code",
   "execution_count": null,
   "metadata": {},
   "outputs": [],
   "source": [
    "sensitivity = moment_sensitivity(\n",
    "    moment_func=calc_moments_expectation,\n",
    "    moment_contributions_func=calc_moments_value,\n",
    "    params=params_estimated,\n",
    "    kwargs={\"x\": x, \"y\": y},\n",
    ")"
   ]
  },
  {
   "cell_type": "code",
   "execution_count": null,
   "metadata": {},
   "outputs": [],
   "source": [
    "sensitivity"
   ]
  },
  {
   "cell_type": "markdown",
   "metadata": {},
   "source": [
    "## Visualization"
   ]
  },
  {
   "cell_type": "code",
   "execution_count": null,
   "metadata": {},
   "outputs": [],
   "source": [
    "moment_sensitivity_plot(sensitivity)"
   ]
  },
  {
   "cell_type": "code",
   "execution_count": null,
   "metadata": {},
   "outputs": [],
   "source": []
  }
 ],
 "metadata": {
  "interpreter": {
   "hash": "5cdb9867252288f10687117449de6ad870b49795ca695c868016dc0022895cce"
  },
  "jupytext": {
   "encoding": "# -*- coding: utf-8 -*-",
   "formats": "ipynb,py:light"
  },
  "kernelspec": {
   "display_name": "Python 3",
   "language": "python",
   "name": "python3"
  },
  "language_info": {
   "codemirror_mode": {
    "name": "ipython",
    "version": 3
   },
   "file_extension": ".py",
   "mimetype": "text/x-python",
   "name": "python",
   "nbconvert_exporter": "python",
   "pygments_lexer": "ipython3",
   "version": "3.8.11"
  },
  "toc": {
   "base_numbering": 1,
   "nav_menu": {},
   "number_sections": true,
   "sideBar": true,
   "skip_h1_title": false,
   "title_cell": "Table of Contents",
   "title_sidebar": "Contents",
   "toc_cell": false,
   "toc_position": {
    "height": "calc(100% - 180px)",
    "left": "10px",
    "top": "150px",
    "width": "240px"
   },
   "toc_section_display": true,
   "toc_window_display": true
  }
 },
 "nbformat": 4,
 "nbformat_minor": 4
}
