{
 "cells": [
  {
   "cell_type": "markdown",
   "metadata": {},
   "source": [
    "## Maximum Likelihood Estimation\n",
    "\n",
    "Estimagic has a special interface to estimate model parameters via maximum likelihood. We take a look at the same ordered logit model from the more general [optimization tutorial](ordered_logit_example.ipynb).\n",
    "\n",
    "``` python\n",
    "data = pd.read_pickle(\"ologit.pickle\")\n",
    "formula = 'apply ~ pared + public + gpa'\n",
    "estimates = ordered_logit(formula, data)\n",
    "\n",
    "```\n",
    "The example is taken from the [Stata Documentation](https://stats.idre.ucla.edu/stata/dae/ordered-logistic-regression/). The correct parameters for this model are ``[1.047664, -.0586828, .6157458, 2.203323,  4.298767]``"
   ]
  },
  {
   "cell_type": "code",
   "execution_count": 1,
   "metadata": {},
   "outputs": [],
   "source": [
    "import numpy as np\n",
    "import pandas as pd\n",
    "from scipy import stats\n",
    "from estimagic.estimation.estimate import maximize_log_likelihood\n",
    "from ordered_logit import ordered_logit_processing"
   ]
  },
  {
   "cell_type": "markdown",
   "metadata": {},
   "source": [
    "### Process the user input\n",
    "\n",
    "To process the input for the ordered logit function, this tutorial uses ``ordered_logit_processing`` which is explained in the [the more general optimization tutorial](ordered_logit_example.ipynb#Process-the-user-input).\n",
    "\n",
    "### Calculate the Likelihood\n",
    "\n",
    "Next we have to evaluate the likelihood function, given parameters and data. There are more efficient ways of calculating the likelihood for an ordered logit, but this one was chosen for brevity and readability.\n",
    "\n",
    "In most optimization problem, the criterion function returns a scalar. To use the estimagic's likelihood estimation interface, the criterion function needs to return the log likelihood contributions of observations. This has two advantages:\n",
    "\n",
    "1. The log likelihood contributions are necessary to compute the Jacobians or Hessians for standard error calculations. Estimagic will aggregate the contributions depending on the calculation and the user only needs to specify one criterion function for all purposes.\n",
    "2. It is generally encouraged to compute the log likelihood because of its numerical properties. It makes it easier to avoid [under- and overflows](https://stackoverflow.com/a/6360102/7523785). See also the [logsumexp trick](https://statmodeling.stat.columbia.edu/2016/06/11/log-sum-of-exponentials/)."
   ]
  },
  {
   "cell_type": "code",
   "execution_count": 2,
   "metadata": {},
   "outputs": [],
   "source": [
    "def ordered_logit_loglikeobs(params, y, x):\n",
    "    \"\"\"Likelihood function of an orderd logit model.\"\"\"\n",
    "    # parse the parameter vector into its quantities\n",
    "    beta = params.loc[\"beta\", \"value\"].to_numpy()\n",
    "    cutoffs = params.loc[\"cutoff\", \"value\"].to_numpy()\n",
    "    \n",
    "    # calculate deterministic part of utilities\n",
    "    xb = x.dot(beta)\n",
    "    \n",
    "    # evaluate likelihood\n",
    "    upper_cutoffs = np.hstack([cutoffs, np.inf])[y]\n",
    "    lower_cutoffs = np.hstack([-np.inf, cutoffs])[y]\n",
    "    upper_cdf = stats.logistic.cdf(upper_cutoffs - xb)\n",
    "    lower_cdf = stats.logistic.cdf(lower_cutoffs - xb)\n",
    "    \n",
    "    return np.log(upper_cdf - lower_cdf)"
   ]
  },
  {
   "cell_type": "markdown",
   "metadata": {},
   "source": [
    "### The ordered_logit command\n",
    "\n",
    "The estimation command follows the same patter as the ``maximize`` or ``minimize``. Thus, nothing has to be changed except for the criterion function to adopt the other interface."
   ]
  },
  {
   "cell_type": "code",
   "execution_count": 3,
   "metadata": {},
   "outputs": [],
   "source": [
    "def ordered_logit(formula, data, dashboard=False):\n",
    "    \"\"\"Estimate an ordered probit model with maximum likelihood.\n",
    "    \n",
    "    Args:\n",
    "        formula (str): A patsy formula\n",
    "        data (str): A pandas DataFrame\n",
    "        dashboard (bool): Switch on the dashboard.\n",
    "        \n",
    "    Returns:\n",
    "        res: optimization result.\n",
    "        \n",
    "    \"\"\"\n",
    "    params, y, x, constr = ordered_logit_processing(formula, data)\n",
    "    \n",
    "    res = maximize_log_likelihood(\n",
    "        log_like_obs=ordered_logit_loglikeobs, \n",
    "        params=params, \n",
    "        algorithm='scipy_L-BFGS-B',\n",
    "        constraints=constr,\n",
    "        criterion_kwargs={\"y\": y, \"x\": x}, \n",
    "        dashboard=dashboard)\n",
    "    return res"
   ]
  },
  {
   "cell_type": "markdown",
   "metadata": {},
   "source": [
    "Note that ``maximize_log_likelihood`` automatically uses the ``maximize`` function, so you don't have to switch the sign of your objective function!\n",
    "\n",
    "### Use the command"
   ]
  },
  {
   "cell_type": "code",
   "execution_count": 4,
   "metadata": {},
   "outputs": [],
   "source": [
    "df = pd.read_pickle(\"ologit.pickle\")\n",
    "form = \"apply ~ pared + public + gpa\""
   ]
  },
  {
   "cell_type": "code",
   "execution_count": 5,
   "metadata": {},
   "outputs": [],
   "source": [
    "info, params = ordered_logit(form, df, dashboard=False)"
   ]
  },
  {
   "cell_type": "code",
   "execution_count": 6,
   "metadata": {},
   "outputs": [
    {
     "data": {
      "text/html": [
       "<div>\n",
       "<style scoped>\n",
       "    .dataframe tbody tr th:only-of-type {\n",
       "        vertical-align: middle;\n",
       "    }\n",
       "\n",
       "    .dataframe tbody tr th {\n",
       "        vertical-align: top;\n",
       "    }\n",
       "\n",
       "    .dataframe thead th {\n",
       "        text-align: right;\n",
       "    }\n",
       "</style>\n",
       "<table border=\"1\" class=\"dataframe\">\n",
       "  <thead>\n",
       "    <tr style=\"text-align: right;\">\n",
       "      <th></th>\n",
       "      <th></th>\n",
       "      <th>value</th>\n",
       "      <th>correct</th>\n",
       "    </tr>\n",
       "    <tr>\n",
       "      <th>type</th>\n",
       "      <th>name</th>\n",
       "      <th></th>\n",
       "      <th></th>\n",
       "    </tr>\n",
       "  </thead>\n",
       "  <tbody>\n",
       "    <tr>\n",
       "      <th rowspan=\"3\" valign=\"top\">beta</th>\n",
       "      <th>pared</th>\n",
       "      <td>1.047663</td>\n",
       "      <td>1.047664</td>\n",
       "    </tr>\n",
       "    <tr>\n",
       "      <th>public</th>\n",
       "      <td>-0.058697</td>\n",
       "      <td>-0.058683</td>\n",
       "    </tr>\n",
       "    <tr>\n",
       "      <th>gpa</th>\n",
       "      <td>0.615885</td>\n",
       "      <td>0.615746</td>\n",
       "    </tr>\n",
       "    <tr>\n",
       "      <th rowspan=\"2\" valign=\"top\">cutoff</th>\n",
       "      <th>0</th>\n",
       "      <td>2.203830</td>\n",
       "      <td>2.203323</td>\n",
       "    </tr>\n",
       "    <tr>\n",
       "      <th>1</th>\n",
       "      <td>4.299396</td>\n",
       "      <td>4.298767</td>\n",
       "    </tr>\n",
       "  </tbody>\n",
       "</table>\n",
       "</div>"
      ],
      "text/plain": [
       "                  value   correct\n",
       "type   name                      \n",
       "beta   pared   1.047663  1.047664\n",
       "       public -0.058697 -0.058683\n",
       "       gpa     0.615885  0.615746\n",
       "cutoff 0       2.203830  2.203323\n",
       "       1       4.299396  4.298767"
      ]
     },
     "execution_count": 6,
     "metadata": {},
     "output_type": "execute_result"
    }
   ],
   "source": [
    "params[\"correct\"] = [1.047664, -.0586828, .6157458, 2.203323,  4.298767]\n",
    "params[[\"value\", \"correct\"]]"
   ]
  },
  {
   "cell_type": "markdown",
   "metadata": {},
   "source": [
    "### Visualizing the optimization\n",
    "\n",
    "Estimagic does not only log parameters and criterion values in the database, but also the contributions by default. Here we are showing the contributions from the first and last evaluation to show their development. Unfortunately, this step is a little bit inconvenient for now, but will become a part of the dashboard soon.\n",
    "\n",
    "Without much explanation, here are the likelihood contributions of ten individuals over the course of the optimization."
   ]
  },
  {
   "cell_type": "code",
   "execution_count": 7,
   "metadata": {},
   "outputs": [],
   "source": [
    "%matplotlib inline\n",
    "\n",
    "import io\n",
    "import pickle\n",
    "import matplotlib.pyplot as plt\n",
    "\n",
    "from estimagic.logging.create_database import load_database\n",
    "from estimagic.logging.read_database import read_last_iterations"
   ]
  },
  {
   "cell_type": "code",
   "execution_count": 8,
   "metadata": {},
   "outputs": [],
   "source": [
    "database = load_database(\"logging.db\")\n",
    "db_dump = read_last_iterations(database, [\"comparison_plot\"], 10, \"list\")\n",
    "log_contributions = np.column_stack([pickle.load(io.BytesIO(i[1])) for i in db_dump[1:]])"
   ]
  },
  {
   "cell_type": "code",
   "execution_count": 9,
   "metadata": {},
   "outputs": [
    {
     "data": {
      "image/png": "[encoded data removed]",
      "text/plain": [
       "<Figure size 864x576 with 1 Axes>"
      ]
     },
     "metadata": {
      "needs_background": "light"
     },
     "output_type": "display_data"
    }
   ],
   "source": [
    "fig, ax = plt.subplots(figsize=(12, 8))\n",
    "\n",
    "for i in range(10):\n",
    "    ax.plot(np.exp(log_contributions[i]), label=f\"Individual {i}\")\n",
    "\n",
    "ax.set_xlabel(\"Number of evaluations\")\n",
    "ax.set_ylabel(\"Likelihood value\")\n",
    "\n",
    "ax.legend(loc=\"upper center\", bbox_to_anchor=(0.5, -0.10), ncol=5)\n",
    "\n",
    "plt.show()\n",
    "plt.close()"
   ]
  }
 ],
 "metadata": {
  "kernelspec": {
   "display_name": "Python 3",
   "language": "python",
   "name": "python3"
  },
  "language_info": {
   "codemirror_mode": {
    "name": "ipython",
    "version": 3
   },
   "file_extension": ".py",
   "mimetype": "text/x-python",
   "name": "python",
   "nbconvert_exporter": "python",
   "pygments_lexer": "ipython3",
   "version": "3.7.3"
  }
 },
 "nbformat": 4,
 "nbformat_minor": 4
}
