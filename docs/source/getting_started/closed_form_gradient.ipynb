{
 "cells": [
  {
   "cell_type": "markdown",
   "metadata": {},
   "source": [
    "# Use a closed-form gradient in `maximize` or `minimize`"
   ]
  },
  {
   "cell_type": "code",
   "execution_count": 1,
   "metadata": {},
   "outputs": [],
   "source": [
    "import numpy as np\n",
    "import pandas as pd\n",
    "from estimagic import minimize"
   ]
  },
  {
   "cell_type": "code",
   "execution_count": 2,
   "metadata": {},
   "outputs": [],
   "source": [
    "def sum_of_squares(params):\n",
    "    return (params[\"value\"] ** 2).sum()\n",
    "\n",
    "\n",
    "def sum_of_squares_gradient(params):\n",
    "    return params[\"value\"].to_numpy() * 2\n",
    "\n",
    "\n",
    "start_params = pd.DataFrame()\n",
    "start_params[\"value\"] = [1, 2.5, -1]"
   ]
  },
  {
   "cell_type": "code",
   "execution_count": 9,
   "metadata": {},
   "outputs": [],
   "source": [
    "info, params = minimize(\n",
    "    criterion=sum_of_squares,\n",
    "    params=start_params,\n",
    "    algorithm=\"scipy_L-BFGS-B\",\n",
    "    gradient=sum_of_squares_gradient,\n",
    ")"
   ]
  },
  {
   "cell_type": "code",
   "execution_count": 10,
   "metadata": {},
   "outputs": [
    {
     "data": {
      "text/plain": [
       "{'status': 'success',\n",
       " 'message': b'CONVERGENCE: NORM_OF_PROJECTED_GRADIENT_<=_PGTOL',\n",
       " 'x': [0.0, 0.0, 0.0],\n",
       " 'success': True,\n",
       " 'fitness': 0.0,\n",
       " 'n_evaluations': 3,\n",
       " 'jacobian': array([0., 0., 0.]),\n",
       " 'hessian': None,\n",
       " 'n_evaluations_jacobian': None,\n",
       " 'n_evaluations_hessian': None,\n",
       " 'n_iterations': 2,\n",
       " 'max_constraints_violations': None,\n",
       " 'hessian_inverse': <3x3 LbfgsInvHessProduct with dtype=float64>}"
      ]
     },
     "execution_count": 10,
     "metadata": {},
     "output_type": "execute_result"
    }
   ],
   "source": [
    "info"
   ]
  }
 ],
 "metadata": {
  "kernelspec": {
   "display_name": "Python 3",
   "language": "python",
   "name": "python3"
  },
  "language_info": {
   "codemirror_mode": {
    "name": "ipython",
    "version": 3
   },
   "file_extension": ".py",
   "mimetype": "text/x-python",
   "name": "python",
   "nbconvert_exporter": "python",
   "pygments_lexer": "ipython3",
   "version": "3.7.6"
  }
 },
 "nbformat": 4,
 "nbformat_minor": 2
}
