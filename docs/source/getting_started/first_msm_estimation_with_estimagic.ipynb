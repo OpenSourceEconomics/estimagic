{
 "cells": [
  {
   "cell_type": "markdown",
   "id": "mounted-exchange",
   "metadata": {},
   "source": [
    "# First Method of Simulated Moments (MSM) estimation with estimagic\n",
    "\n",
    "This tutorial shows how to do a Method of Simulated Moments estimation in estimagic. The Method of Simulated Moments (MSM) is a nonlinear estimation principle that is very useful to fit complicated models to data. The only thing that is needed is a function that simulates model outcomes that you observe in some empirical dataset. \n",
    "\n",
    "The tutorial uses an example model from [Rick Evans'](https://github.com/rickecon/StructEst_W20) great tutorial on MSM. The model is deliberately simple so we can focus on the mechanics of the MSM estimation. \n",
    "\n",
    "Throughout the model we only talk about MSM estimation, however, the more general case of indirect inference estimation works exactly the same way. \n",
    "\n",
    "\n",
    "## The steps of MSM estimation\n",
    "\n",
    "- load empirical data \n",
    "- define a function calculate estimation moments on the data \n",
    "- calculate the covariance matrix of the empirical moments (with ``get_moments_cov``)\n",
    "- define a function to simulate moments from the model \n",
    "- estimate the model, calculate standard errors, do sensitivity analysis (with ``estimate_msm``)\n",
    "\n",
    "## The example model \n",
    "\n",
    "The model whose parameters we estimate is a truncated normal distribution. The data we want to fit the model to are observed grades in a macroeconomis class. \n",
    "\n",
    "The mechanics of the estimation is exactly the same for more complicated models. Here, model is defined by a function that can take parameters (here the mean, variance and lower_cutoff and upper_cutoff) and  and return a bunch of moments (mean, variance, soft_min and soft_max of simulated exam points). "
   ]
  },
  {
   "cell_type": "code",
   "execution_count": 1,
   "id": "mathematical-diesel",
   "metadata": {},
   "outputs": [],
   "source": [
    "import numpy as np\n",
    "import pandas as pd\n",
    "\n",
    "from estimagic.config import EXAMPLE_DIR"
   ]
  },
  {
   "cell_type": "markdown",
   "id": "greatest-skirt",
   "metadata": {},
   "source": [
    "## Load data"
   ]
  },
  {
   "cell_type": "code",
   "execution_count": 2,
   "id": "double-hunter",
   "metadata": {},
   "outputs": [
    {
     "data": {
      "text/html": [
       "<div>\n",
       "<style scoped>\n",
       "    .dataframe tbody tr th:only-of-type {\n",
       "        vertical-align: middle;\n",
       "    }\n",
       "\n",
       "    .dataframe tbody tr th {\n",
       "        vertical-align: top;\n",
       "    }\n",
       "\n",
       "    .dataframe thead th {\n",
       "        text-align: right;\n",
       "    }\n",
       "</style>\n",
       "<table border=\"1\" class=\"dataframe\">\n",
       "  <thead>\n",
       "    <tr style=\"text-align: right;\">\n",
       "      <th></th>\n",
       "      <th>points</th>\n",
       "    </tr>\n",
       "  </thead>\n",
       "  <tbody>\n",
       "    <tr>\n",
       "      <th>0</th>\n",
       "      <td>275.50</td>\n",
       "    </tr>\n",
       "    <tr>\n",
       "      <th>1</th>\n",
       "      <td>351.50</td>\n",
       "    </tr>\n",
       "    <tr>\n",
       "      <th>2</th>\n",
       "      <td>346.25</td>\n",
       "    </tr>\n",
       "    <tr>\n",
       "      <th>3</th>\n",
       "      <td>228.25</td>\n",
       "    </tr>\n",
       "    <tr>\n",
       "      <th>4</th>\n",
       "      <td>108.25</td>\n",
       "    </tr>\n",
       "  </tbody>\n",
       "</table>\n",
       "</div>"
      ],
      "text/plain": [
       "   points\n",
       "0  275.50\n",
       "1  351.50\n",
       "2  346.25\n",
       "3  228.25\n",
       "4  108.25"
      ]
     },
     "execution_count": 2,
     "metadata": {},
     "output_type": "execute_result"
    }
   ],
   "source": [
    "data = pd.read_csv(EXAMPLE_DIR / \"exam_points.csv\")\n",
    "data.head()"
   ]
  },
  {
   "cell_type": "markdown",
   "id": "concerned-robin",
   "metadata": {},
   "source": [
    "## Define function to calculate moments\n",
    "\n",
    "Deciding which moments to use in the estimation is the most difficult part of any MSM estimation. \n",
    "\n",
    "Below we list the parameters we want to estimate and moments we hope are informative to identify those parameters:\n",
    "\n",
    "|Moment           | Parameters                   |\n",
    "|-----------------|------------------------------|\n",
    "| mean            | mean                         |\n",
    "| sd              | sd                           |\n",
    "| min             | lower                        |\n",
    "| max             | upper                        |\n",
    "\n",
    "Note that such a direct equivalence of moments and parameters is not strictly needed, but it is a good way to think about the problem:\n",
    "\n",
    "We can also estimate a version where we only use the first two moments or we could include even more moments (like shares that fall into a certain bin of points, as in Rick's original example. In general, more moments are better. "
   ]
  },
  {
   "cell_type": "code",
   "execution_count": 3,
   "id": "affiliated-following",
   "metadata": {},
   "outputs": [],
   "source": [
    "def calculate_moments(sample, targets=\"all\"):\n",
    "    points = sample[\"points\"]\n",
    "    moments = {\n",
    "        \"mean\": sample.mean()[0],\n",
    "        \"sd\": sample.std()[0],\n",
    "        \"min\": sample.min()[0],\n",
    "        \"max\": sample.max()[0],\n",
    "    }\n",
    "    if targets != \"all\":\n",
    "        moments = {k: v for k, v in moments.items() if k in targets}\n",
    "    moments = pd.Series(moments)\n",
    "    return moments"
   ]
  },
  {
   "cell_type": "code",
   "execution_count": 4,
   "id": "treated-favor",
   "metadata": {},
   "outputs": [
    {
     "data": {
      "text/plain": [
       "mean    341.908696\n",
       "sd       88.752027\n",
       "min      17.000000\n",
       "max     449.800000\n",
       "dtype: float64"
      ]
     },
     "execution_count": 4,
     "metadata": {},
     "output_type": "execute_result"
    }
   ],
   "source": [
    "empirical_moments = calculate_moments(data)\n",
    "empirical_moments"
   ]
  },
  {
   "cell_type": "markdown",
   "id": "above-given",
   "metadata": {},
   "source": [
    "## Calculate the covariance matrix of empirical moments\n",
    "\n",
    "The covariance matrix of the empirical moments (``moments_cov``) is needed for three things:\n",
    "1. to calculate the weighting matrix\n",
    "2. to calculate standard errors\n",
    "3. to calculate sensitivity measures\n",
    "\n",
    "We will calculate ``moments_cov`` via a bootstrap. Depending on your problem there can be other ways to do it."
   ]
  },
  {
   "cell_type": "code",
   "execution_count": 5,
   "id": "toxic-sailing",
   "metadata": {},
   "outputs": [],
   "source": [
    "from estimagic import get_moments_cov"
   ]
  },
  {
   "cell_type": "code",
   "execution_count": 6,
   "id": "touched-passport",
   "metadata": {},
   "outputs": [
    {
     "data": {
      "text/html": [
       "<div>\n",
       "<style scoped>\n",
       "    .dataframe tbody tr th:only-of-type {\n",
       "        vertical-align: middle;\n",
       "    }\n",
       "\n",
       "    .dataframe tbody tr th {\n",
       "        vertical-align: top;\n",
       "    }\n",
       "\n",
       "    .dataframe thead th {\n",
       "        text-align: right;\n",
       "    }\n",
       "</style>\n",
       "<table border=\"1\" class=\"dataframe\">\n",
       "  <thead>\n",
       "    <tr style=\"text-align: right;\">\n",
       "      <th></th>\n",
       "      <th>mean</th>\n",
       "      <th>sd</th>\n",
       "      <th>min</th>\n",
       "      <th>max</th>\n",
       "    </tr>\n",
       "  </thead>\n",
       "  <tbody>\n",
       "    <tr>\n",
       "      <th>mean</th>\n",
       "      <td>47.904946</td>\n",
       "      <td>-40.459603</td>\n",
       "      <td>25.253744</td>\n",
       "      <td>2.641535</td>\n",
       "    </tr>\n",
       "    <tr>\n",
       "      <th>sd</th>\n",
       "      <td>-40.459603</td>\n",
       "      <td>57.309788</td>\n",
       "      <td>-42.736820</td>\n",
       "      <td>0.376389</td>\n",
       "    </tr>\n",
       "    <tr>\n",
       "      <th>min</th>\n",
       "      <td>25.253744</td>\n",
       "      <td>-42.736820</td>\n",
       "      <td>220.118460</td>\n",
       "      <td>-0.551482</td>\n",
       "    </tr>\n",
       "    <tr>\n",
       "      <th>max</th>\n",
       "      <td>2.641535</td>\n",
       "      <td>0.376389</td>\n",
       "      <td>-0.551482</td>\n",
       "      <td>14.661532</td>\n",
       "    </tr>\n",
       "  </tbody>\n",
       "</table>\n",
       "</div>"
      ],
      "text/plain": [
       "           mean         sd         min        max\n",
       "mean  47.904946 -40.459603   25.253744   2.641535\n",
       "sd   -40.459603  57.309788  -42.736820   0.376389\n",
       "min   25.253744 -42.736820  220.118460  -0.551482\n",
       "max    2.641535   0.376389   -0.551482  14.661532"
      ]
     },
     "execution_count": 6,
     "metadata": {},
     "output_type": "execute_result"
    }
   ],
   "source": [
    "moments_cov = get_moments_cov(\n",
    "    data, calculate_moments, bootstrap_kwargs={\"n_draws\": 5_000, \"seed\": 1234}\n",
    ")\n",
    "moments_cov"
   ]
  },
  {
   "cell_type": "markdown",
   "id": "spiritual-salvation",
   "metadata": {},
   "source": [
    "``get_moments_cov`` mainly just calls estimagic's bootstrap function. See our [bootstrap_tutorial](../how_to_guides/inference/how_to_do_bootstrap_inference.ipynb) for background information. \n",
    "\n"
   ]
  },
  {
   "cell_type": "markdown",
   "id": "tropical-extra",
   "metadata": {},
   "source": [
    "## Define a function to calculate simulated moments\n",
    "\n",
    "In real application, this is the step that takes most of the time. However, in our very simple case, all the work is already done by scipy.\n",
    "\n",
    "To test our function let's first set up a parameter vector (which will also serve as start parameters for the numerical optimization). "
   ]
  },
  {
   "cell_type": "code",
   "execution_count": 7,
   "id": "million-blocking",
   "metadata": {},
   "outputs": [
    {
     "data": {
      "text/html": [
       "<div>\n",
       "<style scoped>\n",
       "    .dataframe tbody tr th:only-of-type {\n",
       "        vertical-align: middle;\n",
       "    }\n",
       "\n",
       "    .dataframe tbody tr th {\n",
       "        vertical-align: top;\n",
       "    }\n",
       "\n",
       "    .dataframe thead th {\n",
       "        text-align: right;\n",
       "    }\n",
       "</style>\n",
       "<table border=\"1\" class=\"dataframe\">\n",
       "  <thead>\n",
       "    <tr style=\"text-align: right;\">\n",
       "      <th></th>\n",
       "      <th>value</th>\n",
       "      <th>lower_bound</th>\n",
       "    </tr>\n",
       "  </thead>\n",
       "  <tbody>\n",
       "    <tr>\n",
       "      <th>mean</th>\n",
       "      <td>500</td>\n",
       "      <td>-inf</td>\n",
       "    </tr>\n",
       "    <tr>\n",
       "      <th>sd</th>\n",
       "      <td>100</td>\n",
       "      <td>0.0</td>\n",
       "    </tr>\n",
       "    <tr>\n",
       "      <th>lower_cutoff</th>\n",
       "      <td>100</td>\n",
       "      <td>-inf</td>\n",
       "    </tr>\n",
       "    <tr>\n",
       "      <th>upper_cutoff</th>\n",
       "      <td>500</td>\n",
       "      <td>-inf</td>\n",
       "    </tr>\n",
       "  </tbody>\n",
       "</table>\n",
       "</div>"
      ],
      "text/plain": [
       "              value  lower_bound\n",
       "mean            500         -inf\n",
       "sd              100          0.0\n",
       "lower_cutoff    100         -inf\n",
       "upper_cutoff    500         -inf"
      ]
     },
     "execution_count": 7,
     "metadata": {},
     "output_type": "execute_result"
    }
   ],
   "source": [
    "params = pd.DataFrame(\n",
    "    [500, 100, 100, 500],\n",
    "    index=[\"mean\", \"sd\", \"lower\", \"upper\"],\n",
    "    columns=[\"value\"],\n",
    ")\n",
    "params[\"lower_bound\"] = [-np.inf, 0, -np.inf, -np.inf]\n",
    "params"
   ]
  },
  {
   "cell_type": "code",
   "execution_count": 8,
   "id": "limiting-benjamin",
   "metadata": {},
   "outputs": [],
   "source": [
    "from scipy.stats import truncnorm"
   ]
  },
  {
   "cell_type": "code",
   "execution_count": 9,
   "id": "early-essence",
   "metadata": {},
   "outputs": [],
   "source": [
    "def simulate_moments(params, n_draws=1_000, seed=5471):\n",
    "    np.random.seed(seed)\n",
    "    pardict = params[\"value\"].to_dict()\n",
    "    draws = truncnorm.rvs(\n",
    "        a=(pardict[\"lower\"] - pardict[\"mean\"]) / pardict[\"sd\"],\n",
    "        b=(pardict[\"upper\"] - pardict[\"mean\"]) / pardict[\"sd\"],\n",
    "        loc=pardict[\"mean\"],\n",
    "        scale=pardict[\"sd\"],\n",
    "        size=n_draws,\n",
    "    )\n",
    "    sim_data = pd.DataFrame()\n",
    "    sim_data[\"points\"] = draws\n",
    "\n",
    "    sim_moments = calculate_moments(sim_data)\n",
    "\n",
    "    return sim_moments"
   ]
  },
  {
   "cell_type": "code",
   "execution_count": 10,
   "id": "focused-average",
   "metadata": {},
   "outputs": [
    {
     "data": {
      "text/plain": [
       "mean    418.394194\n",
       "sd       61.989162\n",
       "min     107.221737\n",
       "max     499.919192\n",
       "dtype: float64"
      ]
     },
     "execution_count": 10,
     "metadata": {},
     "output_type": "execute_result"
    }
   ],
   "source": [
    "simulate_moments(params)"
   ]
  },
  {
   "cell_type": "markdown",
   "id": "noted-patio",
   "metadata": {},
   "source": [
    "## Estimate the model parameters\n",
    "\n",
    "Estimating a model means entails the following steps:\n",
    "\n",
    "- Building a criterion function that measures a distance between simulated and empirical moments\n",
    "- Minimizing this criterion function.\n",
    "- Calculating the jacobian of the model\n",
    "- Calculating standard errors, confidence intervals and p_values\n",
    "- Calculating sensitivity measures\n",
    "\n",
    "This can all be done in one go with the ``estimate_msm`` function. This function has good default values, so you only need a minimum number of inputs. However you can configure almost every aspect of the workflow via optional arguments. If you need even more control, you can call the low level functions ``estimate_msm`` is built on directly. "
   ]
  },
  {
   "cell_type": "code",
   "execution_count": 11,
   "id": "relative-implement",
   "metadata": {},
   "outputs": [],
   "source": [
    "from estimagic import estimate_msm"
   ]
  },
  {
   "cell_type": "code",
   "execution_count": 12,
   "id": "compact-leisure",
   "metadata": {},
   "outputs": [],
   "source": [
    "res = estimate_msm(\n",
    "    simulate_moments,\n",
    "    empirical_moments,\n",
    "    moments_cov,\n",
    "    params,\n",
    "    minimize_options={\"algorithm\": \"scipy_lbfgsb\"},\n",
    ")"
   ]
  },
  {
   "cell_type": "code",
   "execution_count": 13,
   "id": "special-senegal",
   "metadata": {},
   "outputs": [
    {
     "data": {
      "text/html": [
       "<div>\n",
       "<style scoped>\n",
       "    .dataframe tbody tr th:only-of-type {\n",
       "        vertical-align: middle;\n",
       "    }\n",
       "\n",
       "    .dataframe tbody tr th {\n",
       "        vertical-align: top;\n",
       "    }\n",
       "\n",
       "    .dataframe thead th {\n",
       "        text-align: right;\n",
       "    }\n",
       "</style>\n",
       "<table border=\"1\" class=\"dataframe\">\n",
       "  <thead>\n",
       "    <tr style=\"text-align: right;\">\n",
       "      <th></th>\n",
       "      <th>lower_bound</th>\n",
       "      <th>upper_bound</th>\n",
       "      <th>value</th>\n",
       "    </tr>\n",
       "  </thead>\n",
       "  <tbody>\n",
       "    <tr>\n",
       "      <th>mean</th>\n",
       "      <td>-inf</td>\n",
       "      <td>inf</td>\n",
       "      <td>631.874246</td>\n",
       "    </tr>\n",
       "    <tr>\n",
       "      <th>sd</th>\n",
       "      <td>0.0</td>\n",
       "      <td>inf</td>\n",
       "      <td>198.078044</td>\n",
       "    </tr>\n",
       "    <tr>\n",
       "      <th>lower_cutoff</th>\n",
       "      <td>-inf</td>\n",
       "      <td>inf</td>\n",
       "      <td>16.754888</td>\n",
       "    </tr>\n",
       "    <tr>\n",
       "      <th>upper_cutoff</th>\n",
       "      <td>-inf</td>\n",
       "      <td>inf</td>\n",
       "      <td>449.886988</td>\n",
       "    </tr>\n",
       "  </tbody>\n",
       "</table>\n",
       "</div>"
      ],
      "text/plain": [
       "              lower_bound  upper_bound       value\n",
       "mean                 -inf          inf  631.874246\n",
       "sd                    0.0          inf  198.078044\n",
       "lower_cutoff         -inf          inf   16.754888\n",
       "upper_cutoff         -inf          inf  449.886988"
      ]
     },
     "execution_count": 13,
     "metadata": {},
     "output_type": "execute_result"
    }
   ],
   "source": [
    "res[\"minimize_res\"][\"solution_params\"]"
   ]
  },
  {
   "cell_type": "markdown",
   "id": "devoted-hearing",
   "metadata": {},
   "source": [
    "## Did it work?\n",
    "\n",
    "We can compare this with Rick's Maximum Likelihood and MSM estimates. Note that for the likelihood estimates he fixed the lower and upper truncation values to 0 and 450, respectively. "
   ]
  },
  {
   "cell_type": "code",
   "execution_count": 15,
   "id": "surface-algebra",
   "metadata": {},
   "outputs": [
    {
     "data": {
      "text/html": [
       "<div>\n",
       "<style scoped>\n",
       "    .dataframe tbody tr th:only-of-type {\n",
       "        vertical-align: middle;\n",
       "    }\n",
       "\n",
       "    .dataframe tbody tr th {\n",
       "        vertical-align: top;\n",
       "    }\n",
       "\n",
       "    .dataframe thead th {\n",
       "        text-align: right;\n",
       "    }\n",
       "</style>\n",
       "<table border=\"1\" class=\"dataframe\">\n",
       "  <thead>\n",
       "    <tr style=\"text-align: right;\">\n",
       "      <th></th>\n",
       "      <th>estimagic_msm</th>\n",
       "      <th>rick_mle</th>\n",
       "      <th>rick_msm</th>\n",
       "    </tr>\n",
       "  </thead>\n",
       "  <tbody>\n",
       "    <tr>\n",
       "      <th>mean</th>\n",
       "      <td>631.9</td>\n",
       "      <td>622.3</td>\n",
       "      <td>612.3</td>\n",
       "    </tr>\n",
       "    <tr>\n",
       "      <th>sd</th>\n",
       "      <td>198.1</td>\n",
       "      <td>198.8</td>\n",
       "      <td>197.3</td>\n",
       "    </tr>\n",
       "    <tr>\n",
       "      <th>lower_cutoff</th>\n",
       "      <td>16.8</td>\n",
       "      <td>0.0</td>\n",
       "      <td>0.0</td>\n",
       "    </tr>\n",
       "    <tr>\n",
       "      <th>upper_cutoff</th>\n",
       "      <td>449.9</td>\n",
       "      <td>450.0</td>\n",
       "      <td>450.0</td>\n",
       "    </tr>\n",
       "  </tbody>\n",
       "</table>\n",
       "</div>"
      ],
      "text/plain": [
       "              estimagic_msm  rick_mle  rick_msm\n",
       "mean                  631.9     622.3     612.3\n",
       "sd                    198.1     198.8     197.3\n",
       "lower_cutoff           16.8       0.0       0.0\n",
       "upper_cutoff          449.9     450.0     450.0"
      ]
     },
     "execution_count": 15,
     "metadata": {},
     "output_type": "execute_result"
    }
   ],
   "source": [
    "comparison = pd.DataFrame()\n",
    "comparison[\"estimagic_msm\"] = res[\"minimize_res\"][\"solution_params\"][[\"value\"]].round(1)\n",
    "comparison[\"rick_mle\"] = [622.3, 198.8, 0, 450]\n",
    "comparison[\"rick_msm\"] = [612.3, 197.3, 0, 450]\n",
    "comparison"
   ]
  },
  {
   "cell_type": "markdown",
   "id": "celtic-clinic",
   "metadata": {},
   "source": [
    "Given that we use different estimation moments and do not fix the truncation parameters this is completely acceptable!"
   ]
  },
  {
   "cell_type": "code",
   "execution_count": null,
   "id": "instant-helmet",
   "metadata": {},
   "outputs": [],
   "source": []
  }
 ],
 "metadata": {
  "kernelspec": {
   "display_name": "Python 3",
   "language": "python",
   "name": "python3"
  },
  "language_info": {
   "codemirror_mode": {
    "name": "ipython",
    "version": 3
   },
   "file_extension": ".py",
   "mimetype": "text/x-python",
   "name": "python",
   "nbconvert_exporter": "python",
   "pygments_lexer": "ipython3",
   "version": "3.8.11"
  }
 },
 "nbformat": 4,
 "nbformat_minor": 5
}
