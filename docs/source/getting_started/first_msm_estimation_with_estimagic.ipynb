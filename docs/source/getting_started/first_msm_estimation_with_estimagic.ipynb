{
 "cells": [
  {
   "cell_type": "markdown",
   "id": "private-handle",
   "metadata": {},
   "source": [
    "# First Method of Simulated Moments (MSM) estimation with estimagic\n",
    "\n",
    "This tutorial shows how to do a Method of Simulated Moments estimation in estimagic. The Method of Simulated Moments (MSM) is a nonlinear estimation principle that is very useful to fit complicated models to data. The only thing that is needed is a function that simulates model outcomes that you observe in some empirical dataset. \n",
    "\n",
    "The tutorial uses an example model from [Rick Evans' great tutorial](https://github.com/rickecon/StructEst_W20) on MSM. The model is deliberately simple so we can focus on the mechanics of the MSM estimation. \n",
    "\n",
    "Throughout the tutorial we only talk about MSM estimation, however, the more general case of indirect inference estimation works exactly the same way. \n",
    "\n",
    "\n",
    "## Steps of MSM estimation\n",
    "\n",
    "- load empirical data \n",
    "- define a function to calculate estimation moments on the data \n",
    "- calculate the covariance matrix of the empirical moments (with ``get_moments_cov``)\n",
    "- define a function to simulate moments from the model \n",
    "- estimate the model, calculate standard errors, do sensitivity analysis (with ``estimate_msm``)\n",
    "\n",
    "## Example: Estimating the parameters of a truncated normal distribution\n",
    "\n",
    "The model we consider is a truncated normal distribution. The goal is to estimate its parameters from a dataset of grades observed in a macroeconomics class. \n",
    "\n",
    "The estimation mechanics are exactly the same for more complicated models. A model is always defined by a function that can take parameters (here: the mean, variance and lower_cutoff and upper_cutoff) and returns a number of simulated moments (mean, variance, soft_min and soft_max of simulated exam points)."
   ]
  },
  {
   "cell_type": "code",
   "execution_count": 1,
   "id": "dirty-slovakia",
   "metadata": {},
   "outputs": [],
   "source": [
    "import numpy as np\n",
    "import pandas as pd\n",
    "\n",
    "from estimagic.config import EXAMPLE_DIR"
   ]
  },
  {
   "cell_type": "markdown",
   "id": "annoying-guard",
   "metadata": {},
   "source": [
    "## Load data"
   ]
  },
  {
   "cell_type": "code",
   "execution_count": 2,
   "id": "synthetic-bermuda",
   "metadata": {},
   "outputs": [
    {
     "data": {
      "text/html": [
       "<div>\n",
       "<style scoped>\n",
       "    .dataframe tbody tr th:only-of-type {\n",
       "        vertical-align: middle;\n",
       "    }\n",
       "\n",
       "    .dataframe tbody tr th {\n",
       "        vertical-align: top;\n",
       "    }\n",
       "\n",
       "    .dataframe thead th {\n",
       "        text-align: right;\n",
       "    }\n",
       "</style>\n",
       "<table border=\"1\" class=\"dataframe\">\n",
       "  <thead>\n",
       "    <tr style=\"text-align: right;\">\n",
       "      <th></th>\n",
       "      <th>points</th>\n",
       "    </tr>\n",
       "  </thead>\n",
       "  <tbody>\n",
       "    <tr>\n",
       "      <th>0</th>\n",
       "      <td>275.50</td>\n",
       "    </tr>\n",
       "    <tr>\n",
       "      <th>1</th>\n",
       "      <td>351.50</td>\n",
       "    </tr>\n",
       "    <tr>\n",
       "      <th>2</th>\n",
       "      <td>346.25</td>\n",
       "    </tr>\n",
       "    <tr>\n",
       "      <th>158</th>\n",
       "      <td>112.30</td>\n",
       "    </tr>\n",
       "    <tr>\n",
       "      <th>159</th>\n",
       "      <td>130.60</td>\n",
       "    </tr>\n",
       "    <tr>\n",
       "      <th>160</th>\n",
       "      <td>60.20</td>\n",
       "    </tr>\n",
       "  </tbody>\n",
       "</table>\n",
       "</div>"
      ],
      "text/plain": [
       "     points\n",
       "0    275.50\n",
       "1    351.50\n",
       "2    346.25\n",
       "158  112.30\n",
       "159  130.60\n",
       "160   60.20"
      ]
     },
     "execution_count": 2,
     "metadata": {},
     "output_type": "execute_result"
    }
   ],
   "source": [
    "data = pd.read_csv(EXAMPLE_DIR / \"exam_points.csv\")\n",
    "data.head(3).append(data.tail(3))"
   ]
  },
  {
   "cell_type": "markdown",
   "id": "secure-stretch",
   "metadata": {},
   "source": [
    "## Define function to calculate moments\n",
    "\n",
    "Deciding which moments to use in the estimation is the most difficult part of any MSM estimation. \n",
    "\n",
    "Below we list the parameters we want to estimate and moments we hope are informative to identify those parameters:\n",
    "\n",
    "|Moment           | Parameters                   |\n",
    "|-----------------|------------------------------|\n",
    "| mean            | mean                         |\n",
    "| sd              | sd                           |\n",
    "| min             | lower_trunc                  |\n",
    "| max             | upper_trunc                  |\n",
    "\n",
    "Note that such a direct equivalence of moments and parameters is not strictly needed, but it is a good way to think about the problem:\n",
    "\n",
    "We can also estimate a version where we only use the first two moments or we could include even more moments (like shares that fall into a certain bin of points, as in Rick's original example). In general, more moments are better. "
   ]
  },
  {
   "cell_type": "code",
   "execution_count": 3,
   "id": "diverse-validation",
   "metadata": {},
   "outputs": [],
   "source": [
    "def calculate_moments(sample, targets=\"all\"):\n",
    "    points = sample[\"points\"]\n",
    "    moments = {\n",
    "        \"mean\": sample.mean()[0],\n",
    "        \"sd\": sample.std()[0],\n",
    "        \"min\": sample.min()[0],\n",
    "        \"max\": sample.max()[0],\n",
    "    }\n",
    "    if targets != \"all\":\n",
    "        moments = {k: v for k, v in moments.items() if k in targets}\n",
    "    moments = pd.Series(moments)\n",
    "    return moments"
   ]
  },
  {
   "cell_type": "code",
   "execution_count": 4,
   "id": "short-flood",
   "metadata": {},
   "outputs": [
    {
     "data": {
      "text/plain": [
       "mean    341.908696\n",
       "sd       88.752027\n",
       "min      17.000000\n",
       "max     449.800000\n",
       "dtype: float64"
      ]
     },
     "execution_count": 4,
     "metadata": {},
     "output_type": "execute_result"
    }
   ],
   "source": [
    "empirical_moments = calculate_moments(data)\n",
    "empirical_moments"
   ]
  },
  {
   "cell_type": "markdown",
   "id": "italic-baptist",
   "metadata": {},
   "source": [
    "## Calculate the covariance matrix of empirical moments\n",
    "\n",
    "The covariance matrix of the empirical moments (``moments_cov``) is needed for three things:\n",
    "1. to calculate the weighting matrix\n",
    "2. to calculate standard errors\n",
    "3. to calculate sensitivity measures\n",
    "\n",
    "We will calculate ``moments_cov`` via a bootstrap. Depending on your problem there can be other ways to do it."
   ]
  },
  {
   "cell_type": "code",
   "execution_count": 5,
   "id": "gross-antibody",
   "metadata": {},
   "outputs": [],
   "source": [
    "from estimagic import get_moments_cov"
   ]
  },
  {
   "cell_type": "code",
   "execution_count": 6,
   "id": "rocky-willow",
   "metadata": {},
   "outputs": [
    {
     "data": {
      "text/html": [
       "<div>\n",
       "<style scoped>\n",
       "    .dataframe tbody tr th:only-of-type {\n",
       "        vertical-align: middle;\n",
       "    }\n",
       "\n",
       "    .dataframe tbody tr th {\n",
       "        vertical-align: top;\n",
       "    }\n",
       "\n",
       "    .dataframe thead th {\n",
       "        text-align: right;\n",
       "    }\n",
       "</style>\n",
       "<table border=\"1\" class=\"dataframe\">\n",
       "  <thead>\n",
       "    <tr style=\"text-align: right;\">\n",
       "      <th></th>\n",
       "      <th>mean</th>\n",
       "      <th>sd</th>\n",
       "      <th>min</th>\n",
       "      <th>max</th>\n",
       "    </tr>\n",
       "  </thead>\n",
       "  <tbody>\n",
       "    <tr>\n",
       "      <th>mean</th>\n",
       "      <td>45.845620</td>\n",
       "      <td>-38.455171</td>\n",
       "      <td>25.483604</td>\n",
       "      <td>0.730361</td>\n",
       "    </tr>\n",
       "    <tr>\n",
       "      <th>sd</th>\n",
       "      <td>-38.455171</td>\n",
       "      <td>56.557881</td>\n",
       "      <td>-49.925677</td>\n",
       "      <td>2.022414</td>\n",
       "    </tr>\n",
       "    <tr>\n",
       "      <th>min</th>\n",
       "      <td>25.483604</td>\n",
       "      <td>-49.925677</td>\n",
       "      <td>260.868729</td>\n",
       "      <td>-0.762310</td>\n",
       "    </tr>\n",
       "    <tr>\n",
       "      <th>max</th>\n",
       "      <td>0.730361</td>\n",
       "      <td>2.022414</td>\n",
       "      <td>-0.762310</td>\n",
       "      <td>10.338989</td>\n",
       "    </tr>\n",
       "  </tbody>\n",
       "</table>\n",
       "</div>"
      ],
      "text/plain": [
       "           mean         sd         min        max\n",
       "mean  45.845620 -38.455171   25.483604   0.730361\n",
       "sd   -38.455171  56.557881  -49.925677   2.022414\n",
       "min   25.483604 -49.925677  260.868729  -0.762310\n",
       "max    0.730361   2.022414   -0.762310  10.338989"
      ]
     },
     "execution_count": 6,
     "metadata": {},
     "output_type": "execute_result"
    }
   ],
   "source": [
    "moments_cov = get_moments_cov(\n",
    "    data, calculate_moments, bootstrap_kwargs={\"n_draws\": 5_000, \"seed\": 1234}\n",
    ")\n",
    "moments_cov"
   ]
  },
  {
   "cell_type": "markdown",
   "id": "hearing-dairy",
   "metadata": {},
   "source": [
    "``get_moments_cov`` mainly just calls estimagic's bootstrap function. See our [bootstrap_tutorial](../how_to_guides/inference/how_to_do_bootstrap_inference.ipynb) for background information. \n",
    "\n"
   ]
  },
  {
   "cell_type": "markdown",
   "id": "worldwide-whole",
   "metadata": {},
   "source": [
    "## Define a function to calculate simulated moments\n",
    "\n",
    "In a real application, this is the step that takes most of the time. However, in our very simple example, all the work is already done by scipy.\n",
    "\n",
    "To test our function let's first set up a parameter vector (which will also serve as start parameters for the numerical optimization). "
   ]
  },
  {
   "cell_type": "code",
   "execution_count": 7,
   "id": "measured-apartment",
   "metadata": {},
   "outputs": [
    {
     "data": {
      "text/html": [
       "<div>\n",
       "<style scoped>\n",
       "    .dataframe tbody tr th:only-of-type {\n",
       "        vertical-align: middle;\n",
       "    }\n",
       "\n",
       "    .dataframe tbody tr th {\n",
       "        vertical-align: top;\n",
       "    }\n",
       "\n",
       "    .dataframe thead th {\n",
       "        text-align: right;\n",
       "    }\n",
       "</style>\n",
       "<table border=\"1\" class=\"dataframe\">\n",
       "  <thead>\n",
       "    <tr style=\"text-align: right;\">\n",
       "      <th></th>\n",
       "      <th>value</th>\n",
       "      <th>lower_bound</th>\n",
       "    </tr>\n",
       "  </thead>\n",
       "  <tbody>\n",
       "    <tr>\n",
       "      <th>mean</th>\n",
       "      <td>500</td>\n",
       "      <td>-inf</td>\n",
       "    </tr>\n",
       "    <tr>\n",
       "      <th>sd</th>\n",
       "      <td>100</td>\n",
       "      <td>0.0</td>\n",
       "    </tr>\n",
       "    <tr>\n",
       "      <th>lower_trunc</th>\n",
       "      <td>0</td>\n",
       "      <td>-inf</td>\n",
       "    </tr>\n",
       "    <tr>\n",
       "      <th>upper_trunc</th>\n",
       "      <td>450</td>\n",
       "      <td>-inf</td>\n",
       "    </tr>\n",
       "  </tbody>\n",
       "</table>\n",
       "</div>"
      ],
      "text/plain": [
       "             value  lower_bound\n",
       "mean           500         -inf\n",
       "sd             100          0.0\n",
       "lower_trunc      0         -inf\n",
       "upper_trunc    450         -inf"
      ]
     },
     "execution_count": 7,
     "metadata": {},
     "output_type": "execute_result"
    }
   ],
   "source": [
    "params = pd.DataFrame(\n",
    "    [500, 100, 0, 450],\n",
    "    index=[\"mean\", \"sd\", \"lower_trunc\", \"upper_trunc\"],\n",
    "    columns=[\"value\"],\n",
    ")\n",
    "params[\"lower_bound\"] = [-np.inf, 0, -np.inf, -np.inf]\n",
    "params"
   ]
  },
  {
   "cell_type": "code",
   "execution_count": 8,
   "id": "demonstrated-agency",
   "metadata": {},
   "outputs": [],
   "source": [
    "from scipy.stats import truncnorm"
   ]
  },
  {
   "cell_type": "code",
   "execution_count": 9,
   "id": "creative-pittsburgh",
   "metadata": {},
   "outputs": [],
   "source": [
    "def simulate_moments(params, n_draws=1_000, seed=5471):\n",
    "    np.random.seed(seed)\n",
    "    pardict = params[\"value\"].to_dict()\n",
    "    draws = truncnorm.rvs(\n",
    "        a=(pardict[\"lower_trunc\"] - pardict[\"mean\"]) / pardict[\"sd\"],\n",
    "        b=(pardict[\"upper_trunc\"] - pardict[\"mean\"]) / pardict[\"sd\"],\n",
    "        loc=pardict[\"mean\"],\n",
    "        scale=pardict[\"sd\"],\n",
    "        size=n_draws,\n",
    "    )\n",
    "    sim_data = pd.DataFrame()\n",
    "    sim_data[\"points\"] = draws\n",
    "\n",
    "    sim_moments = calculate_moments(sim_data)\n",
    "\n",
    "    return sim_moments"
   ]
  },
  {
   "cell_type": "code",
   "execution_count": 10,
   "id": "casual-stream",
   "metadata": {},
   "outputs": [
    {
     "data": {
      "text/plain": [
       "mean    384.237035\n",
       "sd       53.591526\n",
       "min      66.218431\n",
       "max     449.943485\n",
       "dtype: float64"
      ]
     },
     "execution_count": 10,
     "metadata": {},
     "output_type": "execute_result"
    }
   ],
   "source": [
    "simulate_moments(params)"
   ]
  },
  {
   "cell_type": "markdown",
   "id": "sustainable-collectible",
   "metadata": {},
   "source": [
    "## Estimate the model parameters\n",
    "\n",
    "Estimating a model consists of the following steps:\n",
    "\n",
    "- Building a criterion function that measures a distance between simulated and empirical moments\n",
    "- Minimizing this criterion function\n",
    "- Calculating the Jacobian of the model\n",
    "- Calculating standard errors, confidence intervals and p values\n",
    "- Calculating sensitivity measures\n",
    "\n",
    "This can all be done in one go with the ``estimate_msm`` function. This function has good default values, so you only need a minimum number of inputs. However, you can configure almost every aspect of the workflow via optional arguments. If you need even more control, you can call the low level functions ``estimate_msm`` is built on directly. "
   ]
  },
  {
   "cell_type": "code",
   "execution_count": 11,
   "id": "thick-upset",
   "metadata": {},
   "outputs": [],
   "source": [
    "from estimagic import estimate_msm"
   ]
  },
  {
   "cell_type": "code",
   "execution_count": 12,
   "id": "finite-david",
   "metadata": {},
   "outputs": [],
   "source": [
    "res = estimate_msm(\n",
    "    simulate_moments,\n",
    "    empirical_moments,\n",
    "    moments_cov,\n",
    "    params,\n",
    "    optimize_options={\"algorithm\": \"scipy_lbfgsb\"},\n",
    ")"
   ]
  },
  {
   "cell_type": "code",
   "execution_count": 13,
   "id": "outside-volleyball",
   "metadata": {},
   "outputs": [
    {
     "data": {
      "text/html": [
       "<div>\n",
       "<style scoped>\n",
       "    .dataframe tbody tr th:only-of-type {\n",
       "        vertical-align: middle;\n",
       "    }\n",
       "\n",
       "    .dataframe tbody tr th {\n",
       "        vertical-align: top;\n",
       "    }\n",
       "\n",
       "    .dataframe thead th {\n",
       "        text-align: right;\n",
       "    }\n",
       "</style>\n",
       "<table border=\"1\" class=\"dataframe\">\n",
       "  <thead>\n",
       "    <tr style=\"text-align: right;\">\n",
       "      <th></th>\n",
       "      <th>value</th>\n",
       "      <th>standard_error</th>\n",
       "      <th>p_value</th>\n",
       "      <th>ci_lower</th>\n",
       "      <th>ci_upper</th>\n",
       "      <th>stars</th>\n",
       "    </tr>\n",
       "  </thead>\n",
       "  <tbody>\n",
       "    <tr>\n",
       "      <th>mean</th>\n",
       "      <td>631.872784</td>\n",
       "      <td>248.512673</td>\n",
       "      <td>0.010782</td>\n",
       "      <td>144.796895</td>\n",
       "      <td>1118.948673</td>\n",
       "      <td>**</td>\n",
       "    </tr>\n",
       "    <tr>\n",
       "      <th>sd</th>\n",
       "      <td>198.077676</td>\n",
       "      <td>75.258258</td>\n",
       "      <td>0.008319</td>\n",
       "      <td>50.574200</td>\n",
       "      <td>345.581152</td>\n",
       "      <td>***</td>\n",
       "    </tr>\n",
       "    <tr>\n",
       "      <th>lower_trunc</th>\n",
       "      <td>16.754587</td>\n",
       "      <td>16.153324</td>\n",
       "      <td>0.293640</td>\n",
       "      <td>-14.905346</td>\n",
       "      <td>48.414521</td>\n",
       "      <td></td>\n",
       "    </tr>\n",
       "    <tr>\n",
       "      <th>upper_trunc</th>\n",
       "      <td>449.887025</td>\n",
       "      <td>3.221541</td>\n",
       "      <td>0.000000</td>\n",
       "      <td>443.572921</td>\n",
       "      <td>456.201129</td>\n",
       "      <td>***</td>\n",
       "    </tr>\n",
       "  </tbody>\n",
       "</table>\n",
       "</div>"
      ],
      "text/plain": [
       "                  value  standard_error   p_value    ci_lower     ci_upper  \\\n",
       "mean         631.872784      248.512673  0.010782  144.796895  1118.948673   \n",
       "sd           198.077676       75.258258  0.008319   50.574200   345.581152   \n",
       "lower_trunc   16.754587       16.153324  0.293640  -14.905346    48.414521   \n",
       "upper_trunc  449.887025        3.221541  0.000000  443.572921   456.201129   \n",
       "\n",
       "            stars  \n",
       "mean           **  \n",
       "sd            ***  \n",
       "lower_trunc        \n",
       "upper_trunc   ***  "
      ]
     },
     "execution_count": 13,
     "metadata": {},
     "output_type": "execute_result"
    }
   ],
   "source": [
    "res[\"summary\"]"
   ]
  },
  {
   "cell_type": "markdown",
   "id": "incident-government",
   "metadata": {},
   "source": [
    "## What's in the result?\n",
    "\n",
    "The result is a dictionary with the following entries:"
   ]
  },
  {
   "cell_type": "code",
   "execution_count": 14,
   "id": "caring-scale",
   "metadata": {},
   "outputs": [
    {
     "data": {
      "text/plain": [
       "dict_keys(['summary', 'cov', 'sensitivity', 'jacobian', 'optimize_res', 'numdiff_info'])"
      ]
     },
     "execution_count": 14,
     "metadata": {},
     "output_type": "execute_result"
    }
   ],
   "source": [
    "res.keys()"
   ]
  },
  {
   "cell_type": "markdown",
   "id": "approximate-constitution",
   "metadata": {},
   "source": [
    "- summary: A DataFrame with estimated parameters, standard errors, p_values and confidence intervals. This is ideal for use with our `estimation_table` function. \n",
    "- cov: A DataFrame with the full covariance matrix of the estimated parameters. You can use this for hypothesis tests. \n",
    "- optimize_res: A dictionary with the complete output of the numerical optimization (if one was performed)\n",
    "- numdiff_info: A dictionary with the complete output of the numerical differentiation (if one was performed)\n",
    "- jacobian: A DataFrame with the jacobian of `simulate_moments` with respect to the free parameters. \n",
    "- sensitivity: A dictionary of DataFrames with the six sensitivity measures from Honore, Jorgensen and DePaula (2020)"
   ]
  },
  {
   "cell_type": "markdown",
   "id": "blind-tractor",
   "metadata": {},
   "source": [
    "## How to visualize sensitivity measures\n",
    "\n",
    "For more background on the sensitivity measures and their interpretation, check out the [how to guide](../how_to_guides/miscellaneous/how_to_visualize_and_interpret_sensitivity_measures.ipynb) on sensitivity measures. \n",
    "\n",
    "Here we are just showing you how to plot them:"
   ]
  },
  {
   "cell_type": "code",
   "execution_count": 15,
   "id": "fleet-qatar",
   "metadata": {},
   "outputs": [
    {
     "data": {
      "image/png": "[encoded data removed]",
      "text/plain": [
       "<Figure size 360x180 with 4 Axes>"
      ]
     },
     "metadata": {},
     "output_type": "display_data"
    }
   ],
   "source": [
    "from estimagic.visualization.lollipop_plot import lollipop_plot\n",
    "\n",
    "lollipop_plot(res[\"sensitivity\"][\"sensitivity_to_bias\"].abs().T);"
   ]
  },
  {
   "cell_type": "markdown",
   "id": "ceramic-award",
   "metadata": {},
   "source": [
    "## How to deal with calibrated parameters\n",
    "\n",
    "In many MSM applications, not all parameters are estimated freely. Instead, some of them are calibrated outside of the model. Thus, they are fixed during the estimation and no standard errors can be calculated for them. \n",
    "\n",
    "To do this in `estimate_msm`, you can use the same constraint syntax you already know from `maximize` and `minimize`. \n",
    "\n",
    "For example, in Rick's Tutorial, the cutoffs are fixed to 0 and 450, respectively. This can be expressed as follows:"
   ]
  },
  {
   "cell_type": "code",
   "execution_count": 16,
   "id": "surrounded-hepatitis",
   "metadata": {},
   "outputs": [
    {
     "data": {
      "text/html": [
       "<div>\n",
       "<style scoped>\n",
       "    .dataframe tbody tr th:only-of-type {\n",
       "        vertical-align: middle;\n",
       "    }\n",
       "\n",
       "    .dataframe tbody tr th {\n",
       "        vertical-align: top;\n",
       "    }\n",
       "\n",
       "    .dataframe thead th {\n",
       "        text-align: right;\n",
       "    }\n",
       "</style>\n",
       "<table border=\"1\" class=\"dataframe\">\n",
       "  <thead>\n",
       "    <tr style=\"text-align: right;\">\n",
       "      <th></th>\n",
       "      <th>value</th>\n",
       "      <th>standard_error</th>\n",
       "      <th>p_value</th>\n",
       "      <th>ci_lower</th>\n",
       "      <th>ci_upper</th>\n",
       "      <th>stars</th>\n",
       "    </tr>\n",
       "  </thead>\n",
       "  <tbody>\n",
       "    <tr>\n",
       "      <th>mean</th>\n",
       "      <td>597.743366</td>\n",
       "      <td>197.131779</td>\n",
       "      <td>0.002379</td>\n",
       "      <td>211.372179</td>\n",
       "      <td>984.114553</td>\n",
       "      <td>***</td>\n",
       "    </tr>\n",
       "    <tr>\n",
       "      <th>sd</th>\n",
       "      <td>187.286258</td>\n",
       "      <td>63.901903</td>\n",
       "      <td>0.003313</td>\n",
       "      <td>62.040830</td>\n",
       "      <td>312.531685</td>\n",
       "      <td>***</td>\n",
       "    </tr>\n",
       "    <tr>\n",
       "      <th>lower_trunc</th>\n",
       "      <td>0.000000</td>\n",
       "      <td>NaN</td>\n",
       "      <td>NaN</td>\n",
       "      <td>NaN</td>\n",
       "      <td>NaN</td>\n",
       "      <td>NaN</td>\n",
       "    </tr>\n",
       "    <tr>\n",
       "      <th>upper_trunc</th>\n",
       "      <td>450.000000</td>\n",
       "      <td>NaN</td>\n",
       "      <td>NaN</td>\n",
       "      <td>NaN</td>\n",
       "      <td>NaN</td>\n",
       "      <td>NaN</td>\n",
       "    </tr>\n",
       "  </tbody>\n",
       "</table>\n",
       "</div>"
      ],
      "text/plain": [
       "                  value  standard_error   p_value    ci_lower    ci_upper  \\\n",
       "mean         597.743366      197.131779  0.002379  211.372179  984.114553   \n",
       "sd           187.286258       63.901903  0.003313   62.040830  312.531685   \n",
       "lower_trunc    0.000000             NaN       NaN         NaN         NaN   \n",
       "upper_trunc  450.000000             NaN       NaN         NaN         NaN   \n",
       "\n",
       "            stars  \n",
       "mean          ***  \n",
       "sd            ***  \n",
       "lower_trunc   NaN  \n",
       "upper_trunc   NaN  "
      ]
     },
     "execution_count": 16,
     "metadata": {},
     "output_type": "execute_result"
    }
   ],
   "source": [
    "constraints = [\n",
    "    {\"loc\": \"lower_trunc\", \"type\": \"fixed\", \"value\": 0},\n",
    "    {\"loc\": \"upper_trunc\", \"type\": \"fixed\", \"value\": 450},\n",
    "]\n",
    "\n",
    "res_small = estimate_msm(\n",
    "    simulate_moments,\n",
    "    empirical_moments,\n",
    "    moments_cov,\n",
    "    params,\n",
    "    optimize_options={\"algorithm\": \"scipy_lbfgsb\"},\n",
    "    constraints=constraints,\n",
    ")\n",
    "\n",
    "res_small[\"summary\"]"
   ]
  },
  {
   "cell_type": "code",
   "execution_count": 17,
   "id": "fiscal-philippines",
   "metadata": {},
   "outputs": [
    {
     "data": {
      "image/png": "[encoded data removed]",
      "text/plain": [
       "<Figure size 360x180 with 4 Axes>"
      ]
     },
     "metadata": {},
     "output_type": "display_data"
    }
   ],
   "source": [
    "lollipop_plot(\n",
    "    [\n",
    "        res[\"sensitivity\"][\"sensitivity_to_bias\"].abs().T,\n",
    "        res_small[\"sensitivity\"][\"sensitivity_to_bias\"].abs().T,\n",
    "    ]\n",
    ");"
   ]
  },
  {
   "cell_type": "markdown",
   "id": "registered-surveillance",
   "metadata": {},
   "source": [
    "Calculating standard errors, p values for the constrained model works out of the box. The sensitivity measures for free parameters also work. Showing sensitivity of estimated parameters with respect to calibrated ones does not work yet but is planned soon. If you can't wait, check out Thomas Jorgensen's [Paper](https://arxiv.org/abs/2004.12100) on the topic and make a pull request ;-)"
   ]
  },
  {
   "cell_type": "markdown",
   "id": "personal-joining",
   "metadata": {},
   "source": [
    "## Comparison with Rick's results\n",
    "\n",
    "We can compare point estimates and standard errors to Rick's Maximum Likelihood and MSM estimates. Note that he fixed the lower and upper truncation points. "
   ]
  },
  {
   "cell_type": "code",
   "execution_count": 18,
   "id": "smaller-habitat",
   "metadata": {},
   "outputs": [
    {
     "data": {
      "text/html": [
       "<div>\n",
       "<style scoped>\n",
       "    .dataframe tbody tr th:only-of-type {\n",
       "        vertical-align: middle;\n",
       "    }\n",
       "\n",
       "    .dataframe tbody tr th {\n",
       "        vertical-align: top;\n",
       "    }\n",
       "\n",
       "    .dataframe thead th {\n",
       "        text-align: right;\n",
       "    }\n",
       "</style>\n",
       "<table border=\"1\" class=\"dataframe\">\n",
       "  <thead>\n",
       "    <tr style=\"text-align: right;\">\n",
       "      <th></th>\n",
       "      <th>estimagic_free</th>\n",
       "      <th>estimagic_fixed</th>\n",
       "      <th>rick_mle</th>\n",
       "      <th>rick_msm</th>\n",
       "    </tr>\n",
       "  </thead>\n",
       "  <tbody>\n",
       "    <tr>\n",
       "      <th>mean</th>\n",
       "      <td>631.9</td>\n",
       "      <td>597.7</td>\n",
       "      <td>622.3</td>\n",
       "      <td>612.3</td>\n",
       "    </tr>\n",
       "    <tr>\n",
       "      <th>sd</th>\n",
       "      <td>198.1</td>\n",
       "      <td>187.3</td>\n",
       "      <td>198.8</td>\n",
       "      <td>197.3</td>\n",
       "    </tr>\n",
       "    <tr>\n",
       "      <th>lower_trunc</th>\n",
       "      <td>16.8</td>\n",
       "      <td>0.0</td>\n",
       "      <td>0.0</td>\n",
       "      <td>0.0</td>\n",
       "    </tr>\n",
       "    <tr>\n",
       "      <th>upper_trunc</th>\n",
       "      <td>449.9</td>\n",
       "      <td>450.0</td>\n",
       "      <td>450.0</td>\n",
       "      <td>450.0</td>\n",
       "    </tr>\n",
       "  </tbody>\n",
       "</table>\n",
       "</div>"
      ],
      "text/plain": [
       "             estimagic_free  estimagic_fixed  rick_mle  rick_msm\n",
       "mean                  631.9            597.7     622.3     612.3\n",
       "sd                    198.1            187.3     198.8     197.3\n",
       "lower_trunc            16.8              0.0       0.0       0.0\n",
       "upper_trunc           449.9            450.0     450.0     450.0"
      ]
     },
     "execution_count": 18,
     "metadata": {},
     "output_type": "execute_result"
    }
   ],
   "source": [
    "comparison = pd.DataFrame()\n",
    "comparison[\"estimagic_free\"] = res[\"optimize_res\"][\"solution_params\"][[\"value\"]].round(\n",
    "    1\n",
    ")\n",
    "comparison[\"estimagic_fixed\"] = res_small[\"optimize_res\"][\"solution_params\"][\n",
    "    [\"value\"]\n",
    "].round(1)\n",
    "comparison[\"rick_mle\"] = [622.3, 198.8, 0, 450]\n",
    "comparison[\"rick_msm\"] = [612.3, 197.3, 0, 450]\n",
    "comparison"
   ]
  },
  {
   "cell_type": "markdown",
   "id": "hourly-unknown",
   "metadata": {},
   "source": [
    "Interestingly, the estimates where all parameters are free are closer to the maximum likelihood estimates than the other ones.\n",
    "\n",
    "Note that we used different estimation moments, so the results are not really comparable. We will do an exact replication soon. "
   ]
  },
  {
   "cell_type": "code",
   "execution_count": null,
   "id": "sorted-insert",
   "metadata": {},
   "outputs": [],
   "source": []
  }
 ],
 "metadata": {
  "kernelspec": {
   "display_name": "Python 3",
   "language": "python",
   "name": "python3"
  },
  "language_info": {
   "codemirror_mode": {
    "name": "ipython",
    "version": 3
   },
   "file_extension": ".py",
   "mimetype": "text/x-python",
   "name": "python",
   "nbconvert_exporter": "python",
   "pygments_lexer": "ipython3",
   "version": "3.8.12"
  }
 },
 "nbformat": 4,
 "nbformat_minor": 5
}
