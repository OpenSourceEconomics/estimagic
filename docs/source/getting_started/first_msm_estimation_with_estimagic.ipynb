{
 "cells": [
  {
   "cell_type": "markdown",
   "source": [
    "# First Method of Simulated Moments (MSM) estimation with estimagic\n",
    "\n",
    "This tutorial shows how to do a Method of Simulated Moments estimation in estimagic. The Method of Simulated Moments (MSM) is a nonlinear estimation principle that is very useful to fit complicated models to data. The only thing that is needed is a function that simulates model outcomes that you observe in some empirical dataset. \n",
    "\n",
    "The tutorial uses an example model from [Rick Evans' great tutorial](https://github.com/rickecon/StructEst_W20) on MSM. The model is deliberately simple so we can focus on the mechanics of the MSM estimation. \n",
    "\n",
    "Throughout the tutorial we only talk about MSM estimation, however, the more general case of indirect inference estimation works exactly the same way. \n",
    "\n",
    "\n",
    "## Steps of MSM estimation\n",
    "\n",
    "- load empirical data \n",
    "- define a function calculate estimation moments on the data \n",
    "- calculate the covariance matrix of the empirical moments (with ``get_moments_cov``)\n",
    "- define a function to simulate moments from the model \n",
    "- estimate the model, calculate standard errors, do sensitivity analysis (with ``estimate_msm``)\n",
    "\n",
    "## Example: Estimating the parameters of a truncated normal distribution\n",
    "\n",
    "The model we consiter is a truncated normal distribution. The goal is to estimate its parameters from a dataset of grades observed in a macroeconomics class. \n",
    "\n",
    "The estimation mechanics are exactly the same for more complicated models. A model is always defined by a function that can take parameters (here: the mean, variance and lower_cutoff and upper_cutoff) and returns a number of simulated moments (mean, variance, soft_min and soft_max of simulated exam points)."
   ],
   "metadata": {}
  },
  {
   "cell_type": "code",
   "execution_count": 1,
   "source": [
    "import numpy as np\n",
    "import pandas as pd\n",
    "\n",
    "from estimagic.config import EXAMPLE_DIR"
   ],
   "outputs": [],
   "metadata": {}
  },
  {
   "cell_type": "markdown",
   "source": [
    "## Load data"
   ],
   "metadata": {}
  },
  {
   "cell_type": "code",
   "execution_count": 2,
   "source": [
    "data = pd.read_csv(EXAMPLE_DIR / \"exam_points.csv\")\n",
    "data.head(3).append(data.tail(3))"
   ],
   "outputs": [
    {
     "output_type": "execute_result",
     "data": {
      "text/html": [
       "<div>\n",
       "<style scoped>\n",
       "    .dataframe tbody tr th:only-of-type {\n",
       "        vertical-align: middle;\n",
       "    }\n",
       "\n",
       "    .dataframe tbody tr th {\n",
       "        vertical-align: top;\n",
       "    }\n",
       "\n",
       "    .dataframe thead th {\n",
       "        text-align: right;\n",
       "    }\n",
       "</style>\n",
       "<table border=\"1\" class=\"dataframe\">\n",
       "  <thead>\n",
       "    <tr style=\"text-align: right;\">\n",
       "      <th></th>\n",
       "      <th>points</th>\n",
       "    </tr>\n",
       "  </thead>\n",
       "  <tbody>\n",
       "    <tr>\n",
       "      <th>0</th>\n",
       "      <td>275.50</td>\n",
       "    </tr>\n",
       "    <tr>\n",
       "      <th>1</th>\n",
       "      <td>351.50</td>\n",
       "    </tr>\n",
       "    <tr>\n",
       "      <th>2</th>\n",
       "      <td>346.25</td>\n",
       "    </tr>\n",
       "    <tr>\n",
       "      <th>158</th>\n",
       "      <td>112.30</td>\n",
       "    </tr>\n",
       "    <tr>\n",
       "      <th>159</th>\n",
       "      <td>130.60</td>\n",
       "    </tr>\n",
       "    <tr>\n",
       "      <th>160</th>\n",
       "      <td>60.20</td>\n",
       "    </tr>\n",
       "  </tbody>\n",
       "</table>\n",
       "</div>"
      ],
      "text/plain": [
       "     points\n",
       "0    275.50\n",
       "1    351.50\n",
       "2    346.25\n",
       "158  112.30\n",
       "159  130.60\n",
       "160   60.20"
      ]
     },
     "metadata": {},
     "execution_count": 2
    }
   ],
   "metadata": {}
  },
  {
   "cell_type": "markdown",
   "source": [
    "## Define function to calculate moments\n",
    "\n",
    "Deciding which moments to use in the estimation is the most difficult part of any MSM estimation. \n",
    "\n",
    "Below we list the parameters we want to estimate and moments we hope are informative to identify those parameters:\n",
    "\n",
    "|Moment           | Parameters                   |\n",
    "|-----------------|------------------------------|\n",
    "| mean            | mean                         |\n",
    "| sd              | sd                           |\n",
    "| min             | lower_trunc                  |\n",
    "| max             | upper_trunc                  |\n",
    "\n",
    "Note that such a direct equivalence of moments and parameters is not strictly needed, but it is a good way to think about the problem:\n",
    "\n",
    "We can also estimate a version where we only use the first two moments or we could include even more moments (like shares that fall into a certain bin of points, as in Rick's original example. In general, more moments are better. "
   ],
   "metadata": {}
  },
  {
   "cell_type": "code",
   "execution_count": 3,
   "source": [
    "def calculate_moments(sample, targets=\"all\"):\n",
    "    points = sample[\"points\"]\n",
    "    moments = {\n",
    "        \"mean\": sample.mean()[0],\n",
    "        \"sd\": sample.std()[0],\n",
    "        \"min\": sample.min()[0],\n",
    "        \"max\": sample.max()[0],\n",
    "    }\n",
    "    if targets != \"all\":\n",
    "        moments = {k: v for k, v in moments.items() if k in targets}\n",
    "    moments = pd.Series(moments)\n",
    "    return moments"
   ],
   "outputs": [],
   "metadata": {}
  },
  {
   "cell_type": "code",
   "execution_count": 4,
   "source": [
    "empirical_moments = calculate_moments(data)\n",
    "empirical_moments"
   ],
   "outputs": [
    {
     "output_type": "execute_result",
     "data": {
      "text/plain": [
       "mean    341.908696\n",
       "sd       88.752027\n",
       "min      17.000000\n",
       "max     449.800000\n",
       "dtype: float64"
      ]
     },
     "metadata": {},
     "execution_count": 4
    }
   ],
   "metadata": {}
  },
  {
   "cell_type": "markdown",
   "source": [
    "## Calculate the covariance matrix of empirical moments\n",
    "\n",
    "The covariance matrix of the empirical moments (``moments_cov``) is needed for three things:\n",
    "1. to calculate the weighting matrix\n",
    "2. to calculate standard errors\n",
    "3. to calculate sensitivity measures\n",
    "\n",
    "We will calculate ``moments_cov`` via a bootstrap. Depending on your problem there can be other ways to do it."
   ],
   "metadata": {}
  },
  {
   "cell_type": "code",
   "execution_count": 5,
   "source": [
    "from estimagic import get_moments_cov"
   ],
   "outputs": [],
   "metadata": {}
  },
  {
   "cell_type": "code",
   "execution_count": 6,
   "source": [
    "moments_cov = get_moments_cov(\n",
    "    data, calculate_moments, bootstrap_kwargs={\"n_draws\": 5_000, \"seed\": 1234}\n",
    ")\n",
    "moments_cov"
   ],
   "outputs": [
    {
     "output_type": "execute_result",
     "data": {
      "text/html": [
       "<div>\n",
       "<style scoped>\n",
       "    .dataframe tbody tr th:only-of-type {\n",
       "        vertical-align: middle;\n",
       "    }\n",
       "\n",
       "    .dataframe tbody tr th {\n",
       "        vertical-align: top;\n",
       "    }\n",
       "\n",
       "    .dataframe thead th {\n",
       "        text-align: right;\n",
       "    }\n",
       "</style>\n",
       "<table border=\"1\" class=\"dataframe\">\n",
       "  <thead>\n",
       "    <tr style=\"text-align: right;\">\n",
       "      <th></th>\n",
       "      <th>mean</th>\n",
       "      <th>sd</th>\n",
       "      <th>min</th>\n",
       "      <th>max</th>\n",
       "    </tr>\n",
       "  </thead>\n",
       "  <tbody>\n",
       "    <tr>\n",
       "      <th>mean</th>\n",
       "      <td>50.911106</td>\n",
       "      <td>-41.729674</td>\n",
       "      <td>25.566590</td>\n",
       "      <td>2.128968</td>\n",
       "    </tr>\n",
       "    <tr>\n",
       "      <th>sd</th>\n",
       "      <td>-41.729674</td>\n",
       "      <td>57.971623</td>\n",
       "      <td>-42.888101</td>\n",
       "      <td>-0.559551</td>\n",
       "    </tr>\n",
       "    <tr>\n",
       "      <th>min</th>\n",
       "      <td>25.566590</td>\n",
       "      <td>-42.888101</td>\n",
       "      <td>209.435179</td>\n",
       "      <td>2.427182</td>\n",
       "    </tr>\n",
       "    <tr>\n",
       "      <th>max</th>\n",
       "      <td>2.128968</td>\n",
       "      <td>-0.559551</td>\n",
       "      <td>2.427182</td>\n",
       "      <td>11.929751</td>\n",
       "    </tr>\n",
       "  </tbody>\n",
       "</table>\n",
       "</div>"
      ],
      "text/plain": [
       "           mean         sd         min        max\n",
       "mean  50.911106 -41.729674   25.566590   2.128968\n",
       "sd   -41.729674  57.971623  -42.888101  -0.559551\n",
       "min   25.566590 -42.888101  209.435179   2.427182\n",
       "max    2.128968  -0.559551    2.427182  11.929751"
      ]
     },
     "metadata": {},
     "execution_count": 6
    }
   ],
   "metadata": {}
  },
  {
   "cell_type": "markdown",
   "source": [
    "``get_moments_cov`` mainly just calls estimagic's bootstrap function. See our [bootstrap_tutorial](../how_to_guides/inference/how_to_do_bootstrap_inference.ipynb) for background information. \n",
    "\n"
   ],
   "metadata": {}
  },
  {
   "cell_type": "markdown",
   "source": [
    "## Define a function to calculate simulated moments\n",
    "\n",
    "In real application, this is the step that takes most of the time. However, in our very simple case, all the work is already done by scipy.\n",
    "\n",
    "To test our function let's first set up a parameter vector (which will also serve as start parameters for the numerical optimization). "
   ],
   "metadata": {}
  },
  {
   "cell_type": "code",
   "execution_count": 7,
   "source": [
    "params = pd.DataFrame(\n",
    "    [500, 100, 0, 450],\n",
    "    index=[\"mean\", \"sd\", \"lower_trunc\", \"upper_trunc\"],\n",
    "    columns=[\"value\"],\n",
    ")\n",
    "params[\"lower_bound\"] = [-np.inf, 0, -np.inf, -np.inf]\n",
    "params"
   ],
   "outputs": [
    {
     "output_type": "execute_result",
     "data": {
      "text/html": [
       "<div>\n",
       "<style scoped>\n",
       "    .dataframe tbody tr th:only-of-type {\n",
       "        vertical-align: middle;\n",
       "    }\n",
       "\n",
       "    .dataframe tbody tr th {\n",
       "        vertical-align: top;\n",
       "    }\n",
       "\n",
       "    .dataframe thead th {\n",
       "        text-align: right;\n",
       "    }\n",
       "</style>\n",
       "<table border=\"1\" class=\"dataframe\">\n",
       "  <thead>\n",
       "    <tr style=\"text-align: right;\">\n",
       "      <th></th>\n",
       "      <th>value</th>\n",
       "      <th>lower_bound</th>\n",
       "    </tr>\n",
       "  </thead>\n",
       "  <tbody>\n",
       "    <tr>\n",
       "      <th>mean</th>\n",
       "      <td>500</td>\n",
       "      <td>-inf</td>\n",
       "    </tr>\n",
       "    <tr>\n",
       "      <th>sd</th>\n",
       "      <td>100</td>\n",
       "      <td>0.0</td>\n",
       "    </tr>\n",
       "    <tr>\n",
       "      <th>lower_trunc</th>\n",
       "      <td>0</td>\n",
       "      <td>-inf</td>\n",
       "    </tr>\n",
       "    <tr>\n",
       "      <th>upper_trunc</th>\n",
       "      <td>450</td>\n",
       "      <td>-inf</td>\n",
       "    </tr>\n",
       "  </tbody>\n",
       "</table>\n",
       "</div>"
      ],
      "text/plain": [
       "             value  lower_bound\n",
       "mean           500         -inf\n",
       "sd             100          0.0\n",
       "lower_trunc      0         -inf\n",
       "upper_trunc    450         -inf"
      ]
     },
     "metadata": {},
     "execution_count": 7
    }
   ],
   "metadata": {}
  },
  {
   "cell_type": "code",
   "execution_count": 8,
   "source": [
    "from scipy.stats import truncnorm"
   ],
   "outputs": [],
   "metadata": {}
  },
  {
   "cell_type": "code",
   "execution_count": 9,
   "source": [
    "def simulate_moments(params, n_draws=1_000, seed=5471):\n",
    "    np.random.seed(seed)\n",
    "    pardict = params[\"value\"].to_dict()\n",
    "    draws = truncnorm.rvs(\n",
    "        a=(pardict[\"lower_trunc\"] - pardict[\"mean\"]) / pardict[\"sd\"],\n",
    "        b=(pardict[\"upper_trunc\"] - pardict[\"mean\"]) / pardict[\"sd\"],\n",
    "        loc=pardict[\"mean\"],\n",
    "        scale=pardict[\"sd\"],\n",
    "        size=n_draws,\n",
    "    )\n",
    "    sim_data = pd.DataFrame()\n",
    "    sim_data[\"points\"] = draws\n",
    "\n",
    "    sim_moments = calculate_moments(sim_data)\n",
    "\n",
    "    return sim_moments"
   ],
   "outputs": [],
   "metadata": {}
  },
  {
   "cell_type": "code",
   "execution_count": 10,
   "source": [
    "simulate_moments(params)"
   ],
   "outputs": [
    {
     "output_type": "execute_result",
     "data": {
      "text/plain": [
       "mean    384.237035\n",
       "sd       53.591526\n",
       "min      66.218431\n",
       "max     449.943485\n",
       "dtype: float64"
      ]
     },
     "metadata": {},
     "execution_count": 10
    }
   ],
   "metadata": {}
  },
  {
   "cell_type": "markdown",
   "source": [
    "## Estimate the model parameters\n",
    "\n",
    "Estimating a model means entails the following steps:\n",
    "\n",
    "- Building a criterion function that measures a distance between simulated and empirical moments\n",
    "- Minimizing this criterion function.\n",
    "- Calculating the jacobian of the model\n",
    "- Calculating standard errors, confidence intervals and p_values\n",
    "- Calculating sensitivity measures\n",
    "\n",
    "This can all be done in one go with the ``estimate_msm`` function. This function has good default values, so you only need a minimum number of inputs. However you can configure almost every aspect of the workflow via optional arguments. If you need even more control, you can call the low level functions ``estimate_msm`` is built on directly. "
   ],
   "metadata": {}
  },
  {
   "cell_type": "code",
   "execution_count": 11,
   "source": [
    "from estimagic import estimate_msm"
   ],
   "outputs": [],
   "metadata": {}
  },
  {
   "cell_type": "code",
   "execution_count": 12,
   "source": [
    "res = estimate_msm(\n",
    "    simulate_moments,\n",
    "    empirical_moments,\n",
    "    moments_cov,\n",
    "    params,\n",
    "    minimize_options={\"algorithm\": \"scipy_lbfgsb\"},\n",
    ")"
   ],
   "outputs": [],
   "metadata": {}
  },
  {
   "cell_type": "code",
   "execution_count": 13,
   "source": [
    "res[\"summary\"]"
   ],
   "outputs": [
    {
     "output_type": "execute_result",
     "data": {
      "text/html": [
       "<div>\n",
       "<style scoped>\n",
       "    .dataframe tbody tr th:only-of-type {\n",
       "        vertical-align: middle;\n",
       "    }\n",
       "\n",
       "    .dataframe tbody tr th {\n",
       "        vertical-align: top;\n",
       "    }\n",
       "\n",
       "    .dataframe thead th {\n",
       "        text-align: right;\n",
       "    }\n",
       "</style>\n",
       "<table border=\"1\" class=\"dataframe\">\n",
       "  <thead>\n",
       "    <tr style=\"text-align: right;\">\n",
       "      <th></th>\n",
       "      <th>value</th>\n",
       "      <th>standard_error</th>\n",
       "      <th>p_value</th>\n",
       "      <th>ci_lower</th>\n",
       "      <th>ci_upper</th>\n",
       "      <th>stars</th>\n",
       "    </tr>\n",
       "  </thead>\n",
       "  <tbody>\n",
       "    <tr>\n",
       "      <th>mean</th>\n",
       "      <td>631.876136</td>\n",
       "      <td>260.562274</td>\n",
       "      <td>0.015000</td>\n",
       "      <td>121.183464</td>\n",
       "      <td>1142.568808</td>\n",
       "      <td>**</td>\n",
       "    </tr>\n",
       "    <tr>\n",
       "      <th>sd</th>\n",
       "      <td>198.078747</td>\n",
       "      <td>78.486267</td>\n",
       "      <td>0.011379</td>\n",
       "      <td>44.248491</td>\n",
       "      <td>351.909004</td>\n",
       "      <td>**</td>\n",
       "    </tr>\n",
       "    <tr>\n",
       "      <th>lower_trunc</th>\n",
       "      <td>16.755053</td>\n",
       "      <td>14.467601</td>\n",
       "      <td>0.241883</td>\n",
       "      <td>-11.600923</td>\n",
       "      <td>45.111030</td>\n",
       "      <td></td>\n",
       "    </tr>\n",
       "    <tr>\n",
       "      <th>upper_trunc</th>\n",
       "      <td>449.887018</td>\n",
       "      <td>3.461443</td>\n",
       "      <td>0.000000</td>\n",
       "      <td>443.102714</td>\n",
       "      <td>456.671321</td>\n",
       "      <td>***</td>\n",
       "    </tr>\n",
       "  </tbody>\n",
       "</table>\n",
       "</div>"
      ],
      "text/plain": [
       "                  value  standard_error   p_value    ci_lower     ci_upper  \\\n",
       "mean         631.876136      260.562274  0.015000  121.183464  1142.568808   \n",
       "sd           198.078747       78.486267  0.011379   44.248491   351.909004   \n",
       "lower_trunc   16.755053       14.467601  0.241883  -11.600923    45.111030   \n",
       "upper_trunc  449.887018        3.461443  0.000000  443.102714   456.671321   \n",
       "\n",
       "            stars  \n",
       "mean           **  \n",
       "sd             **  \n",
       "lower_trunc        \n",
       "upper_trunc   ***  "
      ]
     },
     "metadata": {},
     "execution_count": 13
    }
   ],
   "metadata": {}
  },
  {
   "cell_type": "markdown",
   "source": [
    "## What's in the result?\n",
    "\n",
    "The result is a dictionary with the following entries:"
   ],
   "metadata": {}
  },
  {
   "cell_type": "code",
   "execution_count": 14,
   "source": [
    "res.keys()"
   ],
   "outputs": [
    {
     "output_type": "execute_result",
     "data": {
      "text/plain": [
       "dict_keys(['summary', 'cov', 'minimize_res', 'numdiff_info', 'jacobian', 'sensitivity'])"
      ]
     },
     "metadata": {},
     "execution_count": 14
    }
   ],
   "metadata": {}
  },
  {
   "cell_type": "markdown",
   "source": [
    "- summary: A DataFrame with estimated parameters, standard errors, p_values and confidence intervals. This is ideal for use with our `estimation_table` function. \n",
    "- cov: A DataFrame with the full covariance matrix of the estimated parameters. You can use this for hypothesis tests. \n",
    "- minimize_res: A dictionary with the complete output of the numerical optimization (if one was performed)\n",
    "- numdiff_info: A dictionary with the complete output of the numerical differentiation (if one was performed)\n",
    "- jacobian: A DataFrame with the jacobian of `simulate_moments` with respect to the free parameters. \n",
    "- sensitivity: A dictionary of DataFrames with the six sensitivity measures from Honore, Jorgensen and DePaula (2020)"
   ],
   "metadata": {}
  },
  {
   "cell_type": "markdown",
   "source": [
    "## How to visualize sensitivity measures\n",
    "\n",
    "For more background on the sensitivity measures and their interpretation, check out the [how to guide](../how_to_guides/miscellaneous/how_to_visualize_and_interpret_sensitivity_measures.ipynb) on sensitivity measures. \n",
    "\n",
    "Here we are just showing you how to plot them:"
   ],
   "metadata": {}
  },
  {
   "cell_type": "code",
   "execution_count": 15,
   "source": [
    "from estimagic.visualization.lollipop_plot import lollipop_plot\n",
    "\n",
    "lollipop_plot(res[\"sensitivity\"][\"sensitivity_to_bias\"].abs().T);"
   ],
   "outputs": [
    {
     "output_type": "display_data",
     "data": {
      "image/png": "[encoded data removed]",
      "text/plain": [
       "<Figure size 360x180 with 4 Axes>"
      ]
     },
     "metadata": {}
    }
   ],
   "metadata": {}
  },
  {
   "cell_type": "markdown",
   "source": [
    "## How to deal with calibrated parameters\n",
    "\n",
    "In many MSM applications, not all parameters are estimated freely. Instead, some of them are calibrated outside of the model. Thus they are fixed during the estimation and no standard errors can be calculated for them. \n",
    "\n",
    "To do this in `estimate_msm`, you can use the same constraint syntax you already know from `maximize` and `minimize`. \n",
    "\n",
    "For example, in Rick's Tutorial, the cutoffs are fixed to 0 and 450, respectively. This can be expressed as follows:"
   ],
   "metadata": {}
  },
  {
   "cell_type": "code",
   "execution_count": 16,
   "source": [
    "constraints = [\n",
    "    {\"loc\": \"lower_trunc\", \"type\": \"fixed\", \"value\": 0},\n",
    "    {\"loc\": \"upper_trunc\", \"type\": \"fixed\", \"value\": 450},\n",
    "]\n",
    "\n",
    "res_small = estimate_msm(\n",
    "    simulate_moments,\n",
    "    empirical_moments,\n",
    "    moments_cov,\n",
    "    params,\n",
    "    minimize_options={\"algorithm\": \"scipy_lbfgsb\"},\n",
    "    constraints=constraints,\n",
    ")\n",
    "\n",
    "res_small[\"summary\"]"
   ],
   "outputs": [
    {
     "output_type": "execute_result",
     "data": {
      "text/html": [
       "<div>\n",
       "<style scoped>\n",
       "    .dataframe tbody tr th:only-of-type {\n",
       "        vertical-align: middle;\n",
       "    }\n",
       "\n",
       "    .dataframe tbody tr th {\n",
       "        vertical-align: top;\n",
       "    }\n",
       "\n",
       "    .dataframe thead th {\n",
       "        text-align: right;\n",
       "    }\n",
       "</style>\n",
       "<table border=\"1\" class=\"dataframe\">\n",
       "  <thead>\n",
       "    <tr style=\"text-align: right;\">\n",
       "      <th></th>\n",
       "      <th>value</th>\n",
       "      <th>standard_error</th>\n",
       "      <th>p_value</th>\n",
       "      <th>ci_lower</th>\n",
       "      <th>ci_upper</th>\n",
       "      <th>stars</th>\n",
       "    </tr>\n",
       "  </thead>\n",
       "  <tbody>\n",
       "    <tr>\n",
       "      <th>mean</th>\n",
       "      <td>595.385686</td>\n",
       "      <td>191.591881</td>\n",
       "      <td>0.001849</td>\n",
       "      <td>219.872500</td>\n",
       "      <td>970.898871</td>\n",
       "      <td>***</td>\n",
       "    </tr>\n",
       "    <tr>\n",
       "      <th>sd</th>\n",
       "      <td>186.573882</td>\n",
       "      <td>62.541307</td>\n",
       "      <td>0.002795</td>\n",
       "      <td>63.995172</td>\n",
       "      <td>309.152592</td>\n",
       "      <td>***</td>\n",
       "    </tr>\n",
       "    <tr>\n",
       "      <th>lower_trunc</th>\n",
       "      <td>0.000000</td>\n",
       "      <td>NaN</td>\n",
       "      <td>NaN</td>\n",
       "      <td>NaN</td>\n",
       "      <td>NaN</td>\n",
       "      <td>NaN</td>\n",
       "    </tr>\n",
       "    <tr>\n",
       "      <th>upper_trunc</th>\n",
       "      <td>450.000000</td>\n",
       "      <td>NaN</td>\n",
       "      <td>NaN</td>\n",
       "      <td>NaN</td>\n",
       "      <td>NaN</td>\n",
       "      <td>NaN</td>\n",
       "    </tr>\n",
       "  </tbody>\n",
       "</table>\n",
       "</div>"
      ],
      "text/plain": [
       "                  value  standard_error   p_value    ci_lower    ci_upper  \\\n",
       "mean         595.385686      191.591881  0.001849  219.872500  970.898871   \n",
       "sd           186.573882       62.541307  0.002795   63.995172  309.152592   \n",
       "lower_trunc    0.000000             NaN       NaN         NaN         NaN   \n",
       "upper_trunc  450.000000             NaN       NaN         NaN         NaN   \n",
       "\n",
       "            stars  \n",
       "mean          ***  \n",
       "sd            ***  \n",
       "lower_trunc   NaN  \n",
       "upper_trunc   NaN  "
      ]
     },
     "metadata": {},
     "execution_count": 16
    }
   ],
   "metadata": {}
  },
  {
   "cell_type": "code",
   "execution_count": 17,
   "source": [
    "lollipop_plot(\n",
    "    [\n",
    "        res[\"sensitivity\"][\"sensitivity_to_bias\"].abs().T,\n",
    "        res_small[\"sensitivity\"][\"sensitivity_to_bias\"].abs().T,\n",
    "    ]\n",
    ");"
   ],
   "outputs": [
    {
     "output_type": "display_data",
     "data": {
      "image/png": "[encoded data removed]",
      "text/plain": [
       "<Figure size 360x180 with 4 Axes>"
      ]
     },
     "metadata": {}
    }
   ],
   "metadata": {}
  },
  {
   "cell_type": "markdown",
   "source": [
    "Calculating standard errors, p_values for the constrained model works out of the box. The sensitivity measures for free parameters also work. Showing sensitivity of estimated parameters with respect to calibrated ones does not work yet but is planned soon. If you can't wait, check out Thomas Jorgensen's [Paper](https://arxiv.org/abs/2004.12100) on the topic and make a pull request ;-)."
   ],
   "metadata": {}
  },
  {
   "cell_type": "markdown",
   "source": [
    "## Comparison with Rick's results\n",
    "\n",
    "We can compare point estimates and standard errors Rick's Maximum Likelihood and MSM estimates. Note that he fixed the lower and upper truncation points. "
   ],
   "metadata": {}
  },
  {
   "cell_type": "code",
   "execution_count": 18,
   "source": [
    "comparison = pd.DataFrame()\n",
    "comparison[\"estimagic_free\"] = res[\"minimize_res\"][\"solution_params\"][[\"value\"]].round(\n",
    "    1\n",
    ")\n",
    "comparison[\"estimagic_fixed\"] = res_small[\"minimize_res\"][\"solution_params\"][\n",
    "    [\"value\"]\n",
    "].round(1)\n",
    "comparison[\"rick_mle\"] = [622.3, 198.8, 0, 450]\n",
    "comparison[\"rick_msm\"] = [612.3, 197.3, 0, 450]\n",
    "comparison"
   ],
   "outputs": [
    {
     "output_type": "execute_result",
     "data": {
      "text/html": [
       "<div>\n",
       "<style scoped>\n",
       "    .dataframe tbody tr th:only-of-type {\n",
       "        vertical-align: middle;\n",
       "    }\n",
       "\n",
       "    .dataframe tbody tr th {\n",
       "        vertical-align: top;\n",
       "    }\n",
       "\n",
       "    .dataframe thead th {\n",
       "        text-align: right;\n",
       "    }\n",
       "</style>\n",
       "<table border=\"1\" class=\"dataframe\">\n",
       "  <thead>\n",
       "    <tr style=\"text-align: right;\">\n",
       "      <th></th>\n",
       "      <th>estimagic_free</th>\n",
       "      <th>estimagic_fixed</th>\n",
       "      <th>rick_mle</th>\n",
       "      <th>rick_msm</th>\n",
       "    </tr>\n",
       "  </thead>\n",
       "  <tbody>\n",
       "    <tr>\n",
       "      <th>mean</th>\n",
       "      <td>631.9</td>\n",
       "      <td>595.4</td>\n",
       "      <td>622.3</td>\n",
       "      <td>612.3</td>\n",
       "    </tr>\n",
       "    <tr>\n",
       "      <th>sd</th>\n",
       "      <td>198.1</td>\n",
       "      <td>186.6</td>\n",
       "      <td>198.8</td>\n",
       "      <td>197.3</td>\n",
       "    </tr>\n",
       "    <tr>\n",
       "      <th>lower_trunc</th>\n",
       "      <td>16.8</td>\n",
       "      <td>0.0</td>\n",
       "      <td>0.0</td>\n",
       "      <td>0.0</td>\n",
       "    </tr>\n",
       "    <tr>\n",
       "      <th>upper_trunc</th>\n",
       "      <td>449.9</td>\n",
       "      <td>450.0</td>\n",
       "      <td>450.0</td>\n",
       "      <td>450.0</td>\n",
       "    </tr>\n",
       "  </tbody>\n",
       "</table>\n",
       "</div>"
      ],
      "text/plain": [
       "             estimagic_free  estimagic_fixed  rick_mle  rick_msm\n",
       "mean                  631.9            595.4     622.3     612.3\n",
       "sd                    198.1            186.6     198.8     197.3\n",
       "lower_trunc            16.8              0.0       0.0       0.0\n",
       "upper_trunc           449.9            450.0     450.0     450.0"
      ]
     },
     "metadata": {},
     "execution_count": 18
    }
   ],
   "metadata": {}
  },
  {
   "cell_type": "markdown",
   "source": [
    "Interestingly, the estimates where all parameters are free are closer to the maximum likelihood estimates than the other ones.\n",
    "\n",
    "Note that we used different estimation moments, so the results are not really comparable. We will do an exact replication soon. "
   ],
   "metadata": {}
  },
  {
   "cell_type": "code",
   "execution_count": null,
   "source": [],
   "outputs": [],
   "metadata": {}
  }
 ],
 "metadata": {
  "kernelspec": {
   "display_name": "Python 3 (ipykernel)",
   "language": "python",
   "name": "python3"
  },
  "language_info": {
   "codemirror_mode": {
    "name": "ipython",
    "version": 3
   },
   "file_extension": ".py",
   "mimetype": "text/x-python",
   "name": "python",
   "nbconvert_exporter": "python",
   "pygments_lexer": "ipython3",
   "version": "3.8.11"
  }
 },
 "nbformat": 4,
 "nbformat_minor": 5
}
