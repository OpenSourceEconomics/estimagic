{
 "cells": [
  {
   "cell_type": "code",
   "execution_count": 1,
   "metadata": {},
   "outputs": [],
   "source": [
    "from functools import partial\n",
    "from pathlib import Path\n",
    "\n",
    "from itertools import product\n",
    "\n",
    "import numpy as np\n",
    "import pandas as pd\n",
    "import pytest\n",
    "from numpy.testing import assert_array_almost_equal as aaae\n",
    "\n",
    "from estimagic.optimization.process_constraints import process_constraints\n",
    "from estimagic.optimization.reparametrize import reparametrize_from_internal\n",
    "from estimagic.optimization.reparametrize import reparametrize_to_internal\n"
   ]
  },
  {
   "cell_type": "code",
   "execution_count": 2,
   "metadata": {},
   "outputs": [],
   "source": [
    "from estimagic.optimization.reparametrize import reparametrize_from_internal\n",
    "from estimagic.optimization.reparametrize import convert_external_derivative_to_internal\n",
    "from estimagic.optimization.reparametrize import _reparametrize_from_internal_jacobian\n",
    "from estimagic.optimization.reparametrize import _pre_replace\n",
    "from estimagic.optimization.reparametrize import _post_replace\n",
    "from estimagic.optimization.reparametrize import _transform_constraint_part"
   ]
  },
  {
   "cell_type": "code",
   "execution_count": 3,
   "metadata": {},
   "outputs": [],
   "source": [
    "from estimagic.differentiation.derivatives import first_derivative"
   ]
  },
  {
   "cell_type": "code",
   "execution_count": 4,
   "metadata": {},
   "outputs": [],
   "source": [
    "from estimagic.tests.optimization.test_reparametrize import to_test"
   ]
  },
  {
   "cell_type": "code",
   "execution_count": 5,
   "metadata": {},
   "outputs": [],
   "source": [
    "def example_params():\n",
    "    p = Path(\"estimagic/tests/optimization/fixtures/reparametrize_fixtures.csv\")\n",
    "    params = pd.read_csv(p)\n",
    "    params.set_index([\"category\", \"subcategory\", \"name\"], inplace=True)\n",
    "    for col in [\"lower\", \"internal_lower\"]:\n",
    "        params[col].fillna(-np.inf, inplace=True)\n",
    "    for col in [\"upper\", \"internal_upper\"]:\n",
    "        params[col].fillna(np.inf, inplace=True)\n",
    "    return params\n",
    "\n",
    "example_params = example_params()"
   ]
  },
  {
   "cell_type": "code",
   "execution_count": 6,
   "metadata": {},
   "outputs": [],
   "source": [
    "def all_constraints():\n",
    "    constraints_dict = {\n",
    "        \"basic_probability\": [{\"loc\": (\"c\", \"c2\"), \"type\": \"probability\"}],\n",
    "        \"uncorrelated_covariance\": [\n",
    "            {\"loc\": (\"e\", \"off\"), \"type\": \"fixed\", \"value\": 0},\n",
    "            {\"loc\": \"e\", \"type\": \"covariance\"},\n",
    "        ],\n",
    "        \"basic_covariance\": [{\"loc\": \"f\", \"type\": \"covariance\"}],\n",
    "        \"basic_fixed\": [\n",
    "            {\n",
    "                \"loc\": [(\"a\", \"a\", \"0\"), (\"a\", \"a\", \"2\"), (\"a\", \"a\", \"4\")],\n",
    "                \"type\": \"fixed\",\n",
    "                \"value\": [0.1, 0.3, 0.5],\n",
    "            }\n",
    "        ],\n",
    "        \"basic_increasing\": [{\"loc\": \"d\", \"type\": \"increasing\"}],\n",
    "        \"basic_equality\": [{\"loc\": \"h\", \"type\": \"equality\"}],\n",
    "        \"query_equality\": [\n",
    "            {\"query\": 'subcategory == \"j1\" | subcategory == \"i1\"', \"type\": \"equality\"}\n",
    "        ],\n",
    "        \"basic_sdcorr\": [{\"loc\": \"k\", \"type\": \"sdcorr\"}],\n",
    "        \"normalized_covariance\": [\n",
    "            {\"loc\": \"m\", \"type\": \"covariance\"},\n",
    "            {\"loc\": (\"m\", \"diag\", \"a\"), \"type\": \"fixed\", \"value\": 4.0},\n",
    "        ],\n",
    "    }\n",
    "    return constraints_dict\n",
    "\n",
    "all_constraints = all_constraints()"
   ]
  },
  {
   "cell_type": "code",
   "execution_count": 7,
   "metadata": {},
   "outputs": [],
   "source": [
    "def reduce_params(params, constraints):\n",
    "    all_locs = []\n",
    "    for constr in constraints:\n",
    "        if \"query\" in constr:\n",
    "            all_locs = [\"i\", \"j\"]\n",
    "        elif isinstance(constr[\"loc\"], tuple):\n",
    "            all_locs.append(constr[\"loc\"][0])\n",
    "        elif isinstance(constr[\"loc\"], list):\n",
    "            all_locs.append(constr[\"loc\"][0][0])\n",
    "        else:\n",
    "            all_locs.append(constr[\"loc\"])\n",
    "    all_locs = sorted(set(all_locs))\n",
    "    return params.loc[all_locs].copy()\n"
   ]
  },
  {
   "cell_type": "code",
   "execution_count": 8,
   "metadata": {},
   "outputs": [],
   "source": [
    "case = \"basic_probability\"\n",
    "number = 0"
   ]
  },
  {
   "cell_type": "code",
   "execution_count": 9,
   "metadata": {},
   "outputs": [],
   "source": [
    "constraints = all_constraints[case]\n",
    "params = reduce_params(example_params, constraints)\n",
    "params[\"value\"] = params[f\"value{number}\"]\n",
    "\n",
    "keep = params[f\"internal_value{number}\"].notnull()\n",
    "\n",
    "pc, pp = process_constraints(constraints, params)\n",
    "\n",
    "internal_p = params[f\"internal_value{number}\"][keep].to_numpy()\n",
    "fixed_val = pp[\"_internal_fixed_value\"].to_numpy()\n",
    "pre_repl = pp[\"_pre_replacements\"].to_numpy()\n",
    "post_repl = pp[\"_post_replacements\"].to_numpy()"
   ]
  },
  {
   "cell_type": "code",
   "execution_count": 10,
   "metadata": {},
   "outputs": [],
   "source": [
    "from estimagic.optimization.reparametrize import _reparametrize_from_internal_jacobian_matrix\n",
    "from estimagic.optimization.reparametrize import _pre_replace_matrix\n",
    "from estimagic.optimization.reparametrize import _transformer_matrix\n",
    "from estimagic.optimization.reparametrize import _post_replace_matrix"
   ]
  },
  {
   "cell_type": "code",
   "execution_count": 11,
   "metadata": {},
   "outputs": [],
   "source": [
    "gac = _reparametrize_from_internal_jacobian_matrix(\n",
    "    internal_p, fixed_val, pre_repl, pc, post_repl\n",
    ")"
   ]
  },
  {
   "cell_type": "code",
   "execution_count": 12,
   "metadata": {},
   "outputs": [
    {
     "data": {
      "text/plain": [
       "array([[ 1. ,  1. ,  1. ,  1. ,  1. ],\n",
       "       [ 1. ,  1. ,  1. ,  1. ,  1. ],\n",
       "       [ 0.4,  0.4,  0.4,  0.4,  0.4],\n",
       "       [-0.2, -0.2, -0.2, -0.2, -0.2],\n",
       "       [-0.2, -0.2, -0.2, -0.2, -0.2],\n",
       "       [ 0. ,  0. ,  0. ,  0. ,  0. ]])"
      ]
     },
     "execution_count": 12,
     "metadata": {},
     "output_type": "execute_result"
    }
   ],
   "source": [
    "gac"
   ]
  },
  {
   "cell_type": "code",
   "execution_count": 15,
   "metadata": {},
   "outputs": [
    {
     "name": "stdout",
     "output_type": "stream",
     "text": [
      "jac\n",
      "[[ 1.    0.    0.    0.    0.  ]\n",
      " [ 0.    1.    0.    0.    0.  ]\n",
      " [ 0.    0.    0.45 -0.05 -0.05]\n",
      " [ 0.    0.   -0.1   0.4  -0.1 ]\n",
      " [ 0.    0.   -0.1  -0.1   0.4 ]\n",
      " [ 0.    0.   -0.25 -0.25 -0.25]]\n",
      "gac\n",
      "[[ 1.   1.   1.   1.   1. ]\n",
      " [ 1.   1.   1.   1.   1. ]\n",
      " [ 0.4  0.4  0.4  0.4  0.4]\n",
      " [-0.2 -0.2 -0.2 -0.2 -0.2]\n",
      " [-0.2 -0.2 -0.2 -0.2 -0.2]\n",
      " [ 0.   0.   0.   0.   0. ]]\n"
     ]
    }
   ],
   "source": [
    "tester(\"basic_probability\", 0, True)"
   ]
  },
  {
   "cell_type": "code",
   "execution_count": 14,
   "metadata": {},
   "outputs": [],
   "source": [
    "def tester(case, number, return_stuff=False):\n",
    "\n",
    "    constraints = all_constraints[case]\n",
    "    params = reduce_params(example_params, constraints)\n",
    "    params[\"value\"] = params[f\"value{number}\"]\n",
    "\n",
    "    keep = params[f\"internal_value{number}\"].notnull()\n",
    "\n",
    "    pc, pp = process_constraints(constraints, params)\n",
    "\n",
    "    internal_p = params[f\"internal_value{number}\"][keep].to_numpy()\n",
    "    fixed_val = pp[\"_internal_fixed_value\"].to_numpy()\n",
    "    pre_repl = pp[\"_pre_replacements\"].to_numpy()\n",
    "    post_repl = pp[\"_post_replacements\"].to_numpy()\n",
    "\n",
    "    func = partial(\n",
    "        reparametrize_from_internal,\n",
    "        **{\n",
    "            \"fixed_values\": fixed_val,\n",
    "            \"pre_replacements\": pre_repl,\n",
    "            \"processed_constraints\": pc,\n",
    "            \"post_replacements\": post_repl\n",
    "        }\n",
    "    )\n",
    "\n",
    "    gunc = partial(\n",
    "        #convert_external_derivative_to_internal,\n",
    "        _reparametrize_from_internal_jacobian_matrix,\n",
    "        **{\n",
    "            #\"external_derivative\": np.eye(len(internal_p)),\n",
    "            \"fixed_values\": fixed_val,\n",
    "            \"pre_replacements\": pre_repl,\n",
    "            \"processed_constraints\": pc,\n",
    "            \"post_replacements\": post_repl\n",
    "        }\n",
    "    )\n",
    "\n",
    "    jac = first_derivative(func, internal_p)\n",
    "    gac = gunc(internal_p)\n",
    "\n",
    "    if return_stuff:\n",
    "        print('jac')\n",
    "        print(jac)\n",
    "        print('gac')\n",
    "        print(gac)\n",
    "    else:\n",
    "        aaae(jac, gac)"
   ]
  },
  {
   "cell_type": "code",
   "execution_count": 14,
   "metadata": {},
   "outputs": [],
   "source": [
    "to_test = list(\n",
    "    product(\n",
    "        [\n",
    "            \"basic_probability\",\n",
    "            \"uncorrelated_covariance\",\n",
    "            \"basic_covariance\",\n",
    "            \"basic_fixed\",\n",
    "            \"basic_increasing\",\n",
    "            \"basic_equality\",\n",
    "            \"query_equality\",\n",
    "            \"basic_sdcorr\",\n",
    "            \"normalized_covariance\",\n",
    "        ],\n",
    "        [0, 1, 2],\n",
    "    )\n",
    ")\n"
   ]
  },
  {
   "cell_type": "code",
   "execution_count": 15,
   "metadata": {},
   "outputs": [],
   "source": [
    "bad = []\n",
    "for args in to_test:\n",
    "    try:\n",
    "        tester(*args)\n",
    "    except AssertionError:\n",
    "        bad.append(args)"
   ]
  },
  {
   "cell_type": "code",
   "execution_count": 17,
   "metadata": {},
   "outputs": [
    {
     "data": {
      "text/plain": [
       "27"
      ]
     },
     "execution_count": 17,
     "metadata": {},
     "output_type": "execute_result"
    }
   ],
   "source": [
    "len(bad)"
   ]
  },
  {
   "cell_type": "code",
   "execution_count": null,
   "metadata": {},
   "outputs": [],
   "source": []
  },
  {
   "cell_type": "code",
   "execution_count": null,
   "metadata": {},
   "outputs": [],
   "source": []
  },
  {
   "cell_type": "code",
   "execution_count": null,
   "metadata": {},
   "outputs": [],
   "source": []
  },
  {
   "cell_type": "code",
   "execution_count": null,
   "metadata": {},
   "outputs": [],
   "source": []
  },
  {
   "cell_type": "code",
   "execution_count": null,
   "metadata": {},
   "outputs": [],
   "source": []
  },
  {
   "cell_type": "code",
   "execution_count": null,
   "metadata": {},
   "outputs": [],
   "source": []
  },
  {
   "cell_type": "code",
   "execution_count": null,
   "metadata": {},
   "outputs": [],
   "source": []
  }
 ],
 "metadata": {
  "kernelspec": {
   "display_name": "Python 3",
   "language": "python",
   "name": "python3"
  },
  "language_info": {
   "codemirror_mode": {
    "name": "ipython",
    "version": 3
   },
   "file_extension": ".py",
   "mimetype": "text/x-python",
   "name": "python",
   "nbconvert_exporter": "python",
   "pygments_lexer": "ipython3",
   "version": "3.7.8"
  }
 },
 "nbformat": 4,
 "nbformat_minor": 4
}
